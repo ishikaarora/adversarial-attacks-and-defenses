{
  "nbformat": 4,
  "nbformat_minor": 0,
  "metadata": {
    "colab": {
      "name": "train_cifar_model.ipynb",
      "provenance": [],
      "collapsed_sections": [],
      "toc_visible": true
    },
    "kernelspec": {
      "name": "python3",
      "display_name": "Python 3"
    },
    "language_info": {
      "codemirror_mode": {
        "name": "ipython",
        "version": 3
      },
      "file_extension": ".py",
      "mimetype": "text/x-python",
      "name": "python",
      "nbconvert_exporter": "python",
      "pygments_lexer": "ipython3",
      "version": "3.7.1"
    },
    "accelerator": "GPU"
  },
  "cells": [
    {
      "cell_type": "code",
      "metadata": {
        "colab_type": "code",
        "id": "IE1OcNnbRTQx",
        "colab": {}
      },
      "source": [
        "# Author: Ishika Arora\n",
        "# PyTorch Transfer Learning example (ResNet50 trained on ImageNet 2012 dataset)"
      ],
      "execution_count": 0,
      "outputs": []
    },
    {
      "cell_type": "code",
      "metadata": {
        "colab_type": "code",
        "id": "zIL81mAyRTQ6",
        "colab": {}
      },
      "source": [
        "from __future__ import print_function, division\n",
        "%matplotlib inline\n",
        "import torch\n",
        "import torch.nn as nn\n",
        "import torch.nn.functional as F\n",
        "import torch.optim as optim\n",
        "from torch.optim import lr_scheduler\n",
        "import numpy as np\n",
        "import pandas as pd\n",
        "import torchvision\n",
        "from torchvision import datasets, models, transforms\n",
        "from torch.utils.data import Dataset, DataLoader\n",
        "import matplotlib.pyplot as plt\n",
        "import time\n",
        "import os\n",
        "import copy\n",
        "from PIL import Image\n",
        "\n",
        "plt.ion()   # interactive mode"
      ],
      "execution_count": 0,
      "outputs": []
    },
    {
      "cell_type": "code",
      "metadata": {
        "id": "pDAC_O3bd0ce",
        "colab_type": "code",
        "colab": {}
      },
      "source": [
        "device = torch.device('cuda' if torch.cuda.is_available() else 'cpu')"
      ],
      "execution_count": 0,
      "outputs": []
    },
    {
      "cell_type": "markdown",
      "metadata": {
        "id": "kJ-hYFK60FoN",
        "colab_type": "text"
      },
      "source": [
        "## Load Data"
      ]
    },
    {
      "cell_type": "code",
      "metadata": {
        "id": "geFP9KW-qsdL",
        "colab_type": "code",
        "colab": {}
      },
      "source": [
        "BATCH_SIZE = 16\n",
        "log_frequency = 500"
      ],
      "execution_count": 0,
      "outputs": []
    },
    {
      "cell_type": "code",
      "metadata": {
        "id": "cp8pasV3vUUX",
        "colab_type": "code",
        "colab": {}
      },
      "source": [
        "# mean color of training images\n",
        "# cifar10_mean = [0.49131522, 0.48209435, 0.44646862]\n",
        "# # std dev of color across training images\n",
        "# cifar10_std = [0.01897398, 0.03039277, 0.03872553]\n",
        "\n",
        "cifar10_mean = [0.49139968 , 0.48215841 , 0.44653091]\n",
        "cifar10_std = [0.24703223,  0.24348513 , 0.26158784]\n",
        "\n",
        "# cifar10_mean = [0.4914, 0.4822, 0.4465]\n",
        "# cifar10_std = [0.2023, 0.1994, 0.2010]"
      ],
      "execution_count": 0,
      "outputs": []
    },
    {
      "cell_type": "code",
      "metadata": {
        "id": "gPL2byhz0k9t",
        "colab_type": "code",
        "outputId": "70690c87-30cb-4e70-8763-a27b8e308603",
        "colab": {
          "base_uri": "https://localhost:8080/",
          "height": 105
        }
      },
      "source": [
        "transform_train = transforms.Compose([\n",
        "    transforms.RandomCrop(32, padding=2),\n",
        "    transforms.Resize(224),\n",
        "    transforms.RandomHorizontalFlip(),\n",
        "    transforms.ToTensor(),\n",
        "    transforms.Normalize(cifar10_mean,cifar10_std)\n",
        "])\n",
        "\n",
        "transform_test = transforms.Compose([\n",
        "    transforms.Resize(224),\n",
        "    transforms.ToTensor(),\n",
        "    transforms.Normalize(cifar10_mean,cifar10_std)\n",
        "])\n",
        "\n",
        "cifar_dataset = torchvision.datasets.CIFAR10(root = './data', train = True, download = True, transform= transform_train)\n",
        "\n",
        "trainset = cifar_dataset\n",
        "valset = torchvision.datasets.CIFAR10(root = './data', train = False, download = True, transform= transform_train)\n",
        "\n",
        "trainloader = torch.utils.data.DataLoader(trainset, batch_size=BATCH_SIZE, shuffle=True, num_workers=2)\n",
        "valloader = torch.utils.data.DataLoader(valset, batch_size=BATCH_SIZE, shuffle=False, num_workers=2)"
      ],
      "execution_count": 0,
      "outputs": [
        {
          "output_type": "stream",
          "text": [
            "\r0it [00:00, ?it/s]"
          ],
          "name": "stderr"
        },
        {
          "output_type": "stream",
          "text": [
            "Downloading https://www.cs.toronto.edu/~kriz/cifar-10-python.tar.gz to ./data/cifar-10-python.tar.gz\n"
          ],
          "name": "stdout"
        },
        {
          "output_type": "stream",
          "text": [
            "170500096it [00:06, 27337136.32it/s]                               \n"
          ],
          "name": "stderr"
        },
        {
          "output_type": "stream",
          "text": [
            "Extracting ./data/cifar-10-python.tar.gz to ./data\n",
            "Files already downloaded and verified\n"
          ],
          "name": "stdout"
        }
      ]
    },
    {
      "cell_type": "code",
      "metadata": {
        "id": "9hSmX2iySk5_",
        "colab_type": "code",
        "outputId": "b3b0a5f9-b177-477f-8161-3b53c0173546",
        "colab": {
          "base_uri": "https://localhost:8080/",
          "height": 51
        }
      },
      "source": [
        "train_size = len(trainset)\n",
        "val_size = len(valset)\n",
        "print(val_size)\n",
        "print(train_size)"
      ],
      "execution_count": 0,
      "outputs": [
        {
          "output_type": "stream",
          "text": [
            "10000\n",
            "50000\n"
          ],
          "name": "stdout"
        }
      ]
    },
    {
      "cell_type": "code",
      "metadata": {
        "id": "HV4dNQZqxK6E",
        "colab_type": "code",
        "outputId": "2577207b-bfaf-4124-ddcc-bbd2e9d58702",
        "colab": {
          "base_uri": "https://localhost:8080/",
          "height": 34
        }
      },
      "source": [
        "class_names = cifar_dataset.classes\n",
        "len(class_names)"
      ],
      "execution_count": 0,
      "outputs": [
        {
          "output_type": "execute_result",
          "data": {
            "text/plain": [
              "10"
            ]
          },
          "metadata": {
            "tags": []
          },
          "execution_count": 7
        }
      ]
    },
    {
      "cell_type": "markdown",
      "metadata": {
        "colab_type": "text",
        "id": "qk_zMVGLRTRC"
      },
      "source": [
        "Visualize a few images\n",
        "^^^^^^^^^^^^^^^^^^^^^^\n",
        "Let's visualize a few training images so as to understand the data\n",
        "augmentations.\n",
        "\n"
      ]
    },
    {
      "cell_type": "code",
      "metadata": {
        "colab_type": "code",
        "id": "2OhAWO9hRTRD",
        "outputId": "02a68392-31ae-480c-8257-4121deb1d104",
        "colab": {
          "base_uri": "https://localhost:8080/",
          "height": 148
        }
      },
      "source": [
        "def imshow(inp, title=None):\n",
        "    \"\"\"Imshow for Tensor.\"\"\"\n",
        "    inp = inp.numpy().transpose((1, 2, 0))\n",
        "    inp = cifar10_std * inp + cifar10_mean\n",
        "    inp = np.clip(inp, 0, 1)\n",
        "    plt.imshow(inp)\n",
        "    if title is not None:\n",
        "        plt.title(title)\n",
        "    plt.pause(0.001)  # pause a bit so that plots are updated\n",
        "\n",
        "\n",
        "# Get a batch of training data\n",
        "inputs, classes = next(iter(trainloader))\n",
        "\n",
        "# Make a grid from batch\n",
        "out = torchvision.utils.make_grid(inputs)\n",
        "\n",
        "imshow(out, title=[class_names[x] for x in classes])"
      ],
      "execution_count": 0,
      "outputs": [
        {
          "output_type": "display_data",
          "data": {
            "image/png": "[encoded data removed]",
            "text/plain": [
              "<Figure size 432x288 with 1 Axes>"
            ]
          },
          "metadata": {
            "tags": []
          }
        }
      ]
    },
    {
      "cell_type": "markdown",
      "metadata": {
        "colab_type": "text",
        "id": "JTxoJuH3RTRH"
      },
      "source": [
        "Training the model\n",
        "------------------\n",
        "\n",
        "This is the general function to train the model, which does two things:\n",
        "\n",
        "-  Scheduling the learning rate\n",
        "-  Saving the best model\n"
      ]
    },
    {
      "cell_type": "code",
      "metadata": {
        "id": "OB5jNaaUV6Vy",
        "colab_type": "code",
        "colab": {}
      },
      "source": [
        "def evaluate_model(model, loader, n_batches=None):\n",
        "    model.eval()\n",
        "    loss = 0.0\n",
        "    total = 0\n",
        "    correct = 0\n",
        "    with torch.no_grad():\n",
        "        for batch_i, data in enumerate(loader):\n",
        "            images, labels = data\n",
        "            images = images.to(device)\n",
        "            labels = labels.to(device)\n",
        "            outputs = model(images)\n",
        "            loss += criterion(outputs, labels)\n",
        "            _,predicted = torch.max(outputs.data,1)\n",
        "            total+=labels.size(0)\n",
        "            correct+=(predicted==labels).sum().item()\n",
        "            \n",
        "            if n_batches and (batch_i >= n_batches):\n",
        "              break\n",
        "            \n",
        "    loss /= total\n",
        "    acc = 100. * correct / total\n",
        "    return loss, acc, total"
      ],
      "execution_count": 0,
      "outputs": []
    },
    {
      "cell_type": "code",
      "metadata": {
        "id": "5wb-0JttUKQC",
        "colab_type": "code",
        "colab": {}
      },
      "source": [
        "def train_model(criterion, optimizer, scheduler, num_epochs=25):\n",
        "    since = time.time()\n",
        "\n",
        "    best_model_wts = copy.deepcopy(model.state_dict())\n",
        "    best_acc = 0.0\n",
        "    \n",
        "    for epoch in range(num_epochs):\n",
        "        print('Epoch {}/{}'.format(epoch+1, num_epochs))\n",
        "        print('-' * 10)\n",
        "        start = time.time()\n",
        "        \n",
        "        # Model Training step\n",
        "        scheduler.step()\n",
        "        model.train()  # Set model to training mode\n",
        "            \n",
        "        running_loss = 0.0\n",
        "        running_corrects = 0\n",
        "\n",
        "        # Iterate over data.\n",
        "        for batch_idx, (inputs, labels) in enumerate(trainloader):\n",
        "            inputs = inputs.to(device)\n",
        "            labels = labels.to(device)\n",
        "\n",
        "            # zero the parameter gradients\n",
        "            optimizer.zero_grad()\n",
        "\n",
        "            # forward            \n",
        "            outputs = model(inputs)\n",
        "            _, preds = torch.max(outputs, 1)\n",
        "            loss = criterion(outputs, labels)\n",
        "            \n",
        "            # backward + optimize\n",
        "            loss.backward()\n",
        "            optimizer.step()\n",
        "\n",
        "            # statistics\n",
        "            running_loss += loss.item()\n",
        "            running_corrects += torch.sum(preds == labels.data)\n",
        "\n",
        "            \n",
        "            if (batch_idx+1) % log_frequency == 0:\n",
        "                examples_this_epoch = (batch_idx+1) * len(inputs)\n",
        "                epoch_progress = 100. * (batch_idx+1) / len(trainloader)\n",
        "                \n",
        "                train_loss = running_loss / examples_this_epoch\n",
        "                train_acc = 100. * running_corrects.double() / examples_this_epoch\n",
        "\n",
        "                val_loss, val_acc, val_size = evaluate_model(model, valloader, n_batches=9)\n",
        "\n",
        "                # for plotting losses later\n",
        "                train_losses.append(train_loss)\n",
        "                train_accs.append(train_acc)\n",
        "\n",
        "                val_losses.append(val_loss)\n",
        "                val_accs.append(val_acc)\n",
        "      \n",
        "                print('Epoch: {} [{}/{} ({:.0f}%)]\\t'\n",
        "                      'Train Loss: {:.4f}, Train Acc: {:.4f}, Val Loss: {:.4f}, Val Acc: {:.4f}, Val Size: {}'.format(\n",
        "                    epoch+1, examples_this_epoch, train_size,\n",
        "                    epoch_progress, train_loss, train_acc, val_loss, val_acc, val_size))\n",
        "\n",
        "                # deep copy the best model\n",
        "                if val_acc > best_acc:\n",
        "                    best_acc = val_acc\n",
        "                    best_model_wts = copy.deepcopy(model.state_dict())            \n",
        "            \n",
        "        time_taken = (time.time()-start) / 60\n",
        "        print(\"Epoch: {} finished | Time taken: {}\".format(epoch+1, time_taken))\n",
        "          \n",
        "    time_elapsed = time.time() - since\n",
        "    print('Training complete in {:.0f}m {:.0f}s'.format(\n",
        "        time_elapsed // 60, time_elapsed % 60))\n",
        "    print('Best val Acc: {:4f}'.format(best_acc))\n",
        "\n",
        "    model.load_state_dict(best_model_wts)\n",
        "    torch.save(model, 'mymodel' + '.pt')\n",
        "\n",
        "    return model"
      ],
      "execution_count": 0,
      "outputs": []
    },
    {
      "cell_type": "markdown",
      "metadata": {
        "colab_type": "text",
        "id": "odYgm0zzRTRM"
      },
      "source": [
        "Visualizing the model predictions\n",
        "^^^^^^^^^^^^^^^^^^^^^^^^^^^^^^^^^\n",
        "\n",
        "Generic function to display predictions for a few images\n",
        "\n",
        "\n"
      ]
    },
    {
      "cell_type": "code",
      "metadata": {
        "colab_type": "code",
        "id": "nciIb1Y7RTRO",
        "colab": {}
      },
      "source": [
        "def visualize_model(model, num_images=6):\n",
        "    was_training = model.training\n",
        "    model.eval()\n",
        "    images_so_far = 0\n",
        "    fig = plt.figure()\n",
        "\n",
        "    with torch.no_grad():\n",
        "        for i, (inputs, labels) in enumerate(dataloaders['val']):\n",
        "            inputs = inputs.to(device)\n",
        "            labels = labels.to(device)\n",
        "\n",
        "            outputs = model(inputs)\n",
        "            _, preds = torch.max(outputs, 1)\n",
        "\n",
        "            for j in range(inputs.size()[0]):\n",
        "                images_so_far += 1\n",
        "                ax = plt.subplot(num_images//2, 2, images_so_far)\n",
        "                ax.axis('off')\n",
        "                ax.set_title('predicted: {}'.format(class_names[preds[j]]))\n",
        "                imshow(inputs.cpu().data[j])\n",
        "\n",
        "                if images_so_far == num_images:\n",
        "                    model.train(mode=was_training)\n",
        "                    return\n",
        "        model.train(mode=was_training)"
      ],
      "execution_count": 0,
      "outputs": []
    },
    {
      "cell_type": "markdown",
      "metadata": {
        "id": "gpSQl6vM0F9o",
        "colab_type": "text"
      },
      "source": [
        "## Load pretrained model"
      ]
    },
    {
      "cell_type": "code",
      "metadata": {
        "colab_type": "code",
        "id": "D1OPIucHRTRT",
        "outputId": "6b3ddbb9-7799-4ede-fad9-bcca9455b0f9",
        "colab": {
          "base_uri": "https://localhost:8080/",
          "height": 88
        }
      },
      "source": [
        "start_time = time.time()\n",
        "model_res = models.resnet50(pretrained=True)\n",
        "print('Time to load the model: {:10f} seconds'.format((time.time()-start_time)))"
      ],
      "execution_count": 0,
      "outputs": [
        {
          "output_type": "stream",
          "text": [
            "Downloading: \"https://download.pytorch.org/models/resnet50-19c8e357.pth\" to /root/.cache/torch/checkpoints/resnet50-19c8e357.pth\n",
            "100%|██████████| 97.8M/97.8M [00:01<00:00, 64.8MB/s]\n"
          ],
          "name": "stderr"
        },
        {
          "output_type": "stream",
          "text": [
            "Time to load the model:   2.561960 seconds\n"
          ],
          "name": "stdout"
        }
      ]
    },
    {
      "cell_type": "markdown",
      "metadata": {
        "colab_type": "text",
        "id": "hHHYR5ynRTRm"
      },
      "source": [
        "ConvNet as fixed feature extractor\n",
        "----------------------------------\n",
        "\n",
        "We freeze all the network except the final layer. We need\n",
        "to set ``requires_grad == False`` to freeze the parameters so that the\n",
        "gradients are not computed in ``backward()``.\n",
        "\n",
        "More about this in the documentation\n",
        "`here <http://pytorch.org/docs/notes/autograd.html#excluding-subgraphs-from-backward>`__.\n",
        "\n",
        "\n"
      ]
    },
    {
      "cell_type": "code",
      "metadata": {
        "id": "Tnw0M134eaU0",
        "colab_type": "code",
        "colab": {}
      },
      "source": [
        "class mymodel(nn.Module):\n",
        "    \"\"\"Custom Model\"\"\"\n",
        "\n",
        "    def __init__(self, in_features, hidden_dim, n_classes):\n",
        "        \"\"\"Custom Model Builder.\"\"\"\n",
        "        super(mymodel, self).__init__()\n",
        "        \n",
        "        self.fc1 = nn.Linear(in_features, hidden_dim)\n",
        "        self.fc2 = nn.Linear(hidden_dim, hidden_dim//2)\n",
        "        self.fc3 = nn.Linear(hidden_dim//2, n_classes)\n",
        "   \n",
        "  \n",
        "    def forward(self, images):\n",
        "        \"\"\"Perform forward.\"\"\"\n",
        "        \n",
        "        images_vec = images.view(images.size(0), -1)\n",
        "        hidden_out = F.relu(self.fc1(images_vec))\n",
        "        hidden_out = F.relu(self.fc2(hidden_out))\n",
        "        scores = self.fc3(hidden_out)\n",
        "\n",
        "        return scores\n"
      ],
      "execution_count": 0,
      "outputs": []
    },
    {
      "cell_type": "code",
      "metadata": {
        "colab_type": "code",
        "id": "gs7llMVMRTRn",
        "outputId": "62b61928-c5c6-401c-a116-7768cdc2d25b",
        "colab": {
          "base_uri": "https://localhost:8080/",
          "height": 34
        }
      },
      "source": [
        "# model_conv = torchvision.models.resnet18(pretrained=True)\n",
        "for param in model_res.parameters():\n",
        "    param.requires_grad = False\n",
        "\n",
        "for param in model_res.layer4.parameters():\n",
        "    param.requires_grad = True\n",
        "    \n",
        "# Parameters of newly constructed modules have requires_grad=True by default\n",
        "in_ftrs = model_res.fc.in_features\n",
        "out_ftrs = model_res.fc.out_features\n",
        "print(in_ftrs, out_ftrs)\n",
        "model_res.fc = nn.Linear(in_ftrs, 1024)\n",
        "\n",
        "model = nn.Sequential(model_res, mymodel(1024, 512, 10))\n",
        "\n",
        "model = model.to(device)"
      ],
      "execution_count": 0,
      "outputs": [
        {
          "output_type": "stream",
          "text": [
            "2048 1000\n"
          ],
          "name": "stdout"
        }
      ]
    },
    {
      "cell_type": "code",
      "metadata": {
        "id": "vSF5zPHPiABy",
        "colab_type": "code",
        "colab": {}
      },
      "source": [
        "# model_res.layer4"
      ],
      "execution_count": 0,
      "outputs": []
    },
    {
      "cell_type": "code",
      "metadata": {
        "id": "_MV8rcgEh5VY",
        "colab_type": "code",
        "outputId": "f88c4b6d-ee46-471c-99af-9c3ce215dcfe",
        "colab": {
          "base_uri": "https://localhost:8080/",
          "height": 663
        }
      },
      "source": [
        "params = list(model[0].layer4.parameters()) + list(model[0].fc.parameters()) + list(model[1].fc1.parameters()) + list(model[1].fc2.parameters()) + list(model[1].fc3.parameters())\n",
        "for p in params:\n",
        "    print(p.shape)"
      ],
      "execution_count": 0,
      "outputs": [
        {
          "output_type": "stream",
          "text": [
            "torch.Size([512, 1024, 1, 1])\n",
            "torch.Size([512])\n",
            "torch.Size([512])\n",
            "torch.Size([512, 512, 3, 3])\n",
            "torch.Size([512])\n",
            "torch.Size([512])\n",
            "torch.Size([2048, 512, 1, 1])\n",
            "torch.Size([2048])\n",
            "torch.Size([2048])\n",
            "torch.Size([2048, 1024, 1, 1])\n",
            "torch.Size([2048])\n",
            "torch.Size([2048])\n",
            "torch.Size([512, 2048, 1, 1])\n",
            "torch.Size([512])\n",
            "torch.Size([512])\n",
            "torch.Size([512, 512, 3, 3])\n",
            "torch.Size([512])\n",
            "torch.Size([512])\n",
            "torch.Size([2048, 512, 1, 1])\n",
            "torch.Size([2048])\n",
            "torch.Size([2048])\n",
            "torch.Size([512, 2048, 1, 1])\n",
            "torch.Size([512])\n",
            "torch.Size([512])\n",
            "torch.Size([512, 512, 3, 3])\n",
            "torch.Size([512])\n",
            "torch.Size([512])\n",
            "torch.Size([2048, 512, 1, 1])\n",
            "torch.Size([2048])\n",
            "torch.Size([2048])\n",
            "torch.Size([1024, 2048])\n",
            "torch.Size([1024])\n",
            "torch.Size([512, 1024])\n",
            "torch.Size([512])\n",
            "torch.Size([256, 512])\n",
            "torch.Size([256])\n",
            "torch.Size([10, 256])\n",
            "torch.Size([10])\n"
          ],
          "name": "stdout"
        }
      ]
    },
    {
      "cell_type": "code",
      "metadata": {
        "id": "qCoVH5nsfJA-",
        "colab_type": "code",
        "colab": {}
      },
      "source": [
        "criterion = nn.CrossEntropyLoss()\n",
        "\n",
        "# Observe that only parameters of final layer are being optimized\n",
        "optimizer = optim.Adam(params, lr=1e-4, weight_decay=1e-5)\n",
        "# optimizer = torch.optim.SGD(params, lr=1e-4, momentum=0.9, weight_decay=0.0001, nesterov=True)\n",
        "# optimizer = optim.RMSprop(params, lr=1e-3, weight_decay=1e-5, momentum=0.9)\n",
        "\n",
        "# Decay LR by a factor of 0.1 every 7 epochs\n",
        "exp_lr_scheduler = lr_scheduler.StepLR(optimizer, step_size=2, gamma=0.1)"
      ],
      "execution_count": 0,
      "outputs": []
    },
    {
      "cell_type": "code",
      "metadata": {
        "id": "ahox5BJjlM19",
        "colab_type": "code",
        "colab": {}
      },
      "source": [
        "  best_model_wts = copy.deepcopy(model.state_dict())\n",
        "  best_acc = 0.0\n",
        "  train_losses = []\n",
        "  train_accs = []\n",
        "  val_losses = []\n",
        "  val_accs = []"
      ],
      "execution_count": 0,
      "outputs": []
    },
    {
      "cell_type": "code",
      "metadata": {
        "colab_type": "code",
        "outputId": "34f3ed65-80f8-4b59-f96f-8a9ee26085a6",
        "id": "y2qBZH00Bd1y",
        "colab": {
          "base_uri": "https://localhost:8080/",
          "height": 870
        }
      },
      "source": [
        "model_tr = train_model(criterion, optimizer, exp_lr_scheduler, num_epochs=5)\n",
        "\n",
        "# load best model weights\n",
        "# model_tr.load_state_dict(best_model_wts)\n",
        "# torch.save(model_tr, 'mymodel' + '.pt')"
      ],
      "execution_count": 0,
      "outputs": [
        {
          "output_type": "stream",
          "text": [
            "Epoch 1/5\n",
            "----------\n",
            "Epoch: 1 [8000/50000 (16%)]\tTrain Loss: 0.0983, Train Acc: 52.3500, Val Loss: 0.0483, Val Acc: 80.0000, Val Size: 160\n",
            "Epoch: 1 [16000/50000 (32%)]\tTrain Loss: 0.0663, Train Acc: 66.5625, Val Loss: 0.0248, Val Acc: 86.8750, Val Size: 160\n",
            "Epoch: 1 [24000/50000 (48%)]\tTrain Loss: 0.0537, Train Acc: 72.4250, Val Loss: 0.0240, Val Acc: 83.7500, Val Size: 160\n",
            "Epoch: 1 [32000/50000 (64%)]\tTrain Loss: 0.0468, Train Acc: 75.8500, Val Loss: 0.0223, Val Acc: 86.2500, Val Size: 160\n",
            "Epoch: 1 [40000/50000 (80%)]\tTrain Loss: 0.0421, Train Acc: 78.0850, Val Loss: 0.0222, Val Acc: 85.6250, Val Size: 160\n",
            "Epoch: 1 [48000/50000 (96%)]\tTrain Loss: 0.0389, Train Acc: 79.6542, Val Loss: 0.0186, Val Acc: 88.7500, Val Size: 160\n",
            "Epoch: 1 finished | Time taken: 9.439285898208619\n",
            "Epoch 2/5\n",
            "----------\n",
            "Epoch: 2 [8000/50000 (16%)]\tTrain Loss: 0.0361, Train Acc: 82.3625, Val Loss: 0.0209, Val Acc: 89.3750, Val Size: 160\n",
            "Epoch: 2 [16000/50000 (32%)]\tTrain Loss: 0.0285, Train Acc: 85.5750, Val Loss: 0.0311, Val Acc: 82.5000, Val Size: 160\n",
            "Epoch: 2 [24000/50000 (48%)]\tTrain Loss: 0.0257, Train Acc: 86.7000, Val Loss: 0.0203, Val Acc: 87.5000, Val Size: 160\n",
            "Epoch: 2 [32000/50000 (64%)]\tTrain Loss: 0.0241, Train Acc: 87.3688, Val Loss: 0.0192, Val Acc: 88.1250, Val Size: 160\n",
            "Epoch: 2 [40000/50000 (80%)]\tTrain Loss: 0.0231, Train Acc: 87.7450, Val Loss: 0.0216, Val Acc: 86.2500, Val Size: 160\n",
            "Epoch: 2 [48000/50000 (96%)]\tTrain Loss: 0.0223, Train Acc: 88.1521, Val Loss: 0.0196, Val Acc: 88.7500, Val Size: 160\n",
            "Epoch: 2 finished | Time taken: 9.395657773812612\n",
            "Epoch 3/5\n",
            "----------\n",
            "Epoch: 3 [8000/50000 (16%)]\tTrain Loss: 0.0282, Train Acc: 85.7500, Val Loss: 0.0187, Val Acc: 91.8750, Val Size: 160\n",
            "Epoch: 3 [16000/50000 (32%)]\tTrain Loss: 0.0219, Train Acc: 88.8312, Val Loss: 0.0157, Val Acc: 90.6250, Val Size: 160\n",
            "Epoch: 3 [24000/50000 (48%)]\tTrain Loss: 0.0195, Train Acc: 89.9917, Val Loss: 0.0155, Val Acc: 91.2500, Val Size: 160\n",
            "Epoch: 3 [32000/50000 (64%)]\tTrain Loss: 0.0183, Train Acc: 90.4531, Val Loss: 0.0120, Val Acc: 93.7500, Val Size: 160\n",
            "Epoch: 3 [40000/50000 (80%)]\tTrain Loss: 0.0174, Train Acc: 90.8100, Val Loss: 0.0150, Val Acc: 90.6250, Val Size: 160\n",
            "Epoch: 3 [48000/50000 (96%)]\tTrain Loss: 0.0168, Train Acc: 91.0917, Val Loss: 0.0148, Val Acc: 91.2500, Val Size: 160\n",
            "Epoch: 3 finished | Time taken: 9.480300072828928\n",
            "Epoch 4/5\n",
            "----------\n",
            "Epoch: 4 [8000/50000 (16%)]\tTrain Loss: 0.0280, Train Acc: 85.7000, Val Loss: 0.0153, Val Acc: 93.1250, Val Size: 160\n",
            "Epoch: 4 [16000/50000 (32%)]\tTrain Loss: 0.0212, Train Acc: 89.0312, Val Loss: 0.0143, Val Acc: 89.3750, Val Size: 160\n",
            "Epoch: 4 [24000/50000 (48%)]\tTrain Loss: 0.0188, Train Acc: 90.1792, Val Loss: 0.0128, Val Acc: 91.2500, Val Size: 160\n",
            "Epoch: 4 [32000/50000 (64%)]\tTrain Loss: 0.0177, Train Acc: 90.7094, Val Loss: 0.0120, Val Acc: 93.1250, Val Size: 160\n",
            "Epoch: 4 [40000/50000 (80%)]\tTrain Loss: 0.0167, Train Acc: 91.1325, Val Loss: 0.0134, Val Acc: 91.2500, Val Size: 160\n",
            "Epoch: 4 [48000/50000 (96%)]\tTrain Loss: 0.0163, Train Acc: 91.3187, Val Loss: 0.0141, Val Acc: 90.6250, Val Size: 160\n",
            "Epoch: 4 finished | Time taken: 9.464143828550975\n",
            "Epoch 5/5\n",
            "----------\n",
            "Epoch: 5 [8000/50000 (16%)]\tTrain Loss: 0.0262, Train Acc: 86.3375, Val Loss: 0.0179, Val Acc: 91.8750, Val Size: 160\n",
            "Epoch: 5 [16000/50000 (32%)]\tTrain Loss: 0.0212, Train Acc: 89.2750, Val Loss: 0.0157, Val Acc: 90.0000, Val Size: 160\n",
            "Epoch: 5 [24000/50000 (48%)]\tTrain Loss: 0.0190, Train Acc: 90.3458, Val Loss: 0.0139, Val Acc: 92.5000, Val Size: 160\n",
            "Epoch: 5 [32000/50000 (64%)]\tTrain Loss: 0.0178, Train Acc: 90.9281, Val Loss: 0.0150, Val Acc: 89.3750, Val Size: 160\n",
            "Epoch: 5 [40000/50000 (80%)]\tTrain Loss: 0.0169, Train Acc: 91.3275, Val Loss: 0.0148, Val Acc: 90.0000, Val Size: 160\n",
            "Epoch: 5 [48000/50000 (96%)]\tTrain Loss: 0.0165, Train Acc: 91.5187, Val Loss: 0.0151, Val Acc: 90.6250, Val Size: 160\n",
            "Epoch: 5 finished | Time taken: 9.432437054316203\n",
            "Training complete in 47m 13s\n",
            "Best val Acc: 93.750000\n"
          ],
          "name": "stdout"
        },
        {
          "output_type": "stream",
          "text": [
            "/usr/local/lib/python3.6/dist-packages/torch/serialization.py:256: UserWarning: Couldn't retrieve source code for container of type mymodel. It won't be checked for correctness upon loading.\n",
            "  \"type \" + obj.__name__ + \". It won't be checked \"\n"
          ],
          "name": "stderr"
        }
      ]
    },
    {
      "cell_type": "code",
      "metadata": {
        "id": "Ee0nSDDeO5Tk",
        "colab_type": "code",
        "outputId": "657c9ba9-de37-4177-c7d6-a48287ec3bef",
        "colab": {
          "base_uri": "https://localhost:8080/",
          "height": 71
        }
      },
      "source": [
        "torch.save(model, 'mymodel' + '.pt')"
      ],
      "execution_count": 0,
      "outputs": [
        {
          "output_type": "stream",
          "text": [
            "/usr/local/lib/python3.6/dist-packages/torch/serialization.py:256: UserWarning: Couldn't retrieve source code for container of type mymodel. It won't be checked for correctness upon loading.\n",
            "  \"type \" + obj.__name__ + \". It won't be checked \"\n"
          ],
          "name": "stderr"
        }
      ]
    }
  ]
}