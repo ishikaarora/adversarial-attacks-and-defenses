{
  "nbformat": 4,
  "nbformat_minor": 0,
  "metadata": {
    "colab": {
      "name": "DefensiveDistillation.ipynb",
      "provenance": [],
      "collapsed_sections": [],
      "toc_visible": true,
      "include_colab_link": true
    },
    "kernelspec": {
      "name": "python3",
      "display_name": "Python 3"
    },
    "accelerator": "GPU"
  },
  "cells": [
    {
      "cell_type": "markdown",
      "metadata": {
        "id": "view-in-github",
        "colab_type": "text"
      },
      "source": [
        "<a href=\"https://colab.research.google.com/github/ishikaarora/pytorch-tutorials/blob/master/DefensiveDistillation.ipynb\" target=\"_parent\"><img src=\"https://colab.research.google.com/assets/colab-badge.svg\" alt=\"Open In Colab\"/></a>"
      ]
    },
    {
      "cell_type": "code",
      "metadata": {
        "id": "3pSYrFqOUOD8",
        "colab_type": "code",
        "colab": {}
      },
      "source": [
        "import torch \n",
        "import torchvision\n",
        "import torchvision.transforms as transforms\n",
        "import matplotlib.pyplot as plt\n",
        "import numpy as np\n",
        "import torch.nn as nn\n",
        "import torch.nn.functional as F \n",
        "import torch.optim as optim\n",
        "import matplotlib.pyplot as plt\n",
        "from collections import Counter\n",
        "%matplotlib inline\n",
        "import random\n",
        "import time\n",
        "import math\n",
        "from tqdm import tqdm\n",
        "from torch.optim.lr_scheduler import StepLR"
      ],
      "execution_count": 0,
      "outputs": []
    },
    {
      "cell_type": "code",
      "metadata": {
        "id": "kHaVjfvpVsbk",
        "colab_type": "code",
        "outputId": "3e8136d4-2047-40a0-b71e-7493e74cd937",
        "colab": {
          "base_uri": "https://localhost:8080/",
          "height": 34
        }
      },
      "source": [
        "device = torch.device('cuda' if torch.cuda.is_available() else 'cpu')\n",
        "device"
      ],
      "execution_count": 0,
      "outputs": [
        {
          "output_type": "execute_result",
          "data": {
            "text/plain": [
              "device(type='cuda')"
            ]
          },
          "metadata": {
            "tags": []
          },
          "execution_count": 2
        }
      ]
    },
    {
      "cell_type": "code",
      "metadata": {
        "id": "Ld7tEeClsF4d",
        "colab_type": "code",
        "colab": {}
      },
      "source": [
        "cifar10_mean = [0.49139968 , 0.48215841 , 0.44653091]\n",
        "cifar10_std = [0.24703223,  0.24348513 , 0.26158784]"
      ],
      "execution_count": 0,
      "outputs": []
    },
    {
      "cell_type": "code",
      "metadata": {
        "id": "D13PUnwAqJxL",
        "colab_type": "code",
        "colab": {}
      },
      "source": [
        "LEARNING_RATE = 0.001\n",
        "MOMENTUM = 0.9\n",
        "N_EPOCHS = 10\n",
        "BATCH_SIZE = 16"
      ],
      "execution_count": 0,
      "outputs": []
    },
    {
      "cell_type": "code",
      "metadata": {
        "id": "QqIGb_aCsJok",
        "colab_type": "code",
        "outputId": "7d758c63-b712-4d1c-eb0a-75d85909b614",
        "colab": {
          "base_uri": "https://localhost:8080/",
          "height": 105
        }
      },
      "source": [
        "transform_train = transforms.Compose([\n",
        "    transforms.RandomCrop(32, padding=2),\n",
        "    transforms.Resize(224),\n",
        "    transforms.RandomHorizontalFlip(),\n",
        "    transforms.ToTensor(),\n",
        "    transforms.Normalize(cifar10_mean,cifar10_std)\n",
        "])\n",
        "\n",
        "transform_test = transforms.Compose([\n",
        "    transforms.Resize(224),\n",
        "    transforms.ToTensor(),\n",
        "    transforms.Normalize(cifar10_mean,cifar10_std)\n",
        "])\n",
        "\n",
        "trainset = torchvision.datasets.CIFAR10(root = './data', train = True, download = True, transform= transform_train)\n",
        "testset = torchvision.datasets.CIFAR10(root = './data', train = False, download = True, transform=transform_test)\n",
        "\n",
        "trainloader = torch.utils.data.DataLoader(trainset, batch_size=BATCH_SIZE, shuffle=True, num_workers=2)\n",
        "testloader = torch.utils.data.DataLoader(testset, batch_size=4, shuffle=False, num_workers=2)"
      ],
      "execution_count": 0,
      "outputs": [
        {
          "output_type": "stream",
          "text": [
            "\r0it [00:00, ?it/s]"
          ],
          "name": "stderr"
        },
        {
          "output_type": "stream",
          "text": [
            "Downloading https://www.cs.toronto.edu/~kriz/cifar-10-python.tar.gz to ./data/cifar-10-python.tar.gz\n"
          ],
          "name": "stdout"
        },
        {
          "output_type": "stream",
          "text": [
            "170500096it [00:06, 27471441.67it/s]                               \n"
          ],
          "name": "stderr"
        },
        {
          "output_type": "stream",
          "text": [
            "Extracting ./data/cifar-10-python.tar.gz to ./data\n",
            "Files already downloaded and verified\n"
          ],
          "name": "stdout"
        }
      ]
    },
    {
      "cell_type": "code",
      "metadata": {
        "id": "AgFbkVh2WVgX",
        "colab_type": "code",
        "colab": {}
      },
      "source": [
        "# transform = transforms.Compose([\n",
        "#     transforms.ToTensor(),\n",
        "#     transforms.Normalize((0.5,0.5,0.5),(0.5,0.5,0.5))\n",
        "# ])\n",
        "# trainset = torchvision.datasets.CIFAR10(root = './data', train = True,\n",
        "#                                         download = True, transform= transform)\n",
        "\n",
        "# trainloader = torch.utils.data.DataLoader(trainset,batch_size = 4, shuffle = True, num_workers = 2)\n",
        "# testset = torchvision.datasets.CIFAR10(root= './data',train = False, download = True,\n",
        "#                                       transform = transform)\n",
        "# testloader = torch.utils.data.DataLoader(testset,batch_size = 1, shuffle = False, num_workers = 2 ) \n"
      ],
      "execution_count": 0,
      "outputs": []
    },
    {
      "cell_type": "code",
      "metadata": {
        "id": "TRfHSaafWX1P",
        "colab_type": "code",
        "colab": {}
      },
      "source": [
        "def imshow(inp, title=None):\n",
        "    \"\"\"Imshow for Tensor.\"\"\"\n",
        "    inp = inp.numpy().transpose((1, 2, 0))\n",
        "    inp = cifar10_std * inp + cifar10_mean\n",
        "    inp = np.clip(inp, 0, 1)\n",
        "    plt.imshow(inp)\n",
        "    if title is not None:\n",
        "        plt.title(title)\n",
        "    plt.pause(0.001)  # pause a bit so that plots are updated"
      ],
      "execution_count": 0,
      "outputs": []
    },
    {
      "cell_type": "code",
      "metadata": {
        "id": "_mi_d0ZkWefV",
        "colab_type": "code",
        "outputId": "9d71b6d0-9db8-467c-92fe-7c1299a85397",
        "colab": {
          "base_uri": "https://localhost:8080/",
          "height": 153
        }
      },
      "source": [
        "classes = ('plane', 'car', 'bird', 'cat','deer', 'dog', 'frog', 'horse', 'ship', 'truck')\n",
        "dataiter = iter(trainloader)\n",
        "images, labels = dataiter.next()\n",
        "imshow(torchvision.utils.make_grid(images))\n",
        "print(' '.join('%5s'%classes[labels[j]] for j in range(4)))"
      ],
      "execution_count": 0,
      "outputs": [
        {
          "output_type": "display_data",
          "data": {
            "image/png": "[encoded data removed]",
            "text/plain": [
              "<Figure size 432x288 with 1 Axes>"
            ]
          },
          "metadata": {
            "tags": []
          }
        },
        {
          "output_type": "stream",
          "text": [
            " frog horse truck  ship\n"
          ],
          "name": "stdout"
        }
      ]
    },
    {
      "cell_type": "code",
      "metadata": {
        "id": "NNzQG-7iw5EE",
        "colab_type": "code",
        "colab": {}
      },
      "source": [
        "images = images.to(device)\n",
        "outputs = model(images)"
      ],
      "execution_count": 0,
      "outputs": []
    },
    {
      "cell_type": "code",
      "metadata": {
        "id": "cSTbgl2L1dGM",
        "colab_type": "code",
        "outputId": "210c2721-17b1-4980-cc61-b1454d218803",
        "colab": {
          "base_uri": "https://localhost:8080/",
          "height": 561
        }
      },
      "source": [
        "outputs"
      ],
      "execution_count": 0,
      "outputs": [
        {
          "output_type": "execute_result",
          "data": {
            "text/plain": [
              "tensor([[ 7.7329, -0.7491, -1.3726, -3.3525, -3.0584, -5.9166, -4.4776, -2.1472,\n",
              "          1.4906,  0.8126],\n",
              "        [-0.6258, -4.8534, -0.0559, -1.2214,  1.9469, -1.7902, -6.5017,  6.7697,\n",
              "         -2.9898, -2.3343],\n",
              "        [ 5.2816, -3.6302,  2.2549, -2.5789, -0.3872, -4.7000, -0.1210, -2.8298,\n",
              "         -1.8282, -3.6309],\n",
              "        [-4.0034, -6.0806, -1.0204,  0.1237,  6.7573,  1.6593, -3.3974,  3.9437,\n",
              "         -5.3687, -5.8004],\n",
              "        [-0.7816, 10.8389, -4.2124, -5.4640, -7.2498, -6.3412, -2.3375, -4.6964,\n",
              "          0.2090,  2.0196],\n",
              "        [-0.1681,  1.4992, -4.3595, -1.5415, -4.4325, -4.6685, -4.1409, -2.1139,\n",
              "          1.5064,  6.7252],\n",
              "        [-1.9848, -0.6874,  2.0005, -1.6737, -2.5814, -0.9145,  2.7134, -1.4052,\n",
              "         -3.5921, -3.7629],\n",
              "        [-4.7526, -4.7327, -2.6727,  3.5068,  0.3605,  7.1792, -2.3300,  1.1050,\n",
              "         -3.9268, -4.8608],\n",
              "        [-4.0246, -2.4537, -1.7593,  3.3542, -1.5609,  1.1411,  4.3210, -2.9588,\n",
              "         -3.8095, -2.7023],\n",
              "        [-4.0431, -3.7932, -1.5565,  4.6437, -2.0751,  6.0042, -1.9760, -0.0240,\n",
              "         -3.1511, -4.0444],\n",
              "        [ 7.1205, -3.3964, -0.0311, -2.2116, -1.0825, -4.7638, -4.0488, -1.1851,\n",
              "          0.2068, -0.6052],\n",
              "        [ 1.1722, -1.2461,  0.3371, -1.2436, -4.1837, -2.8851, -3.5558, -4.6539,\n",
              "          6.7736, -2.8594],\n",
              "        [ 0.1089, 10.0730, -3.8427, -5.3216, -7.8354, -6.0239, -2.3271, -5.9459,\n",
              "          1.8115,  0.7739],\n",
              "        [-1.6993, -5.5892,  9.9358, -1.0425,  1.2530, -2.0317, -0.4886, -2.3215,\n",
              "         -5.4443, -8.4944],\n",
              "        [-4.1326, -5.0354,  3.9749,  2.5255,  0.3032,  2.5708,  1.8048, -2.7515,\n",
              "         -4.9850, -6.5828],\n",
              "        [ 7.5667, -3.2587,  0.1366, -1.9162, -2.2054, -4.9619, -2.9169, -2.7842,\n",
              "          0.9459, -0.9235]], device='cuda:0', grad_fn=<AddmmBackward>)"
            ]
          },
          "metadata": {
            "tags": []
          },
          "execution_count": 35
        }
      ]
    },
    {
      "cell_type": "markdown",
      "metadata": {
        "id": "q-iB0xLJXW8O",
        "colab_type": "text"
      },
      "source": [
        "### Loading pretrained model"
      ]
    },
    {
      "cell_type": "code",
      "metadata": {
        "id": "OcXOOI2_5sw9",
        "colab_type": "code",
        "colab": {}
      },
      "source": [
        "class mymodel(nn.Module):\n",
        "    \"\"\"Custom Model\"\"\"\n",
        "\n",
        "    def __init__(self, in_features, hidden_dim, n_classes):\n",
        "        \"\"\"Custom Model Builder.\"\"\"\n",
        "        super(mymodel, self).__init__()\n",
        "        \n",
        "        self.fc1 = nn.Linear(in_features, hidden_dim)\n",
        "        self.fc2 = nn.Linear(hidden_dim, hidden_dim//2)\n",
        "        self.fc3 = nn.Linear(hidden_dim//2, n_classes)\n",
        "   \n",
        "  \n",
        "    def forward(self, images):\n",
        "        \"\"\"Perform forward.\"\"\"\n",
        "        \n",
        "        images_vec = images.view(images.size(0), -1)\n",
        "        hidden_out = F.relu(self.fc1(images_vec))\n",
        "        hidden_out = F.relu(self.fc2(hidden_out))\n",
        "        scores = self.fc3(hidden_out)\n",
        "\n",
        "        return scores"
      ],
      "execution_count": 0,
      "outputs": []
    },
    {
      "cell_type": "code",
      "metadata": {
        "id": "utdkZnIKqGdT",
        "colab_type": "code",
        "colab": {}
      },
      "source": [
        "# criterion = nn.CrossEntropyLoss()\n",
        "# optimizer = optim.Adam(model.parameters(),lr = LEARNING_RATE)"
      ],
      "execution_count": 0,
      "outputs": []
    },
    {
      "cell_type": "code",
      "metadata": {
        "id": "hOlLmtO8WKT6",
        "colab_type": "code",
        "colab": {}
      },
      "source": [
        "def calculate_accuracy(model,loader):\n",
        "    model.eval()\n",
        "    total = 0\n",
        "    correct = 0\n",
        "    with torch.no_grad():\n",
        "        for data in loader:\n",
        "            images, labels = data\n",
        "            images = images.to(device)\n",
        "            labels = labels.to(device)\n",
        "            outputs = model(images)\n",
        "            _,predicted = torch.max(outputs.data,1)\n",
        "            total+=labels.size(0)\n",
        "            correct+=(predicted==labels).sum().item()\n",
        "    return (correct/total)*100"
      ],
      "execution_count": 0,
      "outputs": []
    },
    {
      "cell_type": "markdown",
      "metadata": {
        "id": "ygKiIl9XRgM7",
        "colab_type": "text"
      },
      "source": [
        "#### Original model accuracy"
      ]
    },
    {
      "cell_type": "code",
      "metadata": {
        "id": "yCMDQ2di330N",
        "colab_type": "code",
        "colab": {}
      },
      "source": [
        "model = torch.load(\"mymodel.pt\", map_location=torch.device(device))"
      ],
      "execution_count": 0,
      "outputs": []
    },
    {
      "cell_type": "code",
      "metadata": {
        "id": "IAPDdq3OXeNo",
        "colab_type": "code",
        "outputId": "a4a5f884-ac94-486d-cb17-43a6d4ce26b2",
        "colab": {
          "base_uri": "https://localhost:8080/",
          "height": 34
        }
      },
      "source": [
        "test_accuracy = calculate_accuracy(model,testloader)\n",
        "print(test_accuracy)"
      ],
      "execution_count": 0,
      "outputs": [
        {
          "output_type": "stream",
          "text": [
            "90.36\n"
          ],
          "name": "stdout"
        }
      ]
    },
    {
      "cell_type": "markdown",
      "metadata": {
        "id": "q7ChOgyioaRE",
        "colab_type": "text"
      },
      "source": [
        "### Helper functions"
      ]
    },
    {
      "cell_type": "code",
      "metadata": {
        "id": "0Meqc5yRoZYp",
        "colab_type": "code",
        "colab": {}
      },
      "source": [
        "def loss_fn_kd(outputs, labels, teacher_outputs, params):\n",
        "    \"\"\"\n",
        "    Compute the knowledge-distillation (KD) loss given outputs, labels.\n",
        "    \"Hyperparameters\": temperature and alpha\n",
        "    NOTE: the KL Divergence for PyTorch comparing the softmaxs of teacher\n",
        "    and student expects the input tensor to be log probabilities! See Issue #2\n",
        "    \"\"\"\n",
        "    alpha = params[\"alpha\"]\n",
        "    T = params[\"temperature\"]\n",
        "    KD_loss = nn.KLDivLoss()(F.log_softmax(outputs/T, dim=1), F.softmax(teacher_outputs/T, dim=1)) * (alpha * T * T) + F.cross_entropy(outputs, labels) * (1. - alpha)\n",
        "\n",
        "    return KD_loss"
      ],
      "execution_count": 0,
      "outputs": []
    },
    {
      "cell_type": "code",
      "metadata": {
        "id": "hPpA8S7zjkml",
        "colab_type": "code",
        "colab": {}
      },
      "source": [
        "# Helper function: get [batch_idx, teacher_outputs] list by running teacher model once\n",
        "def fetch_teacher_outputs(teacher_model, dataloader, params):\n",
        "    # set teacher_model to evaluation mode\n",
        "    teacher_model.eval()\n",
        "    teacher_outputs = []\n",
        "    for i, (data_batch, labels_batch) in enumerate(dataloader):\n",
        "        if params[\"cuda\"]:\n",
        "            data_batch, labels_batch = data_batch.cuda(async=True), labels_batch.cuda(async=True)\n",
        "#         data_batch, labels_batch = Variable(data_batch), Variable(labels_batch)\n",
        "\n",
        "        output_teacher_batch = teacher_model(data_batch).data.cpu().numpy()\n",
        "        teacher_outputs.append(output_teacher_batch)\n",
        "\n",
        "    return teacher_outputs"
      ],
      "execution_count": 0,
      "outputs": []
    },
    {
      "cell_type": "markdown",
      "metadata": {
        "id": "HCJEts1JkY3b",
        "colab_type": "text"
      },
      "source": [
        "### Distillation Model functions"
      ]
    },
    {
      "cell_type": "code",
      "metadata": {
        "id": "Fwsn9K-dZ22U",
        "colab_type": "code",
        "colab": {}
      },
      "source": [
        "# Defining train_kd & train_and_evaluate_kd functions\n",
        "def train_kd(model, teacher_outputs, optimizer, loss_fn_kd, dataloader, params):\n",
        "    \"\"\"Train the model on `num_steps` batches\n",
        "    Args:\n",
        "        model: (torch.nn.Module) the neural network\n",
        "        optimizer: (torch.optim) optimizer for parameters of model\n",
        "        loss_fn_kd: \n",
        "        dataloader: \n",
        "        metrics: (dict) \n",
        "        params: (Params) hyperparameters\n",
        "    \"\"\"\n",
        "\n",
        "    # set model to training mode\n",
        "    model.train()\n",
        "    # teacher_model.eval()\n",
        "\n",
        "    # summary for current training loop and a running average object for loss\n",
        "#     summ = []\n",
        "#     loss_avg = utils.RunningAverage()\n",
        "    running_loss = 0.0\n",
        "  \n",
        "    # Use tqdm for progress bar\n",
        "    with tqdm(total=len(dataloader)) as t:\n",
        "        for i, (train_batch, labels_batch) in enumerate(dataloader):\n",
        "            train_batch = train_batch.to(device)\n",
        "            labels_batch = labels_batch.to(device)\n",
        "\n",
        "            # compute model output, fetch teacher output, and compute KD loss\n",
        "            output_batch = model(train_batch)\n",
        "\n",
        "            # get one batch output from teacher_outputs list\n",
        "            output_teacher_batch = torch.from_numpy(teacher_outputs[i])\n",
        "            \n",
        "            output_teacher_batch = output_teacher_batch.to(device)\n",
        "#             output_teacher_batch = Variable(output_teacher_batch, requires_grad=False)\n",
        "\n",
        "            loss = loss_fn_kd(output_batch, labels_batch, output_teacher_batch, params)\n",
        "\n",
        "            # clear previous gradients, compute gradients of all variables wrt loss\n",
        "            optimizer.zero_grad()\n",
        "            loss.backward()\n",
        "\n",
        "            # performs updates using calculated gradients\n",
        "            optimizer.step()\n",
        "\n",
        "            # Evaluate summaries only once in a while\n",
        "#             if i % params.save_summary_steps == 0:\n",
        "            # update the average loss\n",
        "#             loss_avg.update(loss.data[0])\n",
        "            \n",
        "            running_loss+=loss.item() \n",
        "            if i%100==99:\n",
        "              print(\".\",end='')\n",
        "              \n",
        "    return running_loss\n",
        "\n",
        " "
      ],
      "execution_count": 0,
      "outputs": []
    },
    {
      "cell_type": "code",
      "metadata": {
        "id": "yUTuf8z4kjOl",
        "colab_type": "code",
        "colab": {}
      },
      "source": [
        "def train_and_evaluate_kd(model, teacher_model, train_dataloader, val_dataloader, optimizer,\n",
        "                       loss_fn_kd,restore_file=None):\n",
        "    \"\"\"Train the model and evaluate every epoch.\n",
        "    Args:\n",
        "        model: (torch.nn.Module) the neural network\n",
        "        params: (Params) hyperparameters\n",
        "        model_dir: (string) directory containing config, weights and log\n",
        "        restore_file: (string) - file to restore (without its extension .pth.tar)\n",
        "    \"\"\"\n",
        "    # reload weights from restore_file if specified\n",
        "#     if restore_file is not None:\n",
        "#         restore_path = os.path.join(args.model_dir, args.restore_file + '.pth.tar')\n",
        "#         logging.info(\"Restoring parameters from {}\".format(restore_path))\n",
        "#         utils.load_checkpoint(restore_path, model, optimizer)\n",
        "\n",
        "    best_val_acc = 0.0\n",
        "    \n",
        "    # Tensorboard logger setup\n",
        "    # board_logger = utils.Board_Logger(os.path.join(model_dir, 'board_logs'))\n",
        "\n",
        "    # fetch teacher outputs using teacher_model under eval() mode\n",
        "    loading_start = time.time()\n",
        "    teacher_model.eval()\n",
        "    teacher_outputs = fetch_teacher_outputs(teacher_model, train_dataloader, params)\n",
        "    elapsed_time = math.ceil(time.time() - loading_start)\n",
        "\n",
        "    scheduler = StepLR(optimizer, step_size=100, gamma=0.2) \n",
        "\n",
        "    for epoch in range(params[\"num_epochs\"]):\n",
        "#         running_loss = 0.0\n",
        "        start = time.time()\n",
        "        scheduler.step()\n",
        "\n",
        "        # Run one epoch\n",
        "#         logging.info(\"Epoch {}/{}\".format(epoch + 1, params.num_epochs))\n",
        "\n",
        "        # compute number of batches in one epoch (one full pass over the training set)\n",
        "        running_loss = train_kd(model, teacher_outputs, optimizer, loss_fn_kd, train_dataloader, params)\n",
        "\n",
        "        # Evaluate for one epoch on validation set\n",
        "#         val_metrics = evaluate_kd(model, val_dataloader, metrics, params)\n",
        "\n",
        "        train_acc = calculate_accuracy(model,trainloader)      \n",
        "        val_acc = calculate_accuracy(model,testloader)\n",
        "        is_best = val_acc>=best_val_acc\n",
        "      \n",
        "        time_taken = (time.time()-start)/60\n",
        "        print(\"\\nIteration: {0} | Time taken: {4} |  Loss: {1} | Training accuracy: {2}% | Test accuracy: {3}%\".format(epoch+1, running_loss, train_acc, val_acc,time_taken))\n",
        "\n",
        "        # If best_eval, best_save_path\n",
        "        if is_best:\n",
        "            best_val_acc = val_acc\n",
        "\n",
        "            # Save best val metrics in a json file in the model directory\n",
        "#             best_json_path = os.path.join(model_dir, \"metrics_val_best_weights.json\")\n",
        "#             utils.save_dict_to_json(val_metrics, best_json_path)\n",
        "\n",
        "        # Save latest val metrics in a json file in the model directory\n",
        "#         last_json_path = os.path.join(model_dir, \"metrics_val_last_weights.json\")\n",
        "#         utils.save_dict_to_json(val_metrics, last_json_path)\n",
        "\n",
        "\n",
        "        # #============ TensorBoard logging: uncomment below to turn in on ============#\n",
        "        # # (1) Log the scalar values\n",
        "        # info = {\n",
        "        #     'val accuracy': val_acc\n",
        "        # }\n",
        "\n",
        "        # for tag, value in info.items():\n",
        "        #     board_logger.scalar_summary(tag, value, epoch+1)\n",
        "\n",
        "        # # (2) Log values and gradients of the parameters (histogram)\n",
        "        # for tag, value in model.named_parameters():\n",
        "        #     tag = tag.replace('.', '/')\n",
        "        #     board_logger.histo_summary(tag, value.data.cpu().numpy(), epoch+1)\n",
        "        #     # board_logger.histo_summary(tag+'/grad', value.grad.data.cpu().numpy(), epoch+1)\n",
        "    return best_val_acc"
      ],
      "execution_count": 0,
      "outputs": []
    },
    {
      "cell_type": "markdown",
      "metadata": {
        "id": "MOG4HIz8o01m",
        "colab_type": "text"
      },
      "source": [
        "### Train model with distillation"
      ]
    },
    {
      "cell_type": "code",
      "metadata": {
        "id": "Lxg-yDjopBgk",
        "colab_type": "code",
        "colab": {}
      },
      "source": [
        "import copy\n",
        "# teacher_model = copy.deepcopy(model)"
      ],
      "execution_count": 0,
      "outputs": []
    },
    {
      "cell_type": "code",
      "metadata": {
        "id": "tY1NAKEVso9M",
        "colab_type": "code",
        "colab": {}
      },
      "source": [
        "# new_model = CNN()\n",
        "# new_model = new_model.to(device)"
      ],
      "execution_count": 0,
      "outputs": []
    },
    {
      "cell_type": "code",
      "metadata": {
        "id": "sPbinK3z60BW",
        "colab_type": "code",
        "colab": {}
      },
      "source": [
        "# org_model_wts = copy.deepcopy(model.state_dict())\n",
        "# teacher_model = model_cls(**kwargs)\n",
        "# teacher_model.load_state_dict(org_model_wts)"
      ],
      "execution_count": 0,
      "outputs": []
    },
    {
      "cell_type": "code",
      "metadata": {
        "id": "HnFLeO9l7eMV",
        "colab_type": "code",
        "colab": {}
      },
      "source": [
        "import pickle\n",
        "teacher_model = pickle.loads(pickle.dumps(model))"
      ],
      "execution_count": 0,
      "outputs": []
    },
    {
      "cell_type": "code",
      "metadata": {
        "id": "Y5TCpx6haIiA",
        "colab_type": "code",
        "colab": {}
      },
      "source": [
        "new_model = pickle.loads(pickle.dumps(model))\n",
        "new_model = new_model.to(device)"
      ],
      "execution_count": 0,
      "outputs": []
    },
    {
      "cell_type": "code",
      "metadata": {
        "id": "bob5IjkAakJK",
        "colab_type": "code",
        "colab": {}
      },
      "source": [
        "for param in teacher_model.parameters():\n",
        "  param.requires_grad = False"
      ],
      "execution_count": 0,
      "outputs": []
    },
    {
      "cell_type": "code",
      "metadata": {
        "id": "gYm04Jw1aViV",
        "colab_type": "code",
        "colab": {}
      },
      "source": [
        "# model_conv = torchvision.models.resnet18(pretrained=True)\n",
        "for param in new_model.parameters():\n",
        "    param.requires_grad = False\n",
        "\n",
        "for param in new_model[0].layer4.parameters():\n",
        "    param.requires_grad = True\n",
        "\n",
        "for param in new_model[0].fc.parameters():\n",
        "    param.requires_grad = True\n",
        "\n",
        "for param in new_model[1].parameters():\n",
        "    param.requires_grad = True"
      ],
      "execution_count": 0,
      "outputs": []
    },
    {
      "cell_type": "code",
      "metadata": {
        "id": "pY0ulrw72Vs7",
        "colab_type": "code",
        "colab": {}
      },
      "source": [
        "params = list(new_model[0].layer4.parameters()) + list(new_model[0].fc.parameters()) + \\\n",
        "list(new_model[1].fc1.parameters()) + list(new_model[1].fc2.parameters()) + list(new_model[1].fc3.parameters())"
      ],
      "execution_count": 0,
      "outputs": []
    },
    {
      "cell_type": "code",
      "metadata": {
        "id": "UBdSec6D2F3E",
        "colab_type": "code",
        "colab": {}
      },
      "source": [
        "optimizer = optim.Adam(params,lr = LEARNING_RATE)"
      ],
      "execution_count": 0,
      "outputs": []
    },
    {
      "cell_type": "code",
      "metadata": {
        "id": "XI5iZRUmNH1g",
        "colab_type": "code",
        "colab": {}
      },
      "source": [
        "params = {\n",
        "    \"alpha\": 0.9,\n",
        "    \"temperature\": 200,\n",
        "    \"learning_rate\": 0.001,\n",
        "    \"num_epochs\": 4,\n",
        "    \"cuda\": True\n",
        "}"
      ],
      "execution_count": 0,
      "outputs": []
    },
    {
      "cell_type": "markdown",
      "metadata": {
        "id": "D-hV3o3UNMB9",
        "colab_type": "text"
      },
      "source": [
        "#### Params"
      ]
    },
    {
      "cell_type": "code",
      "metadata": {
        "id": "LPf4iH_3H3Fo",
        "colab_type": "code",
        "colab": {}
      },
      "source": [
        "# {\n",
        "#     \"model_version\": \"cnn\",\n",
        "#     \"subset_percent\": 1.0,\n",
        "#     \"augmentation\": \"no\",\n",
        "#     \"teacher\": \"none\",\n",
        "#     \"alpha\": 0,\n",
        "#     \"temperature\": 1,\n",
        "#     \"learning_rate\": 1e-3,\n",
        "#     \"batch_size\": 128,\n",
        "#     \"num_epochs\": 30,\n",
        "#     \"dropout_rate\": 0.5, \n",
        "#     \"num_channels\": 32,\n",
        "#     \"save_summary_steps\": 100,\n",
        "#     \"num_workers\": 4\n",
        "# }"
      ],
      "execution_count": 0,
      "outputs": []
    },
    {
      "cell_type": "code",
      "metadata": {
        "id": "Q8jAoMbeMNEi",
        "colab_type": "code",
        "outputId": "af8c8b33-4877-4077-a194-597300db4ac1",
        "colab": {
          "base_uri": "https://localhost:8080/",
          "height": 102
        }
      },
      "source": [
        "params"
      ],
      "execution_count": 0,
      "outputs": [
        {
          "output_type": "execute_result",
          "data": {
            "text/plain": [
              "{'alpha': 0.9,\n",
              " 'cuda': True,\n",
              " 'learning_rate': 0.001,\n",
              " 'num_epochs': 10,\n",
              " 'temperature': 100}"
            ]
          },
          "metadata": {
            "tags": []
          },
          "execution_count": 94
        }
      ]
    },
    {
      "cell_type": "markdown",
      "metadata": {
        "id": "0d2Z1AuANQUt",
        "colab_type": "text"
      },
      "source": [
        "### New Model Training"
      ]
    },
    {
      "cell_type": "code",
      "metadata": {
        "id": "bROAcUUko0Xl",
        "colab_type": "code",
        "outputId": "2fdeda99-064f-4e2d-8890-13afeb128965",
        "colab": {
          "base_uri": "https://localhost:8080/",
          "height": 785
        }
      },
      "source": [
        "# params = {temperature=100.0, alpha=0.9}\n",
        "new_model_accuracy = train_and_evaluate_kd(new_model, teacher_model, trainloader, testloader, optimizer, loss_fn_kd,\n",
        "                              params)"
      ],
      "execution_count": 0,
      "outputs": [
        {
          "output_type": "stream",
          "text": [
            "/usr/local/lib/python3.6/dist-packages/torch/optim/lr_scheduler.py:100: UserWarning: Detected call of `lr_scheduler.step()` before `optimizer.step()`. In PyTorch 1.1.0 and later, you should call them in the opposite order: `optimizer.step()` before `lr_scheduler.step()`.  Failure to do this will result in PyTorch skipping the first value of the learning rate schedule.See more details at https://pytorch.org/docs/stable/optim.html#how-to-adjust-learning-rate\n",
            "  \"https://pytorch.org/docs/stable/optim.html#how-to-adjust-learning-rate\", UserWarning)\n",
            "\n",
            "  0%|          | 0/3125 [00:00<?, ?it/s]\u001b[A/usr/local/lib/python3.6/dist-packages/torch/nn/functional.py:1946: UserWarning: reduction: 'mean' divides the total loss by both the batch size and the support size.'batchmean' divides only by the batch size, and aligns with the KL div math definition.'mean' will be changed to behave the same as 'batchmean' in the next major release.\n",
            "  warnings.warn(\"reduction: 'mean' divides the total loss by both the batch size and the support size.\"\n"
          ],
          "name": "stderr"
        },
        {
          "output_type": "stream",
          "text": [
            "..............................."
          ],
          "name": "stdout"
        },
        {
          "output_type": "stream",
          "text": [
            "\n",
            "\u001b[A\n",
            "  0%|          | 0/3125 [00:00<?, ?it/s]\u001b[A"
          ],
          "name": "stderr"
        },
        {
          "output_type": "stream",
          "text": [
            "\n",
            "Iteration: 1 | Time taken: 16.788099551200865 |  Loss: 2721.9083345532417 | Training accuracy: 81.95599999999999% | Test accuracy: 81.37%\n",
            "..............................."
          ],
          "name": "stdout"
        },
        {
          "output_type": "stream",
          "text": [
            "\n",
            "\u001b[A\n",
            "  0%|          | 0/3125 [00:00<?, ?it/s]\u001b[A"
          ],
          "name": "stderr"
        },
        {
          "output_type": "stream",
          "text": [
            "\n",
            "Iteration: 2 | Time taken: 16.90309453010559 |  Loss: 2614.8118243813515 | Training accuracy: 87.756% | Test accuracy: 86.13%\n",
            "..............................."
          ],
          "name": "stdout"
        },
        {
          "output_type": "stream",
          "text": [
            "\n",
            "\u001b[A\n",
            "  0%|          | 0/3125 [00:00<?, ?it/s]\u001b[A"
          ],
          "name": "stderr"
        },
        {
          "output_type": "stream",
          "text": [
            "\n",
            "Iteration: 3 | Time taken: 16.816253010431925 |  Loss: 2591.6663665771484 | Training accuracy: 90.164% | Test accuracy: 88.48%\n",
            "..............................."
          ],
          "name": "stdout"
        },
        {
          "output_type": "stream",
          "text": [
            "\n",
            "\u001b[A\n",
            "  0%|          | 0/3125 [00:00<?, ?it/s]\u001b[A"
          ],
          "name": "stderr"
        },
        {
          "output_type": "stream",
          "text": [
            "\n",
            "Iteration: 4 | Time taken: 16.816648960113525 |  Loss: 2577.5605659484863 | Training accuracy: 89.31% | Test accuracy: 88.33%\n",
            "..............................."
          ],
          "name": "stdout"
        },
        {
          "output_type": "stream",
          "text": [
            "\n",
            "\u001b[A\n",
            "  0%|          | 0/3125 [00:00<?, ?it/s]\u001b[A"
          ],
          "name": "stderr"
        },
        {
          "output_type": "stream",
          "text": [
            "\n",
            "Iteration: 5 | Time taken: 16.786960808436074 |  Loss: 2564.4817439317703 | Training accuracy: 91.396% | Test accuracy: 88.63%\n",
            "..............................."
          ],
          "name": "stdout"
        },
        {
          "output_type": "stream",
          "text": [
            "\n",
            "\u001b[A\n",
            "  0%|          | 0/3125 [00:00<?, ?it/s]\u001b[A"
          ],
          "name": "stderr"
        },
        {
          "output_type": "stream",
          "text": [
            "\n",
            "Iteration: 6 | Time taken: 16.831508298714954 |  Loss: 2561.6958891153336 | Training accuracy: 92.474% | Test accuracy: 89.71000000000001%\n",
            "..............................."
          ],
          "name": "stdout"
        },
        {
          "output_type": "stream",
          "text": [
            "\n",
            "\u001b[A\n",
            "  0%|          | 0/3125 [00:00<?, ?it/s]\u001b[A"
          ],
          "name": "stderr"
        },
        {
          "output_type": "stream",
          "text": [
            "\n",
            "Iteration: 7 | Time taken: 16.77720486720403 |  Loss: 2555.6536052525043 | Training accuracy: 93.41000000000001% | Test accuracy: 90.72%\n",
            "..............................."
          ],
          "name": "stdout"
        },
        {
          "output_type": "stream",
          "text": [
            "\n",
            "\u001b[A\n",
            "  0%|          | 0/3125 [00:00<?, ?it/s]\u001b[A"
          ],
          "name": "stderr"
        },
        {
          "output_type": "stream",
          "text": [
            "\n",
            "Iteration: 8 | Time taken: 16.739216713110604 |  Loss: 2549.029532432556 | Training accuracy: 94.06% | Test accuracy: 91.43%\n",
            "..............................."
          ],
          "name": "stdout"
        },
        {
          "output_type": "stream",
          "text": [
            "\n",
            "\u001b[A\n",
            "  0%|          | 0/3125 [00:00<?, ?it/s]\u001b[A"
          ],
          "name": "stderr"
        },
        {
          "output_type": "stream",
          "text": [
            "\n",
            "Iteration: 9 | Time taken: 16.698475213845573 |  Loss: 2547.0221061706543 | Training accuracy: 93.476% | Test accuracy: 90.74%\n",
            "..............................."
          ],
          "name": "stdout"
        },
        {
          "output_type": "stream",
          "text": [
            "\n",
            "\u001b[A"
          ],
          "name": "stderr"
        },
        {
          "output_type": "stream",
          "text": [
            "\n",
            "Iteration: 10 | Time taken: 16.79920897483826 |  Loss: 2540.1562071442604 | Training accuracy: 94.22% | Test accuracy: 90.94%\n"
          ],
          "name": "stdout"
        }
      ]
    },
    {
      "cell_type": "code",
      "metadata": {
        "id": "CKd8NqKmgCIR",
        "colab_type": "code",
        "outputId": "c1be633e-9339-440f-c73d-039717de2896",
        "colab": {
          "base_uri": "https://localhost:8080/",
          "height": 34
        }
      },
      "source": [
        "new_accuracy = calculate_accuracy(new_model, testloader)\n",
        "print(new_accuracy)"
      ],
      "execution_count": 0,
      "outputs": [
        {
          "output_type": "stream",
          "text": [
            "90.94\n"
          ],
          "name": "stdout"
        }
      ]
    },
    {
      "cell_type": "code",
      "metadata": {
        "id": "V96I240SH4Z2",
        "colab_type": "code",
        "outputId": "0cb4ea2f-2b98-4770-8586-6ee9b104da59",
        "colab": {
          "base_uri": "https://localhost:8080/",
          "height": 309
        }
      },
      "source": [
        "# params = {temperature=200.0, alpha=0.9}\n",
        "new_model_accuracy = train_and_evaluate_kd(new_model, teacher_model, trainloader, testloader, optimizer, loss_fn_kd,\n",
        "                              params)"
      ],
      "execution_count": 0,
      "outputs": [
        {
          "output_type": "stream",
          "text": [
            "/usr/local/lib/python3.6/dist-packages/torch/optim/lr_scheduler.py:100: UserWarning: Detected call of `lr_scheduler.step()` before `optimizer.step()`. In PyTorch 1.1.0 and later, you should call them in the opposite order: `optimizer.step()` before `lr_scheduler.step()`.  Failure to do this will result in PyTorch skipping the first value of the learning rate schedule.See more details at https://pytorch.org/docs/stable/optim.html#how-to-adjust-learning-rate\n",
            "  \"https://pytorch.org/docs/stable/optim.html#how-to-adjust-learning-rate\", UserWarning)\n",
            "\r  0%|          | 0/3125 [00:00<?, ?it/s]/usr/local/lib/python3.6/dist-packages/torch/nn/functional.py:1946: UserWarning: reduction: 'mean' divides the total loss by both the batch size and the support size.'batchmean' divides only by the batch size, and aligns with the KL div math definition.'mean' will be changed to behave the same as 'batchmean' in the next major release.\n",
            "  warnings.warn(\"reduction: 'mean' divides the total loss by both the batch size and the support size.\"\n"
          ],
          "name": "stderr"
        },
        {
          "output_type": "stream",
          "text": [
            "..............................."
          ],
          "name": "stdout"
        },
        {
          "output_type": "stream",
          "text": [
            "\n",
            "  0%|          | 0/3125 [00:00<?, ?it/s]"
          ],
          "name": "stderr"
        },
        {
          "output_type": "stream",
          "text": [
            "\n",
            "Iteration: 1 | Time taken: 5.449667052427928 |  Loss: 2680.0181202292442 | Training accuracy: 84.602% | Test accuracy: 83.88%\n",
            "..............................."
          ],
          "name": "stdout"
        },
        {
          "output_type": "stream",
          "text": [
            "\n",
            "  0%|          | 0/3125 [00:00<?, ?it/s]"
          ],
          "name": "stderr"
        },
        {
          "output_type": "stream",
          "text": [
            "\n",
            "Iteration: 2 | Time taken: 5.44034409125646 |  Loss: 2577.695280134678 | Training accuracy: 89.384% | Test accuracy: 87.82%\n",
            "..............................."
          ],
          "name": "stdout"
        },
        {
          "output_type": "stream",
          "text": [
            "\n",
            "  0%|          | 0/3125 [00:00<?, ?it/s]"
          ],
          "name": "stderr"
        },
        {
          "output_type": "stream",
          "text": [
            "\n",
            "Iteration: 3 | Time taken: 5.42136648495992 |  Loss: 2551.6690492630005 | Training accuracy: 89.60000000000001% | Test accuracy: 88.33%\n",
            "..............................."
          ],
          "name": "stdout"
        },
        {
          "output_type": "stream",
          "text": [
            "\n"
          ],
          "name": "stderr"
        },
        {
          "output_type": "stream",
          "text": [
            "\n",
            "Iteration: 4 | Time taken: 5.425881203015646 |  Loss: 2537.5820665359497 | Training accuracy: 91.16199999999999% | Test accuracy: 89.2%\n"
          ],
          "name": "stdout"
        }
      ]
    },
    {
      "cell_type": "code",
      "metadata": {
        "id": "_-5PNqsJH99K",
        "colab_type": "code",
        "outputId": "9f45381e-0c66-4f3f-fefa-66d2b99726f5",
        "colab": {
          "base_uri": "https://localhost:8080/",
          "height": 34
        }
      },
      "source": [
        "new_accuracy = calculate_accuracy(new_model, testloader)\n",
        "print(new_accuracy)"
      ],
      "execution_count": 0,
      "outputs": [
        {
          "output_type": "stream",
          "text": [
            "89.2\n"
          ],
          "name": "stdout"
        }
      ]
    },
    {
      "cell_type": "code",
      "metadata": {
        "id": "VpXEaqsLhfAl",
        "colab_type": "code",
        "outputId": "6300da8d-77a9-4f5f-d8f4-b28deac5bf17",
        "colab": {
          "base_uri": "https://localhost:8080/",
          "height": 377
        }
      },
      "source": [
        "torch.save(new_model, 'my_distil_model2' + '.pt')"
      ],
      "execution_count": 0,
      "outputs": [
        {
          "output_type": "stream",
          "text": [
            "/usr/local/lib/python3.6/dist-packages/torch/serialization.py:292: UserWarning: Couldn't retrieve source code for container of type Sequential. It won't be checked for correctness upon loading.\n",
            "  \"type \" + obj.__name__ + \". It won't be checked \"\n",
            "/usr/local/lib/python3.6/dist-packages/torch/serialization.py:292: UserWarning: Couldn't retrieve source code for container of type ResNet. It won't be checked for correctness upon loading.\n",
            "  \"type \" + obj.__name__ + \". It won't be checked \"\n",
            "/usr/local/lib/python3.6/dist-packages/torch/serialization.py:292: UserWarning: Couldn't retrieve source code for container of type Conv2d. It won't be checked for correctness upon loading.\n",
            "  \"type \" + obj.__name__ + \". It won't be checked \"\n",
            "/usr/local/lib/python3.6/dist-packages/torch/serialization.py:292: UserWarning: Couldn't retrieve source code for container of type BatchNorm2d. It won't be checked for correctness upon loading.\n",
            "  \"type \" + obj.__name__ + \". It won't be checked \"\n",
            "/usr/local/lib/python3.6/dist-packages/torch/serialization.py:292: UserWarning: Couldn't retrieve source code for container of type ReLU. It won't be checked for correctness upon loading.\n",
            "  \"type \" + obj.__name__ + \". It won't be checked \"\n",
            "/usr/local/lib/python3.6/dist-packages/torch/serialization.py:292: UserWarning: Couldn't retrieve source code for container of type MaxPool2d. It won't be checked for correctness upon loading.\n",
            "  \"type \" + obj.__name__ + \". It won't be checked \"\n",
            "/usr/local/lib/python3.6/dist-packages/torch/serialization.py:292: UserWarning: Couldn't retrieve source code for container of type Bottleneck. It won't be checked for correctness upon loading.\n",
            "  \"type \" + obj.__name__ + \". It won't be checked \"\n",
            "/usr/local/lib/python3.6/dist-packages/torch/serialization.py:292: UserWarning: Couldn't retrieve source code for container of type AdaptiveAvgPool2d. It won't be checked for correctness upon loading.\n",
            "  \"type \" + obj.__name__ + \". It won't be checked \"\n",
            "/usr/local/lib/python3.6/dist-packages/torch/serialization.py:292: UserWarning: Couldn't retrieve source code for container of type Linear. It won't be checked for correctness upon loading.\n",
            "  \"type \" + obj.__name__ + \". It won't be checked \"\n",
            "/usr/local/lib/python3.6/dist-packages/torch/serialization.py:292: UserWarning: Couldn't retrieve source code for container of type mymodel. It won't be checked for correctness upon loading.\n",
            "  \"type \" + obj.__name__ + \". It won't be checked \"\n"
          ],
          "name": "stderr"
        }
      ]
    }
  ]
}