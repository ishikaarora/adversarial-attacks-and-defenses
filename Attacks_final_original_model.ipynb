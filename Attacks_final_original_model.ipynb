{
  "nbformat": 4,
  "nbformat_minor": 0,
  "metadata": {
    "colab": {
      "name": "Attacks_final_original_model.ipynb",
      "provenance": [],
      "collapsed_sections": [],
      "toc_visible": true,
      "machine_shape": "hm",
      "include_colab_link": true
    },
    "kernelspec": {
      "name": "python3",
      "display_name": "Python 3"
    }
  },
  "cells": [
    {
      "cell_type": "markdown",
      "metadata": {
        "id": "view-in-github",
        "colab_type": "text"
      },
      "source": [
        "<a href=\"https://colab.research.google.com/github/ishikaarora/pytorch-tutorials/blob/master/Attacks_final_original_model.ipynb\" target=\"_parent\"><img src=\"https://colab.research.google.com/assets/colab-badge.svg\" alt=\"Open In Colab\"/></a>"
      ]
    },
    {
      "cell_type": "code",
      "metadata": {
        "id": "5ZMglXJLtwAs",
        "colab_type": "code",
        "colab": {}
      },
      "source": [
        "from __future__ import print_function, division\n",
        "%matplotlib inline\n",
        "import torch\n",
        "import torch.nn as nn\n",
        "import torch.nn.functional as F\n",
        "import torch.optim as optim\n",
        "from torch.optim import lr_scheduler\n",
        "import numpy as np\n",
        "import pandas as pd\n",
        "import torchvision\n",
        "from torchvision import datasets, models, transforms\n",
        "from torch.utils.data import Dataset, DataLoader, TensorDataset\n",
        "from torch.autograd import Variable\n",
        "import matplotlib.pyplot as plt\n",
        "import time\n",
        "import os\n",
        "import copy\n",
        "from PIL import Image\n",
        "import random\n",
        "import pandas as pd\n",
        "import numpy as np\n",
        "from scipy import interp\n",
        "from sklearn.metrics import precision_recall_fscore_support\n",
        "from sklearn.metrics import roc_curve, auc\n",
        "from sklearn.preprocessing import LabelBinarizer\n",
        "plt.ion()   # interactive mode\n",
        "from google.colab import drive\n",
        "from torchvision.datasets import CIFAR10\n"
      ],
      "execution_count": 0,
      "outputs": []
    },
    {
      "cell_type": "markdown",
      "metadata": {
        "id": "VxYQOn8vt-PG",
        "colab_type": "text"
      },
      "source": [
        "##  Model classes"
      ]
    },
    {
      "cell_type": "code",
      "metadata": {
        "id": "Sojm2nLAt83v",
        "colab_type": "code",
        "colab": {}
      },
      "source": [
        "class mymodel(nn.Module):\n",
        "    \"\"\"Custom Model\"\"\"\n",
        "\n",
        "    def __init__(self, in_features, hidden_dim, n_classes):\n",
        "        \"\"\"Custom Model Builder.\"\"\"\n",
        "        super(mymodel, self).__init__()\n",
        "        \n",
        "        self.fc1 = nn.Linear(in_features, hidden_dim)\n",
        "        self.fc2 = nn.Linear(hidden_dim, hidden_dim//2)\n",
        "        self.fc3 = nn.Linear(hidden_dim//2, n_classes)\n",
        "   \n",
        "  \n",
        "    def forward(self, images):\n",
        "        \"\"\"Perform forward.\"\"\"\n",
        "        \n",
        "        images_vec = images.view(images.size(0), -1)\n",
        "        hidden_out = F.relu(self.fc1(images_vec))\n",
        "        hidden_out = F.relu(self.fc2(hidden_out))\n",
        "        scores = self.fc3(hidden_out)\n",
        "\n",
        "        return scores"
      ],
      "execution_count": 0,
      "outputs": []
    },
    {
      "cell_type": "markdown",
      "metadata": {
        "id": "gvYwvuMSFnNa",
        "colab_type": "text"
      },
      "source": [
        "## Atack functions"
      ]
    },
    {
      "cell_type": "code",
      "metadata": {
        "id": "qDK-KnX1dOE9",
        "colab_type": "code",
        "colab": {}
      },
      "source": [
        "# FGSM Gradient attack code\n",
        "def gradient_attack(image, epsilon, data_grad):\n",
        "    # Collect the element-wise sign of the data gradient\n",
        "    sign_data_grad = data_grad.sign()\n",
        "    # Create the perturbed image by adjusting each pixel of the input image\n",
        "    perturbed_image = image + epsilon*sign_data_grad\n",
        "    # Adding clipping to maintain [0,1] range\n",
        "    # perturbed_image = torch.clamp(perturbed_image, 0, 1)\n",
        "    # Return the perturbed image\n",
        "    return perturbed_image"
      ],
      "execution_count": 0,
      "outputs": []
    },
    {
      "cell_type": "markdown",
      "metadata": {
        "id": "N1HP7ofiGHhO",
        "colab_type": "text"
      },
      "source": [
        "### FGSM Attack"
      ]
    },
    {
      "cell_type": "code",
      "metadata": {
        "id": "gF3oxhEcGGi4",
        "colab_type": "code",
        "colab": {}
      },
      "source": [
        "# FGSM Attack\n",
        "def fgsm_attack(model, data, target, **kwargs):\n",
        "    loss_fn = kwargs.get('loss_fn', nn.CrossEntropyLoss())\n",
        "    epsilon = kwargs.get('epsilon', 0.1)\n",
        "    data.requires_grad = True\n",
        "    \n",
        "    output = model(data)\n",
        "    loss = loss_fn(output,target) \n",
        "    model.zero_grad()\n",
        "    loss.backward()\n",
        "    data_grad = data.grad.data\n",
        "    perturbed_data = gradient_attack(data, epsilon, data_grad)\n",
        "\n",
        "    return perturbed_data"
      ],
      "execution_count": 0,
      "outputs": []
    },
    {
      "cell_type": "markdown",
      "metadata": {
        "id": "JJIMyZUfomFF",
        "colab_type": "text"
      },
      "source": [
        "### Transferability Attack"
      ]
    },
    {
      "cell_type": "markdown",
      "metadata": {
        "id": "g2jLUDCJbGT3",
        "colab_type": "text"
      },
      "source": [
        "Load pretrained model on CIFAR-10"
      ]
    },
    {
      "cell_type": "code",
      "metadata": {
        "id": "tYoqWaujWlA5",
        "colab_type": "code",
        "colab": {}
      },
      "source": [
        "# Load the proxy model for Transfer attack\n",
        "proxy_model = torch.load(root_path + \"models/myproxymodel_resnet.pt\", map_location=torch.device(device))\n",
        "# proxy_model = torch.load(\"myproxymodel_resnet.pt\", map_location=torch.device(device))\n",
        "# We don't want to train the model, so tell PyTorch not to compute gradients\n",
        "# with respect to model parameters.\n",
        "for param in proxy_model.parameters():\n",
        "    param.requires_grad = False"
      ],
      "execution_count": 0,
      "outputs": []
    },
    {
      "cell_type": "code",
      "metadata": {
        "id": "uO4X5CsJLomp",
        "colab_type": "code",
        "outputId": "0299cf9a-00ed-4385-e340-e980e395a9cb",
        "colab": {
          "base_uri": "https://localhost:8080/",
          "height": 204
        }
      },
      "source": [
        "proxy_acc, data_size = calculate_accuracy(proxy_model, testloader)\n",
        "print(proxy_acc, data_size)"
      ],
      "execution_count": 0,
      "outputs": [
        {
          "output_type": "stream",
          "text": [
            "Current Accuracy: 792 / 1000 = 79.2\n",
            "Current Accuracy: 1585 / 2000 = 79.25\n",
            "Current Accuracy: 2380 / 3000 = 79.33333333333333\n",
            "Current Accuracy: 3158 / 4000 = 78.95\n",
            "Current Accuracy: 3970 / 5000 = 79.4\n",
            "Current Accuracy: 4767 / 6000 = 79.45\n",
            "Current Accuracy: 5541 / 7000 = 79.15714285714286\n",
            "Current Accuracy: 6355 / 8000 = 79.4375\n",
            "Current Accuracy: 7140 / 9000 = 79.33333333333333\n",
            "Current Accuracy: 7946 / 10000 = 79.46\n",
            "79.46 10000\n"
          ],
          "name": "stdout"
        }
      ]
    },
    {
      "cell_type": "code",
      "metadata": {
        "id": "4-iPSgZBqCM8",
        "colab_type": "code",
        "colab": {}
      },
      "source": [
        "def transfer_attack(proxy_model, data, target, **kwargs):\n",
        "    # Attack setup\n",
        "    loss_fn = kwargs.get('loss_fn', nn.CrossEntropyLoss())\n",
        "    epsilon = kwargs.get('epsilon', 0.1)\n",
        "    data.requires_grad = True\n",
        "    \n",
        "    proxy_output = proxy_model(data)\n",
        "    # Calculate the loss, forward pass\n",
        "    loss = loss_fn(proxy_output, target)\n",
        "    # Zero all existing gradients\n",
        "    proxy_model.zero_grad()\n",
        "    # Calculate gradients of model in backward pass\n",
        "    loss.backward()\n",
        "    # Collect datagrad\n",
        "    data_grad = data.grad.data\n",
        "    \n",
        "    # Call FGSM Attack\n",
        "    perturbed_data = gradient_attack(data, epsilon, data_grad)\n",
        "    \n",
        "    return perturbed_data"
      ],
      "execution_count": 0,
      "outputs": []
    },
    {
      "cell_type": "markdown",
      "metadata": {
        "id": "PasZa8ffEqyI",
        "colab_type": "text"
      },
      "source": [
        "### CW Attack"
      ]
    },
    {
      "cell_type": "code",
      "metadata": {
        "id": "DUQJrdA8iorE",
        "colab_type": "code",
        "colab": {}
      },
      "source": [
        "def cw_attack(model, images, labels, **kwargs):\n",
        "  cw_attack_model = torchattacks.CW(model)\n",
        "  adversarial_images = cw_attack_model(images, labels)\n",
        "  return adversarial_images"
      ],
      "execution_count": 0,
      "outputs": []
    },
    {
      "cell_type": "markdown",
      "metadata": {
        "id": "MCThDS6UuJLH",
        "colab_type": "text"
      },
      "source": [
        "## Util functions "
      ]
    },
    {
      "cell_type": "code",
      "metadata": {
        "id": "k1fNGp0uuHoO",
        "colab_type": "code",
        "colab": {}
      },
      "source": [
        "def class_report(y_true, y_pred, y_score=None, average='micro'):\n",
        "    print(type(y_pred),type(y_score),y_pred.shape,y_score.shape)\n",
        "    if y_true.shape != y_pred.shape:\n",
        "        print(\"Error! y_true %s is not the same shape as y_pred %s\" % (\n",
        "              y_true.shape,\n",
        "              y_pred.shape)\n",
        "        )\n",
        "        return\n",
        "\n",
        "    lb = LabelBinarizer()\n",
        "\n",
        "    if len(y_true.shape) == 1:\n",
        "        lb.fit(y_true)\n",
        "\n",
        "    #Value counts of predictions\n",
        "    labels, cnt = np.unique(\n",
        "        y_pred,\n",
        "        return_counts=True)\n",
        "    n_classes = len(labels)\n",
        "    pred_cnt = pd.Series(cnt, index=labels)\n",
        "\n",
        "    metrics_summary = precision_recall_fscore_support(\n",
        "            y_true=y_true,\n",
        "            y_pred=y_pred,\n",
        "            labels=labels)\n",
        "\n",
        "    avg = list(precision_recall_fscore_support(\n",
        "            y_true=y_true,\n",
        "            y_pred=y_pred,\n",
        "            average='weighted'))\n",
        "\n",
        "    metrics_sum_index = ['precision', 'recall', 'f1-score', 'support']\n",
        "    class_report_df = pd.DataFrame(\n",
        "        list(metrics_summary),\n",
        "        index=metrics_sum_index,\n",
        "        columns=labels)\n",
        "\n",
        "    support = class_report_df.loc['support']\n",
        "    total = support.sum()\n",
        "    class_report_df['avg / total'] = avg[:-1] + [total]\n",
        "\n",
        "    class_report_df = class_report_df.T\n",
        "    class_report_df['pred'] = pred_cnt\n",
        "    class_report_df['pred'].iloc[-1] = total\n",
        "\n",
        "    if not (y_score is None):\n",
        "        fpr = dict()\n",
        "        tpr = dict()\n",
        "        roc_auc = dict()\n",
        "        for label_it, label in enumerate(labels):\n",
        "            fpr[label], tpr[label], _ = roc_curve(\n",
        "                (y_true == label).astype(int),\n",
        "                y_score[:, label_it])\n",
        "\n",
        "            roc_auc[label] = auc(fpr[label], tpr[label])\n",
        "\n",
        "        if average == 'micro':\n",
        "            if n_classes <= 2:\n",
        "                fpr[\"avg / total\"], tpr[\"avg / total\"], _ = roc_curve(\n",
        "                    lb.transform(y_true).ravel(),\n",
        "                    y_score[:, 1].ravel())\n",
        "            else:\n",
        "                fpr[\"avg / total\"], tpr[\"avg / total\"], _ = roc_curve(\n",
        "                        lb.transform(y_true).ravel(),\n",
        "                        y_score.ravel())\n",
        "\n",
        "            roc_auc[\"avg / total\"] = auc(\n",
        "                fpr[\"avg / total\"],\n",
        "                tpr[\"avg / total\"])\n",
        "\n",
        "        elif average == 'macro':\n",
        "            # First aggregate all false positive rates\n",
        "            all_fpr = np.unique(np.concatenate([\n",
        "                fpr[i] for i in labels]\n",
        "            ))\n",
        "\n",
        "            # Then interpolate all ROC curves at this points\n",
        "            mean_tpr = np.zeros_like(all_fpr)\n",
        "            for i in labels:\n",
        "                mean_tpr += interp(all_fpr, fpr[i], tpr[i])\n",
        "\n",
        "            # Finally average it and compute AUC\n",
        "            mean_tpr /= n_classes\n",
        "\n",
        "            fpr[\"macro\"] = all_fpr\n",
        "            tpr[\"macro\"] = mean_tpr\n",
        "\n",
        "            roc_auc[\"avg / total\"] = auc(fpr[\"macro\"], tpr[\"macro\"])\n",
        "\n",
        "        class_report_df['AUC'] = pd.Series(roc_auc)\n",
        "\n",
        "    return class_report_df"
      ],
      "execution_count": 0,
      "outputs": []
    },
    {
      "cell_type": "code",
      "metadata": {
        "id": "4HLXwRr4H6N5",
        "colab_type": "code",
        "colab": {}
      },
      "source": [
        "# Only for FGSM and transfer attacks\n",
        "def create_adversarial(model, images, labels, attack_type=None, **kwargs):\n",
        "    if attack_type is not None:\n",
        "        if attack_type == \"fgsm\":\n",
        "            perturbed_images = fgsm_attack(model, images, labels, **kwargs)\n",
        "        elif attack_type == \"transfer\":\n",
        "            perturbed_images = transfer_attack(proxy_model, images, labels, **kwargs)\n",
        "        else:\n",
        "            perturbed_images = cw_attack(model, images, labels, **kwargs)\n",
        "    else:    \n",
        "      idx = random.uniform(0,1)\n",
        "\n",
        "      if idx < 0.5:\n",
        "          perturbed_images = fgsm_attack(model, images, labels, **kwargs)\n",
        "      else:\n",
        "          perturbed_images = transfer_attack(proxy_model, images, labels, **kwargs)\n",
        "\n",
        "    return perturbed_images"
      ],
      "execution_count": 0,
      "outputs": []
    },
    {
      "cell_type": "code",
      "metadata": {
        "id": "YzD8Je0ZuNA-",
        "colab_type": "code",
        "colab": {}
      },
      "source": [
        "def attack_accuracy(model, loader, attack_type=None, print_freq=1000, epsilon=0.1, run_attack=False):\n",
        "    model.eval()\n",
        "    total = 0\n",
        "    correct = 0\n",
        "    show_im = True\n",
        "    all_labels = []\n",
        "    all_preds = []\n",
        "    all_probs = []\n",
        "    #batch_count = 0 \n",
        "\n",
        "    for data in loader:\n",
        "        #batch_count+=1\n",
        "        images, labels = data\n",
        "        images = images.to(device)\n",
        "        labels = labels.to(device)\n",
        "        \n",
        "        if run_attack:\n",
        "          kwargs = {'loss_fn': nn.CrossEntropyLoss(), 'epsilon': epsilon}     \n",
        "          images = create_adversarial(model, images, labels, attack_type=attack_type, **kwargs)\n",
        "\n",
        "        with torch.no_grad():\n",
        "            outputs = model(images)\n",
        "            out_prob = F.softmax(outputs, dim=1)\n",
        "\n",
        "        _,predicted = torch.max(outputs.data,1)\n",
        "        total+=labels.size(0)\n",
        "        correct+=(predicted==labels).sum().item()\n",
        "\n",
        "        all_labels.append(labels.cpu().numpy())\n",
        "        all_preds.append(predicted.cpu().numpy())\n",
        "        all_probs.append(out_prob.cpu().numpy())\n",
        "\n",
        "        if total % print_freq == 0:\n",
        "            print(\"Current Accuracy: {} / {} = {}\".format(correct, total, correct/total*100))\n",
        "        #if batch_count>=test_num_batches:\n",
        "        #    break\n",
        "\n",
        "    \n",
        "    all_labels = np.concatenate(all_labels)\n",
        "    all_preds = np.concatenate(all_preds)\n",
        "    all_probs = np.concatenate(all_probs)\n",
        "    print(all_labels.shape,all_preds.shape,all_probs.shape)\n",
        "    report_with_auc = class_report(\n",
        "                            y_true = all_labels,\n",
        "                            y_pred = all_preds,\n",
        "                            y_score= all_probs)\n",
        "           \n",
        "    return (correct/total)*100, total, report_with_auc"
      ],
      "execution_count": 0,
      "outputs": []
    },
    {
      "cell_type": "markdown",
      "metadata": {
        "id": "d7jnXu84uO3O",
        "colab_type": "text"
      },
      "source": [
        "## Constants"
      ]
    },
    {
      "cell_type": "code",
      "metadata": {
        "id": "qnZ0Eu78uPbG",
        "colab_type": "code",
        "colab": {}
      },
      "source": [
        "device = torch.device('cuda' if torch.cuda.is_available() else 'cpu')\n",
        "root_path = 'gdrive/My Drive/Colab Notebooks/Adversarial/'"
      ],
      "execution_count": 0,
      "outputs": []
    },
    {
      "cell_type": "code",
      "metadata": {
        "id": "K5iCPduwuwIO",
        "colab_type": "code",
        "outputId": "d4329e3d-61d4-4c21-eef4-0ae56466cbe0",
        "colab": {
          "base_uri": "https://localhost:8080/",
          "height": 122
        }
      },
      "source": [
        "#mounting drive\n",
        "drive.mount('/content/gdrive')"
      ],
      "execution_count": 0,
      "outputs": [
        {
          "output_type": "stream",
          "text": [
            "Go to this URL in a browser: https://accounts.google.com/o/oauth2/auth?client_id=947318989803-6bn6qk8qdgf4n4g3pfee6491hc0brc4i.apps.googleusercontent.com&redirect_uri=urn%3aietf%3awg%3aoauth%3a2.0%3aoob&response_type=code&scope=email%20https%3a%2f%2fwww.googleapis.com%2fauth%2fdocs.test%20https%3a%2f%2fwww.googleapis.com%2fauth%2fdrive%20https%3a%2f%2fwww.googleapis.com%2fauth%2fdrive.photos.readonly%20https%3a%2f%2fwww.googleapis.com%2fauth%2fpeopleapi.readonly\n",
            "\n",
            "Enter your authorization code:\n",
            "··········\n",
            "Mounted at /content/gdrive\n"
          ],
          "name": "stdout"
        }
      ]
    },
    {
      "cell_type": "markdown",
      "metadata": {
        "id": "kgjf9BKWuRyn",
        "colab_type": "text"
      },
      "source": [
        "## Load pre trained model"
      ]
    },
    {
      "cell_type": "code",
      "metadata": {
        "id": "NkFYkEZZuRMW",
        "colab_type": "code",
        "colab": {}
      },
      "source": [
        "model = torch.load(root_path+\"models/mymodel.pt\", map_location=torch.device(device))\n",
        "for param in model.parameters():\n",
        "    param.requires_grad = False"
      ],
      "execution_count": 0,
      "outputs": []
    },
    {
      "cell_type": "markdown",
      "metadata": {
        "id": "6eDEDve5vxTq",
        "colab_type": "text"
      },
      "source": [
        "## Load pre trained defense model"
      ]
    },
    {
      "cell_type": "code",
      "metadata": {
        "id": "Ew8b0G6kvyAh",
        "colab_type": "code",
        "colab": {}
      },
      "source": [
        "# distil_model1 = torch.load(root_path+\"models/my_distil_model1.pt\", map_location=torch.device(device))\n",
        "# for param in distil_model1.parameters():\n",
        "#     param.requires_grad = False"
      ],
      "execution_count": 0,
      "outputs": []
    },
    {
      "cell_type": "markdown",
      "metadata": {
        "id": "gnhDoxxOwExY",
        "colab_type": "text"
      },
      "source": [
        "## Preparing test data sets"
      ]
    },
    {
      "cell_type": "markdown",
      "metadata": {
        "id": "Dwl6KjIowHk_",
        "colab_type": "text"
      },
      "source": [
        "### Load labels"
      ]
    },
    {
      "cell_type": "code",
      "metadata": {
        "id": "FyWfe2dNwJRw",
        "colab_type": "code",
        "colab": {}
      },
      "source": [
        "labels = torch.load(root_path+\"samples/all_labels.pt\", map_location=torch.device(device))"
      ],
      "execution_count": 0,
      "outputs": []
    },
    {
      "cell_type": "code",
      "metadata": {
        "id": "xl3rz7KzVWjq",
        "colab_type": "code",
        "colab": {}
      },
      "source": [
        "labels_1200 = labels[0:1200]\n",
        "labels_1200_3099 = labels[1200:3100]\n",
        "labels_3100_4999= labels[3100:5000]"
      ],
      "execution_count": 0,
      "outputs": []
    },
    {
      "cell_type": "markdown",
      "metadata": {
        "id": "ZYFIXOhPwaSe",
        "colab_type": "text"
      },
      "source": [
        "### Load FGSM"
      ]
    },
    {
      "cell_type": "code",
      "metadata": {
        "id": "MHRaJ8-qwGlv",
        "colab_type": "code",
        "colab": {}
      },
      "source": [
        "fgsm_images = torch.load(root_path+\"samples/fgsm_images_010_1200-3099.pt\", map_location=torch.device(device))\n",
        "fgsm_dataset = TensorDataset(fgsm_images, labels_1200_3099)\n",
        "fgsm_loader = DataLoader(fgsm_dataset, batch_size= 4, shuffle=False)"
      ],
      "execution_count": 0,
      "outputs": []
    },
    {
      "cell_type": "code",
      "metadata": {
        "id": "GD30N8sVH6px",
        "colab_type": "code",
        "colab": {}
      },
      "source": [
        "fgsm_images1 = torch.load(root_path+\"samples/fgsm_images_015_1200-3099.pt\", map_location=torch.device(device))\n",
        "fgsm_dataset1 = TensorDataset(fgsm_images1, labels_1200_3099)\n",
        "fgsm_loader1 = DataLoader(fgsm_dataset1, batch_size= 4, shuffle=False)"
      ],
      "execution_count": 0,
      "outputs": []
    },
    {
      "cell_type": "markdown",
      "metadata": {
        "id": "AG7-MwtP5jIf",
        "colab_type": "text"
      },
      "source": [
        "### Load Transfer Attack Samples"
      ]
    },
    {
      "cell_type": "code",
      "metadata": {
        "id": "wHQRtcma5nlP",
        "colab_type": "code",
        "colab": {}
      },
      "source": [
        "transfer_images = torch.load(root_path+\"samples/transfer_images_010_3100-4999.pt\", map_location=torch.device(device))\n",
        "transfer_dataset = TensorDataset(transfer_images, labels_3100_4999)\n",
        "transfer_loader = DataLoader(transfer_dataset, batch_size= 4, shuffle=False)"
      ],
      "execution_count": 0,
      "outputs": []
    },
    {
      "cell_type": "code",
      "metadata": {
        "id": "liOM6z1KHxjp",
        "colab_type": "code",
        "colab": {}
      },
      "source": [
        "transfer_images1 = torch.load(root_path+\"samples/transfer_images_015_3100-4999.pt\", map_location=torch.device(device))\n",
        "transfer_dataset1 = TensorDataset(transfer_images1, labels_3100_4999)\n",
        "transfer_loader1 = DataLoader(transfer_dataset1, batch_size= 4, shuffle=False)"
      ],
      "execution_count": 0,
      "outputs": []
    },
    {
      "cell_type": "markdown",
      "metadata": {
        "id": "X4FwWqAX-SZs",
        "colab_type": "text"
      },
      "source": [
        "### Load CW data"
      ]
    },
    {
      "cell_type": "code",
      "metadata": {
        "id": "ApaxyAzM-UpC",
        "colab_type": "code",
        "colab": {}
      },
      "source": [
        "cw_images = torch.load(root_path+\"samples/cw_images.pt\", map_location=torch.device(device))\n",
        "cw_labels = torch.load(root_path+\"samples/cw_labels.pt\", map_location=torch.device(device))\n",
        "cw_dataset = TensorDataset(cw_images, cw_labels)\n",
        "cw_loader = DataLoader(cw_dataset, batch_size= 4, shuffle=False)"
      ],
      "execution_count": 0,
      "outputs": []
    },
    {
      "cell_type": "markdown",
      "metadata": {
        "id": "6mMjU6flJTMo",
        "colab_type": "text"
      },
      "source": [
        "### Load Mixture Data set"
      ]
    },
    {
      "cell_type": "markdown",
      "metadata": {
        "id": "thGt-FAwHZFE",
        "colab_type": "text"
      },
      "source": [
        "Mixed with 1st 1200 CW, next 1900 FGSM, next 1900 Transfer (eps=0.10)\n"
      ]
    },
    {
      "cell_type": "code",
      "metadata": {
        "id": "sjEWUerVCXsj",
        "colab_type": "code",
        "colab": {}
      },
      "source": [
        "mixed_images = torch.cat([cw_images,fgsm_images,transfer_images],dim=0)\n",
        "# mixed_labels = torch.cat([labels_1200,labels_3100_4999,cw_labels],dim=0)\n",
        "mixed_labels = labels[0:5000]\n",
        "mixed_dataset = TensorDataset(mixed_images, mixed_labels)\n",
        "mixed_loader = DataLoader(mixed_dataset, batch_size= 4, shuffle=False)"
      ],
      "execution_count": 0,
      "outputs": []
    },
    {
      "cell_type": "code",
      "metadata": {
        "id": "WYEQnLZWFIBt",
        "colab_type": "code",
        "colab": {}
      },
      "source": [
        "mixed_images1 = torch.cat([cw_images,fgsm_images1,transfer_images1],dim=0)\n",
        "# mixed_labels = torch.cat([labels_1200,labels_3100_4999,cw_labels],dim=0)\n",
        "mixed_labels = labels[0:5000]\n",
        "mixed_dataset1 = TensorDataset(mixed_images1, mixed_labels)\n",
        "mixed_loader1 = DataLoader(mixed_dataset1, batch_size= 4, shuffle=False)"
      ],
      "execution_count": 0,
      "outputs": []
    },
    {
      "cell_type": "markdown",
      "metadata": {
        "id": "EgQ07Sap0nF-",
        "colab_type": "text"
      },
      "source": [
        "### Load normal samples"
      ]
    },
    {
      "cell_type": "code",
      "metadata": {
        "id": "ZN4wnxiE0pn-",
        "colab_type": "code",
        "outputId": "b6b48d42-ad55-4477-a1f6-da4f4d05f84c",
        "colab": {
          "base_uri": "https://localhost:8080/",
          "height": 88
        }
      },
      "source": [
        "cifar10_mean = [0.49139968 , 0.48215841 , 0.44653091]\n",
        "cifar10_std = [0.24703223,  0.24348513 , 0.26158784]\n",
        "\n",
        "#Define transformations for the test set\n",
        "transform_test = transforms.Compose([\n",
        "    transforms.Resize(224),\n",
        "    transforms.ToTensor(),\n",
        "    transforms.Normalize(cifar10_mean,cifar10_std)\n",
        "])\n",
        "\n",
        "testset = torchvision.datasets.CIFAR10(root = './data', train = False, download = True, transform=transform_test)\n",
        "\n",
        "testloader = torch.utils.data.DataLoader(testset, batch_size=4, shuffle=False, num_workers=2)"
      ],
      "execution_count": 0,
      "outputs": [
        {
          "output_type": "stream",
          "text": [
            "\r0it [00:00, ?it/s]"
          ],
          "name": "stderr"
        },
        {
          "output_type": "stream",
          "text": [
            "Downloading https://www.cs.toronto.edu/~kriz/cifar-10-python.tar.gz to ./data/cifar-10-python.tar.gz\n"
          ],
          "name": "stdout"
        },
        {
          "output_type": "stream",
          "text": [
            "170500096it [00:02, 69419178.56it/s]                               \n"
          ],
          "name": "stderr"
        },
        {
          "output_type": "stream",
          "text": [
            "Extracting ./data/cifar-10-python.tar.gz to ./data\n"
          ],
          "name": "stdout"
        }
      ]
    },
    {
      "cell_type": "markdown",
      "metadata": {
        "id": "WC8wHfWi0Xyn",
        "colab_type": "text"
      },
      "source": [
        "## Test : Original Model + Normal Samples + No Detector"
      ]
    },
    {
      "cell_type": "code",
      "metadata": {
        "colab_type": "code",
        "outputId": "f98c686c-a199-4e19-d030-406f5279555b",
        "id": "NTooGkKhPBhF",
        "colab": {
          "base_uri": "https://localhost:8080/",
          "height": 221
        }
      },
      "source": [
        "normal_sample_acc, normal_sample_data_size,normal_sample_report_with_auc = attack_accuracy(model, testloader, print_freq=1000)"
      ],
      "execution_count": 0,
      "outputs": [
        {
          "output_type": "stream",
          "text": [
            "\r170500096it [00:30, 17529495.74it/s]                               "
          ],
          "name": "stderr"
        },
        {
          "output_type": "stream",
          "text": [
            "Current Accuracy: 904 / 1000 = 90.4\n",
            "Current Accuracy: 1808 / 2000 = 90.4\n",
            "Current Accuracy: 2707 / 3000 = 90.23333333333333\n",
            "Current Accuracy: 3603 / 4000 = 90.075\n",
            "Current Accuracy: 4510 / 5000 = 90.2\n",
            "Current Accuracy: 5412 / 6000 = 90.2\n",
            "Current Accuracy: 6312 / 7000 = 90.17142857142856\n",
            "Current Accuracy: 7211 / 8000 = 90.1375\n",
            "Current Accuracy: 8126 / 9000 = 90.28888888888889\n",
            "Current Accuracy: 9036 / 10000 = 90.36\n",
            "(10000,) (10000,) (10000, 10)\n",
            "<class 'numpy.ndarray'> <class 'numpy.ndarray'> (10000,) (10000, 10)\n"
          ],
          "name": "stdout"
        }
      ]
    },
    {
      "cell_type": "markdown",
      "metadata": {
        "colab_type": "text",
        "id": "PgnTqVf1PBhR"
      },
      "source": [
        ""
      ]
    },
    {
      "cell_type": "code",
      "metadata": {
        "colab_type": "code",
        "outputId": "72b294fc-1bba-4fc9-f821-1f0494c7b33a",
        "id": "WbFuJZAHPBhS",
        "colab": {
          "base_uri": "https://localhost:8080/",
          "height": 390
        }
      },
      "source": [
        "normal_sample_report_with_auc"
      ],
      "execution_count": 0,
      "outputs": [
        {
          "output_type": "execute_result",
          "data": {
            "text/html": [
              "<div>\n",
              "<style scoped>\n",
              "    .dataframe tbody tr th:only-of-type {\n",
              "        vertical-align: middle;\n",
              "    }\n",
              "\n",
              "    .dataframe tbody tr th {\n",
              "        vertical-align: top;\n",
              "    }\n",
              "\n",
              "    .dataframe thead th {\n",
              "        text-align: right;\n",
              "    }\n",
              "</style>\n",
              "<table border=\"1\" class=\"dataframe\">\n",
              "  <thead>\n",
              "    <tr style=\"text-align: right;\">\n",
              "      <th></th>\n",
              "      <th>precision</th>\n",
              "      <th>recall</th>\n",
              "      <th>f1-score</th>\n",
              "      <th>support</th>\n",
              "      <th>pred</th>\n",
              "      <th>AUC</th>\n",
              "    </tr>\n",
              "  </thead>\n",
              "  <tbody>\n",
              "    <tr>\n",
              "      <th>0</th>\n",
              "      <td>0.911824</td>\n",
              "      <td>0.9100</td>\n",
              "      <td>0.910911</td>\n",
              "      <td>1000.0</td>\n",
              "      <td>998.0</td>\n",
              "      <td>0.996723</td>\n",
              "    </tr>\n",
              "    <tr>\n",
              "      <th>1</th>\n",
              "      <td>0.942214</td>\n",
              "      <td>0.9620</td>\n",
              "      <td>0.952004</td>\n",
              "      <td>1000.0</td>\n",
              "      <td>1021.0</td>\n",
              "      <td>0.998519</td>\n",
              "    </tr>\n",
              "    <tr>\n",
              "      <th>2</th>\n",
              "      <td>0.894737</td>\n",
              "      <td>0.8840</td>\n",
              "      <td>0.889336</td>\n",
              "      <td>1000.0</td>\n",
              "      <td>988.0</td>\n",
              "      <td>0.991217</td>\n",
              "    </tr>\n",
              "    <tr>\n",
              "      <th>3</th>\n",
              "      <td>0.828723</td>\n",
              "      <td>0.7790</td>\n",
              "      <td>0.803093</td>\n",
              "      <td>1000.0</td>\n",
              "      <td>940.0</td>\n",
              "      <td>0.985653</td>\n",
              "    </tr>\n",
              "    <tr>\n",
              "      <th>4</th>\n",
              "      <td>0.888554</td>\n",
              "      <td>0.8850</td>\n",
              "      <td>0.886774</td>\n",
              "      <td>1000.0</td>\n",
              "      <td>996.0</td>\n",
              "      <td>0.993307</td>\n",
              "    </tr>\n",
              "    <tr>\n",
              "      <th>5</th>\n",
              "      <td>0.849356</td>\n",
              "      <td>0.8570</td>\n",
              "      <td>0.853161</td>\n",
              "      <td>1000.0</td>\n",
              "      <td>1009.0</td>\n",
              "      <td>0.990342</td>\n",
              "    </tr>\n",
              "    <tr>\n",
              "      <th>6</th>\n",
              "      <td>0.919765</td>\n",
              "      <td>0.9400</td>\n",
              "      <td>0.929773</td>\n",
              "      <td>1000.0</td>\n",
              "      <td>1022.0</td>\n",
              "      <td>0.997743</td>\n",
              "    </tr>\n",
              "    <tr>\n",
              "      <th>7</th>\n",
              "      <td>0.918707</td>\n",
              "      <td>0.9380</td>\n",
              "      <td>0.928253</td>\n",
              "      <td>1000.0</td>\n",
              "      <td>1021.0</td>\n",
              "      <td>0.996154</td>\n",
              "    </tr>\n",
              "    <tr>\n",
              "      <th>8</th>\n",
              "      <td>0.935771</td>\n",
              "      <td>0.9470</td>\n",
              "      <td>0.941352</td>\n",
              "      <td>1000.0</td>\n",
              "      <td>1012.0</td>\n",
              "      <td>0.998377</td>\n",
              "    </tr>\n",
              "    <tr>\n",
              "      <th>9</th>\n",
              "      <td>0.940584</td>\n",
              "      <td>0.9340</td>\n",
              "      <td>0.937280</td>\n",
              "      <td>1000.0</td>\n",
              "      <td>993.0</td>\n",
              "      <td>0.997523</td>\n",
              "    </tr>\n",
              "    <tr>\n",
              "      <th>avg / total</th>\n",
              "      <td>0.903023</td>\n",
              "      <td>0.9036</td>\n",
              "      <td>0.903194</td>\n",
              "      <td>10000.0</td>\n",
              "      <td>10000.0</td>\n",
              "      <td>0.995272</td>\n",
              "    </tr>\n",
              "  </tbody>\n",
              "</table>\n",
              "</div>"
            ],
            "text/plain": [
              "             precision  recall  f1-score  support     pred       AUC\n",
              "0             0.911824  0.9100  0.910911   1000.0    998.0  0.996723\n",
              "1             0.942214  0.9620  0.952004   1000.0   1021.0  0.998519\n",
              "2             0.894737  0.8840  0.889336   1000.0    988.0  0.991217\n",
              "3             0.828723  0.7790  0.803093   1000.0    940.0  0.985653\n",
              "4             0.888554  0.8850  0.886774   1000.0    996.0  0.993307\n",
              "5             0.849356  0.8570  0.853161   1000.0   1009.0  0.990342\n",
              "6             0.919765  0.9400  0.929773   1000.0   1022.0  0.997743\n",
              "7             0.918707  0.9380  0.928253   1000.0   1021.0  0.996154\n",
              "8             0.935771  0.9470  0.941352   1000.0   1012.0  0.998377\n",
              "9             0.940584  0.9340  0.937280   1000.0    993.0  0.997523\n",
              "avg / total   0.903023  0.9036  0.903194  10000.0  10000.0  0.995272"
            ]
          },
          "metadata": {
            "tags": []
          },
          "execution_count": 14
        }
      ]
    },
    {
      "cell_type": "markdown",
      "metadata": {
        "id": "0aTaFfb__N2G",
        "colab_type": "text"
      },
      "source": [
        "## Test: Original Model + CW attack samples + No detector"
      ]
    },
    {
      "cell_type": "code",
      "metadata": {
        "id": "yHItAgX4_Nlt",
        "colab_type": "code",
        "outputId": "8362f107-7546-4a67-c3bf-d384c91ad1d5",
        "colab": {
          "base_uri": "https://localhost:8080/",
          "height": 272
        }
      },
      "source": [
        "cw_sample_acc, cw_sample_data_size,cw_sample_report_with_auc = attack_accuracy(model, cw_loader, print_freq=100)"
      ],
      "execution_count": 0,
      "outputs": [
        {
          "output_type": "stream",
          "text": [
            "Current Accuracy: 30 / 100 = 30.0\n",
            "Current Accuracy: 56 / 200 = 28.000000000000004\n",
            "Current Accuracy: 77 / 300 = 25.666666666666664\n",
            "Current Accuracy: 105 / 400 = 26.25\n",
            "Current Accuracy: 137 / 500 = 27.400000000000002\n",
            "Current Accuracy: 165 / 600 = 27.500000000000004\n",
            "Current Accuracy: 191 / 700 = 27.285714285714285\n",
            "Current Accuracy: 216 / 800 = 27.0\n",
            "Current Accuracy: 244 / 900 = 27.111111111111114\n",
            "Current Accuracy: 275 / 1000 = 27.500000000000004\n",
            "Current Accuracy: 305 / 1100 = 27.727272727272727\n",
            "Current Accuracy: 329 / 1200 = 27.416666666666668\n"
          ],
          "name": "stdout"
        },
        {
          "output_type": "stream",
          "text": [
            "/usr/local/lib/python3.6/dist-packages/sklearn/metrics/classification.py:1437: UndefinedMetricWarning: Precision and F-score are ill-defined and being set to 0.0 in labels with no predicted samples.\n",
            "  'precision', 'predicted', average, warn_for)\n"
          ],
          "name": "stderr"
        }
      ]
    },
    {
      "cell_type": "code",
      "metadata": {
        "id": "nR4nR4uEBbNC",
        "colab_type": "code",
        "outputId": "af3b72f0-d429-44b1-f843-a1f0f276d05e",
        "colab": {
          "base_uri": "https://localhost:8080/",
          "height": 314
        }
      },
      "source": [
        "cw_sample_report_with_auc"
      ],
      "execution_count": 0,
      "outputs": [
        {
          "output_type": "execute_result",
          "data": {
            "text/html": [
              "<div>\n",
              "<style scoped>\n",
              "    .dataframe tbody tr th:only-of-type {\n",
              "        vertical-align: middle;\n",
              "    }\n",
              "\n",
              "    .dataframe tbody tr th {\n",
              "        vertical-align: top;\n",
              "    }\n",
              "\n",
              "    .dataframe thead th {\n",
              "        text-align: right;\n",
              "    }\n",
              "</style>\n",
              "<table border=\"1\" class=\"dataframe\">\n",
              "  <thead>\n",
              "    <tr style=\"text-align: right;\">\n",
              "      <th></th>\n",
              "      <th>precision</th>\n",
              "      <th>recall</th>\n",
              "      <th>f1-score</th>\n",
              "      <th>support</th>\n",
              "      <th>pred</th>\n",
              "      <th>AUC</th>\n",
              "    </tr>\n",
              "  </thead>\n",
              "  <tbody>\n",
              "    <tr>\n",
              "      <th>0</th>\n",
              "      <td>0.266904</td>\n",
              "      <td>0.581395</td>\n",
              "      <td>0.365854</td>\n",
              "      <td>129.0</td>\n",
              "      <td>281.0</td>\n",
              "      <td>0.779225</td>\n",
              "    </tr>\n",
              "    <tr>\n",
              "      <th>2</th>\n",
              "      <td>0.181614</td>\n",
              "      <td>0.686441</td>\n",
              "      <td>0.287234</td>\n",
              "      <td>118.0</td>\n",
              "      <td>446.0</td>\n",
              "      <td>0.420008</td>\n",
              "    </tr>\n",
              "    <tr>\n",
              "      <th>3</th>\n",
              "      <td>0.294118</td>\n",
              "      <td>0.393701</td>\n",
              "      <td>0.336700</td>\n",
              "      <td>127.0</td>\n",
              "      <td>170.0</td>\n",
              "      <td>0.502653</td>\n",
              "    </tr>\n",
              "    <tr>\n",
              "      <th>4</th>\n",
              "      <td>0.247573</td>\n",
              "      <td>0.490385</td>\n",
              "      <td>0.329032</td>\n",
              "      <td>104.0</td>\n",
              "      <td>206.0</td>\n",
              "      <td>0.487024</td>\n",
              "    </tr>\n",
              "    <tr>\n",
              "      <th>5</th>\n",
              "      <td>0.714286</td>\n",
              "      <td>0.150000</td>\n",
              "      <td>0.247934</td>\n",
              "      <td>100.0</td>\n",
              "      <td>21.0</td>\n",
              "      <td>0.440482</td>\n",
              "    </tr>\n",
              "    <tr>\n",
              "      <th>6</th>\n",
              "      <td>0.666667</td>\n",
              "      <td>0.226950</td>\n",
              "      <td>0.338624</td>\n",
              "      <td>141.0</td>\n",
              "      <td>48.0</td>\n",
              "      <td>0.570631</td>\n",
              "    </tr>\n",
              "    <tr>\n",
              "      <th>7</th>\n",
              "      <td>0.923077</td>\n",
              "      <td>0.102564</td>\n",
              "      <td>0.184615</td>\n",
              "      <td>117.0</td>\n",
              "      <td>13.0</td>\n",
              "      <td>0.408907</td>\n",
              "    </tr>\n",
              "    <tr>\n",
              "      <th>8</th>\n",
              "      <td>0.866667</td>\n",
              "      <td>0.103175</td>\n",
              "      <td>0.184397</td>\n",
              "      <td>126.0</td>\n",
              "      <td>15.0</td>\n",
              "      <td>0.397683</td>\n",
              "    </tr>\n",
              "    <tr>\n",
              "      <th>avg / total</th>\n",
              "      <td>0.417992</td>\n",
              "      <td>0.274167</td>\n",
              "      <td>0.229535</td>\n",
              "      <td>962.0</td>\n",
              "      <td>962.0</td>\n",
              "      <td>0.677239</td>\n",
              "    </tr>\n",
              "  </tbody>\n",
              "</table>\n",
              "</div>"
            ],
            "text/plain": [
              "             precision    recall  f1-score  support   pred       AUC\n",
              "0             0.266904  0.581395  0.365854    129.0  281.0  0.779225\n",
              "2             0.181614  0.686441  0.287234    118.0  446.0  0.420008\n",
              "3             0.294118  0.393701  0.336700    127.0  170.0  0.502653\n",
              "4             0.247573  0.490385  0.329032    104.0  206.0  0.487024\n",
              "5             0.714286  0.150000  0.247934    100.0   21.0  0.440482\n",
              "6             0.666667  0.226950  0.338624    141.0   48.0  0.570631\n",
              "7             0.923077  0.102564  0.184615    117.0   13.0  0.408907\n",
              "8             0.866667  0.103175  0.184397    126.0   15.0  0.397683\n",
              "avg / total   0.417992  0.274167  0.229535    962.0  962.0  0.677239"
            ]
          },
          "metadata": {
            "tags": []
          },
          "execution_count": 80
        }
      ]
    },
    {
      "cell_type": "markdown",
      "metadata": {
        "id": "cDPSGTv8a1__",
        "colab_type": "text"
      },
      "source": [
        "## Attacks (Epsilon=0.10)"
      ]
    },
    {
      "cell_type": "markdown",
      "metadata": {
        "id": "vASFqSW6wh_X",
        "colab_type": "text"
      },
      "source": [
        "### Test : Original Model + FGSM + No Detector![alt text](https://)"
      ]
    },
    {
      "cell_type": "code",
      "metadata": {
        "id": "xCXRLLCbwjJ3",
        "colab_type": "code",
        "outputId": "2dbf8b0e-6baa-4a9d-923f-29254cfbdf07",
        "colab": {
          "base_uri": "https://localhost:8080/",
          "height": 221
        }
      },
      "source": [
        "fgsm_acc, data_size, fgsm_report_with_auc = attack_accuracy(model, testloader, attack_type=\"fgsm\", print_freq=1000, epsilon=0.10, run_attack=True)"
      ],
      "execution_count": 0,
      "outputs": [
        {
          "output_type": "stream",
          "text": [
            "Current Accuracy: 229 / 1000 = 22.900000000000002\n",
            "Current Accuracy: 471 / 2000 = 23.549999999999997\n",
            "Current Accuracy: 719 / 3000 = 23.966666666666665\n",
            "Current Accuracy: 963 / 4000 = 24.075\n",
            "Current Accuracy: 1211 / 5000 = 24.22\n",
            "Current Accuracy: 1447 / 6000 = 24.116666666666667\n",
            "Current Accuracy: 1699 / 7000 = 24.271428571428572\n",
            "Current Accuracy: 1955 / 8000 = 24.4375\n",
            "Current Accuracy: 2205 / 9000 = 24.5\n",
            "Current Accuracy: 2446 / 10000 = 24.46\n",
            "(10000,) (10000,) (10000, 10)\n",
            "<class 'numpy.ndarray'> <class 'numpy.ndarray'> (10000,) (10000, 10)\n"
          ],
          "name": "stdout"
        }
      ]
    },
    {
      "cell_type": "code",
      "metadata": {
        "id": "qNEsE0jkzqer",
        "colab_type": "code",
        "outputId": "93b1e56a-9c22-46cb-e42a-0805d6a6e4c5",
        "colab": {
          "base_uri": "https://localhost:8080/",
          "height": 390
        }
      },
      "source": [
        "fgsm_report_with_auc"
      ],
      "execution_count": 0,
      "outputs": [
        {
          "output_type": "execute_result",
          "data": {
            "text/html": [
              "<div>\n",
              "<style scoped>\n",
              "    .dataframe tbody tr th:only-of-type {\n",
              "        vertical-align: middle;\n",
              "    }\n",
              "\n",
              "    .dataframe tbody tr th {\n",
              "        vertical-align: top;\n",
              "    }\n",
              "\n",
              "    .dataframe thead th {\n",
              "        text-align: right;\n",
              "    }\n",
              "</style>\n",
              "<table border=\"1\" class=\"dataframe\">\n",
              "  <thead>\n",
              "    <tr style=\"text-align: right;\">\n",
              "      <th></th>\n",
              "      <th>precision</th>\n",
              "      <th>recall</th>\n",
              "      <th>f1-score</th>\n",
              "      <th>support</th>\n",
              "      <th>pred</th>\n",
              "      <th>AUC</th>\n",
              "    </tr>\n",
              "  </thead>\n",
              "  <tbody>\n",
              "    <tr>\n",
              "      <th>0</th>\n",
              "      <td>0.722343</td>\n",
              "      <td>0.3330</td>\n",
              "      <td>0.455852</td>\n",
              "      <td>1000.0</td>\n",
              "      <td>461.0</td>\n",
              "      <td>0.902943</td>\n",
              "    </tr>\n",
              "    <tr>\n",
              "      <th>1</th>\n",
              "      <td>0.790576</td>\n",
              "      <td>0.1510</td>\n",
              "      <td>0.253568</td>\n",
              "      <td>1000.0</td>\n",
              "      <td>191.0</td>\n",
              "      <td>0.877515</td>\n",
              "    </tr>\n",
              "    <tr>\n",
              "      <th>2</th>\n",
              "      <td>0.298165</td>\n",
              "      <td>0.4550</td>\n",
              "      <td>0.360253</td>\n",
              "      <td>1000.0</td>\n",
              "      <td>1526.0</td>\n",
              "      <td>0.790862</td>\n",
              "    </tr>\n",
              "    <tr>\n",
              "      <th>3</th>\n",
              "      <td>0.137340</td>\n",
              "      <td>0.9210</td>\n",
              "      <td>0.239035</td>\n",
              "      <td>1000.0</td>\n",
              "      <td>6706.0</td>\n",
              "      <td>0.794989</td>\n",
              "    </tr>\n",
              "    <tr>\n",
              "      <th>4</th>\n",
              "      <td>0.419003</td>\n",
              "      <td>0.2690</td>\n",
              "      <td>0.327649</td>\n",
              "      <td>1000.0</td>\n",
              "      <td>642.0</td>\n",
              "      <td>0.790920</td>\n",
              "    </tr>\n",
              "    <tr>\n",
              "      <th>5</th>\n",
              "      <td>0.530612</td>\n",
              "      <td>0.1560</td>\n",
              "      <td>0.241113</td>\n",
              "      <td>1000.0</td>\n",
              "      <td>294.0</td>\n",
              "      <td>0.782839</td>\n",
              "    </tr>\n",
              "    <tr>\n",
              "      <th>6</th>\n",
              "      <td>1.000000</td>\n",
              "      <td>0.0110</td>\n",
              "      <td>0.021761</td>\n",
              "      <td>1000.0</td>\n",
              "      <td>11.0</td>\n",
              "      <td>0.733616</td>\n",
              "    </tr>\n",
              "    <tr>\n",
              "      <th>7</th>\n",
              "      <td>1.000000</td>\n",
              "      <td>0.0020</td>\n",
              "      <td>0.003992</td>\n",
              "      <td>1000.0</td>\n",
              "      <td>2.0</td>\n",
              "      <td>0.713179</td>\n",
              "    </tr>\n",
              "    <tr>\n",
              "      <th>8</th>\n",
              "      <td>0.887324</td>\n",
              "      <td>0.1260</td>\n",
              "      <td>0.220665</td>\n",
              "      <td>1000.0</td>\n",
              "      <td>142.0</td>\n",
              "      <td>0.907200</td>\n",
              "    </tr>\n",
              "    <tr>\n",
              "      <th>9</th>\n",
              "      <td>0.880000</td>\n",
              "      <td>0.0220</td>\n",
              "      <td>0.042927</td>\n",
              "      <td>1000.0</td>\n",
              "      <td>25.0</td>\n",
              "      <td>0.792264</td>\n",
              "    </tr>\n",
              "    <tr>\n",
              "      <th>avg / total</th>\n",
              "      <td>0.666536</td>\n",
              "      <td>0.2446</td>\n",
              "      <td>0.216682</td>\n",
              "      <td>10000.0</td>\n",
              "      <td>10000.0</td>\n",
              "      <td>0.714251</td>\n",
              "    </tr>\n",
              "  </tbody>\n",
              "</table>\n",
              "</div>"
            ],
            "text/plain": [
              "             precision  recall  f1-score  support     pred       AUC\n",
              "0             0.722343  0.3330  0.455852   1000.0    461.0  0.902943\n",
              "1             0.790576  0.1510  0.253568   1000.0    191.0  0.877515\n",
              "2             0.298165  0.4550  0.360253   1000.0   1526.0  0.790862\n",
              "3             0.137340  0.9210  0.239035   1000.0   6706.0  0.794989\n",
              "4             0.419003  0.2690  0.327649   1000.0    642.0  0.790920\n",
              "5             0.530612  0.1560  0.241113   1000.0    294.0  0.782839\n",
              "6             1.000000  0.0110  0.021761   1000.0     11.0  0.733616\n",
              "7             1.000000  0.0020  0.003992   1000.0      2.0  0.713179\n",
              "8             0.887324  0.1260  0.220665   1000.0    142.0  0.907200\n",
              "9             0.880000  0.0220  0.042927   1000.0     25.0  0.792264\n",
              "avg / total   0.666536  0.2446  0.216682  10000.0  10000.0  0.714251"
            ]
          },
          "metadata": {
            "tags": []
          },
          "execution_count": 33
        }
      ]
    },
    {
      "cell_type": "markdown",
      "metadata": {
        "id": "poL8mR7Q7Q6M",
        "colab_type": "text"
      },
      "source": [
        "### Test: Original Model + Transfer Attack Samples + No Detector"
      ]
    },
    {
      "cell_type": "code",
      "metadata": {
        "id": "ypUfwc6v7QWd",
        "colab_type": "code",
        "outputId": "c6361ba3-08a7-4749-e58a-be38e57b4b8d",
        "colab": {
          "base_uri": "https://localhost:8080/",
          "height": 221
        }
      },
      "source": [
        "transfer_sample_acc, transfer_sample_data_size,transfer_sample_report_with_auc = attack_accuracy(model, testloader, attack_type=\"transfer\", \n",
        "                                                                                                 print_freq=1000, epsilon=0.10, run_attack=True)"
      ],
      "execution_count": 0,
      "outputs": [
        {
          "output_type": "stream",
          "text": [
            "Current Accuracy: 258 / 1000 = 25.8\n",
            "Current Accuracy: 558 / 2000 = 27.900000000000002\n",
            "Current Accuracy: 847 / 3000 = 28.233333333333334\n",
            "Current Accuracy: 1122 / 4000 = 28.050000000000004\n",
            "Current Accuracy: 1423 / 5000 = 28.46\n",
            "Current Accuracy: 1690 / 6000 = 28.166666666666668\n",
            "Current Accuracy: 1993 / 7000 = 28.471428571428568\n",
            "Current Accuracy: 2288 / 8000 = 28.599999999999998\n",
            "Current Accuracy: 2578 / 9000 = 28.644444444444446\n",
            "Current Accuracy: 2866 / 10000 = 28.660000000000004\n",
            "(10000,) (10000,) (10000, 10)\n",
            "<class 'numpy.ndarray'> <class 'numpy.ndarray'> (10000,) (10000, 10)\n"
          ],
          "name": "stdout"
        }
      ]
    },
    {
      "cell_type": "code",
      "metadata": {
        "id": "RyrSukCx9n9Z",
        "colab_type": "code",
        "outputId": "a2ec29f2-b99e-4fec-add6-f045c4ee1fec",
        "colab": {
          "base_uri": "https://localhost:8080/",
          "height": 390
        }
      },
      "source": [
        "transfer_sample_report_with_auc"
      ],
      "execution_count": 0,
      "outputs": [
        {
          "output_type": "execute_result",
          "data": {
            "text/html": [
              "<div>\n",
              "<style scoped>\n",
              "    .dataframe tbody tr th:only-of-type {\n",
              "        vertical-align: middle;\n",
              "    }\n",
              "\n",
              "    .dataframe tbody tr th {\n",
              "        vertical-align: top;\n",
              "    }\n",
              "\n",
              "    .dataframe thead th {\n",
              "        text-align: right;\n",
              "    }\n",
              "</style>\n",
              "<table border=\"1\" class=\"dataframe\">\n",
              "  <thead>\n",
              "    <tr style=\"text-align: right;\">\n",
              "      <th></th>\n",
              "      <th>precision</th>\n",
              "      <th>recall</th>\n",
              "      <th>f1-score</th>\n",
              "      <th>support</th>\n",
              "      <th>pred</th>\n",
              "      <th>AUC</th>\n",
              "    </tr>\n",
              "  </thead>\n",
              "  <tbody>\n",
              "    <tr>\n",
              "      <th>0</th>\n",
              "      <td>0.728333</td>\n",
              "      <td>0.4370</td>\n",
              "      <td>0.546250</td>\n",
              "      <td>1000.0</td>\n",
              "      <td>600.0</td>\n",
              "      <td>0.917041</td>\n",
              "    </tr>\n",
              "    <tr>\n",
              "      <th>1</th>\n",
              "      <td>0.840000</td>\n",
              "      <td>0.2940</td>\n",
              "      <td>0.435556</td>\n",
              "      <td>1000.0</td>\n",
              "      <td>350.0</td>\n",
              "      <td>0.915872</td>\n",
              "    </tr>\n",
              "    <tr>\n",
              "      <th>2</th>\n",
              "      <td>0.394664</td>\n",
              "      <td>0.4290</td>\n",
              "      <td>0.411116</td>\n",
              "      <td>1000.0</td>\n",
              "      <td>1087.0</td>\n",
              "      <td>0.819131</td>\n",
              "    </tr>\n",
              "    <tr>\n",
              "      <th>3</th>\n",
              "      <td>0.142985</td>\n",
              "      <td>0.9570</td>\n",
              "      <td>0.248798</td>\n",
              "      <td>1000.0</td>\n",
              "      <td>6693.0</td>\n",
              "      <td>0.833112</td>\n",
              "    </tr>\n",
              "    <tr>\n",
              "      <th>4</th>\n",
              "      <td>0.415631</td>\n",
              "      <td>0.2340</td>\n",
              "      <td>0.299424</td>\n",
              "      <td>1000.0</td>\n",
              "      <td>563.0</td>\n",
              "      <td>0.802960</td>\n",
              "    </tr>\n",
              "    <tr>\n",
              "      <th>5</th>\n",
              "      <td>0.591146</td>\n",
              "      <td>0.2270</td>\n",
              "      <td>0.328035</td>\n",
              "      <td>1000.0</td>\n",
              "      <td>384.0</td>\n",
              "      <td>0.811284</td>\n",
              "    </tr>\n",
              "    <tr>\n",
              "      <th>6</th>\n",
              "      <td>0.833333</td>\n",
              "      <td>0.0100</td>\n",
              "      <td>0.019763</td>\n",
              "      <td>1000.0</td>\n",
              "      <td>12.0</td>\n",
              "      <td>0.753947</td>\n",
              "    </tr>\n",
              "    <tr>\n",
              "      <th>7</th>\n",
              "      <td>1.000000</td>\n",
              "      <td>0.0040</td>\n",
              "      <td>0.007968</td>\n",
              "      <td>1000.0</td>\n",
              "      <td>4.0</td>\n",
              "      <td>0.751940</td>\n",
              "    </tr>\n",
              "    <tr>\n",
              "      <th>8</th>\n",
              "      <td>0.888446</td>\n",
              "      <td>0.2230</td>\n",
              "      <td>0.356515</td>\n",
              "      <td>1000.0</td>\n",
              "      <td>251.0</td>\n",
              "      <td>0.921131</td>\n",
              "    </tr>\n",
              "    <tr>\n",
              "      <th>9</th>\n",
              "      <td>0.910714</td>\n",
              "      <td>0.0510</td>\n",
              "      <td>0.096591</td>\n",
              "      <td>1000.0</td>\n",
              "      <td>56.0</td>\n",
              "      <td>0.820363</td>\n",
              "    </tr>\n",
              "    <tr>\n",
              "      <th>avg / total</th>\n",
              "      <td>0.674525</td>\n",
              "      <td>0.2866</td>\n",
              "      <td>0.275002</td>\n",
              "      <td>10000.0</td>\n",
              "      <td>10000.0</td>\n",
              "      <td>0.755628</td>\n",
              "    </tr>\n",
              "  </tbody>\n",
              "</table>\n",
              "</div>"
            ],
            "text/plain": [
              "             precision  recall  f1-score  support     pred       AUC\n",
              "0             0.728333  0.4370  0.546250   1000.0    600.0  0.917041\n",
              "1             0.840000  0.2940  0.435556   1000.0    350.0  0.915872\n",
              "2             0.394664  0.4290  0.411116   1000.0   1087.0  0.819131\n",
              "3             0.142985  0.9570  0.248798   1000.0   6693.0  0.833112\n",
              "4             0.415631  0.2340  0.299424   1000.0    563.0  0.802960\n",
              "5             0.591146  0.2270  0.328035   1000.0    384.0  0.811284\n",
              "6             0.833333  0.0100  0.019763   1000.0     12.0  0.753947\n",
              "7             1.000000  0.0040  0.007968   1000.0      4.0  0.751940\n",
              "8             0.888446  0.2230  0.356515   1000.0    251.0  0.921131\n",
              "9             0.910714  0.0510  0.096591   1000.0     56.0  0.820363\n",
              "avg / total   0.674525  0.2866  0.275002  10000.0  10000.0  0.755628"
            ]
          },
          "metadata": {
            "tags": []
          },
          "execution_count": 39
        }
      ]
    },
    {
      "cell_type": "markdown",
      "metadata": {
        "id": "_EA-SOfTEXi7",
        "colab_type": "text"
      },
      "source": [
        "### Test: Normal Model + FGSM+Transfer Attack + No detector"
      ]
    },
    {
      "cell_type": "code",
      "metadata": {
        "id": "1HsjJ_J6EXFz",
        "colab_type": "code",
        "outputId": "d56886fb-da9b-4dbe-c0e7-8714427fcb1e",
        "colab": {
          "base_uri": "https://localhost:8080/",
          "height": 221
        }
      },
      "source": [
        "fgsm_transfer_sample_acc, fgsm_transfer_sample_data_size,fgsm_transfer_sample_report_with_auc = attack_accuracy(model, testloader, \n",
        "                                                                                                 print_freq=1000, epsilon=0.10, run_attack=True)"
      ],
      "execution_count": 0,
      "outputs": [
        {
          "output_type": "stream",
          "text": [
            "Current Accuracy: 253 / 1000 = 25.3\n",
            "Current Accuracy: 521 / 2000 = 26.05\n",
            "Current Accuracy: 790 / 3000 = 26.333333333333332\n",
            "Current Accuracy: 1048 / 4000 = 26.200000000000003\n",
            "Current Accuracy: 1316 / 5000 = 26.32\n",
            "Current Accuracy: 1574 / 6000 = 26.23333333333333\n",
            "Current Accuracy: 1853 / 7000 = 26.471428571428575\n",
            "Current Accuracy: 2134 / 8000 = 26.674999999999997\n",
            "Current Accuracy: 2409 / 9000 = 26.766666666666666\n",
            "Current Accuracy: 2672 / 10000 = 26.72\n",
            "(10000,) (10000,) (10000, 10)\n",
            "<class 'numpy.ndarray'> <class 'numpy.ndarray'> (10000,) (10000, 10)\n"
          ],
          "name": "stdout"
        }
      ]
    },
    {
      "cell_type": "code",
      "metadata": {
        "id": "Wljhu8HYI4y7",
        "colab_type": "code",
        "outputId": "0b5635f2-245b-40a8-b9d9-7197ad24fb4b",
        "colab": {
          "base_uri": "https://localhost:8080/",
          "height": 390
        }
      },
      "source": [
        "fgsm_transfer_sample_report_with_auc"
      ],
      "execution_count": 0,
      "outputs": [
        {
          "output_type": "execute_result",
          "data": {
            "text/html": [
              "<div>\n",
              "<style scoped>\n",
              "    .dataframe tbody tr th:only-of-type {\n",
              "        vertical-align: middle;\n",
              "    }\n",
              "\n",
              "    .dataframe tbody tr th {\n",
              "        vertical-align: top;\n",
              "    }\n",
              "\n",
              "    .dataframe thead th {\n",
              "        text-align: right;\n",
              "    }\n",
              "</style>\n",
              "<table border=\"1\" class=\"dataframe\">\n",
              "  <thead>\n",
              "    <tr style=\"text-align: right;\">\n",
              "      <th></th>\n",
              "      <th>precision</th>\n",
              "      <th>recall</th>\n",
              "      <th>f1-score</th>\n",
              "      <th>support</th>\n",
              "      <th>pred</th>\n",
              "      <th>AUC</th>\n",
              "    </tr>\n",
              "  </thead>\n",
              "  <tbody>\n",
              "    <tr>\n",
              "      <th>0</th>\n",
              "      <td>0.717996</td>\n",
              "      <td>0.3870</td>\n",
              "      <td>0.502924</td>\n",
              "      <td>1000.0</td>\n",
              "      <td>539.0</td>\n",
              "      <td>0.910097</td>\n",
              "    </tr>\n",
              "    <tr>\n",
              "      <th>1</th>\n",
              "      <td>0.821429</td>\n",
              "      <td>0.2300</td>\n",
              "      <td>0.359375</td>\n",
              "      <td>1000.0</td>\n",
              "      <td>280.0</td>\n",
              "      <td>0.895854</td>\n",
              "    </tr>\n",
              "    <tr>\n",
              "      <th>2</th>\n",
              "      <td>0.346426</td>\n",
              "      <td>0.4410</td>\n",
              "      <td>0.388033</td>\n",
              "      <td>1000.0</td>\n",
              "      <td>1273.0</td>\n",
              "      <td>0.802034</td>\n",
              "    </tr>\n",
              "    <tr>\n",
              "      <th>3</th>\n",
              "      <td>0.140301</td>\n",
              "      <td>0.9410</td>\n",
              "      <td>0.244194</td>\n",
              "      <td>1000.0</td>\n",
              "      <td>6707.0</td>\n",
              "      <td>0.816342</td>\n",
              "    </tr>\n",
              "    <tr>\n",
              "      <th>4</th>\n",
              "      <td>0.414594</td>\n",
              "      <td>0.2500</td>\n",
              "      <td>0.311915</td>\n",
              "      <td>1000.0</td>\n",
              "      <td>603.0</td>\n",
              "      <td>0.795543</td>\n",
              "    </tr>\n",
              "    <tr>\n",
              "      <th>5</th>\n",
              "      <td>0.569322</td>\n",
              "      <td>0.1930</td>\n",
              "      <td>0.288275</td>\n",
              "      <td>1000.0</td>\n",
              "      <td>339.0</td>\n",
              "      <td>0.797766</td>\n",
              "    </tr>\n",
              "    <tr>\n",
              "      <th>6</th>\n",
              "      <td>0.916667</td>\n",
              "      <td>0.0110</td>\n",
              "      <td>0.021739</td>\n",
              "      <td>1000.0</td>\n",
              "      <td>12.0</td>\n",
              "      <td>0.739059</td>\n",
              "    </tr>\n",
              "    <tr>\n",
              "      <th>7</th>\n",
              "      <td>1.000000</td>\n",
              "      <td>0.0030</td>\n",
              "      <td>0.005982</td>\n",
              "      <td>1000.0</td>\n",
              "      <td>3.0</td>\n",
              "      <td>0.732764</td>\n",
              "    </tr>\n",
              "    <tr>\n",
              "      <th>8</th>\n",
              "      <td>0.883249</td>\n",
              "      <td>0.1740</td>\n",
              "      <td>0.290727</td>\n",
              "      <td>1000.0</td>\n",
              "      <td>197.0</td>\n",
              "      <td>0.913795</td>\n",
              "    </tr>\n",
              "    <tr>\n",
              "      <th>9</th>\n",
              "      <td>0.893617</td>\n",
              "      <td>0.0420</td>\n",
              "      <td>0.080229</td>\n",
              "      <td>1000.0</td>\n",
              "      <td>47.0</td>\n",
              "      <td>0.806525</td>\n",
              "    </tr>\n",
              "    <tr>\n",
              "      <th>avg / total</th>\n",
              "      <td>0.670360</td>\n",
              "      <td>0.2672</td>\n",
              "      <td>0.249339</td>\n",
              "      <td>10000.0</td>\n",
              "      <td>10000.0</td>\n",
              "      <td>0.735553</td>\n",
              "    </tr>\n",
              "  </tbody>\n",
              "</table>\n",
              "</div>"
            ],
            "text/plain": [
              "             precision  recall  f1-score  support     pred       AUC\n",
              "0             0.717996  0.3870  0.502924   1000.0    539.0  0.910097\n",
              "1             0.821429  0.2300  0.359375   1000.0    280.0  0.895854\n",
              "2             0.346426  0.4410  0.388033   1000.0   1273.0  0.802034\n",
              "3             0.140301  0.9410  0.244194   1000.0   6707.0  0.816342\n",
              "4             0.414594  0.2500  0.311915   1000.0    603.0  0.795543\n",
              "5             0.569322  0.1930  0.288275   1000.0    339.0  0.797766\n",
              "6             0.916667  0.0110  0.021739   1000.0     12.0  0.739059\n",
              "7             1.000000  0.0030  0.005982   1000.0      3.0  0.732764\n",
              "8             0.883249  0.1740  0.290727   1000.0    197.0  0.913795\n",
              "9             0.893617  0.0420  0.080229   1000.0     47.0  0.806525\n",
              "avg / total   0.670360  0.2672  0.249339  10000.0  10000.0  0.735553"
            ]
          },
          "metadata": {
            "tags": []
          },
          "execution_count": 35
        }
      ]
    },
    {
      "cell_type": "markdown",
      "metadata": {
        "id": "NuXYwCwgKebj",
        "colab_type": "text"
      },
      "source": [
        "### Test: Original Model + Mixed attack samples + No detector"
      ]
    },
    {
      "cell_type": "code",
      "metadata": {
        "id": "ydjT1wUbCq2_",
        "colab_type": "code",
        "outputId": "c030919b-e748-43b1-dd02-fbd31aa318d6",
        "colab": {
          "base_uri": "https://localhost:8080/",
          "height": 136
        }
      },
      "source": [
        "mixed_sample_acc, mixed_sample_data_size,mixed_sample_report_with_auc = attack_accuracy(model, mixed_loader, print_freq=1000)"
      ],
      "execution_count": 0,
      "outputs": [
        {
          "output_type": "stream",
          "text": [
            "Current Accuracy: 275 / 1000 = 27.500000000000004\n",
            "Current Accuracy: 402 / 2000 = 20.1\n",
            "Current Accuracy: 505 / 3000 = 16.833333333333332\n",
            "Current Accuracy: 592 / 4000 = 14.799999999999999\n",
            "Current Accuracy: 690 / 5000 = 13.8\n",
            "(5000,) (5000,) (5000, 10)\n",
            "<class 'numpy.ndarray'> <class 'numpy.ndarray'> (5000,) (5000, 10)\n"
          ],
          "name": "stdout"
        }
      ]
    },
    {
      "cell_type": "code",
      "metadata": {
        "id": "x5sr6sFeCuhE",
        "colab_type": "code",
        "outputId": "bc64261e-b7ac-458a-896a-555be8495fb6",
        "colab": {
          "base_uri": "https://localhost:8080/",
          "height": 390
        }
      },
      "source": [
        "mixed_sample_report_with_auc"
      ],
      "execution_count": 0,
      "outputs": [
        {
          "output_type": "execute_result",
          "data": {
            "text/html": [
              "<div>\n",
              "<style scoped>\n",
              "    .dataframe tbody tr th:only-of-type {\n",
              "        vertical-align: middle;\n",
              "    }\n",
              "\n",
              "    .dataframe tbody tr th {\n",
              "        vertical-align: top;\n",
              "    }\n",
              "\n",
              "    .dataframe thead th {\n",
              "        text-align: right;\n",
              "    }\n",
              "</style>\n",
              "<table border=\"1\" class=\"dataframe\">\n",
              "  <thead>\n",
              "    <tr style=\"text-align: right;\">\n",
              "      <th></th>\n",
              "      <th>precision</th>\n",
              "      <th>recall</th>\n",
              "      <th>f1-score</th>\n",
              "      <th>support</th>\n",
              "      <th>pred</th>\n",
              "      <th>AUC</th>\n",
              "    </tr>\n",
              "  </thead>\n",
              "  <tbody>\n",
              "    <tr>\n",
              "      <th>0</th>\n",
              "      <td>0.186047</td>\n",
              "      <td>0.180328</td>\n",
              "      <td>0.183143</td>\n",
              "      <td>488.0</td>\n",
              "      <td>473.0</td>\n",
              "      <td>0.562757</td>\n",
              "    </tr>\n",
              "    <tr>\n",
              "      <th>1</th>\n",
              "      <td>0.133929</td>\n",
              "      <td>0.029703</td>\n",
              "      <td>0.048622</td>\n",
              "      <td>505.0</td>\n",
              "      <td>112.0</td>\n",
              "      <td>0.527517</td>\n",
              "    </tr>\n",
              "    <tr>\n",
              "      <th>2</th>\n",
              "      <td>0.135983</td>\n",
              "      <td>0.253906</td>\n",
              "      <td>0.177112</td>\n",
              "      <td>512.0</td>\n",
              "      <td>956.0</td>\n",
              "      <td>0.568024</td>\n",
              "    </tr>\n",
              "    <tr>\n",
              "      <th>3</th>\n",
              "      <td>0.106771</td>\n",
              "      <td>0.577465</td>\n",
              "      <td>0.180220</td>\n",
              "      <td>497.0</td>\n",
              "      <td>2688.0</td>\n",
              "      <td>0.540488</td>\n",
              "    </tr>\n",
              "    <tr>\n",
              "      <th>4</th>\n",
              "      <td>0.181208</td>\n",
              "      <td>0.159763</td>\n",
              "      <td>0.169811</td>\n",
              "      <td>507.0</td>\n",
              "      <td>447.0</td>\n",
              "      <td>0.568457</td>\n",
              "    </tr>\n",
              "    <tr>\n",
              "      <th>5</th>\n",
              "      <td>0.173333</td>\n",
              "      <td>0.053279</td>\n",
              "      <td>0.081505</td>\n",
              "      <td>488.0</td>\n",
              "      <td>150.0</td>\n",
              "      <td>0.573587</td>\n",
              "    </tr>\n",
              "    <tr>\n",
              "      <th>6</th>\n",
              "      <td>0.581818</td>\n",
              "      <td>0.065173</td>\n",
              "      <td>0.117216</td>\n",
              "      <td>491.0</td>\n",
              "      <td>55.0</td>\n",
              "      <td>0.608767</td>\n",
              "    </tr>\n",
              "    <tr>\n",
              "      <th>7</th>\n",
              "      <td>0.923077</td>\n",
              "      <td>0.024242</td>\n",
              "      <td>0.047244</td>\n",
              "      <td>495.0</td>\n",
              "      <td>13.0</td>\n",
              "      <td>0.590013</td>\n",
              "    </tr>\n",
              "    <tr>\n",
              "      <th>8</th>\n",
              "      <td>0.206522</td>\n",
              "      <td>0.037698</td>\n",
              "      <td>0.063758</td>\n",
              "      <td>504.0</td>\n",
              "      <td>92.0</td>\n",
              "      <td>0.577197</td>\n",
              "    </tr>\n",
              "    <tr>\n",
              "      <th>9</th>\n",
              "      <td>0.000000</td>\n",
              "      <td>0.000000</td>\n",
              "      <td>0.000000</td>\n",
              "      <td>513.0</td>\n",
              "      <td>14.0</td>\n",
              "      <td>0.540157</td>\n",
              "    </tr>\n",
              "    <tr>\n",
              "      <th>avg / total</th>\n",
              "      <td>0.260851</td>\n",
              "      <td>0.138000</td>\n",
              "      <td>0.106624</td>\n",
              "      <td>5000.0</td>\n",
              "      <td>5000.0</td>\n",
              "      <td>0.551685</td>\n",
              "    </tr>\n",
              "  </tbody>\n",
              "</table>\n",
              "</div>"
            ],
            "text/plain": [
              "             precision    recall  f1-score  support    pred       AUC\n",
              "0             0.186047  0.180328  0.183143    488.0   473.0  0.562757\n",
              "1             0.133929  0.029703  0.048622    505.0   112.0  0.527517\n",
              "2             0.135983  0.253906  0.177112    512.0   956.0  0.568024\n",
              "3             0.106771  0.577465  0.180220    497.0  2688.0  0.540488\n",
              "4             0.181208  0.159763  0.169811    507.0   447.0  0.568457\n",
              "5             0.173333  0.053279  0.081505    488.0   150.0  0.573587\n",
              "6             0.581818  0.065173  0.117216    491.0    55.0  0.608767\n",
              "7             0.923077  0.024242  0.047244    495.0    13.0  0.590013\n",
              "8             0.206522  0.037698  0.063758    504.0    92.0  0.577197\n",
              "9             0.000000  0.000000  0.000000    513.0    14.0  0.540157\n",
              "avg / total   0.260851  0.138000  0.106624   5000.0  5000.0  0.551685"
            ]
          },
          "metadata": {
            "tags": []
          },
          "execution_count": 22
        }
      ]
    },
    {
      "cell_type": "code",
      "metadata": {
        "id": "j4sPtw-NKmOw",
        "colab_type": "code",
        "outputId": "215af7fc-b288-482f-8de1-f7faaa085143",
        "colab": {
          "base_uri": "https://localhost:8080/",
          "height": 739
        }
      },
      "source": [
        "mixed_sample_acc, mixed_sample_data_size,mixed_sample_report_with_auc = attack_accuracy(model, mixed_loader, print_freq=100)"
      ],
      "execution_count": 0,
      "outputs": [
        {
          "output_type": "stream",
          "text": [
            "Current Accuracy: 22 / 100 = 22.0\n",
            "Current Accuracy: 45 / 200 = 22.5\n",
            "Current Accuracy: 73 / 300 = 24.333333333333336\n",
            "Current Accuracy: 93 / 400 = 23.25\n",
            "Current Accuracy: 116 / 500 = 23.200000000000003\n",
            "Current Accuracy: 133 / 600 = 22.166666666666668\n",
            "Current Accuracy: 154 / 700 = 22.0\n",
            "Current Accuracy: 175 / 800 = 21.875\n",
            "Current Accuracy: 204 / 900 = 22.666666666666664\n",
            "Current Accuracy: 228 / 1000 = 22.8\n",
            "Current Accuracy: 257 / 1100 = 23.363636363636363\n",
            "Current Accuracy: 281 / 1200 = 23.416666666666668\n",
            "Current Accuracy: 288 / 1300 = 22.153846153846153\n",
            "Current Accuracy: 301 / 1400 = 21.5\n",
            "Current Accuracy: 308 / 1500 = 20.533333333333335\n",
            "Current Accuracy: 314 / 1600 = 19.625\n",
            "Current Accuracy: 321 / 1700 = 18.88235294117647\n",
            "Current Accuracy: 331 / 1800 = 18.38888888888889\n",
            "Current Accuracy: 341 / 1900 = 17.94736842105263\n",
            "Current Accuracy: 350 / 2000 = 17.5\n",
            "Current Accuracy: 360 / 2100 = 17.142857142857142\n",
            "Current Accuracy: 369 / 2200 = 16.772727272727273\n",
            "Current Accuracy: 377 / 2300 = 16.391304347826086\n",
            "Current Accuracy: 385 / 2400 = 16.041666666666668\n",
            "Current Accuracy: 394 / 2500 = 15.76\n",
            "Current Accuracy: 410 / 2600 = 15.769230769230768\n",
            "Current Accuracy: 420 / 2700 = 15.555555555555555\n",
            "Current Accuracy: 431 / 2800 = 15.392857142857144\n",
            "Current Accuracy: 441 / 2900 = 15.206896551724139\n",
            "Current Accuracy: 451 / 3000 = 15.033333333333335\n",
            "Current Accuracy: 458 / 3100 = 14.774193548387096\n",
            "Current Accuracy: 488 / 3200 = 15.25\n",
            "Current Accuracy: 514 / 3300 = 15.575757575757576\n",
            "Current Accuracy: 535 / 3400 = 15.735294117647058\n",
            "Current Accuracy: 563 / 3500 = 16.085714285714285\n",
            "Current Accuracy: 595 / 3600 = 16.52777777777778\n",
            "Current Accuracy: 623 / 3700 = 16.83783783783784\n",
            "Current Accuracy: 649 / 3800 = 17.07894736842105\n",
            "Current Accuracy: 674 / 3900 = 17.282051282051285\n",
            "Current Accuracy: 702 / 4000 = 17.549999999999997\n",
            "Current Accuracy: 733 / 4100 = 17.878048780487806\n",
            "Current Accuracy: 763 / 4200 = 18.166666666666668\n",
            "Current Accuracy: 787 / 4300 = 18.302325581395348\n"
          ],
          "name": "stdout"
        }
      ]
    },
    {
      "cell_type": "code",
      "metadata": {
        "id": "npsYQT0iON4s",
        "colab_type": "code",
        "outputId": "6c7e809b-6a6a-48ee-c1e8-9603de6fdc07",
        "colab": {
          "base_uri": "https://localhost:8080/",
          "height": 373
        }
      },
      "source": [
        "mixed_sample_report_with_auc"
      ],
      "execution_count": 0,
      "outputs": [
        {
          "output_type": "execute_result",
          "data": {
            "text/html": [
              "<div>\n",
              "<style scoped>\n",
              "    .dataframe tbody tr th:only-of-type {\n",
              "        vertical-align: middle;\n",
              "    }\n",
              "\n",
              "    .dataframe tbody tr th {\n",
              "        vertical-align: top;\n",
              "    }\n",
              "\n",
              "    .dataframe thead th {\n",
              "        text-align: right;\n",
              "    }\n",
              "</style>\n",
              "<table border=\"1\" class=\"dataframe\">\n",
              "  <thead>\n",
              "    <tr style=\"text-align: right;\">\n",
              "      <th></th>\n",
              "      <th>precision</th>\n",
              "      <th>recall</th>\n",
              "      <th>f1-score</th>\n",
              "      <th>support</th>\n",
              "      <th>pred</th>\n",
              "      <th>AUC</th>\n",
              "    </tr>\n",
              "  </thead>\n",
              "  <tbody>\n",
              "    <tr>\n",
              "      <th>0</th>\n",
              "      <td>0.268966</td>\n",
              "      <td>0.266515</td>\n",
              "      <td>0.267735</td>\n",
              "      <td>439.0</td>\n",
              "      <td>435.0</td>\n",
              "      <td>0.659547</td>\n",
              "    </tr>\n",
              "    <tr>\n",
              "      <th>1</th>\n",
              "      <td>0.238636</td>\n",
              "      <td>0.048724</td>\n",
              "      <td>0.080925</td>\n",
              "      <td>431.0</td>\n",
              "      <td>88.0</td>\n",
              "      <td>0.601527</td>\n",
              "    </tr>\n",
              "    <tr>\n",
              "      <th>2</th>\n",
              "      <td>0.176960</td>\n",
              "      <td>0.353081</td>\n",
              "      <td>0.235759</td>\n",
              "      <td>422.0</td>\n",
              "      <td>842.0</td>\n",
              "      <td>0.629982</td>\n",
              "    </tr>\n",
              "    <tr>\n",
              "      <th>3</th>\n",
              "      <td>0.129490</td>\n",
              "      <td>0.656180</td>\n",
              "      <td>0.216296</td>\n",
              "      <td>445.0</td>\n",
              "      <td>2255.0</td>\n",
              "      <td>0.623612</td>\n",
              "    </tr>\n",
              "    <tr>\n",
              "      <th>4</th>\n",
              "      <td>0.227979</td>\n",
              "      <td>0.217284</td>\n",
              "      <td>0.222503</td>\n",
              "      <td>405.0</td>\n",
              "      <td>386.0</td>\n",
              "      <td>0.639576</td>\n",
              "    </tr>\n",
              "    <tr>\n",
              "      <th>5</th>\n",
              "      <td>0.281481</td>\n",
              "      <td>0.097938</td>\n",
              "      <td>0.145315</td>\n",
              "      <td>388.0</td>\n",
              "      <td>135.0</td>\n",
              "      <td>0.628404</td>\n",
              "    </tr>\n",
              "    <tr>\n",
              "      <th>6</th>\n",
              "      <td>0.634615</td>\n",
              "      <td>0.072210</td>\n",
              "      <td>0.129666</td>\n",
              "      <td>457.0</td>\n",
              "      <td>52.0</td>\n",
              "      <td>0.679028</td>\n",
              "    </tr>\n",
              "    <tr>\n",
              "      <th>7</th>\n",
              "      <td>0.923077</td>\n",
              "      <td>0.027842</td>\n",
              "      <td>0.054054</td>\n",
              "      <td>431.0</td>\n",
              "      <td>13.0</td>\n",
              "      <td>0.643694</td>\n",
              "    </tr>\n",
              "    <tr>\n",
              "      <th>8</th>\n",
              "      <td>0.417722</td>\n",
              "      <td>0.076744</td>\n",
              "      <td>0.129666</td>\n",
              "      <td>430.0</td>\n",
              "      <td>79.0</td>\n",
              "      <td>0.700505</td>\n",
              "    </tr>\n",
              "    <tr>\n",
              "      <th>9</th>\n",
              "      <td>0.266667</td>\n",
              "      <td>0.008850</td>\n",
              "      <td>0.017131</td>\n",
              "      <td>452.0</td>\n",
              "      <td>15.0</td>\n",
              "      <td>0.611591</td>\n",
              "    </tr>\n",
              "    <tr>\n",
              "      <th>avg / total</th>\n",
              "      <td>0.358789</td>\n",
              "      <td>0.183023</td>\n",
              "      <td>0.149002</td>\n",
              "      <td>4300.0</td>\n",
              "      <td>4300.0</td>\n",
              "      <td>0.605875</td>\n",
              "    </tr>\n",
              "  </tbody>\n",
              "</table>\n",
              "</div>"
            ],
            "text/plain": [
              "             precision    recall  f1-score  support    pred       AUC\n",
              "0             0.268966  0.266515  0.267735    439.0   435.0  0.659547\n",
              "1             0.238636  0.048724  0.080925    431.0    88.0  0.601527\n",
              "2             0.176960  0.353081  0.235759    422.0   842.0  0.629982\n",
              "3             0.129490  0.656180  0.216296    445.0  2255.0  0.623612\n",
              "4             0.227979  0.217284  0.222503    405.0   386.0  0.639576\n",
              "5             0.281481  0.097938  0.145315    388.0   135.0  0.628404\n",
              "6             0.634615  0.072210  0.129666    457.0    52.0  0.679028\n",
              "7             0.923077  0.027842  0.054054    431.0    13.0  0.643694\n",
              "8             0.417722  0.076744  0.129666    430.0    79.0  0.700505\n",
              "9             0.266667  0.008850  0.017131    452.0    15.0  0.611591\n",
              "avg / total   0.358789  0.183023  0.149002   4300.0  4300.0  0.605875"
            ]
          },
          "metadata": {
            "tags": []
          },
          "execution_count": 20
        }
      ]
    },
    {
      "cell_type": "markdown",
      "metadata": {
        "id": "ue-4XgAjFdSx",
        "colab_type": "text"
      },
      "source": [
        "## Attacks (Epsilon=0.15)"
      ]
    },
    {
      "cell_type": "markdown",
      "metadata": {
        "id": "FtaC8qfeF7rv",
        "colab_type": "text"
      },
      "source": [
        "### Test : Original Model + FGSM + No Detector! (eps=0.15)"
      ]
    },
    {
      "cell_type": "code",
      "metadata": {
        "colab_type": "code",
        "outputId": "73d41c8f-4c59-4545-a1b6-44191b3ae3a4",
        "id": "sVSo3O49Fbcb",
        "colab": {
          "base_uri": "https://localhost:8080/",
          "height": 275
        }
      },
      "source": [
        "fgsm_acc1, data_size, fgsm_report_with_auc1 = attack_accuracy(model, testloader, attack_type=\"fgsm\", print_freq=1000, epsilon=0.15, run_attack=True)"
      ],
      "execution_count": 0,
      "outputs": [
        {
          "output_type": "stream",
          "text": [
            "Current Accuracy: 161 / 1000 = 16.1\n",
            "Current Accuracy: 334 / 2000 = 16.7\n",
            "Current Accuracy: 515 / 3000 = 17.166666666666668\n",
            "Current Accuracy: 690 / 4000 = 17.25\n",
            "Current Accuracy: 857 / 5000 = 17.14\n",
            "Current Accuracy: 1020 / 6000 = 17.0\n",
            "Current Accuracy: 1184 / 7000 = 16.914285714285715\n",
            "Current Accuracy: 1374 / 8000 = 17.175\n",
            "Current Accuracy: 1552 / 9000 = 17.244444444444447\n",
            "Current Accuracy: 1718 / 10000 = 17.18\n",
            "(10000,) (10000,) (10000, 10)\n",
            "<class 'numpy.ndarray'> <class 'numpy.ndarray'> (10000,) (10000, 10)\n"
          ],
          "name": "stdout"
        },
        {
          "output_type": "stream",
          "text": [
            "/usr/local/lib/python3.6/dist-packages/sklearn/metrics/classification.py:1437: UndefinedMetricWarning: Precision and F-score are ill-defined and being set to 0.0 in labels with no predicted samples.\n",
            "  'precision', 'predicted', average, warn_for)\n"
          ],
          "name": "stderr"
        }
      ]
    },
    {
      "cell_type": "code",
      "metadata": {
        "colab_type": "code",
        "outputId": "e65ce59f-021f-4275-e3d9-c416d05a5c14",
        "id": "oob9uSp9Fbcj",
        "colab": {
          "base_uri": "https://localhost:8080/",
          "height": 297
        }
      },
      "source": [
        "fgsm_report_with_auc1"
      ],
      "execution_count": 0,
      "outputs": [
        {
          "output_type": "execute_result",
          "data": {
            "text/html": [
              "<div>\n",
              "<style scoped>\n",
              "    .dataframe tbody tr th:only-of-type {\n",
              "        vertical-align: middle;\n",
              "    }\n",
              "\n",
              "    .dataframe tbody tr th {\n",
              "        vertical-align: top;\n",
              "    }\n",
              "\n",
              "    .dataframe thead th {\n",
              "        text-align: right;\n",
              "    }\n",
              "</style>\n",
              "<table border=\"1\" class=\"dataframe\">\n",
              "  <thead>\n",
              "    <tr style=\"text-align: right;\">\n",
              "      <th></th>\n",
              "      <th>precision</th>\n",
              "      <th>recall</th>\n",
              "      <th>f1-score</th>\n",
              "      <th>support</th>\n",
              "      <th>pred</th>\n",
              "      <th>AUC</th>\n",
              "    </tr>\n",
              "  </thead>\n",
              "  <tbody>\n",
              "    <tr>\n",
              "      <th>0</th>\n",
              "      <td>0.735751</td>\n",
              "      <td>0.1420</td>\n",
              "      <td>0.238055</td>\n",
              "      <td>1000.0</td>\n",
              "      <td>193.0</td>\n",
              "      <td>0.869045</td>\n",
              "    </tr>\n",
              "    <tr>\n",
              "      <th>1</th>\n",
              "      <td>0.850000</td>\n",
              "      <td>0.0170</td>\n",
              "      <td>0.033333</td>\n",
              "      <td>1000.0</td>\n",
              "      <td>20.0</td>\n",
              "      <td>0.782978</td>\n",
              "    </tr>\n",
              "    <tr>\n",
              "      <th>2</th>\n",
              "      <td>0.188291</td>\n",
              "      <td>0.5950</td>\n",
              "      <td>0.286058</td>\n",
              "      <td>1000.0</td>\n",
              "      <td>3160.0</td>\n",
              "      <td>0.742476</td>\n",
              "    </tr>\n",
              "    <tr>\n",
              "      <th>3</th>\n",
              "      <td>0.133302</td>\n",
              "      <td>0.8470</td>\n",
              "      <td>0.230351</td>\n",
              "      <td>1000.0</td>\n",
              "      <td>6354.0</td>\n",
              "      <td>0.714751</td>\n",
              "    </tr>\n",
              "    <tr>\n",
              "      <th>4</th>\n",
              "      <td>0.385892</td>\n",
              "      <td>0.0930</td>\n",
              "      <td>0.149879</td>\n",
              "      <td>1000.0</td>\n",
              "      <td>241.0</td>\n",
              "      <td>0.745703</td>\n",
              "    </tr>\n",
              "    <tr>\n",
              "      <th>5</th>\n",
              "      <td>0.714286</td>\n",
              "      <td>0.0150</td>\n",
              "      <td>0.029383</td>\n",
              "      <td>1000.0</td>\n",
              "      <td>21.0</td>\n",
              "      <td>0.727394</td>\n",
              "    </tr>\n",
              "    <tr>\n",
              "      <th>8</th>\n",
              "      <td>0.818182</td>\n",
              "      <td>0.0090</td>\n",
              "      <td>0.017804</td>\n",
              "      <td>1000.0</td>\n",
              "      <td>11.0</td>\n",
              "      <td>0.576015</td>\n",
              "    </tr>\n",
              "    <tr>\n",
              "      <th>avg / total</th>\n",
              "      <td>0.382570</td>\n",
              "      <td>0.1718</td>\n",
              "      <td>0.098486</td>\n",
              "      <td>7000.0</td>\n",
              "      <td>7000.0</td>\n",
              "      <td>0.618208</td>\n",
              "    </tr>\n",
              "  </tbody>\n",
              "</table>\n",
              "</div>"
            ],
            "text/plain": [
              "             precision  recall  f1-score  support    pred       AUC\n",
              "0             0.735751  0.1420  0.238055   1000.0   193.0  0.869045\n",
              "1             0.850000  0.0170  0.033333   1000.0    20.0  0.782978\n",
              "2             0.188291  0.5950  0.286058   1000.0  3160.0  0.742476\n",
              "3             0.133302  0.8470  0.230351   1000.0  6354.0  0.714751\n",
              "4             0.385892  0.0930  0.149879   1000.0   241.0  0.745703\n",
              "5             0.714286  0.0150  0.029383   1000.0    21.0  0.727394\n",
              "8             0.818182  0.0090  0.017804   1000.0    11.0  0.576015\n",
              "avg / total   0.382570  0.1718  0.098486   7000.0  7000.0  0.618208"
            ]
          },
          "metadata": {
            "tags": []
          },
          "execution_count": 41
        }
      ]
    },
    {
      "cell_type": "markdown",
      "metadata": {
        "colab_type": "text",
        "id": "U-MYnLGVGKRa"
      },
      "source": [
        "### Test: Original Model + Transfer Attack Samples + No Detector (eps=0.15)"
      ]
    },
    {
      "cell_type": "code",
      "metadata": {
        "colab_type": "code",
        "outputId": "750c8bda-a259-4573-f693-f007d60d53f1",
        "id": "DHv_sgFLGKRe",
        "colab": {
          "base_uri": "https://localhost:8080/",
          "height": 275
        }
      },
      "source": [
        "transfer_sample_acc1, transfer_sample_data_size,transfer_sample_report_with_auc1 = attack_accuracy(model, testloader, attack_type=\"transfer\", \n",
        "                                                                                                 print_freq=1000, epsilon=0.15, run_attack=True)"
      ],
      "execution_count": 0,
      "outputs": [
        {
          "output_type": "stream",
          "text": [
            "Current Accuracy: 182 / 1000 = 18.2\n",
            "Current Accuracy: 377 / 2000 = 18.85\n",
            "Current Accuracy: 563 / 3000 = 18.76666666666667\n",
            "Current Accuracy: 759 / 4000 = 18.975\n",
            "Current Accuracy: 937 / 5000 = 18.740000000000002\n",
            "Current Accuracy: 1112 / 6000 = 18.53333333333333\n",
            "Current Accuracy: 1295 / 7000 = 18.5\n",
            "Current Accuracy: 1509 / 8000 = 18.862499999999997\n",
            "Current Accuracy: 1703 / 9000 = 18.922222222222224\n",
            "Current Accuracy: 1885 / 10000 = 18.85\n",
            "(10000,) (10000,) (10000, 10)\n",
            "<class 'numpy.ndarray'> <class 'numpy.ndarray'> (10000,) (10000, 10)\n"
          ],
          "name": "stdout"
        },
        {
          "output_type": "stream",
          "text": [
            "/usr/local/lib/python3.6/dist-packages/sklearn/metrics/classification.py:1437: UndefinedMetricWarning: Precision and F-score are ill-defined and being set to 0.0 in labels with no predicted samples.\n",
            "  'precision', 'predicted', average, warn_for)\n"
          ],
          "name": "stderr"
        }
      ]
    },
    {
      "cell_type": "code",
      "metadata": {
        "colab_type": "code",
        "outputId": "157987a1-298c-4bb0-cba1-cf98ccb6a52f",
        "id": "X2KuXF2IGKRh",
        "colab": {
          "base_uri": "https://localhost:8080/",
          "height": 297
        }
      },
      "source": [
        "transfer_sample_report_with_auc1"
      ],
      "execution_count": 0,
      "outputs": [
        {
          "output_type": "execute_result",
          "data": {
            "text/html": [
              "<div>\n",
              "<style scoped>\n",
              "    .dataframe tbody tr th:only-of-type {\n",
              "        vertical-align: middle;\n",
              "    }\n",
              "\n",
              "    .dataframe tbody tr th {\n",
              "        vertical-align: top;\n",
              "    }\n",
              "\n",
              "    .dataframe thead th {\n",
              "        text-align: right;\n",
              "    }\n",
              "</style>\n",
              "<table border=\"1\" class=\"dataframe\">\n",
              "  <thead>\n",
              "    <tr style=\"text-align: right;\">\n",
              "      <th></th>\n",
              "      <th>precision</th>\n",
              "      <th>recall</th>\n",
              "      <th>f1-score</th>\n",
              "      <th>support</th>\n",
              "      <th>pred</th>\n",
              "      <th>AUC</th>\n",
              "    </tr>\n",
              "  </thead>\n",
              "  <tbody>\n",
              "    <tr>\n",
              "      <th>0</th>\n",
              "      <td>0.707602</td>\n",
              "      <td>0.2420</td>\n",
              "      <td>0.360656</td>\n",
              "      <td>1000.0</td>\n",
              "      <td>342.0</td>\n",
              "      <td>0.879715</td>\n",
              "    </tr>\n",
              "    <tr>\n",
              "      <th>1</th>\n",
              "      <td>0.840000</td>\n",
              "      <td>0.0420</td>\n",
              "      <td>0.080000</td>\n",
              "      <td>1000.0</td>\n",
              "      <td>50.0</td>\n",
              "      <td>0.824931</td>\n",
              "    </tr>\n",
              "    <tr>\n",
              "      <th>2</th>\n",
              "      <td>0.218015</td>\n",
              "      <td>0.5470</td>\n",
              "      <td>0.311770</td>\n",
              "      <td>1000.0</td>\n",
              "      <td>2509.0</td>\n",
              "      <td>0.768159</td>\n",
              "    </tr>\n",
              "    <tr>\n",
              "      <th>3</th>\n",
              "      <td>0.132025</td>\n",
              "      <td>0.8880</td>\n",
              "      <td>0.229873</td>\n",
              "      <td>1000.0</td>\n",
              "      <td>6726.0</td>\n",
              "      <td>0.746495</td>\n",
              "    </tr>\n",
              "    <tr>\n",
              "      <th>4</th>\n",
              "      <td>0.368932</td>\n",
              "      <td>0.1140</td>\n",
              "      <td>0.174179</td>\n",
              "      <td>1000.0</td>\n",
              "      <td>309.0</td>\n",
              "      <td>0.745296</td>\n",
              "    </tr>\n",
              "    <tr>\n",
              "      <th>5</th>\n",
              "      <td>0.750000</td>\n",
              "      <td>0.0300</td>\n",
              "      <td>0.057692</td>\n",
              "      <td>1000.0</td>\n",
              "      <td>40.0</td>\n",
              "      <td>0.747316</td>\n",
              "    </tr>\n",
              "    <tr>\n",
              "      <th>8</th>\n",
              "      <td>0.916667</td>\n",
              "      <td>0.0220</td>\n",
              "      <td>0.042969</td>\n",
              "      <td>1000.0</td>\n",
              "      <td>24.0</td>\n",
              "      <td>0.576040</td>\n",
              "    </tr>\n",
              "    <tr>\n",
              "      <th>avg / total</th>\n",
              "      <td>0.393324</td>\n",
              "      <td>0.1885</td>\n",
              "      <td>0.125714</td>\n",
              "      <td>7000.0</td>\n",
              "      <td>7000.0</td>\n",
              "      <td>0.642671</td>\n",
              "    </tr>\n",
              "  </tbody>\n",
              "</table>\n",
              "</div>"
            ],
            "text/plain": [
              "             precision  recall  f1-score  support    pred       AUC\n",
              "0             0.707602  0.2420  0.360656   1000.0   342.0  0.879715\n",
              "1             0.840000  0.0420  0.080000   1000.0    50.0  0.824931\n",
              "2             0.218015  0.5470  0.311770   1000.0  2509.0  0.768159\n",
              "3             0.132025  0.8880  0.229873   1000.0  6726.0  0.746495\n",
              "4             0.368932  0.1140  0.174179   1000.0   309.0  0.745296\n",
              "5             0.750000  0.0300  0.057692   1000.0    40.0  0.747316\n",
              "8             0.916667  0.0220  0.042969   1000.0    24.0  0.576040\n",
              "avg / total   0.393324  0.1885  0.125714   7000.0  7000.0  0.642671"
            ]
          },
          "metadata": {
            "tags": []
          },
          "execution_count": 43
        }
      ]
    },
    {
      "cell_type": "markdown",
      "metadata": {
        "id": "hNXoaYOs_2ab",
        "colab_type": "text"
      },
      "source": [
        "### Test: Original Model + FGSM+Transfer Attack Samples + No Detector (eps=0.15)"
      ]
    },
    {
      "cell_type": "code",
      "metadata": {
        "id": "CrJT957W-CBE",
        "colab_type": "code",
        "outputId": "17af1a95-bc49-4d64-854a-07f4cb02a6ce",
        "colab": {
          "base_uri": "https://localhost:8080/",
          "height": 275
        }
      },
      "source": [
        "fgsm_transfer_sample_acc1, fgsm_transfer_sample_data_size1,fgsm_transfer_sample_report_with_auc1 = attack_accuracy(model, testloader, \n",
        "                                                                                                 print_freq=1000, epsilon=0.15, run_attack=True)"
      ],
      "execution_count": 0,
      "outputs": [
        {
          "output_type": "stream",
          "text": [
            "Current Accuracy: 171 / 1000 = 17.1\n",
            "Current Accuracy: 357 / 2000 = 17.849999999999998\n",
            "Current Accuracy: 541 / 3000 = 18.033333333333335\n",
            "Current Accuracy: 725 / 4000 = 18.125\n",
            "Current Accuracy: 899 / 5000 = 17.98\n",
            "Current Accuracy: 1072 / 6000 = 17.866666666666667\n",
            "Current Accuracy: 1252 / 7000 = 17.885714285714286\n",
            "Current Accuracy: 1456 / 8000 = 18.2\n",
            "Current Accuracy: 1637 / 9000 = 18.188888888888886\n",
            "Current Accuracy: 1810 / 10000 = 18.099999999999998\n",
            "(10000,) (10000,) (10000, 10)\n",
            "<class 'numpy.ndarray'> <class 'numpy.ndarray'> (10000,) (10000, 10)\n"
          ],
          "name": "stdout"
        },
        {
          "output_type": "stream",
          "text": [
            "/usr/local/lib/python3.6/dist-packages/sklearn/metrics/classification.py:1437: UndefinedMetricWarning: Precision and F-score are ill-defined and being set to 0.0 in labels with no predicted samples.\n",
            "  'precision', 'predicted', average, warn_for)\n"
          ],
          "name": "stderr"
        }
      ]
    },
    {
      "cell_type": "code",
      "metadata": {
        "id": "MQVlDGpc-FML",
        "colab_type": "code",
        "outputId": "715298fe-7287-4abe-9cae-946bf8150f8f",
        "colab": {
          "base_uri": "https://localhost:8080/",
          "height": 297
        }
      },
      "source": [
        "fgsm_transfer_sample_report_with_auc1"
      ],
      "execution_count": 0,
      "outputs": [
        {
          "output_type": "execute_result",
          "data": {
            "text/html": [
              "<div>\n",
              "<style scoped>\n",
              "    .dataframe tbody tr th:only-of-type {\n",
              "        vertical-align: middle;\n",
              "    }\n",
              "\n",
              "    .dataframe tbody tr th {\n",
              "        vertical-align: top;\n",
              "    }\n",
              "\n",
              "    .dataframe thead th {\n",
              "        text-align: right;\n",
              "    }\n",
              "</style>\n",
              "<table border=\"1\" class=\"dataframe\">\n",
              "  <thead>\n",
              "    <tr style=\"text-align: right;\">\n",
              "      <th></th>\n",
              "      <th>precision</th>\n",
              "      <th>recall</th>\n",
              "      <th>f1-score</th>\n",
              "      <th>support</th>\n",
              "      <th>pred</th>\n",
              "      <th>AUC</th>\n",
              "    </tr>\n",
              "  </thead>\n",
              "  <tbody>\n",
              "    <tr>\n",
              "      <th>0</th>\n",
              "      <td>0.719101</td>\n",
              "      <td>0.192</td>\n",
              "      <td>0.303078</td>\n",
              "      <td>1000.0</td>\n",
              "      <td>267.0</td>\n",
              "      <td>0.875069</td>\n",
              "    </tr>\n",
              "    <tr>\n",
              "      <th>1</th>\n",
              "      <td>0.833333</td>\n",
              "      <td>0.030</td>\n",
              "      <td>0.057915</td>\n",
              "      <td>1000.0</td>\n",
              "      <td>36.0</td>\n",
              "      <td>0.803839</td>\n",
              "    </tr>\n",
              "    <tr>\n",
              "      <th>2</th>\n",
              "      <td>0.203521</td>\n",
              "      <td>0.578</td>\n",
              "      <td>0.301042</td>\n",
              "      <td>1000.0</td>\n",
              "      <td>2840.0</td>\n",
              "      <td>0.758690</td>\n",
              "    </tr>\n",
              "    <tr>\n",
              "      <th>3</th>\n",
              "      <td>0.133497</td>\n",
              "      <td>0.872</td>\n",
              "      <td>0.231545</td>\n",
              "      <td>1000.0</td>\n",
              "      <td>6532.0</td>\n",
              "      <td>0.734421</td>\n",
              "    </tr>\n",
              "    <tr>\n",
              "      <th>4</th>\n",
              "      <td>0.371429</td>\n",
              "      <td>0.104</td>\n",
              "      <td>0.162500</td>\n",
              "      <td>1000.0</td>\n",
              "      <td>280.0</td>\n",
              "      <td>0.744092</td>\n",
              "    </tr>\n",
              "    <tr>\n",
              "      <th>5</th>\n",
              "      <td>0.700000</td>\n",
              "      <td>0.021</td>\n",
              "      <td>0.040777</td>\n",
              "      <td>1000.0</td>\n",
              "      <td>30.0</td>\n",
              "      <td>0.734126</td>\n",
              "    </tr>\n",
              "    <tr>\n",
              "      <th>8</th>\n",
              "      <td>0.866667</td>\n",
              "      <td>0.013</td>\n",
              "      <td>0.025616</td>\n",
              "      <td>1000.0</td>\n",
              "      <td>15.0</td>\n",
              "      <td>0.576300</td>\n",
              "    </tr>\n",
              "    <tr>\n",
              "      <th>avg / total</th>\n",
              "      <td>0.382755</td>\n",
              "      <td>0.181</td>\n",
              "      <td>0.112247</td>\n",
              "      <td>7000.0</td>\n",
              "      <td>7000.0</td>\n",
              "      <td>0.630336</td>\n",
              "    </tr>\n",
              "  </tbody>\n",
              "</table>\n",
              "</div>"
            ],
            "text/plain": [
              "             precision  recall  f1-score  support    pred       AUC\n",
              "0             0.719101   0.192  0.303078   1000.0   267.0  0.875069\n",
              "1             0.833333   0.030  0.057915   1000.0    36.0  0.803839\n",
              "2             0.203521   0.578  0.301042   1000.0  2840.0  0.758690\n",
              "3             0.133497   0.872  0.231545   1000.0  6532.0  0.734421\n",
              "4             0.371429   0.104  0.162500   1000.0   280.0  0.744092\n",
              "5             0.700000   0.021  0.040777   1000.0    30.0  0.734126\n",
              "8             0.866667   0.013  0.025616   1000.0    15.0  0.576300\n",
              "avg / total   0.382755   0.181  0.112247   7000.0  7000.0  0.630336"
            ]
          },
          "metadata": {
            "tags": []
          },
          "execution_count": 37
        }
      ]
    },
    {
      "cell_type": "markdown",
      "metadata": {
        "colab_type": "text",
        "id": "qSGVZpbSC26t"
      },
      "source": [
        "### Test: Original Model + Mixed attack samples + No detector (eps=0.15)"
      ]
    },
    {
      "cell_type": "code",
      "metadata": {
        "colab_type": "code",
        "outputId": "aea3d313-e06a-45d5-e935-089ef428eec3",
        "id": "-ERZI1XmC24n",
        "colab": {
          "base_uri": "https://localhost:8080/",
          "height": 190
        }
      },
      "source": [
        "mixed_sample_acc1, mixed_sample_data_size,mixed_sample_report_with_auc1 = attack_accuracy(model, mixed_loader1, print_freq=1000)"
      ],
      "execution_count": 0,
      "outputs": [
        {
          "output_type": "stream",
          "text": [
            "Current Accuracy: 275 / 1000 = 27.500000000000004\n",
            "Current Accuracy: 402 / 2000 = 20.1\n",
            "Current Accuracy: 521 / 3000 = 17.366666666666667\n",
            "Current Accuracy: 608 / 4000 = 15.2\n",
            "Current Accuracy: 709 / 5000 = 14.180000000000001\n",
            "(5000,) (5000,) (5000, 10)\n",
            "<class 'numpy.ndarray'> <class 'numpy.ndarray'> (5000,) (5000, 10)\n"
          ],
          "name": "stdout"
        },
        {
          "output_type": "stream",
          "text": [
            "/usr/local/lib/python3.6/dist-packages/sklearn/metrics/classification.py:1437: UndefinedMetricWarning: Precision and F-score are ill-defined and being set to 0.0 in labels with no predicted samples.\n",
            "  'precision', 'predicted', average, warn_for)\n"
          ],
          "name": "stderr"
        }
      ]
    },
    {
      "cell_type": "code",
      "metadata": {
        "colab_type": "code",
        "outputId": "9944297f-d573-473f-9c44-ac69270b7e0b",
        "id": "bSxxhirxC24B",
        "colab": {
          "base_uri": "https://localhost:8080/",
          "height": 359
        }
      },
      "source": [
        "mixed_sample_report_with_auc1"
      ],
      "execution_count": 0,
      "outputs": [
        {
          "output_type": "execute_result",
          "data": {
            "text/html": [
              "<div>\n",
              "<style scoped>\n",
              "    .dataframe tbody tr th:only-of-type {\n",
              "        vertical-align: middle;\n",
              "    }\n",
              "\n",
              "    .dataframe tbody tr th {\n",
              "        vertical-align: top;\n",
              "    }\n",
              "\n",
              "    .dataframe thead th {\n",
              "        text-align: right;\n",
              "    }\n",
              "</style>\n",
              "<table border=\"1\" class=\"dataframe\">\n",
              "  <thead>\n",
              "    <tr style=\"text-align: right;\">\n",
              "      <th></th>\n",
              "      <th>precision</th>\n",
              "      <th>recall</th>\n",
              "      <th>f1-score</th>\n",
              "      <th>support</th>\n",
              "      <th>pred</th>\n",
              "      <th>AUC</th>\n",
              "    </tr>\n",
              "  </thead>\n",
              "  <tbody>\n",
              "    <tr>\n",
              "      <th>0</th>\n",
              "      <td>0.216495</td>\n",
              "      <td>0.172131</td>\n",
              "      <td>0.191781</td>\n",
              "      <td>488.0</td>\n",
              "      <td>388.0</td>\n",
              "      <td>0.574669</td>\n",
              "    </tr>\n",
              "    <tr>\n",
              "      <th>1</th>\n",
              "      <td>0.153846</td>\n",
              "      <td>0.003960</td>\n",
              "      <td>0.007722</td>\n",
              "      <td>505.0</td>\n",
              "      <td>13.0</td>\n",
              "      <td>0.525126</td>\n",
              "    </tr>\n",
              "    <tr>\n",
              "      <th>2</th>\n",
              "      <td>0.132720</td>\n",
              "      <td>0.394531</td>\n",
              "      <td>0.198623</td>\n",
              "      <td>512.0</td>\n",
              "      <td>1522.0</td>\n",
              "      <td>0.580660</td>\n",
              "    </tr>\n",
              "    <tr>\n",
              "      <th>3</th>\n",
              "      <td>0.107832</td>\n",
              "      <td>0.573441</td>\n",
              "      <td>0.181529</td>\n",
              "      <td>497.0</td>\n",
              "      <td>2643.0</td>\n",
              "      <td>0.556542</td>\n",
              "    </tr>\n",
              "    <tr>\n",
              "      <th>4</th>\n",
              "      <td>0.192547</td>\n",
              "      <td>0.122288</td>\n",
              "      <td>0.149578</td>\n",
              "      <td>507.0</td>\n",
              "      <td>322.0</td>\n",
              "      <td>0.578001</td>\n",
              "    </tr>\n",
              "    <tr>\n",
              "      <th>5</th>\n",
              "      <td>0.548387</td>\n",
              "      <td>0.034836</td>\n",
              "      <td>0.065511</td>\n",
              "      <td>488.0</td>\n",
              "      <td>31.0</td>\n",
              "      <td>0.575981</td>\n",
              "    </tr>\n",
              "    <tr>\n",
              "      <th>6</th>\n",
              "      <td>0.666667</td>\n",
              "      <td>0.065173</td>\n",
              "      <td>0.118738</td>\n",
              "      <td>491.0</td>\n",
              "      <td>48.0</td>\n",
              "      <td>0.595992</td>\n",
              "    </tr>\n",
              "    <tr>\n",
              "      <th>7</th>\n",
              "      <td>0.923077</td>\n",
              "      <td>0.024242</td>\n",
              "      <td>0.047244</td>\n",
              "      <td>495.0</td>\n",
              "      <td>13.0</td>\n",
              "      <td>0.590431</td>\n",
              "    </tr>\n",
              "    <tr>\n",
              "      <th>8</th>\n",
              "      <td>0.650000</td>\n",
              "      <td>0.025794</td>\n",
              "      <td>0.049618</td>\n",
              "      <td>504.0</td>\n",
              "      <td>20.0</td>\n",
              "      <td>0.580904</td>\n",
              "    </tr>\n",
              "    <tr>\n",
              "      <th>avg / total</th>\n",
              "      <td>0.356395</td>\n",
              "      <td>0.141800</td>\n",
              "      <td>0.100781</td>\n",
              "      <td>4487.0</td>\n",
              "      <td>4487.0</td>\n",
              "      <td>0.552841</td>\n",
              "    </tr>\n",
              "  </tbody>\n",
              "</table>\n",
              "</div>"
            ],
            "text/plain": [
              "             precision    recall  f1-score  support    pred       AUC\n",
              "0             0.216495  0.172131  0.191781    488.0   388.0  0.574669\n",
              "1             0.153846  0.003960  0.007722    505.0    13.0  0.525126\n",
              "2             0.132720  0.394531  0.198623    512.0  1522.0  0.580660\n",
              "3             0.107832  0.573441  0.181529    497.0  2643.0  0.556542\n",
              "4             0.192547  0.122288  0.149578    507.0   322.0  0.578001\n",
              "5             0.548387  0.034836  0.065511    488.0    31.0  0.575981\n",
              "6             0.666667  0.065173  0.118738    491.0    48.0  0.595992\n",
              "7             0.923077  0.024242  0.047244    495.0    13.0  0.590431\n",
              "8             0.650000  0.025794  0.049618    504.0    20.0  0.580904\n",
              "avg / total   0.356395  0.141800  0.100781   4487.0  4487.0  0.552841"
            ]
          },
          "metadata": {
            "tags": []
          },
          "execution_count": 28
        }
      ]
    }
  ]
}