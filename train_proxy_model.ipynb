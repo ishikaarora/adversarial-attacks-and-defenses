{
  "nbformat": 4,
  "nbformat_minor": 0,
  "metadata": {
    "colab": {
      "name": "train_proxy_model.ipynb",
      "provenance": [],
      "collapsed_sections": [],
      "toc_visible": true,
      "include_colab_link": true
    },
    "kernelspec": {
      "name": "python3",
      "display_name": "Python 3"
    },
    "language_info": {
      "codemirror_mode": {
        "name": "ipython",
        "version": 3
      },
      "file_extension": ".py",
      "mimetype": "text/x-python",
      "name": "python",
      "nbconvert_exporter": "python",
      "pygments_lexer": "ipython3",
      "version": "3.7.1"
    },
    "accelerator": "GPU"
  },
  "cells": [
    {
      "cell_type": "markdown",
      "metadata": {
        "id": "view-in-github",
        "colab_type": "text"
      },
      "source": [
        "<a href=\"https://colab.research.google.com/github/ishikaarora/adversarial-attacks-and-defenses/blob/master/train_proxy_model.ipynb\" target=\"_parent\"><img src=\"https://colab.research.google.com/assets/colab-badge.svg\" alt=\"Open In Colab\"/></a>"
      ]
    },
    {
      "cell_type": "code",
      "metadata": {
        "colab_type": "code",
        "id": "IE1OcNnbRTQx",
        "colab": {}
      },
      "source": [
        "# Author: Ishika Arora\n",
        "# PyTorch Transfer Learning example (ResNet50 trained on ImageNet 2012 dataset)"
      ],
      "execution_count": 0,
      "outputs": []
    },
    {
      "cell_type": "code",
      "metadata": {
        "colab_type": "code",
        "id": "zIL81mAyRTQ6",
        "colab": {}
      },
      "source": [
        "from __future__ import print_function, division\n",
        "%matplotlib inline\n",
        "import torch\n",
        "import torch.nn as nn\n",
        "import torch.nn.functional as F\n",
        "import torch.optim as optim\n",
        "from torch.optim import lr_scheduler\n",
        "import numpy as np\n",
        "import pandas as pd\n",
        "import torchvision\n",
        "from torchvision import datasets, models, transforms\n",
        "from torch.utils.data import Dataset, DataLoader\n",
        "import matplotlib.pyplot as plt\n",
        "import time\n",
        "import os\n",
        "import copy\n",
        "from PIL import Image\n",
        "\n",
        "plt.ion()   # interactive mode"
      ],
      "execution_count": 0,
      "outputs": []
    },
    {
      "cell_type": "code",
      "metadata": {
        "id": "pDAC_O3bd0ce",
        "colab_type": "code",
        "colab": {}
      },
      "source": [
        "device = torch.device('cuda' if torch.cuda.is_available() else 'cpu')"
      ],
      "execution_count": 0,
      "outputs": []
    },
    {
      "cell_type": "markdown",
      "metadata": {
        "id": "kJ-hYFK60FoN",
        "colab_type": "text"
      },
      "source": [
        "## Load Data"
      ]
    },
    {
      "cell_type": "code",
      "metadata": {
        "id": "geFP9KW-qsdL",
        "colab_type": "code",
        "colab": {}
      },
      "source": [
        "BATCH_SIZE = 16\n",
        "log_frequency = 500"
      ],
      "execution_count": 0,
      "outputs": []
    },
    {
      "cell_type": "code",
      "metadata": {
        "id": "cp8pasV3vUUX",
        "colab_type": "code",
        "colab": {}
      },
      "source": [
        "# mean color of training images\n",
        "# cifar10_mean = [0.49131522, 0.48209435, 0.44646862]\n",
        "# # std dev of color across training images\n",
        "# cifar10_std = [0.01897398, 0.03039277, 0.03872553]\n",
        "\n",
        "cifar10_mean = [0.49139968 , 0.48215841 , 0.44653091]\n",
        "cifar10_std = [0.24703223,  0.24348513 , 0.26158784]\n",
        "\n",
        "# cifar10_mean = [0.4914, 0.4822, 0.4465]\n",
        "# cifar10_std = [0.2023, 0.1994, 0.2010]"
      ],
      "execution_count": 0,
      "outputs": []
    },
    {
      "cell_type": "code",
      "metadata": {
        "id": "gPL2byhz0k9t",
        "colab_type": "code",
        "outputId": "e6ef5631-c5c3-4ac8-95c7-1c78c35d03a2",
        "colab": {
          "base_uri": "https://localhost:8080/",
          "height": 51
        }
      },
      "source": [
        "transform_train = transforms.Compose([\n",
        "    transforms.RandomCrop(32, padding=2),\n",
        "    transforms.Resize(224),\n",
        "    transforms.RandomHorizontalFlip(),\n",
        "    transforms.ToTensor(),\n",
        "    transforms.Normalize(cifar10_mean,cifar10_std)\n",
        "])\n",
        "\n",
        "transform_test = transforms.Compose([\n",
        "    transforms.Resize(224),\n",
        "    transforms.ToTensor(),\n",
        "    transforms.Normalize(cifar10_mean,cifar10_std)\n",
        "])\n",
        "\n",
        "cifar_dataset = torchvision.datasets.CIFAR10(root = './data', train = True, download = True, transform= transform_train)\n",
        "\n",
        "trainset = cifar_dataset\n",
        "valset = torchvision.datasets.CIFAR10(root = './data', train = False, download = True, transform= transform_train)\n",
        "\n",
        "trainloader = torch.utils.data.DataLoader(trainset, batch_size=BATCH_SIZE, shuffle=True, num_workers=2)\n",
        "valloader = torch.utils.data.DataLoader(valset, batch_size=BATCH_SIZE, shuffle=False, num_workers=2)"
      ],
      "execution_count": 0,
      "outputs": [
        {
          "output_type": "stream",
          "text": [
            "Files already downloaded and verified\n",
            "Files already downloaded and verified\n"
          ],
          "name": "stdout"
        }
      ]
    },
    {
      "cell_type": "code",
      "metadata": {
        "id": "9hSmX2iySk5_",
        "colab_type": "code",
        "outputId": "f0ad22a9-2938-4fc8-9bea-25fed035886f",
        "colab": {
          "base_uri": "https://localhost:8080/",
          "height": 51
        }
      },
      "source": [
        "train_size = len(trainset)\n",
        "val_size = len(valset)\n",
        "print(val_size)\n",
        "print(train_size)"
      ],
      "execution_count": 0,
      "outputs": [
        {
          "output_type": "stream",
          "text": [
            "10000\n",
            "50000\n"
          ],
          "name": "stdout"
        }
      ]
    },
    {
      "cell_type": "code",
      "metadata": {
        "id": "HV4dNQZqxK6E",
        "colab_type": "code",
        "outputId": "84183c8d-c27e-44ac-d0d6-4516209aee12",
        "colab": {
          "base_uri": "https://localhost:8080/",
          "height": 34
        }
      },
      "source": [
        "class_names = cifar_dataset.classes\n",
        "len(class_names)"
      ],
      "execution_count": 0,
      "outputs": [
        {
          "output_type": "execute_result",
          "data": {
            "text/plain": [
              "10"
            ]
          },
          "metadata": {
            "tags": []
          },
          "execution_count": 8
        }
      ]
    },
    {
      "cell_type": "markdown",
      "metadata": {
        "colab_type": "text",
        "id": "qk_zMVGLRTRC"
      },
      "source": [
        "Visualize a few images\n",
        "^^^^^^^^^^^^^^^^^^^^^^\n",
        "Let's visualize a few training images so as to understand the data\n",
        "augmentations.\n",
        "\n"
      ]
    },
    {
      "cell_type": "code",
      "metadata": {
        "colab_type": "code",
        "id": "2OhAWO9hRTRD",
        "outputId": "f0d7b1c7-3857-4597-9412-defce49473c8",
        "colab": {
          "base_uri": "https://localhost:8080/",
          "height": 148
        }
      },
      "source": [
        "def imshow(inp, title=None):\n",
        "    \"\"\"Imshow for Tensor.\"\"\"\n",
        "    inp = inp.numpy().transpose((1, 2, 0))\n",
        "    inp = cifar10_std * inp + cifar10_mean\n",
        "    inp = np.clip(inp, 0, 1)\n",
        "    plt.imshow(inp)\n",
        "    if title is not None:\n",
        "        plt.title(title)\n",
        "    plt.pause(0.001)  # pause a bit so that plots are updated\n",
        "\n",
        "\n",
        "# Get a batch of training data\n",
        "inputs, classes = next(iter(trainloader))\n",
        "\n",
        "# Make a grid from batch\n",
        "out = torchvision.utils.make_grid(inputs)\n",
        "\n",
        "imshow(out, title=[class_names[x] for x in classes])"
      ],
      "execution_count": 0,
      "outputs": [
        {
          "output_type": "display_data",
          "data": {
            "image/png": "[encoded data removed]",
            "text/plain": [
              "<Figure size 432x288 with 1 Axes>"
            ]
          },
          "metadata": {
            "tags": []
          }
        }
      ]
    },
    {
      "cell_type": "markdown",
      "metadata": {
        "colab_type": "text",
        "id": "JTxoJuH3RTRH"
      },
      "source": [
        "Training the model\n",
        "------------------\n",
        "\n",
        "This is the general function to train the model, which does two things:\n",
        "\n",
        "-  Scheduling the learning rate\n",
        "-  Saving the best model\n"
      ]
    },
    {
      "cell_type": "code",
      "metadata": {
        "id": "OB5jNaaUV6Vy",
        "colab_type": "code",
        "colab": {}
      },
      "source": [
        "def evaluate_model(model, loader, n_batches=None):\n",
        "    model.eval()\n",
        "    loss = 0.0\n",
        "    total = 0\n",
        "    correct = 0\n",
        "    with torch.no_grad():\n",
        "        for batch_i, data in enumerate(loader):\n",
        "            images, labels = data\n",
        "            images = images.to(device)\n",
        "            labels = labels.to(device)\n",
        "            outputs = model(images)\n",
        "            loss += criterion(outputs, labels)\n",
        "            _,predicted = torch.max(outputs.data,1)\n",
        "            total+=labels.size(0)\n",
        "            correct+=(predicted==labels).sum().item()\n",
        "            \n",
        "            if n_batches and (batch_i >= n_batches):\n",
        "              break\n",
        "            \n",
        "    loss /= total\n",
        "    acc = 100. * correct / total\n",
        "    return loss, acc, total"
      ],
      "execution_count": 0,
      "outputs": []
    },
    {
      "cell_type": "code",
      "metadata": {
        "id": "5wb-0JttUKQC",
        "colab_type": "code",
        "colab": {}
      },
      "source": [
        "def train_model(criterion, optimizer, scheduler, num_epochs=25):\n",
        "    since = time.time()\n",
        "\n",
        "    best_model_wts = copy.deepcopy(model.state_dict())\n",
        "    best_acc = 0.0\n",
        "    \n",
        "    for epoch in range(num_epochs):\n",
        "        print('Epoch {}/{}'.format(epoch+1, num_epochs))\n",
        "        print('-' * 10)\n",
        "        start = time.time()\n",
        "        \n",
        "        # Model Training step\n",
        "        scheduler.step()\n",
        "        model.train()  # Set model to training mode\n",
        "            \n",
        "        running_loss = 0.0\n",
        "        running_corrects = 0\n",
        "\n",
        "        # Iterate over data.\n",
        "        for batch_idx, (inputs, labels) in enumerate(trainloader):\n",
        "            inputs = inputs.to(device)\n",
        "            labels = labels.to(device)\n",
        "\n",
        "            # zero the parameter gradients\n",
        "            optimizer.zero_grad()\n",
        "\n",
        "            # forward            \n",
        "            outputs = model(inputs)\n",
        "            _, preds = torch.max(outputs, 1)\n",
        "            loss = criterion(outputs, labels)\n",
        "            \n",
        "            # backward + optimize\n",
        "            loss.backward()\n",
        "            optimizer.step()\n",
        "\n",
        "            # statistics\n",
        "            running_loss += loss.item()\n",
        "            running_corrects += torch.sum(preds == labels.data)\n",
        "\n",
        "            \n",
        "            if (batch_idx+1) % log_frequency == 0:\n",
        "                examples_this_epoch = (batch_idx+1) * len(inputs)\n",
        "                epoch_progress = 100. * (batch_idx+1) / len(trainloader)\n",
        "                \n",
        "                train_loss = running_loss / examples_this_epoch\n",
        "                train_acc = 100. * running_corrects.double() / examples_this_epoch\n",
        "\n",
        "                val_loss, val_acc, val_size = evaluate_model(model, valloader, n_batches=9)\n",
        "\n",
        "                # for plotting losses later\n",
        "                train_losses.append(train_loss)\n",
        "                train_accs.append(train_acc)\n",
        "\n",
        "                val_losses.append(val_loss)\n",
        "                val_accs.append(val_acc)\n",
        "      \n",
        "                print('Epoch: {} [{}/{} ({:.0f}%)]\\t'\n",
        "                      'Train Loss: {:.4f}, Train Acc: {:.4f}, Val Loss: {:.4f}, Val Acc: {:.4f}, Val Size: {}'.format(\n",
        "                    epoch+1, examples_this_epoch, train_size,\n",
        "                    epoch_progress, train_loss, train_acc, val_loss, val_acc, val_size))\n",
        "\n",
        "                # deep copy the best model\n",
        "                if val_acc > best_acc:\n",
        "                    best_acc = val_acc\n",
        "                    best_model_wts = copy.deepcopy(model.state_dict())            \n",
        "            \n",
        "        time_taken = (time.time()-start) / 60\n",
        "        print(\"Epoch: {} finished | Time taken: {}\".format(epoch+1, time_taken))\n",
        "          \n",
        "    time_elapsed = time.time() - since\n",
        "    print('Training complete in {:.0f}m {:.0f}s'.format(\n",
        "        time_elapsed // 60, time_elapsed % 60))\n",
        "    print('Best val Acc: {:4f}'.format(best_acc))\n",
        "\n",
        "    model.load_state_dict(best_model_wts)\n",
        "    # torch.save(model, 'mymodel' + '.pt')\n",
        "\n",
        "    return model"
      ],
      "execution_count": 0,
      "outputs": []
    },
    {
      "cell_type": "markdown",
      "metadata": {
        "colab_type": "text",
        "id": "odYgm0zzRTRM"
      },
      "source": [
        "Visualizing the model predictions\n",
        "^^^^^^^^^^^^^^^^^^^^^^^^^^^^^^^^^\n",
        "\n",
        "Generic function to display predictions for a few images\n",
        "\n",
        "\n"
      ]
    },
    {
      "cell_type": "code",
      "metadata": {
        "colab_type": "code",
        "id": "nciIb1Y7RTRO",
        "colab": {}
      },
      "source": [
        "def visualize_model(model, num_images=6):\n",
        "    was_training = model.training\n",
        "    model.eval()\n",
        "    images_so_far = 0\n",
        "    fig = plt.figure()\n",
        "\n",
        "    with torch.no_grad():\n",
        "        for i, (inputs, labels) in enumerate(dataloaders['val']):\n",
        "            inputs = inputs.to(device)\n",
        "            labels = labels.to(device)\n",
        "\n",
        "            outputs = model(inputs)\n",
        "            _, preds = torch.max(outputs, 1)\n",
        "\n",
        "            for j in range(inputs.size()[0]):\n",
        "                images_so_far += 1\n",
        "                ax = plt.subplot(num_images//2, 2, images_so_far)\n",
        "                ax.axis('off')\n",
        "                ax.set_title('predicted: {}'.format(class_names[preds[j]]))\n",
        "                imshow(inputs.cpu().data[j])\n",
        "\n",
        "                if images_so_far == num_images:\n",
        "                    model.train(mode=was_training)\n",
        "                    return\n",
        "        model.train(mode=was_training)"
      ],
      "execution_count": 0,
      "outputs": []
    },
    {
      "cell_type": "markdown",
      "metadata": {
        "id": "gpSQl6vM0F9o",
        "colab_type": "text"
      },
      "source": [
        "## Load pretrained model"
      ]
    },
    {
      "cell_type": "code",
      "metadata": {
        "colab_type": "code",
        "id": "D1OPIucHRTRT",
        "outputId": "14514401-bfd6-4800-c12c-05504285e271",
        "colab": {
          "base_uri": "https://localhost:8080/",
          "height": 34
        }
      },
      "source": [
        "start_time = time.time()\n",
        "model_res = models.resnet18(pretrained=True)\n",
        "print('Time to load the model: {:10f} seconds'.format((time.time()-start_time)))"
      ],
      "execution_count": 0,
      "outputs": [
        {
          "output_type": "stream",
          "text": [
            "Time to load the model:   0.252571 seconds\n"
          ],
          "name": "stdout"
        }
      ]
    },
    {
      "cell_type": "markdown",
      "metadata": {
        "colab_type": "text",
        "id": "hHHYR5ynRTRm"
      },
      "source": [
        "ConvNet as fixed feature extractor\n",
        "----------------------------------\n",
        "\n",
        "We freeze all the network except the final layer. We need\n",
        "to set ``requires_grad == False`` to freeze the parameters so that the\n",
        "gradients are not computed in ``backward()``.\n",
        "\n",
        "More about this in the documentation\n",
        "`here <http://pytorch.org/docs/notes/autograd.html#excluding-subgraphs-from-backward>`__.\n",
        "\n",
        "\n"
      ]
    },
    {
      "cell_type": "code",
      "metadata": {
        "id": "ZyTr-Fmjr_u2",
        "colab_type": "code",
        "colab": {}
      },
      "source": [
        "for param in model_res.parameters():\n",
        "    param.requires_grad = False\n",
        "\n",
        "num_ftrs = model_res.fc.in_features\n",
        "model_res.fc = nn.Linear(num_ftrs, 10)\n",
        "\n",
        "model = model_res.to(device)"
      ],
      "execution_count": 0,
      "outputs": []
    },
    {
      "cell_type": "code",
      "metadata": {
        "id": "AhOXjuAXtNiq",
        "colab_type": "code",
        "colab": {}
      },
      "source": [
        "criterion = nn.CrossEntropyLoss()\n",
        "\n",
        "# Observe that only parameters of final layer are being optimized as\n",
        "# opposed to before.\n",
        "optimizer_conv = optim.SGD(model.fc.parameters(), lr=0.001, momentum=0.9)\n",
        "\n",
        "# Decay LR by a factor of 0.1 every 7 epochs\n",
        "exp_lr_scheduler = lr_scheduler.StepLR(optimizer_conv, step_size=7, gamma=0.1)"
      ],
      "execution_count": 0,
      "outputs": []
    },
    {
      "cell_type": "code",
      "metadata": {
        "id": "4NnFIlnCtXVd",
        "colab_type": "code",
        "colab": {}
      },
      "source": [
        "  best_model_wts = copy.deepcopy(model.state_dict())\n",
        "  best_acc = 0.0\n",
        "  train_losses = []\n",
        "  train_accs = []\n",
        "  val_losses = []\n",
        "  val_accs = []"
      ],
      "execution_count": 0,
      "outputs": []
    },
    {
      "cell_type": "code",
      "metadata": {
        "id": "awDFGP3vtcq6",
        "colab_type": "code",
        "outputId": "94d35c4a-1a63-4d7c-b078-894c7b49d09d",
        "colab": {
          "base_uri": "https://localhost:8080/",
          "height": 1000
        }
      },
      "source": [
        "proxy_model = train_model(criterion, optimizer_conv, exp_lr_scheduler, num_epochs=5)"
      ],
      "execution_count": 0,
      "outputs": [
        {
          "output_type": "stream",
          "text": [
            "Epoch 1/5\n",
            "----------\n"
          ],
          "name": "stdout"
        },
        {
          "output_type": "stream",
          "text": [
            "/usr/local/lib/python3.6/dist-packages/torch/optim/lr_scheduler.py:100: UserWarning: Detected call of `lr_scheduler.step()` before `optimizer.step()`. In PyTorch 1.1.0 and later, you should call them in the opposite order: `optimizer.step()` before `lr_scheduler.step()`.  Failure to do this will result in PyTorch skipping the first value of the learning rate schedule.See more details at https://pytorch.org/docs/stable/optim.html#how-to-adjust-learning-rate\n",
            "  \"https://pytorch.org/docs/stable/optim.html#how-to-adjust-learning-rate\", UserWarning)\n"
          ],
          "name": "stderr"
        },
        {
          "output_type": "stream",
          "text": [
            "Epoch: 1 [8000/50000 (16%)]\tTrain Loss: 0.0811, Train Acc: 58.1125, Val Loss: 0.0560, Val Acc: 68.7500, Val Size: 160\n",
            "Epoch: 1 [16000/50000 (32%)]\tTrain Loss: 0.0648, Train Acc: 66.5687, Val Loss: 0.0486, Val Acc: 70.6250, Val Size: 160\n",
            "Epoch: 1 [24000/50000 (48%)]\tTrain Loss: 0.0582, Train Acc: 69.7333, Val Loss: 0.0462, Val Acc: 75.6250, Val Size: 160\n",
            "Epoch: 1 [32000/50000 (64%)]\tTrain Loss: 0.0541, Train Acc: 71.5750, Val Loss: 0.0475, Val Acc: 71.8750, Val Size: 160\n",
            "Epoch: 1 [40000/50000 (80%)]\tTrain Loss: 0.0519, Train Acc: 72.4175, Val Loss: 0.0468, Val Acc: 73.7500, Val Size: 160\n",
            "Epoch: 1 [48000/50000 (96%)]\tTrain Loss: 0.0502, Train Acc: 73.1917, Val Loss: 0.0451, Val Acc: 76.2500, Val Size: 160\n",
            "Epoch: 1 finished | Time taken: 1.3763028224309286\n",
            "Epoch 2/5\n",
            "----------\n",
            "Epoch: 2 [8000/50000 (16%)]\tTrain Loss: 0.0464, Train Acc: 74.0750, Val Loss: 0.0415, Val Acc: 78.7500, Val Size: 160\n",
            "Epoch: 2 [16000/50000 (32%)]\tTrain Loss: 0.0433, Train Acc: 75.8937, Val Loss: 0.0455, Val Acc: 73.7500, Val Size: 160\n",
            "Epoch: 2 [24000/50000 (48%)]\tTrain Loss: 0.0423, Train Acc: 76.6292, Val Loss: 0.0451, Val Acc: 75.6250, Val Size: 160\n",
            "Epoch: 2 [32000/50000 (64%)]\tTrain Loss: 0.0415, Train Acc: 77.1219, Val Loss: 0.0434, Val Acc: 73.7500, Val Size: 160\n",
            "Epoch: 2 [40000/50000 (80%)]\tTrain Loss: 0.0414, Train Acc: 77.2025, Val Loss: 0.0404, Val Acc: 78.1250, Val Size: 160\n",
            "Epoch: 2 [48000/50000 (96%)]\tTrain Loss: 0.0410, Train Acc: 77.3708, Val Loss: 0.0383, Val Acc: 73.1250, Val Size: 160\n",
            "Epoch: 2 finished | Time taken: 1.372917401790619\n",
            "Epoch 3/5\n",
            "----------\n",
            "Epoch: 3 [8000/50000 (16%)]\tTrain Loss: 0.0445, Train Acc: 75.7125, Val Loss: 0.0415, Val Acc: 75.0000, Val Size: 160\n",
            "Epoch: 3 [16000/50000 (32%)]\tTrain Loss: 0.0412, Train Acc: 77.4438, Val Loss: 0.0396, Val Acc: 79.3750, Val Size: 160\n",
            "Epoch: 3 [24000/50000 (48%)]\tTrain Loss: 0.0406, Train Acc: 77.7625, Val Loss: 0.0416, Val Acc: 76.2500, Val Size: 160\n",
            "Epoch: 3 [32000/50000 (64%)]\tTrain Loss: 0.0400, Train Acc: 78.0250, Val Loss: 0.0459, Val Acc: 75.0000, Val Size: 160\n",
            "Epoch: 3 [40000/50000 (80%)]\tTrain Loss: 0.0397, Train Acc: 78.2275, Val Loss: 0.0430, Val Acc: 76.8750, Val Size: 160\n",
            "Epoch: 3 [48000/50000 (96%)]\tTrain Loss: 0.0394, Train Acc: 78.3833, Val Loss: 0.0376, Val Acc: 79.3750, Val Size: 160\n",
            "Epoch: 3 finished | Time taken: 1.3704546610514323\n",
            "Epoch 4/5\n",
            "----------\n",
            "Epoch: 4 [8000/50000 (16%)]\tTrain Loss: 0.0429, Train Acc: 76.4625, Val Loss: 0.0373, Val Acc: 76.8750, Val Size: 160\n",
            "Epoch: 4 [16000/50000 (32%)]\tTrain Loss: 0.0403, Train Acc: 77.8563, Val Loss: 0.0407, Val Acc: 76.8750, Val Size: 160\n",
            "Epoch: 4 [24000/50000 (48%)]\tTrain Loss: 0.0391, Train Acc: 78.5000, Val Loss: 0.0428, Val Acc: 75.6250, Val Size: 160\n",
            "Epoch: 4 [32000/50000 (64%)]\tTrain Loss: 0.0388, Train Acc: 78.6625, Val Loss: 0.0366, Val Acc: 78.1250, Val Size: 160\n",
            "Epoch: 4 [40000/50000 (80%)]\tTrain Loss: 0.0386, Train Acc: 78.7975, Val Loss: 0.0375, Val Acc: 78.1250, Val Size: 160\n",
            "Epoch: 4 [48000/50000 (96%)]\tTrain Loss: 0.0382, Train Acc: 79.0521, Val Loss: 0.0483, Val Acc: 71.8750, Val Size: 160\n",
            "Epoch: 4 finished | Time taken: 1.3697127461433412\n",
            "Epoch 5/5\n",
            "----------\n",
            "Epoch: 5 [8000/50000 (16%)]\tTrain Loss: 0.0434, Train Acc: 76.2000, Val Loss: 0.0404, Val Acc: 76.2500, Val Size: 160\n",
            "Epoch: 5 [16000/50000 (32%)]\tTrain Loss: 0.0397, Train Acc: 78.1875, Val Loss: 0.0390, Val Acc: 79.3750, Val Size: 160\n",
            "Epoch: 5 [24000/50000 (48%)]\tTrain Loss: 0.0386, Train Acc: 78.7250, Val Loss: 0.0384, Val Acc: 79.3750, Val Size: 160\n",
            "Epoch: 5 [32000/50000 (64%)]\tTrain Loss: 0.0384, Train Acc: 78.9062, Val Loss: 0.0385, Val Acc: 76.8750, Val Size: 160\n",
            "Epoch: 5 [40000/50000 (80%)]\tTrain Loss: 0.0380, Train Acc: 79.0500, Val Loss: 0.0422, Val Acc: 75.0000, Val Size: 160\n",
            "Epoch: 5 [48000/50000 (96%)]\tTrain Loss: 0.0380, Train Acc: 79.0521, Val Loss: 0.0372, Val Acc: 78.7500, Val Size: 160\n",
            "Epoch: 5 finished | Time taken: 1.3800449252128602\n",
            "Training complete in 6m 52s\n",
            "Best val Acc: 79.375000\n"
          ],
          "name": "stdout"
        },
        {
          "output_type": "stream",
          "text": [
            "/usr/local/lib/python3.6/dist-packages/torch/serialization.py:292: UserWarning: Couldn't retrieve source code for container of type ResNet. It won't be checked for correctness upon loading.\n",
            "  \"type \" + obj.__name__ + \". It won't be checked \"\n",
            "/usr/local/lib/python3.6/dist-packages/torch/serialization.py:292: UserWarning: Couldn't retrieve source code for container of type Conv2d. It won't be checked for correctness upon loading.\n",
            "  \"type \" + obj.__name__ + \". It won't be checked \"\n",
            "/usr/local/lib/python3.6/dist-packages/torch/serialization.py:292: UserWarning: Couldn't retrieve source code for container of type BatchNorm2d. It won't be checked for correctness upon loading.\n",
            "  \"type \" + obj.__name__ + \". It won't be checked \"\n",
            "/usr/local/lib/python3.6/dist-packages/torch/serialization.py:292: UserWarning: Couldn't retrieve source code for container of type ReLU. It won't be checked for correctness upon loading.\n",
            "  \"type \" + obj.__name__ + \". It won't be checked \"\n",
            "/usr/local/lib/python3.6/dist-packages/torch/serialization.py:292: UserWarning: Couldn't retrieve source code for container of type MaxPool2d. It won't be checked for correctness upon loading.\n",
            "  \"type \" + obj.__name__ + \". It won't be checked \"\n",
            "/usr/local/lib/python3.6/dist-packages/torch/serialization.py:292: UserWarning: Couldn't retrieve source code for container of type Sequential. It won't be checked for correctness upon loading.\n",
            "  \"type \" + obj.__name__ + \". It won't be checked \"\n",
            "/usr/local/lib/python3.6/dist-packages/torch/serialization.py:292: UserWarning: Couldn't retrieve source code for container of type BasicBlock. It won't be checked for correctness upon loading.\n",
            "  \"type \" + obj.__name__ + \". It won't be checked \"\n",
            "/usr/local/lib/python3.6/dist-packages/torch/serialization.py:292: UserWarning: Couldn't retrieve source code for container of type AdaptiveAvgPool2d. It won't be checked for correctness upon loading.\n",
            "  \"type \" + obj.__name__ + \". It won't be checked \"\n",
            "/usr/local/lib/python3.6/dist-packages/torch/serialization.py:292: UserWarning: Couldn't retrieve source code for container of type Linear. It won't be checked for correctness upon loading.\n",
            "  \"type \" + obj.__name__ + \". It won't be checked \"\n"
          ],
          "name": "stderr"
        }
      ]
    },
    {
      "cell_type": "code",
      "metadata": {
        "id": "GhEHJQgYt4aY",
        "colab_type": "code",
        "outputId": "2f0f2f7a-a088-4d53-a2a7-a765c335784c",
        "colab": {
          "base_uri": "https://localhost:8080/",
          "height": 343
        }
      },
      "source": [
        "torch.save(proxy_model, 'myproxymodel_resnet' + '.pt')"
      ],
      "execution_count": 0,
      "outputs": [
        {
          "output_type": "stream",
          "text": [
            "/usr/local/lib/python3.6/dist-packages/torch/serialization.py:292: UserWarning: Couldn't retrieve source code for container of type ResNet. It won't be checked for correctness upon loading.\n",
            "  \"type \" + obj.__name__ + \". It won't be checked \"\n",
            "/usr/local/lib/python3.6/dist-packages/torch/serialization.py:292: UserWarning: Couldn't retrieve source code for container of type Conv2d. It won't be checked for correctness upon loading.\n",
            "  \"type \" + obj.__name__ + \". It won't be checked \"\n",
            "/usr/local/lib/python3.6/dist-packages/torch/serialization.py:292: UserWarning: Couldn't retrieve source code for container of type BatchNorm2d. It won't be checked for correctness upon loading.\n",
            "  \"type \" + obj.__name__ + \". It won't be checked \"\n",
            "/usr/local/lib/python3.6/dist-packages/torch/serialization.py:292: UserWarning: Couldn't retrieve source code for container of type ReLU. It won't be checked for correctness upon loading.\n",
            "  \"type \" + obj.__name__ + \". It won't be checked \"\n",
            "/usr/local/lib/python3.6/dist-packages/torch/serialization.py:292: UserWarning: Couldn't retrieve source code for container of type MaxPool2d. It won't be checked for correctness upon loading.\n",
            "  \"type \" + obj.__name__ + \". It won't be checked \"\n",
            "/usr/local/lib/python3.6/dist-packages/torch/serialization.py:292: UserWarning: Couldn't retrieve source code for container of type Sequential. It won't be checked for correctness upon loading.\n",
            "  \"type \" + obj.__name__ + \". It won't be checked \"\n",
            "/usr/local/lib/python3.6/dist-packages/torch/serialization.py:292: UserWarning: Couldn't retrieve source code for container of type BasicBlock. It won't be checked for correctness upon loading.\n",
            "  \"type \" + obj.__name__ + \". It won't be checked \"\n",
            "/usr/local/lib/python3.6/dist-packages/torch/serialization.py:292: UserWarning: Couldn't retrieve source code for container of type AdaptiveAvgPool2d. It won't be checked for correctness upon loading.\n",
            "  \"type \" + obj.__name__ + \". It won't be checked \"\n",
            "/usr/local/lib/python3.6/dist-packages/torch/serialization.py:292: UserWarning: Couldn't retrieve source code for container of type Linear. It won't be checked for correctness upon loading.\n",
            "  \"type \" + obj.__name__ + \". It won't be checked \"\n"
          ],
          "name": "stderr"
        }
      ]
    },
    {
      "cell_type": "code",
      "metadata": {
        "id": "m-mxDnod_-Kz",
        "colab_type": "code",
        "colab": {}
      },
      "source": [
        "loss, acc, total = evaluate_model(proxy_model, valloader)"
      ],
      "execution_count": 0,
      "outputs": []
    },
    {
      "cell_type": "code",
      "metadata": {
        "id": "fvDH9LiHAU2I",
        "colab_type": "code",
        "outputId": "29e605b8-8d5e-4c8b-f8ba-7ac9f333d060",
        "colab": {
          "base_uri": "https://localhost:8080/",
          "height": 34
        }
      },
      "source": [
        "print(loss, acc, total)"
      ],
      "execution_count": 0,
      "outputs": [
        {
          "output_type": "stream",
          "text": [
            "tensor(0.0388, device='cuda:0') 79.04 10000\n"
          ],
          "name": "stdout"
        }
      ]
    },
    {
      "cell_type": "code",
      "metadata": {
        "id": "KzqEriWcAo12",
        "colab_type": "code",
        "outputId": "8953b85d-71fe-4b32-c391-c3c071654eec",
        "colab": {
          "base_uri": "https://localhost:8080/",
          "height": 34
        }
      },
      "source": [
        "loss, acc, total = evaluate_model(model, valloader)\n",
        "print(loss, acc, total)"
      ],
      "execution_count": 0,
      "outputs": [
        {
          "output_type": "stream",
          "text": [
            "tensor(0.0390, device='cuda:0') 78.42 10000\n"
          ],
          "name": "stdout"
        }
      ]
    },
    {
      "cell_type": "code",
      "metadata": {
        "id": "2FhLEFhaCXBt",
        "colab_type": "code",
        "outputId": "d8cedc77-70b5-4ea6-c3db-f57d146366e7",
        "colab": {
          "base_uri": "https://localhost:8080/",
          "height": 34
        }
      },
      "source": [
        "model.parameters() == proxy_model.parameters()"
      ],
      "execution_count": 0,
      "outputs": [
        {
          "output_type": "execute_result",
          "data": {
            "text/plain": [
              "False"
            ]
          },
          "metadata": {
            "tags": []
          },
          "execution_count": 23
        }
      ]
    }
  ]
}