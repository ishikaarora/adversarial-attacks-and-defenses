{
  "nbformat": 4,
  "nbformat_minor": 0,
  "metadata": {
    "colab": {
      "name": "acc_cifar_model.ipynb",
      "provenance": []
    },
    "kernelspec": {
      "name": "python3",
      "display_name": "Python 3"
    },
    "accelerator": "GPU"
  },
  "cells": [
    {
      "cell_type": "code",
      "metadata": {
        "id": "aTEPIiF55euW",
        "colab_type": "code",
        "colab": {}
      },
      "source": [
        "from __future__ import print_function, division\n",
        "%matplotlib inline\n",
        "import torch\n",
        "import torch.nn as nn\n",
        "import torch.nn.functional as F\n",
        "import torch.optim as optim\n",
        "from torch.optim import lr_scheduler\n",
        "import numpy as np\n",
        "import pandas as pd\n",
        "import torchvision\n",
        "from torchvision import datasets, models, transforms\n",
        "from torch.utils.data import Dataset, DataLoader\n",
        "import matplotlib.pyplot as plt\n",
        "import time\n",
        "import os\n",
        "import copy\n",
        "from PIL import Image\n",
        "\n",
        "plt.ion()   # interactive mode"
      ],
      "execution_count": 0,
      "outputs": []
    },
    {
      "cell_type": "code",
      "metadata": {
        "id": "vMbf8mrE5lN7",
        "colab_type": "code",
        "colab": {}
      },
      "source": [
        "device = torch.device('cuda' if torch.cuda.is_available() else 'cpu')"
      ],
      "execution_count": 0,
      "outputs": []
    },
    {
      "cell_type": "code",
      "metadata": {
        "id": "LyJhtrvd5t4e",
        "colab_type": "code",
        "colab": {}
      },
      "source": [
        "cifar10_mean = [0.49139968 , 0.48215841 , 0.44653091]\n",
        "cifar10_std = [0.24703223,  0.24348513 , 0.26158784]"
      ],
      "execution_count": 0,
      "outputs": []
    },
    {
      "cell_type": "code",
      "metadata": {
        "id": "iCd71qqA51Iu",
        "colab_type": "code",
        "outputId": "3409913c-e396-4dab-f895-1370c388be43",
        "colab": {
          "base_uri": "https://localhost:8080/",
          "height": 71
        }
      },
      "source": [
        "transform_test = transforms.Compose([\n",
        "    transforms.Resize(224),\n",
        "    transforms.ToTensor(),\n",
        "    transforms.Normalize(cifar10_mean,cifar10_std)\n",
        "])\n",
        "\n",
        "testset = torchvision.datasets.CIFAR10(root = './data', train = False, download = True, transform= transform_test)\n",
        "\n",
        "testloader = torch.utils.data.DataLoader(testset, batch_size=1, shuffle=False, num_workers=2)"
      ],
      "execution_count": 4,
      "outputs": [
        {
          "output_type": "stream",
          "text": [
            "\r0it [00:00, ?it/s]"
          ],
          "name": "stderr"
        },
        {
          "output_type": "stream",
          "text": [
            "Downloading https://www.cs.toronto.edu/~kriz/cifar-10-python.tar.gz to ./data/cifar-10-python.tar.gz\n"
          ],
          "name": "stdout"
        },
        {
          "output_type": "stream",
          "text": [
            "100%|█████████▉| 169713664/170498071 [00:11<00:00, 15895703.06it/s]"
          ],
          "name": "stderr"
        },
        {
          "output_type": "stream",
          "text": [
            "Extracting ./data/cifar-10-python.tar.gz to ./data\n"
          ],
          "name": "stdout"
        }
      ]
    },
    {
      "cell_type": "code",
      "metadata": {
        "id": "J47sw8dchJ2_",
        "colab_type": "code",
        "outputId": "d00f953c-47dd-48df-dcac-324de66d54fc",
        "colab": {
          "base_uri": "https://localhost:8080/",
          "height": 34
        }
      },
      "source": [
        "print(len(testset))"
      ],
      "execution_count": 5,
      "outputs": [
        {
          "output_type": "stream",
          "text": [
            "10000\n"
          ],
          "name": "stdout"
        }
      ]
    },
    {
      "cell_type": "code",
      "metadata": {
        "id": "IiVb5CFH6HKw",
        "colab_type": "code",
        "colab": {}
      },
      "source": [
        "class mymodel(nn.Module):\n",
        "    \"\"\"Custom Model\"\"\"\n",
        "\n",
        "    def __init__(self, in_features, hidden_dim, n_classes):\n",
        "        \"\"\"Custom Model Builder.\"\"\"\n",
        "        super(mymodel, self).__init__()\n",
        "        \n",
        "        self.fc1 = nn.Linear(in_features, hidden_dim)\n",
        "        self.fc2 = nn.Linear(hidden_dim, hidden_dim//2)\n",
        "        self.fc3 = nn.Linear(hidden_dim//2, n_classes)\n",
        "   \n",
        "  \n",
        "    def forward(self, images):\n",
        "        \"\"\"Perform forward.\"\"\"\n",
        "        \n",
        "        images_vec = images.view(images.size(0), -1)\n",
        "        hidden_out = F.relu(self.fc1(images_vec))\n",
        "        hidden_out = F.relu(self.fc2(hidden_out))\n",
        "        scores = self.fc3(hidden_out)\n",
        "\n",
        "        return scores"
      ],
      "execution_count": 0,
      "outputs": []
    },
    {
      "cell_type": "code",
      "metadata": {
        "id": "ScUo9pUt6OLO",
        "colab_type": "code",
        "colab": {}
      },
      "source": [
        "model = torch.load(\"mymodel.pt\", map_location=torch.device(device))\n",
        "\n",
        "# model = model.to(device)"
      ],
      "execution_count": 0,
      "outputs": []
    },
    {
      "cell_type": "code",
      "metadata": {
        "id": "LH_k1Q_gfNNg",
        "colab_type": "code",
        "colab": {}
      },
      "source": [
        "def calculate_accuracy(model,loader):\n",
        "    model.eval()\n",
        "    total = 0\n",
        "    correct = 0\n",
        "    with torch.no_grad():\n",
        "        for data in loader:\n",
        "            images, labels = data\n",
        "            images = images.to(device)\n",
        "            labels = labels.to(device)\n",
        "            outputs = model(images)\n",
        "            _,predicted = torch.max(outputs.data,1)\n",
        "            total+=labels.size(0)\n",
        "            correct+=(predicted==labels).sum().item()\n",
        "    return (correct/total)*100, total"
      ],
      "execution_count": 0,
      "outputs": []
    },
    {
      "cell_type": "code",
      "metadata": {
        "id": "Lr9cIh10fX43",
        "colab_type": "code",
        "outputId": "c74e588f-bf94-4a35-cfaf-ef17d8e6517a",
        "colab": {
          "base_uri": "https://localhost:8080/",
          "height": 34
        }
      },
      "source": [
        "criterion = nn.CrossEntropyLoss()\n",
        "\n",
        "acc, data_size = calculate_accuracy(model, testloader)\n",
        "print(acc, data_size)"
      ],
      "execution_count": 9,
      "outputs": [
        {
          "output_type": "stream",
          "text": [
            "90.36 10000\n"
          ],
          "name": "stdout"
        }
      ]
    }
  ]
}