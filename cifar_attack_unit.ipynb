{
  "nbformat": 4,
  "nbformat_minor": 0,
  "metadata": {
    "colab": {
      "name": "cifar_attack_unit.ipynb",
      "provenance": [],
      "collapsed_sections": [],
      "toc_visible": true
    },
    "kernelspec": {
      "name": "python3",
      "display_name": "Python 3"
    },
    "accelerator": "GPU"
  },
  "cells": [
    {
      "cell_type": "markdown",
      "metadata": {
        "id": "48l22SUWnpTD",
        "colab_type": "text"
      },
      "source": [
        "## General setup and import functions"
      ]
    },
    {
      "cell_type": "code",
      "metadata": {
        "id": "aTEPIiF55euW",
        "colab_type": "code",
        "colab": {}
      },
      "source": [
        "from __future__ import print_function, division\n",
        "%matplotlib inline\n",
        "import torch\n",
        "import torch.nn as nn\n",
        "import torch.nn.functional as F\n",
        "import torch.optim as optim\n",
        "from torch.optim import lr_scheduler\n",
        "import numpy as np\n",
        "import pandas as pd\n",
        "import torchvision\n",
        "from torchvision import datasets, models, transforms\n",
        "from torch.utils.data import Dataset, DataLoader\n",
        "from torch.autograd import Variable\n",
        "import matplotlib.pyplot as plt\n",
        "import time\n",
        "import os\n",
        "import copy\n",
        "from PIL import Image\n",
        "import random\n",
        "\n",
        "plt.ion()   # interactive mode"
      ],
      "execution_count": 0,
      "outputs": []
    },
    {
      "cell_type": "code",
      "metadata": {
        "id": "vMbf8mrE5lN7",
        "colab_type": "code",
        "outputId": "a4da20e2-1a4c-4b97-91a8-9db42846c22e",
        "colab": {
          "base_uri": "https://localhost:8080/",
          "height": 34
        }
      },
      "source": [
        "device = torch.device('cuda' if torch.cuda.is_available() else 'cpu')\n",
        "print(device)"
      ],
      "execution_count": 74,
      "outputs": [
        {
          "output_type": "stream",
          "text": [
            "cuda\n"
          ],
          "name": "stdout"
        }
      ]
    },
    {
      "cell_type": "code",
      "metadata": {
        "id": "LyJhtrvd5t4e",
        "colab_type": "code",
        "colab": {}
      },
      "source": [
        "cifar10_mean = [0.49139968 , 0.48215841 , 0.44653091]\n",
        "cifar10_std = [0.24703223,  0.24348513 , 0.26158784]"
      ],
      "execution_count": 0,
      "outputs": []
    },
    {
      "cell_type": "code",
      "metadata": {
        "id": "iCd71qqA51Iu",
        "colab_type": "code",
        "outputId": "d3227b95-263d-48bd-dd1b-87410ef9743f",
        "colab": {
          "base_uri": "https://localhost:8080/",
          "height": 34
        }
      },
      "source": [
        "transform_test = transforms.Compose([\n",
        "    transforms.Resize(224),\n",
        "    transforms.ToTensor(),\n",
        "    transforms.Normalize(cifar10_mean,cifar10_std)\n",
        "])\n",
        "\n",
        "testset = torchvision.datasets.CIFAR10(root = './data', train = False, download = True, transform=transform_test)\n",
        "\n",
        "testloader = torch.utils.data.DataLoader(testset, batch_size=4, shuffle=False, num_workers=2)"
      ],
      "execution_count": 76,
      "outputs": [
        {
          "output_type": "stream",
          "text": [
            "Files already downloaded and verified\n"
          ],
          "name": "stdout"
        }
      ]
    },
    {
      "cell_type": "markdown",
      "metadata": {
        "id": "fdh7SVOGouE3",
        "colab_type": "text"
      },
      "source": [
        "#### Helper functions"
      ]
    },
    {
      "cell_type": "code",
      "metadata": {
        "id": "IiVb5CFH6HKw",
        "colab_type": "code",
        "colab": {}
      },
      "source": [
        "class mymodel(nn.Module):\n",
        "    \"\"\"Custom Model\"\"\"\n",
        "\n",
        "    def __init__(self, in_features, hidden_dim, n_classes):\n",
        "        \"\"\"Custom Model Builder.\"\"\"\n",
        "        super(mymodel, self).__init__()\n",
        "        \n",
        "        self.fc1 = nn.Linear(in_features, hidden_dim)\n",
        "        self.fc2 = nn.Linear(hidden_dim, hidden_dim//2)\n",
        "        self.fc3 = nn.Linear(hidden_dim//2, n_classes)\n",
        "   \n",
        "  \n",
        "    def forward(self, images):\n",
        "        \"\"\"Perform forward.\"\"\"\n",
        "        \n",
        "        images_vec = images.view(images.size(0), -1)\n",
        "        hidden_out = F.relu(self.fc1(images_vec))\n",
        "        hidden_out = F.relu(self.fc2(hidden_out))\n",
        "        scores = self.fc3(hidden_out)\n",
        "\n",
        "        return scores"
      ],
      "execution_count": 0,
      "outputs": []
    },
    {
      "cell_type": "code",
      "metadata": {
        "id": "LH_k1Q_gfNNg",
        "colab_type": "code",
        "colab": {}
      },
      "source": [
        "def calculate_accuracy(model, loader, print_freq=1000, attack=False):\n",
        "    model.eval()\n",
        "    total = 0\n",
        "    correct = 0\n",
        "    # with torch.no_grad():\n",
        "    for data in loader:\n",
        "        images, labels = data\n",
        "        images = images.to(device)\n",
        "        labels = labels.to(device)\n",
        "\n",
        "        if attack:\n",
        "            images = create_adversarial(model, images, labels)\n",
        "        outputs = model(images)\n",
        "        _,predicted = torch.max(outputs.data,1)\n",
        "        total+=labels.size(0)\n",
        "        correct+=(predicted==labels).sum().item()\n",
        "\n",
        "    if total % print_freq == 0:\n",
        "        print(\"Current Accuracy: {} / {} = {}\".format(correct, total, correct/total*100))\n",
        "    return (correct/total)*100, total"
      ],
      "execution_count": 0,
      "outputs": []
    },
    {
      "cell_type": "code",
      "metadata": {
        "id": "C858wZYNmBYs",
        "colab_type": "code",
        "colab": {}
      },
      "source": [
        "# FGSM Gradient attack code\n",
        "def gradient_attack(image, epsilon, data_grad):\n",
        "    # Collect the element-wise sign of the data gradient\n",
        "    sign_data_grad = data_grad.sign()\n",
        "    # Create the perturbed image by adjusting each pixel of the input image\n",
        "    perturbed_image = image + epsilon*sign_data_grad\n",
        "    # Adding clipping to maintain [0,1] range\n",
        "    perturbed_image = torch.clamp(perturbed_image, 0, 1)\n",
        "    # Return the perturbed image\n",
        "    return perturbed_image"
      ],
      "execution_count": 0,
      "outputs": []
    },
    {
      "cell_type": "markdown",
      "metadata": {
        "id": "gvYwvuMSFnNa",
        "colab_type": "text"
      },
      "source": [
        "## Atack functions"
      ]
    },
    {
      "cell_type": "markdown",
      "metadata": {
        "id": "N1HP7ofiGHhO",
        "colab_type": "text"
      },
      "source": [
        "### FGSM Attack"
      ]
    },
    {
      "cell_type": "code",
      "metadata": {
        "id": "gF3oxhEcGGi4",
        "colab_type": "code",
        "colab": {}
      },
      "source": [
        "# FGSM Attack\n",
        "def fgsm_attack(model, data, target, loss_fn, epsilon):\n",
        "    data.requires_grad = True\n",
        "    \n",
        "    output = model(data)\n",
        "    loss = loss_fn(output,target) \n",
        "    model.zero_grad()\n",
        "    loss.backward()\n",
        "    data_grad = data.grad.data\n",
        "    perturbed_data = gradient_attack(data, epsilon, data_grad)\n",
        "\n",
        "    return perturbed_data"
      ],
      "execution_count": 0,
      "outputs": []
    },
    {
      "cell_type": "markdown",
      "metadata": {
        "id": "JJIMyZUfomFF",
        "colab_type": "text"
      },
      "source": [
        "### Transferability Attack"
      ]
    },
    {
      "cell_type": "markdown",
      "metadata": {
        "id": "g2jLUDCJbGT3",
        "colab_type": "text"
      },
      "source": [
        "Load pretrained model on CIFAR-10"
      ]
    },
    {
      "cell_type": "code",
      "metadata": {
        "id": "tYoqWaujWlA5",
        "colab_type": "code",
        "colab": {
          "base_uri": "https://localhost:8080/",
          "height": 275
        },
        "outputId": "7c41d715-ef0f-4c18-94d6-6c2f59373202"
      },
      "source": [
        "# Load the proxy model for Transfer attack\n",
        "proxy_model = torch.load(\"proxy_model.pt\", map_location=torch.device(device))\n",
        "\n",
        "# We don't want to train the model, so tell PyTorch not to compute gradients\n",
        "# with respect to model parameters.\n",
        "for param in proxy_model.parameters():\n",
        "    param.requires_grad = False"
      ],
      "execution_count": 88,
      "outputs": [
        {
          "output_type": "stream",
          "text": [
            "/usr/local/lib/python3.6/dist-packages/torch/serialization.py:493: SourceChangeWarning: source code of class 'torchvision.models.resnet.ResNet' has changed. you can retrieve the original source code by accessing the object's source attribute or set `torch.nn.Module.dump_patches = True` and use the patch tool to revert the changes.\n",
            "  warnings.warn(msg, SourceChangeWarning)\n",
            "/usr/local/lib/python3.6/dist-packages/torch/serialization.py:493: SourceChangeWarning: source code of class 'torch.nn.modules.conv.Conv2d' has changed. you can retrieve the original source code by accessing the object's source attribute or set `torch.nn.Module.dump_patches = True` and use the patch tool to revert the changes.\n",
            "  warnings.warn(msg, SourceChangeWarning)\n",
            "/usr/local/lib/python3.6/dist-packages/torch/serialization.py:493: SourceChangeWarning: source code of class 'torch.nn.modules.batchnorm.BatchNorm2d' has changed. you can retrieve the original source code by accessing the object's source attribute or set `torch.nn.Module.dump_patches = True` and use the patch tool to revert the changes.\n",
            "  warnings.warn(msg, SourceChangeWarning)\n",
            "/usr/local/lib/python3.6/dist-packages/torch/serialization.py:493: SourceChangeWarning: source code of class 'torch.nn.modules.activation.ReLU' has changed. you can retrieve the original source code by accessing the object's source attribute or set `torch.nn.Module.dump_patches = True` and use the patch tool to revert the changes.\n",
            "  warnings.warn(msg, SourceChangeWarning)\n",
            "/usr/local/lib/python3.6/dist-packages/torch/serialization.py:493: SourceChangeWarning: source code of class 'torch.nn.modules.pooling.MaxPool2d' has changed. you can retrieve the original source code by accessing the object's source attribute or set `torch.nn.Module.dump_patches = True` and use the patch tool to revert the changes.\n",
            "  warnings.warn(msg, SourceChangeWarning)\n",
            "/usr/local/lib/python3.6/dist-packages/torch/serialization.py:493: SourceChangeWarning: source code of class 'torch.nn.modules.pooling.AdaptiveAvgPool2d' has changed. you can retrieve the original source code by accessing the object's source attribute or set `torch.nn.Module.dump_patches = True` and use the patch tool to revert the changes.\n",
            "  warnings.warn(msg, SourceChangeWarning)\n",
            "/usr/local/lib/python3.6/dist-packages/torch/serialization.py:493: SourceChangeWarning: source code of class 'torch.nn.modules.linear.Linear' has changed. you can retrieve the original source code by accessing the object's source attribute or set `torch.nn.Module.dump_patches = True` and use the patch tool to revert the changes.\n",
            "  warnings.warn(msg, SourceChangeWarning)\n"
          ],
          "name": "stderr"
        }
      ]
    },
    {
      "cell_type": "code",
      "metadata": {
        "id": "uO4X5CsJLomp",
        "colab_type": "code",
        "outputId": "91343ff1-1093-47a1-c884-e99fd6283b4a",
        "colab": {
          "base_uri": "https://localhost:8080/",
          "height": 34
        }
      },
      "source": [
        "# proxy_acc, data_size = calculate_accuracy(proxy_model, testloader)\n",
        "# print(proxy_acc, data_size)"
      ],
      "execution_count": 0,
      "outputs": [
        {
          "output_type": "stream",
          "text": [
            "81.91000000000001 10000\n"
          ],
          "name": "stdout"
        }
      ]
    },
    {
      "cell_type": "code",
      "metadata": {
        "id": "4-iPSgZBqCM8",
        "colab_type": "code",
        "colab": {}
      },
      "source": [
        "def transfer_attack(data, target, loss_fn, epsilon):\n",
        "    # Attack setup\n",
        "    data.requires_grad = True\n",
        "    \n",
        "    proxy_output = proxy_model(data)\n",
        "    # Calculate the loss, forward pass\n",
        "    loss = loss_fn(proxy_output, target)\n",
        "    # Zero all existing gradients\n",
        "    proxy_model.zero_grad()\n",
        "    # Calculate gradients of model in backward pass\n",
        "    loss.backward()\n",
        "    # Collect datagrad\n",
        "    data_grad = data.grad.data\n",
        "    \n",
        "    # Call FGSM Attack\n",
        "    perturbed_data = gradient_attack(data, epsilon, data_grad)\n",
        "    \n",
        "    return perturbed_data"
      ],
      "execution_count": 0,
      "outputs": []
    },
    {
      "cell_type": "markdown",
      "metadata": {
        "id": "PasZa8ffEqyI",
        "colab_type": "text"
      },
      "source": [
        "### CW Attack"
      ]
    },
    {
      "cell_type": "code",
      "metadata": {
        "id": "e_kX6n3CVoeb",
        "colab_type": "code",
        "outputId": "7ba9873c-e3ff-4551-c76c-4285e2da8ad6",
        "colab": {
          "base_uri": "https://localhost:8080/",
          "height": 479
        }
      },
      "source": [
        "pip install foolbox"
      ],
      "execution_count": 83,
      "outputs": [
        {
          "output_type": "stream",
          "text": [
            "Collecting foolbox\n",
            "\u001b[?25l  Downloading https://files.pythonhosted.org/packages/d2/fa/4c7e7caf3caa11b63acb84d280e2a589d91aeca27edd5023cc19aa2441fc/foolbox-2.2.1.tar.gz (1.9MB)\n",
            "\r\u001b[K     |▏                               | 10kB 21.5MB/s eta 0:00:01\r\u001b[K     |▍                               | 20kB 2.2MB/s eta 0:00:01\r\u001b[K     |▌                               | 30kB 3.2MB/s eta 0:00:01\r\u001b[K     |▊                               | 40kB 2.1MB/s eta 0:00:01\r\u001b[K     |▉                               | 51kB 2.6MB/s eta 0:00:01\r\u001b[K     |█                               | 61kB 3.1MB/s eta 0:00:01\r\u001b[K     |█▎                              | 71kB 3.6MB/s eta 0:00:01\r\u001b[K     |█▍                              | 81kB 4.0MB/s eta 0:00:01\r\u001b[K     |█▋                              | 92kB 4.5MB/s eta 0:00:01\r\u001b[K     |█▊                              | 102kB 3.4MB/s eta 0:00:01\r\u001b[K     |██                              | 112kB 3.4MB/s eta 0:00:01\r\u001b[K     |██                              | 122kB 3.4MB/s eta 0:00:01\r\u001b[K     |██▎                             | 133kB 3.4MB/s eta 0:00:01\r\u001b[K     |██▌                             | 143kB 3.4MB/s eta 0:00:01\r\u001b[K     |██▋                             | 153kB 3.4MB/s eta 0:00:01\r\u001b[K     |██▉                             | 163kB 3.4MB/s eta 0:00:01\r\u001b[K     |███                             | 174kB 3.4MB/s eta 0:00:01\r\u001b[K     |███▏                            | 184kB 3.4MB/s eta 0:00:01\r\u001b[K     |███▍                            | 194kB 3.4MB/s eta 0:00:01\r\u001b[K     |███▌                            | 204kB 3.4MB/s eta 0:00:01\r\u001b[K     |███▊                            | 215kB 3.4MB/s eta 0:00:01\r\u001b[K     |███▉                            | 225kB 3.4MB/s eta 0:00:01\r\u001b[K     |████                            | 235kB 3.4MB/s eta 0:00:01\r\u001b[K     |████▏                           | 245kB 3.4MB/s eta 0:00:01\r\u001b[K     |████▍                           | 256kB 3.4MB/s eta 0:00:01\r\u001b[K     |████▋                           | 266kB 3.4MB/s eta 0:00:01\r\u001b[K     |████▊                           | 276kB 3.4MB/s eta 0:00:01\r\u001b[K     |█████                           | 286kB 3.4MB/s eta 0:00:01\r\u001b[K     |█████                           | 296kB 3.4MB/s eta 0:00:01\r\u001b[K     |█████▎                          | 307kB 3.4MB/s eta 0:00:01\r\u001b[K     |█████▌                          | 317kB 3.4MB/s eta 0:00:01\r\u001b[K     |█████▋                          | 327kB 3.4MB/s eta 0:00:01\r\u001b[K     |█████▉                          | 337kB 3.4MB/s eta 0:00:01\r\u001b[K     |██████                          | 348kB 3.4MB/s eta 0:00:01\r\u001b[K     |██████▏                         | 358kB 3.4MB/s eta 0:00:01\r\u001b[K     |██████▎                         | 368kB 3.4MB/s eta 0:00:01\r\u001b[K     |██████▌                         | 378kB 3.4MB/s eta 0:00:01\r\u001b[K     |██████▊                         | 389kB 3.4MB/s eta 0:00:01\r\u001b[K     |██████▉                         | 399kB 3.4MB/s eta 0:00:01\r\u001b[K     |███████                         | 409kB 3.4MB/s eta 0:00:01\r\u001b[K     |███████▏                        | 419kB 3.4MB/s eta 0:00:01\r\u001b[K     |███████▍                        | 430kB 3.4MB/s eta 0:00:01\r\u001b[K     |███████▋                        | 440kB 3.4MB/s eta 0:00:01\r\u001b[K     |███████▊                        | 450kB 3.4MB/s eta 0:00:01\r\u001b[K     |████████                        | 460kB 3.4MB/s eta 0:00:01\r\u001b[K     |████████                        | 471kB 3.4MB/s eta 0:00:01\r\u001b[K     |████████▎                       | 481kB 3.4MB/s eta 0:00:01\r\u001b[K     |████████▍                       | 491kB 3.4MB/s eta 0:00:01\r\u001b[K     |████████▋                       | 501kB 3.4MB/s eta 0:00:01\r\u001b[K     |████████▉                       | 512kB 3.4MB/s eta 0:00:01\r\u001b[K     |█████████                       | 522kB 3.4MB/s eta 0:00:01\r\u001b[K     |█████████▏                      | 532kB 3.4MB/s eta 0:00:01\r\u001b[K     |█████████▎                      | 542kB 3.4MB/s eta 0:00:01\r\u001b[K     |█████████▌                      | 552kB 3.4MB/s eta 0:00:01\r\u001b[K     |█████████▊                      | 563kB 3.4MB/s eta 0:00:01\r\u001b[K     |█████████▉                      | 573kB 3.4MB/s eta 0:00:01\r\u001b[K     |██████████                      | 583kB 3.4MB/s eta 0:00:01\r\u001b[K     |██████████▏                     | 593kB 3.4MB/s eta 0:00:01\r\u001b[K     |██████████▍                     | 604kB 3.4MB/s eta 0:00:01\r\u001b[K     |██████████▌                     | 614kB 3.4MB/s eta 0:00:01\r\u001b[K     |██████████▊                     | 624kB 3.4MB/s eta 0:00:01\r\u001b[K     |███████████                     | 634kB 3.4MB/s eta 0:00:01\r\u001b[K     |███████████                     | 645kB 3.4MB/s eta 0:00:01\r\u001b[K     |███████████▎                    | 655kB 3.4MB/s eta 0:00:01\r\u001b[K     |███████████▍                    | 665kB 3.4MB/s eta 0:00:01\r\u001b[K     |███████████▋                    | 675kB 3.4MB/s eta 0:00:01\r\u001b[K     |███████████▉                    | 686kB 3.4MB/s eta 0:00:01\r\u001b[K     |████████████                    | 696kB 3.4MB/s eta 0:00:01\r\u001b[K     |████████████▏                   | 706kB 3.4MB/s eta 0:00:01\r\u001b[K     |████████████▎                   | 716kB 3.4MB/s eta 0:00:01\r\u001b[K     |████████████▌                   | 727kB 3.4MB/s eta 0:00:01\r\u001b[K     |████████████▋                   | 737kB 3.4MB/s eta 0:00:01\r\u001b[K     |████████████▉                   | 747kB 3.4MB/s eta 0:00:01\r\u001b[K     |█████████████                   | 757kB 3.4MB/s eta 0:00:01\r\u001b[K     |█████████████▏                  | 768kB 3.4MB/s eta 0:00:01\r\u001b[K     |█████████████▍                  | 778kB 3.4MB/s eta 0:00:01\r\u001b[K     |█████████████▌                  | 788kB 3.4MB/s eta 0:00:01\r\u001b[K     |█████████████▊                  | 798kB 3.4MB/s eta 0:00:01\r\u001b[K     |██████████████                  | 808kB 3.4MB/s eta 0:00:01\r\u001b[K     |██████████████                  | 819kB 3.4MB/s eta 0:00:01\r\u001b[K     |██████████████▎                 | 829kB 3.4MB/s eta 0:00:01\r\u001b[K     |██████████████▍                 | 839kB 3.4MB/s eta 0:00:01\r\u001b[K     |██████████████▋                 | 849kB 3.4MB/s eta 0:00:01\r\u001b[K     |██████████████▊                 | 860kB 3.4MB/s eta 0:00:01\r\u001b[K     |███████████████                 | 870kB 3.4MB/s eta 0:00:01\r\u001b[K     |███████████████▏                | 880kB 3.4MB/s eta 0:00:01\r\u001b[K     |███████████████▎                | 890kB 3.4MB/s eta 0:00:01\r\u001b[K     |███████████████▌                | 901kB 3.4MB/s eta 0:00:01\r\u001b[K     |███████████████▋                | 911kB 3.4MB/s eta 0:00:01\r\u001b[K     |███████████████▉                | 921kB 3.4MB/s eta 0:00:01\r\u001b[K     |████████████████                | 931kB 3.4MB/s eta 0:00:01\r\u001b[K     |████████████████▏               | 942kB 3.4MB/s eta 0:00:01\r\u001b[K     |████████████████▍               | 952kB 3.4MB/s eta 0:00:01\r\u001b[K     |████████████████▌               | 962kB 3.4MB/s eta 0:00:01\r\u001b[K     |████████████████▊               | 972kB 3.4MB/s eta 0:00:01\r\u001b[K     |████████████████▉               | 983kB 3.4MB/s eta 0:00:01\r\u001b[K     |█████████████████               | 993kB 3.4MB/s eta 0:00:01\r\u001b[K     |█████████████████▎              | 1.0MB 3.4MB/s eta 0:00:01\r\u001b[K     |█████████████████▍              | 1.0MB 3.4MB/s eta 0:00:01\r\u001b[K     |█████████████████▋              | 1.0MB 3.4MB/s eta 0:00:01\r\u001b[K     |█████████████████▊              | 1.0MB 3.4MB/s eta 0:00:01\r\u001b[K     |██████████████████              | 1.0MB 3.4MB/s eta 0:00:01\r\u001b[K     |██████████████████              | 1.1MB 3.4MB/s eta 0:00:01\r\u001b[K     |██████████████████▎             | 1.1MB 3.4MB/s eta 0:00:01\r\u001b[K     |██████████████████▌             | 1.1MB 3.4MB/s eta 0:00:01\r\u001b[K     |██████████████████▋             | 1.1MB 3.4MB/s eta 0:00:01\r\u001b[K     |██████████████████▉             | 1.1MB 3.4MB/s eta 0:00:01\r\u001b[K     |███████████████████             | 1.1MB 3.4MB/s eta 0:00:01\r\u001b[K     |███████████████████▏            | 1.1MB 3.4MB/s eta 0:00:01\r\u001b[K     |███████████████████▍            | 1.1MB 3.4MB/s eta 0:00:01\r\u001b[K     |███████████████████▌            | 1.1MB 3.4MB/s eta 0:00:01\r\u001b[K     |███████████████████▊            | 1.1MB 3.4MB/s eta 0:00:01\r\u001b[K     |███████████████████▉            | 1.2MB 3.4MB/s eta 0:00:01\r\u001b[K     |████████████████████            | 1.2MB 3.4MB/s eta 0:00:01\r\u001b[K     |████████████████████▏           | 1.2MB 3.4MB/s eta 0:00:01\r\u001b[K     |████████████████████▍           | 1.2MB 3.4MB/s eta 0:00:01\r\u001b[K     |████████████████████▋           | 1.2MB 3.4MB/s eta 0:00:01\r\u001b[K     |████████████████████▊           | 1.2MB 3.4MB/s eta 0:00:01\r\u001b[K     |█████████████████████           | 1.2MB 3.4MB/s eta 0:00:01\r\u001b[K     |█████████████████████           | 1.2MB 3.4MB/s eta 0:00:01\r\u001b[K     |█████████████████████▎          | 1.2MB 3.4MB/s eta 0:00:01\r\u001b[K     |█████████████████████▌          | 1.2MB 3.4MB/s eta 0:00:01\r\u001b[K     |█████████████████████▋          | 1.3MB 3.4MB/s eta 0:00:01\r\u001b[K     |█████████████████████▉          | 1.3MB 3.4MB/s eta 0:00:01\r\u001b[K     |██████████████████████          | 1.3MB 3.4MB/s eta 0:00:01\r\u001b[K     |██████████████████████▏         | 1.3MB 3.4MB/s eta 0:00:01\r\u001b[K     |██████████████████████▎         | 1.3MB 3.4MB/s eta 0:00:01\r\u001b[K     |██████████████████████▌         | 1.3MB 3.4MB/s eta 0:00:01\r\u001b[K     |██████████████████████▊         | 1.3MB 3.4MB/s eta 0:00:01\r\u001b[K     |██████████████████████▉         | 1.3MB 3.4MB/s eta 0:00:01\r\u001b[K     |███████████████████████         | 1.3MB 3.4MB/s eta 0:00:01\r\u001b[K     |███████████████████████▏        | 1.4MB 3.4MB/s eta 0:00:01\r\u001b[K     |███████████████████████▍        | 1.4MB 3.4MB/s eta 0:00:01\r\u001b[K     |███████████████████████▋        | 1.4MB 3.4MB/s eta 0:00:01\r\u001b[K     |███████████████████████▊        | 1.4MB 3.4MB/s eta 0:00:01\r\u001b[K     |████████████████████████        | 1.4MB 3.4MB/s eta 0:00:01\r\u001b[K     |████████████████████████        | 1.4MB 3.4MB/s eta 0:00:01\r\u001b[K     |████████████████████████▎       | 1.4MB 3.4MB/s eta 0:00:01\r\u001b[K     |████████████████████████▍       | 1.4MB 3.4MB/s eta 0:00:01\r\u001b[K     |████████████████████████▋       | 1.4MB 3.4MB/s eta 0:00:01\r\u001b[K     |████████████████████████▉       | 1.4MB 3.4MB/s eta 0:00:01\r\u001b[K     |█████████████████████████       | 1.5MB 3.4MB/s eta 0:00:01\r\u001b[K     |█████████████████████████▏      | 1.5MB 3.4MB/s eta 0:00:01\r\u001b[K     |█████████████████████████▎      | 1.5MB 3.4MB/s eta 0:00:01\r\u001b[K     |█████████████████████████▌      | 1.5MB 3.4MB/s eta 0:00:01\r\u001b[K     |█████████████████████████▊      | 1.5MB 3.4MB/s eta 0:00:01\r\u001b[K     |█████████████████████████▉      | 1.5MB 3.4MB/s eta 0:00:01\r\u001b[K     |██████████████████████████      | 1.5MB 3.4MB/s eta 0:00:01\r\u001b[K     |██████████████████████████▏     | 1.5MB 3.4MB/s eta 0:00:01\r\u001b[K     |██████████████████████████▍     | 1.5MB 3.4MB/s eta 0:00:01\r\u001b[K     |██████████████████████████▌     | 1.5MB 3.4MB/s eta 0:00:01\r\u001b[K     |██████████████████████████▊     | 1.6MB 3.4MB/s eta 0:00:01\r\u001b[K     |███████████████████████████     | 1.6MB 3.4MB/s eta 0:00:01\r\u001b[K     |███████████████████████████     | 1.6MB 3.4MB/s eta 0:00:01\r\u001b[K     |███████████████████████████▎    | 1.6MB 3.4MB/s eta 0:00:01\r\u001b[K     |███████████████████████████▍    | 1.6MB 3.4MB/s eta 0:00:01\r\u001b[K     |███████████████████████████▋    | 1.6MB 3.4MB/s eta 0:00:01\r\u001b[K     |███████████████████████████▉    | 1.6MB 3.4MB/s eta 0:00:01\r\u001b[K     |████████████████████████████    | 1.6MB 3.4MB/s eta 0:00:01\r\u001b[K     |████████████████████████████▏   | 1.6MB 3.4MB/s eta 0:00:01\r\u001b[K     |████████████████████████████▎   | 1.6MB 3.4MB/s eta 0:00:01\r\u001b[K     |████████████████████████████▌   | 1.7MB 3.4MB/s eta 0:00:01\r\u001b[K     |████████████████████████████▋   | 1.7MB 3.4MB/s eta 0:00:01\r\u001b[K     |████████████████████████████▉   | 1.7MB 3.4MB/s eta 0:00:01\r\u001b[K     |█████████████████████████████   | 1.7MB 3.4MB/s eta 0:00:01\r\u001b[K     |█████████████████████████████▏  | 1.7MB 3.4MB/s eta 0:00:01\r\u001b[K     |█████████████████████████████▍  | 1.7MB 3.4MB/s eta 0:00:01\r\u001b[K     |█████████████████████████████▌  | 1.7MB 3.4MB/s eta 0:00:01\r\u001b[K     |█████████████████████████████▊  | 1.7MB 3.4MB/s eta 0:00:01\r\u001b[K     |██████████████████████████████  | 1.7MB 3.4MB/s eta 0:00:01\r\u001b[K     |██████████████████████████████  | 1.8MB 3.4MB/s eta 0:00:01\r\u001b[K     |██████████████████████████████▎ | 1.8MB 3.4MB/s eta 0:00:01\r\u001b[K     |██████████████████████████████▍ | 1.8MB 3.4MB/s eta 0:00:01\r\u001b[K     |██████████████████████████████▋ | 1.8MB 3.4MB/s eta 0:00:01\r\u001b[K     |██████████████████████████████▊ | 1.8MB 3.4MB/s eta 0:00:01\r\u001b[K     |███████████████████████████████ | 1.8MB 3.4MB/s eta 0:00:01\r\u001b[K     |███████████████████████████████▏| 1.8MB 3.4MB/s eta 0:00:01\r\u001b[K     |███████████████████████████████▎| 1.8MB 3.4MB/s eta 0:00:01\r\u001b[K     |███████████████████████████████▌| 1.8MB 3.4MB/s eta 0:00:01\r\u001b[K     |███████████████████████████████▋| 1.8MB 3.4MB/s eta 0:00:01\r\u001b[K     |███████████████████████████████▉| 1.9MB 3.4MB/s eta 0:00:01\r\u001b[K     |████████████████████████████████| 1.9MB 3.4MB/s \n",
            "\u001b[?25hRequirement already satisfied: numpy in /usr/local/lib/python3.6/dist-packages (from foolbox) (1.17.3)\n",
            "Requirement already satisfied: scipy in /usr/local/lib/python3.6/dist-packages (from foolbox) (1.3.1)\n",
            "Requirement already satisfied: setuptools in /usr/local/lib/python3.6/dist-packages (from foolbox) (41.4.0)\n",
            "Requirement already satisfied: requests in /usr/local/lib/python3.6/dist-packages (from foolbox) (2.21.0)\n",
            "Collecting GitPython\n",
            "\u001b[?25l  Downloading https://files.pythonhosted.org/packages/aa/25/9fd9f0b05408021736a22ae73f837152c132e4ea85cdd71d186e24efec31/GitPython-3.0.4-py3-none-any.whl (454kB)\n",
            "\u001b[K     |████████████████████████████████| 460kB 41.0MB/s \n",
            "\u001b[?25hRequirement already satisfied: certifi>=2017.4.17 in /usr/local/lib/python3.6/dist-packages (from requests->foolbox) (2019.9.11)\n",
            "Requirement already satisfied: urllib3<1.25,>=1.21.1 in /usr/local/lib/python3.6/dist-packages (from requests->foolbox) (1.24.3)\n",
            "Requirement already satisfied: chardet<3.1.0,>=3.0.2 in /usr/local/lib/python3.6/dist-packages (from requests->foolbox) (3.0.4)\n",
            "Requirement already satisfied: idna<2.9,>=2.5 in /usr/local/lib/python3.6/dist-packages (from requests->foolbox) (2.8)\n",
            "Collecting gitdb2>=2.0.0\n",
            "\u001b[?25l  Downloading https://files.pythonhosted.org/packages/03/6c/99296f89bad2ef85626e1df9f677acbee8885bb043ad82ad3ed4746d2325/gitdb2-2.0.6-py2.py3-none-any.whl (63kB)\n",
            "\u001b[K     |████████████████████████████████| 71kB 9.0MB/s \n",
            "\u001b[?25hCollecting smmap2>=2.0.0\n",
            "  Downloading https://files.pythonhosted.org/packages/55/d2/866d45e3a121ee15a1dc013824d58072fd5c7799c9c34d01378eb262ca8f/smmap2-2.0.5-py2.py3-none-any.whl\n",
            "Building wheels for collected packages: foolbox\n",
            "  Building wheel for foolbox (setup.py) ... \u001b[?25l\u001b[?25hdone\n",
            "  Created wheel for foolbox: filename=foolbox-2.2.1-cp36-none-any.whl size=1925325 sha256=fd30f676e9e1b22b10857bee039cd039c7113afa1b09f2d8a5f55432ca13fa5f\n",
            "  Stored in directory: /root/.cache/pip/wheels/ad/e0/d0/7c816d84eeb9ef167f91a71f31cc37c541c4af62e8ca5e8227\n",
            "Successfully built foolbox\n",
            "Installing collected packages: smmap2, gitdb2, GitPython, foolbox\n",
            "Successfully installed GitPython-3.0.4 foolbox-2.2.1 gitdb2-2.0.6 smmap2-2.0.5\n"
          ],
          "name": "stdout"
        }
      ]
    },
    {
      "cell_type": "code",
      "metadata": {
        "id": "DUQJrdA8iorE",
        "colab_type": "code",
        "colab": {}
      },
      "source": [
        "def cw_attack(model, images, labels):\n",
        "  import foolbox\n",
        "  pymodel = foolbox.models.PyTorchModel(model, bounds=(0, 255), num_classes=10)\n",
        "  # images, labels = foolbox.utils.samples(dataset='cifar10', batchsize=16, data_format='channels_first', bounds=(0, 1))\n",
        "  attack = foolbox.attacks.CarliniWagnerL2Attack(pymodel)\n",
        "  adversarials = attack(images, labels)\n",
        "  return adversarials\n"
      ],
      "execution_count": 0,
      "outputs": []
    },
    {
      "cell_type": "markdown",
      "metadata": {
        "id": "vbhLFsv3JkPX",
        "colab_type": "text"
      },
      "source": [
        "### Create Adversarial samples from one of the three attacks"
      ]
    },
    {
      "cell_type": "code",
      "metadata": {
        "id": "gj_Z8w2VmF_2",
        "colab_type": "code",
        "colab": {}
      },
      "source": [
        "def create_adversarial(model, images, labels, epsilon=0.1):\n",
        "    loss_fn = nn.CrossEntropyLoss()\n",
        "    idx = random.uniform(0,1)\n",
        "    ##############################################################\n",
        "    #########  Different attack functions called here  ###########\n",
        "    ##############################################################\n",
        "    \n",
        "    if idx < 0.33:\n",
        "        perturbed_images = fgsm_attack(model, images, labels, loss_fn, epsilon)\n",
        "    elif idx < 0.66:\n",
        "        perturbed_images = cw_attack(model, images, labels)\n",
        "    else:\n",
        "        perturbed_images = transfer_attack(images, labels, loss_fn, epsilon)\n",
        "\n",
        "    return perturbed_images"
      ],
      "execution_count": 0,
      "outputs": []
    },
    {
      "cell_type": "markdown",
      "metadata": {
        "id": "oCt8Qo2Qnfwx",
        "colab_type": "text"
      },
      "source": [
        "### Load the target model and compare accuracies\n"
      ]
    },
    {
      "cell_type": "code",
      "metadata": {
        "id": "ScUo9pUt6OLO",
        "colab_type": "code",
        "colab": {}
      },
      "source": [
        "model = torch.load(\"mymodel.pt\", map_location=torch.device(device))\n",
        "\n",
        "# We don't want to train the model, so tell PyTorch not to compute gradients\n",
        "# with respect to model parameters.\n",
        "for param in model.parameters():\n",
        "    param.requires_grad = False"
      ],
      "execution_count": 0,
      "outputs": []
    },
    {
      "cell_type": "markdown",
      "metadata": {
        "id": "4pvXTsLYoXgf",
        "colab_type": "text"
      },
      "source": [
        "##### Target Model accuracy (no attack)"
      ]
    },
    {
      "cell_type": "code",
      "metadata": {
        "id": "Lr9cIh10fX43",
        "colab_type": "code",
        "outputId": "9fd1c5f5-6bd8-4452-ab78-00093110ec87",
        "colab": {
          "base_uri": "https://localhost:8080/",
          "height": 34
        }
      },
      "source": [
        "model_acc, data_size = calculate_accuracy(model, testloader)\n",
        "print(model_acc, data_size)"
      ],
      "execution_count": 0,
      "outputs": [
        {
          "output_type": "stream",
          "text": [
            "90.36 10000\n"
          ],
          "name": "stdout"
        }
      ]
    },
    {
      "cell_type": "markdown",
      "metadata": {
        "id": "lWHFN-OppDPC",
        "colab_type": "text"
      },
      "source": [
        "#### Model accuracy (after attack)"
      ]
    },
    {
      "cell_type": "markdown",
      "metadata": {
        "id": "IK8imYkWDk-y",
        "colab_type": "text"
      },
      "source": [
        "Do we need the labels from the test dataset. Can we attack without that?        \n",
        "Should we always attack and not only when the label is correct?"
      ]
    },
    {
      "cell_type": "code",
      "metadata": {
        "id": "DilfH3XebSSx",
        "colab_type": "code",
        "colab": {}
      },
      "source": [
        "def attack_accuracy(model, loader, print_freq=1000, epsilon=0.1):\n",
        "    model.eval()\n",
        "    total = 0\n",
        "    correct = 0\n",
        "\n",
        "    for data in loader:\n",
        "        images, labels = data\n",
        "        images = images.to(device)\n",
        "        labels = labels.to(device)\n",
        "        images = create_adversarial(model, images, labels, epsilon)\n",
        "\n",
        "        with torch.no_grad():\n",
        "          outputs = model(images)\n",
        "\n",
        "        _,predicted = torch.max(outputs.data,1)\n",
        "        total+=labels.size(0)\n",
        "        correct+=(predicted==labels).sum().item()\n",
        "\n",
        "        if total % print_freq == 0:\n",
        "            print(\"Current Accuracy: {} / {} = {}\".format(correct, total, correct/total*100))\n",
        "    return (correct/total)*100, total"
      ],
      "execution_count": 0,
      "outputs": []
    },
    {
      "cell_type": "code",
      "metadata": {
        "id": "tj5GpMq7Ekcy",
        "colab_type": "code",
        "outputId": "f2b7f130-fe7f-4e13-f1ea-734afd29eb9e",
        "colab": {
          "base_uri": "https://localhost:8080/",
          "height": 51
        }
      },
      "source": [
        "# Calculate model accuracy after attack \n",
        "# 0.3 FGSM - 0.7 Transfer\n",
        "attack_acc, data_size = calculate_accuracy(model, testloader, attack=True)\n",
        "print(attack_acc, data_size)"
      ],
      "execution_count": 86,
      "outputs": [
        {
          "output_type": "stream",
          "text": [
            "Current Accuracy: 1560 / 10000 = 15.6\n",
            "15.6 10000\n"
          ],
          "name": "stdout"
        }
      ]
    },
    {
      "cell_type": "code",
      "metadata": {
        "id": "A5BLMz1easFR",
        "colab_type": "code",
        "colab": {
          "base_uri": "https://localhost:8080/",
          "height": 51
        },
        "outputId": "e24763b2-78d4-4f06-d712-de4354869797"
      },
      "source": [
        "# Calculate model accuracy after attack \n",
        "# 0.3 FGSM - 0.7 Transfer\n",
        "attack_acc, data_size = attack_accuracy(model, testloader, print_freq=1000, epsilon=0.15)\n",
        "print(attack_acc, data_size)"
      ],
      "execution_count": 96,
      "outputs": [
        {
          "output_type": "stream",
          "text": [
            "Current Accuracy: 1341 / 10000 = 13.41\n",
            "13.41 10000\n"
          ],
          "name": "stdout"
        }
      ]
    },
    {
      "cell_type": "code",
      "metadata": {
        "id": "DtpPP0mNdrS7",
        "colab_type": "code",
        "colab": {
          "base_uri": "https://localhost:8080/",
          "height": 204
        },
        "outputId": "f342ed02-a486-4d7f-ef56-f428df4cef19"
      },
      "source": [
        "# Calculate model accuracy after attack \n",
        "# 50-50 FGSM-Transfer\n",
        "attack_acc, data_size = attack_accuracy(model, testloader, print_freq=1000, epsilon=0.15)\n",
        "print(attack_acc, data_size)"
      ],
      "execution_count": 106,
      "outputs": [
        {
          "output_type": "stream",
          "text": [
            "Current Accuracy: 122 / 1000 = 12.2\n",
            "Current Accuracy: 252 / 2000 = 12.6\n",
            "Current Accuracy: 407 / 3000 = 13.566666666666666\n",
            "Current Accuracy: 543 / 4000 = 13.575000000000001\n",
            "Current Accuracy: 672 / 5000 = 13.44\n",
            "Current Accuracy: 788 / 6000 = 13.133333333333333\n",
            "Current Accuracy: 924 / 7000 = 13.200000000000001\n",
            "Current Accuracy: 1076 / 8000 = 13.450000000000001\n",
            "Current Accuracy: 1203 / 9000 = 13.366666666666665\n",
            "Current Accuracy: 1340 / 10000 = 13.4\n",
            "13.4 10000\n"
          ],
          "name": "stdout"
        }
      ]
    },
    {
      "cell_type": "code",
      "metadata": {
        "id": "KeKV0PqHll81",
        "colab_type": "code",
        "colab": {}
      },
      "source": [
        "# Calculate model accuracy after attack \n",
        "# 33-33-33 FGSM-Transfer-CW\n",
        "attack_acc, data_size = attack_accuracy(model, testloader, print_freq=1000, epsilon=0.15)\n",
        "print(attack_acc, data_size)"
      ],
      "execution_count": 0,
      "outputs": []
    }
  ]
}