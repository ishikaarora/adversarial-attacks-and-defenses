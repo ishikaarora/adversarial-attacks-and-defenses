{
  "nbformat": 4,
  "nbformat_minor": 0,
  "metadata": {
    "colab": {
      "name": "cifar_attack_unit.ipynb",
      "provenance": [],
      "collapsed_sections": [
        "a5R2nydRakVM",
        "5VHZPOpfe3F4",
        "2nWmyBf6FMPo",
        "7OCZB0FOa9bW",
        "agfYBX0ecgMX"
      ],
      "toc_visible": true,
      "include_colab_link": true
    },
    "kernelspec": {
      "name": "python3",
      "display_name": "Python 3"
    },
    "accelerator": "GPU"
  },
  "cells": [
    {
      "cell_type": "markdown",
      "metadata": {
        "id": "view-in-github",
        "colab_type": "text"
      },
      "source": [
        "<a href=\"https://colab.research.google.com/github/ishikaarora/pytorch-tutorials/blob/master/cifar_attack_unit.ipynb\" target=\"_parent\"><img src=\"https://colab.research.google.com/assets/colab-badge.svg\" alt=\"Open In Colab\"/></a>"
      ]
    },
    {
      "cell_type": "markdown",
      "metadata": {
        "id": "48l22SUWnpTD",
        "colab_type": "text"
      },
      "source": [
        "## General setup and import functions"
      ]
    },
    {
      "cell_type": "code",
      "metadata": {
        "id": "aTEPIiF55euW",
        "colab_type": "code",
        "colab": {}
      },
      "source": [
        "from __future__ import print_function, division\n",
        "%matplotlib inline\n",
        "import torch\n",
        "import torch.nn as nn\n",
        "import torch.nn.functional as F\n",
        "import torch.optim as optim\n",
        "from torch.optim import lr_scheduler\n",
        "import numpy as np\n",
        "import pandas as pd\n",
        "import torchvision\n",
        "from torchvision import datasets, models, transforms\n",
        "from torch.utils.data import Dataset, DataLoader\n",
        "from torch.autograd import Variable\n",
        "import matplotlib.pyplot as plt\n",
        "import time\n",
        "import os\n",
        "import copy\n",
        "from PIL import Image\n",
        "import random\n",
        "\n",
        "plt.ion()   # interactive mode"
      ],
      "execution_count": 0,
      "outputs": []
    },
    {
      "cell_type": "code",
      "metadata": {
        "id": "7GEHqNcVefQL",
        "colab_type": "code",
        "outputId": "de955470-dae8-4a1b-88db-0520a4972391",
        "colab": {
          "base_uri": "https://localhost:8080/",
          "height": 105
        }
      },
      "source": [
        "pip install torchattacks"
      ],
      "execution_count": 0,
      "outputs": [
        {
          "output_type": "stream",
          "text": [
            "Collecting torchattacks\n",
            "  Downloading https://files.pythonhosted.org/packages/94/16/18bd730253040c685c3f39c666f418d6a9ad64addc894ace092f12e163ac/torchattacks-0.8-py3-none-any.whl\n",
            "Installing collected packages: torchattacks\n",
            "Successfully installed torchattacks-0.8\n"
          ],
          "name": "stdout"
        }
      ]
    },
    {
      "cell_type": "code",
      "metadata": {
        "id": "oHUgYwfiehw-",
        "colab_type": "code",
        "colab": {}
      },
      "source": [
        "import torchattacks"
      ],
      "execution_count": 0,
      "outputs": []
    },
    {
      "cell_type": "code",
      "metadata": {
        "id": "vMbf8mrE5lN7",
        "colab_type": "code",
        "outputId": "56c670c7-f8f6-4940-d760-6a7539e63c24",
        "colab": {
          "base_uri": "https://localhost:8080/",
          "height": 34
        }
      },
      "source": [
        "device = torch.device('cuda' if torch.cuda.is_available() else 'cpu')\n",
        "print(device)"
      ],
      "execution_count": 3,
      "outputs": [
        {
          "output_type": "stream",
          "text": [
            "cuda\n"
          ],
          "name": "stdout"
        }
      ]
    },
    {
      "cell_type": "code",
      "metadata": {
        "id": "qP5jwLauPWxv",
        "colab_type": "code",
        "outputId": "a585befa-e22a-42b3-ad3a-acd0aa069159",
        "colab": {
          "base_uri": "https://localhost:8080/",
          "height": 54
        }
      },
      "source": [
        "from google.colab import drive\n",
        "drive.mount('/content/gdrive')"
      ],
      "execution_count": 3,
      "outputs": [
        {
          "output_type": "stream",
          "text": [
            "Drive already mounted at /content/gdrive; to attempt to forcibly remount, call drive.mount(\"/content/gdrive\", force_remount=True).\n"
          ],
          "name": "stdout"
        }
      ]
    },
    {
      "cell_type": "code",
      "metadata": {
        "id": "REVIfa_yQyzM",
        "colab_type": "code",
        "colab": {}
      },
      "source": [
        "root_path = 'gdrive/My Drive/Colab Notebooks/Adversarial/' "
      ],
      "execution_count": 0,
      "outputs": []
    },
    {
      "cell_type": "code",
      "metadata": {
        "id": "LyJhtrvd5t4e",
        "colab_type": "code",
        "colab": {}
      },
      "source": [
        "cifar10_mean = [0.49139968 , 0.48215841 , 0.44653091]\n",
        "cifar10_std = [0.24703223,  0.24348513 , 0.26158784]"
      ],
      "execution_count": 0,
      "outputs": []
    },
    {
      "cell_type": "code",
      "metadata": {
        "id": "MczpVXdAYTz9",
        "colab_type": "code",
        "colab": {}
      },
      "source": [
        "BATCH_SIZE = 4"
      ],
      "execution_count": 0,
      "outputs": []
    },
    {
      "cell_type": "code",
      "metadata": {
        "id": "iCd71qqA51Iu",
        "colab_type": "code",
        "outputId": "c9fbcb45-c87d-4026-df8a-833c796edfe5",
        "colab": {
          "base_uri": "https://localhost:8080/",
          "height": 34
        }
      },
      "source": [
        "transform_test = transforms.Compose([\n",
        "    transforms.Resize(224),\n",
        "    transforms.ToTensor(),\n",
        "    transforms.Normalize(cifar10_mean,cifar10_std)\n",
        "])\n",
        "\n",
        "testset = torchvision.datasets.CIFAR10(root = './data', train = False, download = True, transform=transform_test)\n",
        "\n",
        "testloader = torch.utils.data.DataLoader(testset, batch_size=BATCH_SIZE, shuffle=False, num_workers=2)"
      ],
      "execution_count": 7,
      "outputs": [
        {
          "output_type": "stream",
          "text": [
            "Files already downloaded and verified\n"
          ],
          "name": "stdout"
        }
      ]
    },
    {
      "cell_type": "markdown",
      "metadata": {
        "id": "fdh7SVOGouE3",
        "colab_type": "text"
      },
      "source": [
        "#### Helper functions"
      ]
    },
    {
      "cell_type": "code",
      "metadata": {
        "id": "lMR7fjBnUuq9",
        "colab_type": "code",
        "colab": {}
      },
      "source": [
        "def calculate_accuracy(model, loader, print_freq=1000):\n",
        "    model.eval()\n",
        "    total = 0\n",
        "    correct = 0\n",
        "    # with torch.no_grad():\n",
        "    for data in loader:\n",
        "        images, labels = data\n",
        "        images = images.to(device)\n",
        "        labels = labels.to(device)\n",
        "        outputs = model(images)\n",
        "        _,predicted = torch.max(outputs.data,1)\n",
        "        total+=labels.size(0)\n",
        "        correct+=(predicted==labels).sum().item()\n",
        "\n",
        "        if total % print_freq == 0:\n",
        "            print(\"Current Accuracy: {} / {} = {}\".format(correct, total, correct/total*100))\n",
        "    return (correct/total)*100, total"
      ],
      "execution_count": 0,
      "outputs": []
    },
    {
      "cell_type": "code",
      "metadata": {
        "id": "C858wZYNmBYs",
        "colab_type": "code",
        "colab": {}
      },
      "source": [
        "# FGSM Gradient attack code\n",
        "def gradient_attack(image, epsilon, data_grad):\n",
        "    # Collect the element-wise sign of the data gradient\n",
        "    sign_data_grad = data_grad.sign()\n",
        "    # Create the perturbed image by adjusting each pixel of the input image\n",
        "    perturbed_image = image + epsilon*sign_data_grad\n",
        "    # Adding clipping to maintain [0,1] range\n",
        "    # perturbed_image = torch.clamp(perturbed_image, 0, 1)\n",
        "    # Return the perturbed image\n",
        "    return perturbed_image"
      ],
      "execution_count": 0,
      "outputs": []
    },
    {
      "cell_type": "code",
      "metadata": {
        "id": "gx1_OQXkav3g",
        "colab_type": "code",
        "colab": {}
      },
      "source": [
        "def imshow(inp, title=None):\n",
        "    \"\"\"Imshow for Tensor.\"\"\"\n",
        "    inp = inp.numpy().transpose((1, 2, 0))\n",
        "    # print(inp.shape)\n",
        "    inp = cifar10_std * inp + cifar10_mean\n",
        "    inp = np.clip(inp, 0, 1)\n",
        "    plt.imshow(inp)\n",
        "    if title is not None:\n",
        "        plt.title(title)\n",
        "    plt.pause(0.001)  # pause a bit so that plots are updated"
      ],
      "execution_count": 0,
      "outputs": []
    },
    {
      "cell_type": "markdown",
      "metadata": {
        "id": "9_7QOOOwd574",
        "colab_type": "text"
      },
      "source": [
        "### Load the main model"
      ]
    },
    {
      "cell_type": "code",
      "metadata": {
        "id": "1TeQEecVSBtK",
        "colab_type": "code",
        "colab": {}
      },
      "source": [
        "class mymodel(nn.Module):\n",
        "    \"\"\"Custom Model\"\"\"\n",
        "\n",
        "    def __init__(self, in_features, hidden_dim, n_classes):\n",
        "        \"\"\"Custom Model Builder.\"\"\"\n",
        "        super(mymodel, self).__init__()\n",
        "        \n",
        "        self.fc1 = nn.Linear(in_features, hidden_dim)\n",
        "        self.fc2 = nn.Linear(hidden_dim, hidden_dim//2)\n",
        "        self.fc3 = nn.Linear(hidden_dim//2, n_classes)\n",
        "   \n",
        "  \n",
        "    def forward(self, images):\n",
        "        \"\"\"Perform forward.\"\"\"\n",
        "        \n",
        "        images_vec = images.view(images.size(0), -1)\n",
        "        hidden_out = F.relu(self.fc1(images_vec))\n",
        "        hidden_out = F.relu(self.fc2(hidden_out))\n",
        "        scores = self.fc3(hidden_out)\n",
        "\n",
        "        return scores"
      ],
      "execution_count": 0,
      "outputs": []
    },
    {
      "cell_type": "code",
      "metadata": {
        "id": "VO9GwDi_d4X-",
        "colab_type": "code",
        "colab": {}
      },
      "source": [
        "model = torch.load(root_path+\"models/mymodel.pt\", map_location=torch.device(device))\n",
        "# model = torch.load(\"mymodel.pt\", map_location=torch.device(device))\n",
        "# We don't want to train the model, so tell PyTorch not to compute gradients\n",
        "# with respect to model parameters.\n",
        "for param in model.parameters():\n",
        "    param.requires_grad = False"
      ],
      "execution_count": 0,
      "outputs": []
    },
    {
      "cell_type": "code",
      "metadata": {
        "id": "eyrX7ELuEW_R",
        "colab_type": "code",
        "outputId": "7ccba39d-f271-4e9d-ac11-de644c2d18fe",
        "colab": {
          "base_uri": "https://localhost:8080/",
          "height": 204
        }
      },
      "source": [
        "model_acc, data_size = calculate_accuracy(model, testloader)\n",
        "print(model_acc, data_size)"
      ],
      "execution_count": 0,
      "outputs": [
        {
          "output_type": "stream",
          "text": [
            "Current Accuracy: 904 / 1000 = 90.4\n",
            "Current Accuracy: 1808 / 2000 = 90.4\n",
            "Current Accuracy: 2707 / 3000 = 90.23333333333333\n",
            "Current Accuracy: 3603 / 4000 = 90.075\n",
            "Current Accuracy: 4510 / 5000 = 90.2\n",
            "Current Accuracy: 5412 / 6000 = 90.2\n",
            "Current Accuracy: 6312 / 7000 = 90.17142857142856\n",
            "Current Accuracy: 7211 / 8000 = 90.1375\n",
            "Current Accuracy: 8126 / 9000 = 90.28888888888889\n",
            "Current Accuracy: 9036 / 10000 = 90.36\n",
            "90.36 10000\n"
          ],
          "name": "stdout"
        }
      ]
    },
    {
      "cell_type": "markdown",
      "metadata": {
        "id": "gvYwvuMSFnNa",
        "colab_type": "text"
      },
      "source": [
        "## Atack functions"
      ]
    },
    {
      "cell_type": "markdown",
      "metadata": {
        "id": "N1HP7ofiGHhO",
        "colab_type": "text"
      },
      "source": [
        "### FGSM Attack"
      ]
    },
    {
      "cell_type": "code",
      "metadata": {
        "id": "gF3oxhEcGGi4",
        "colab_type": "code",
        "colab": {}
      },
      "source": [
        "# FGSM Attack\n",
        "def fgsm_attack(model, data, target, **kwargs):\n",
        "    loss_fn = kwargs.get('loss_fn', nn.CrossEntropyLoss())\n",
        "    epsilon = kwargs.get('epsilon', 0.1)\n",
        "    data.requires_grad = True\n",
        "    \n",
        "    output = model(data)\n",
        "    loss = loss_fn(output,target) \n",
        "    model.zero_grad()\n",
        "    loss.backward()\n",
        "    data_grad = data.grad.data\n",
        "    perturbed_data = gradient_attack(data, epsilon, data_grad)\n",
        "\n",
        "    return perturbed_data"
      ],
      "execution_count": 0,
      "outputs": []
    },
    {
      "cell_type": "markdown",
      "metadata": {
        "id": "JJIMyZUfomFF",
        "colab_type": "text"
      },
      "source": [
        "### Transferability Attack"
      ]
    },
    {
      "cell_type": "markdown",
      "metadata": {
        "id": "g2jLUDCJbGT3",
        "colab_type": "text"
      },
      "source": [
        "Load pretrained model on CIFAR-10"
      ]
    },
    {
      "cell_type": "code",
      "metadata": {
        "id": "tYoqWaujWlA5",
        "colab_type": "code",
        "colab": {}
      },
      "source": [
        "# Load the proxy model for Transfer attack\n",
        "proxy_model = torch.load(root_path + \"models/myproxymodel_resnet.pt\", map_location=torch.device(device))\n",
        "# proxy_model = torch.load(\"myproxymodel_resnet.pt\", map_location=torch.device(device))\n",
        "# We don't want to train the model, so tell PyTorch not to compute gradients\n",
        "# with respect to model parameters.\n",
        "for param in proxy_model.parameters():\n",
        "    param.requires_grad = False"
      ],
      "execution_count": 0,
      "outputs": []
    },
    {
      "cell_type": "code",
      "metadata": {
        "id": "uO4X5CsJLomp",
        "colab_type": "code",
        "outputId": "0299cf9a-00ed-4385-e340-e980e395a9cb",
        "colab": {
          "base_uri": "https://localhost:8080/",
          "height": 204
        }
      },
      "source": [
        "proxy_acc, data_size = calculate_accuracy(proxy_model, testloader)\n",
        "print(proxy_acc, data_size)"
      ],
      "execution_count": 15,
      "outputs": [
        {
          "output_type": "stream",
          "text": [
            "Current Accuracy: 792 / 1000 = 79.2\n",
            "Current Accuracy: 1585 / 2000 = 79.25\n",
            "Current Accuracy: 2380 / 3000 = 79.33333333333333\n",
            "Current Accuracy: 3158 / 4000 = 78.95\n",
            "Current Accuracy: 3970 / 5000 = 79.4\n",
            "Current Accuracy: 4767 / 6000 = 79.45\n",
            "Current Accuracy: 5541 / 7000 = 79.15714285714286\n",
            "Current Accuracy: 6355 / 8000 = 79.4375\n",
            "Current Accuracy: 7140 / 9000 = 79.33333333333333\n",
            "Current Accuracy: 7946 / 10000 = 79.46\n",
            "79.46 10000\n"
          ],
          "name": "stdout"
        }
      ]
    },
    {
      "cell_type": "code",
      "metadata": {
        "id": "4-iPSgZBqCM8",
        "colab_type": "code",
        "colab": {}
      },
      "source": [
        "def transfer_attack(proxy_model, data, target, **kwargs):\n",
        "    # Attack setup\n",
        "    loss_fn = kwargs.get('loss_fn', nn.CrossEntropyLoss())\n",
        "    epsilon = kwargs.get('epsilon', 0.1)\n",
        "    data.requires_grad = True\n",
        "    \n",
        "    proxy_output = proxy_model(data)\n",
        "    # Calculate the loss, forward pass\n",
        "    loss = loss_fn(proxy_output, target)\n",
        "    # Zero all existing gradients\n",
        "    proxy_model.zero_grad()\n",
        "    # Calculate gradients of model in backward pass\n",
        "    loss.backward()\n",
        "    # Collect datagrad\n",
        "    data_grad = data.grad.data\n",
        "    \n",
        "    # Call FGSM Attack\n",
        "    perturbed_data = gradient_attack(data, epsilon, data_grad)\n",
        "    \n",
        "    return perturbed_data"
      ],
      "execution_count": 0,
      "outputs": []
    },
    {
      "cell_type": "markdown",
      "metadata": {
        "id": "PasZa8ffEqyI",
        "colab_type": "text"
      },
      "source": [
        "### CW Attack"
      ]
    },
    {
      "cell_type": "code",
      "metadata": {
        "id": "DUQJrdA8iorE",
        "colab_type": "code",
        "colab": {}
      },
      "source": [
        "def cw_attack(model, images, labels, **kwargs):\n",
        "  cw_attack_model = torchattacks.CW(model)\n",
        "  adversarial_images = cw_attack_model(images, labels)\n",
        "  return adversarial_images"
      ],
      "execution_count": 0,
      "outputs": []
    },
    {
      "cell_type": "code",
      "metadata": {
        "id": "riAjmwz8S4m3",
        "colab_type": "code",
        "outputId": "2aa8a055-a87c-4475-8817-012f89f764f4",
        "colab": {
          "base_uri": "https://localhost:8080/",
          "height": 188
        }
      },
      "source": [
        "# # Get a batch of training data\n",
        "# # inputs, classes = next(iter(trainloader))\n",
        "# adv_tensor = torch.tensor(adversarials)\n",
        "# # Make a grid from batch\n",
        "# print(adv_tensor.shape)\n",
        "# out = torchvision.utils.make_grid(adv_tensor)\n",
        "# print(out.shape)\n",
        "# imshow(out)"
      ],
      "execution_count": 0,
      "outputs": [
        {
          "output_type": "stream",
          "text": [
            "torch.Size([16, 3, 32, 32])\n",
            "torch.Size([3, 70, 274])\n",
            "(70, 274, 3)\n"
          ],
          "name": "stdout"
        },
        {
          "output_type": "display_data",
          "data": {
            "image/png": "[encoded data removed]",
            "text/plain": [
              "<Figure size 432x288 with 1 Axes>"
            ]
          },
          "metadata": {
            "tags": []
          }
        }
      ]
    },
    {
      "cell_type": "markdown",
      "metadata": {
        "id": "FJIfcUJbd0b4",
        "colab_type": "text"
      },
      "source": [
        "### Generate and save adversarial images\n"
      ]
    },
    {
      "cell_type": "code",
      "metadata": {
        "id": "jFJYsjUDX-lj",
        "colab_type": "code",
        "colab": {}
      },
      "source": [
        "def gen_adv_images(model, loader, max_samples=None, attack_type=\"fgsm\", **kwargs):\n",
        "  fin_adv_images = []\n",
        "  count = 0\n",
        "  for image, label in loader:\n",
        "    image, label = image.to(device), label.to(device)\n",
        "    if attack_type == \"fgsm\":\n",
        "        perturbed_images = fgsm_attack(model, image, label, **kwargs)\n",
        "    elif attack_type == \"transfer\":\n",
        "        perturbed_images = transfer_attack(proxy_model, image, label, **kwargs)\n",
        "    else:\n",
        "        perturbed_images = cw_attack(model, image, label, **kwargs)\n",
        "\n",
        "    # Not sure about this next line of code. Do I need to convert to numpy to be able to add this to the empty array fin_adv_images?\n",
        "    # adv_ex = adv_image.squeeze().detach().cpu().numpy()\n",
        "\n",
        "    fin_adv_images.append(perturbed_images)\n",
        "    count += 4\n",
        "    if max_samples is not None and count >= max_samples:\n",
        "      return fin_adv_images\n",
        "\n",
        "  return fin_adv_images"
      ],
      "execution_count": 0,
      "outputs": []
    },
    {
      "cell_type": "code",
      "metadata": {
        "id": "61Z9qfUTaxx2",
        "colab_type": "code",
        "colab": {}
      },
      "source": [
        "def generate_labels(model, loader, max_samples=None):\n",
        "  count = 0\n",
        "  labels = []\n",
        "  for image, label in testloader:\n",
        "    labels.append(label)\n",
        "    count += 4\n",
        "    if (max_samples is not None) and (count >= max_samples):\n",
        "      break\n",
        "      \n",
        "  print(len(labels))\n",
        "  labels = torch.cat(labels, dim=0)\n",
        "  return labels"
      ],
      "execution_count": 0,
      "outputs": []
    },
    {
      "cell_type": "code",
      "metadata": {
        "id": "6OoUmmfmbDHE",
        "colab_type": "code",
        "colab": {}
      },
      "source": [
        "def gen_adv_images_w_labels(model, loader, max_samples=None, attack_type=\"fgsm\", **kwargs):\n",
        "  fin_adv_images = []\n",
        "  labels = []\n",
        "  count = 0\n",
        "  for image, label in loader:\n",
        "    image, label = image.to(device), label.to(device)\n",
        "    if attack_type == \"fgsm\":\n",
        "        perturbed_images = fgsm_attack(model, image, label, **kwargs)\n",
        "    elif attack_type == \"transfer\":\n",
        "        perturbed_images = transfer_attack(proxy_model, image, label, **kwargs)\n",
        "    else:\n",
        "        perturbed_images = cw_attack(model, image, label, **kwargs)\n",
        "\n",
        "    # Not sure about this next line of code. Do I need to convert to numpy to be able to add this to the empty array fin_adv_images?\n",
        "    # adv_ex = adv_image.squeeze().detach().cpu().numpy()\n",
        "\n",
        "    fin_adv_images.append(perturbed_images.detach())\n",
        "    labels.append(label.detach())\n",
        "    count += BATCH_SIZE\n",
        "\n",
        "    if count % 1000 == 0:\n",
        "      print(\"Finished running \", count)\n",
        "\n",
        "    if max_samples is not None and count >= max_samples:\n",
        "      break\n",
        "\n",
        "  fin_adv_images = torch.cat(fin_adv_images, dim=0)\n",
        "  labels = torch.cat(labels, dim=0)\n",
        "  return fin_adv_images, labels"
      ],
      "execution_count": 0,
      "outputs": []
    },
    {
      "cell_type": "code",
      "metadata": {
        "id": "6Ek8wbEJKA2G",
        "colab_type": "code",
        "colab": {}
      },
      "source": [
        "# For running the attack on a subset of data with given start and end index\n",
        "def gen_adv_images_w_labels_subset(model, loader, start_index=None, end_index=None, attack_type=\"fgsm\", **kwargs):\n",
        "  fin_adv_images = []\n",
        "  labels = []\n",
        "  count = 0\n",
        "\n",
        "  for image, label in loader:\n",
        "    count += BATCH_SIZE\n",
        "    if start_index is not None and count >= start_index and count <= end_index:\n",
        "      image, label = image.to(device), label.to(device)\n",
        "      if attack_type == \"fgsm\":\n",
        "          perturbed_images = fgsm_attack(model, image, label, **kwargs)\n",
        "      elif attack_type == \"transfer\":\n",
        "          perturbed_images = transfer_attack(proxy_model, image, label, **kwargs)\n",
        "      else:\n",
        "          perturbed_images = cw_attack(model, image, label, **kwargs)\n",
        "\n",
        "    # Not sure about this next line of code. Do I need to convert to numpy to be able to add this to the empty array fin_adv_images?\n",
        "    # adv_ex = adv_image.squeeze().detach().cpu().numpy()\n",
        "\n",
        "      # perturbed_images = perturbed_images.\n",
        "      fin_adv_images.append(perturbed_images.detach())\n",
        "      labels.append(label.detach())\n",
        "    \n",
        "    if end_index is not None and count >= end_index:\n",
        "      break\n",
        "\n",
        "  fin_adv_images = torch.cat(fin_adv_images, dim=0)\n",
        "  labels = torch.cat(labels, dim=0)\n",
        "  return fin_adv_images, labels"
      ],
      "execution_count": 0,
      "outputs": []
    },
    {
      "cell_type": "markdown",
      "metadata": {
        "id": "9vAqR4wmjDyB",
        "colab_type": "text"
      },
      "source": [
        "### Different sample sets"
      ]
    },
    {
      "cell_type": "code",
      "metadata": {
        "id": "j6hMpvoY07fp",
        "colab_type": "code",
        "colab": {
          "base_uri": "https://localhost:8080/",
          "height": 34
        },
        "outputId": "4a00d548-0d51-4fad-9bdd-86865497267a"
      },
      "source": [
        "all_labels = generate_labels(model, testloader)"
      ],
      "execution_count": 44,
      "outputs": [
        {
          "output_type": "stream",
          "text": [
            "2500\n"
          ],
          "name": "stdout"
        }
      ]
    },
    {
      "cell_type": "code",
      "metadata": {
        "id": "jkBMi0RO1RP4",
        "colab_type": "code",
        "colab": {}
      },
      "source": [
        "torch.save(all_labels, 'all_labels.pt')"
      ],
      "execution_count": 0,
      "outputs": []
    },
    {
      "cell_type": "markdown",
      "metadata": {
        "id": "a5R2nydRakVM",
        "colab_type": "text"
      },
      "source": [
        "#### All CW (only 1200 for now)"
      ]
    },
    {
      "cell_type": "code",
      "metadata": {
        "id": "H_pJRUSXVp0n",
        "colab_type": "code",
        "colab": {}
      },
      "source": [
        "# cw_images = gen_adv_images(model, testloader, max_samples = 1200)\n",
        "\n",
        "# cw_images = torch.cat(cw_images, dim=0)\n",
        "# print(cw_images.shape)"
      ],
      "execution_count": 0,
      "outputs": []
    },
    {
      "cell_type": "code",
      "metadata": {
        "id": "vsWTJLjuZ5wg",
        "colab_type": "code",
        "colab": {}
      },
      "source": [
        "# torch.save(cw_images2, root_path+'cw_images.pt')"
      ],
      "execution_count": 0,
      "outputs": []
    },
    {
      "cell_type": "code",
      "metadata": {
        "id": "3e-BftaZcPky",
        "colab_type": "code",
        "outputId": "db05c840-ace6-4ad4-af39-65a5f9b529f3",
        "colab": {
          "base_uri": "https://localhost:8080/",
          "height": 51
        }
      },
      "source": [
        "# cw_labels = generate_labels(model, testloader, max_samples = 1200)\n",
        "# print(cw_labels.shape)"
      ],
      "execution_count": 0,
      "outputs": [
        {
          "output_type": "stream",
          "text": [
            "300\n",
            "torch.Size([1200])\n"
          ],
          "name": "stdout"
        }
      ]
    },
    {
      "cell_type": "code",
      "metadata": {
        "id": "2iysc8-geZNF",
        "colab_type": "code",
        "colab": {}
      },
      "source": [
        "# torch.save(cw_labels, root_path+'cw_labels.pt')"
      ],
      "execution_count": 0,
      "outputs": []
    },
    {
      "cell_type": "markdown",
      "metadata": {
        "id": "5VHZPOpfe3F4",
        "colab_type": "text"
      },
      "source": [
        "#### All FGSM (epsilon=0.10)"
      ]
    },
    {
      "cell_type": "code",
      "metadata": {
        "id": "S_WQ9S5qQChq",
        "colab_type": "code",
        "colab": {}
      },
      "source": [
        "kwargs = {'loss_fn': nn.CrossEntropyLoss(), 'epsilon': 0.10}"
      ],
      "execution_count": 0,
      "outputs": []
    },
    {
      "cell_type": "code",
      "metadata": {
        "id": "jozy3GJLXp5A",
        "colab_type": "code",
        "colab": {
          "base_uri": "https://localhost:8080/",
          "height": 204
        },
        "outputId": "74dce25a-6f2c-4345-8f2d-6339a9d2637e"
      },
      "source": [
        "fgsm_images, fgsm_labels = gen_adv_images_w_labels(model, testloader, max_samples=10000, attack_type='fgsm', **kwargs)\n",
        "print(fgsm_images.shape, fgsm_labels.shape)"
      ],
      "execution_count": 33,
      "outputs": [
        {
          "output_type": "stream",
          "text": [
            "Finished running  1000\n",
            "Finished running  2000\n",
            "Finished running  3000\n",
            "Finished running  4000\n",
            "Finished running  5000\n",
            "Finished running  6000\n",
            "Finished running  7000\n",
            "Finished running  8000\n",
            "Finished running  9000\n",
            "Finished running  10000\n",
            "torch.Size([10000, 3, 224, 224]) torch.Size([10000])\n"
          ],
          "name": "stdout"
        }
      ]
    },
    {
      "cell_type": "code",
      "metadata": {
        "id": "CBJXrB27fNrU",
        "colab_type": "code",
        "colab": {}
      },
      "source": [
        "torch.save(fgsm_images, root_path+'samples/fgsm_images_010.pt')\n",
        "torch.save(fgsm_labels, root_path+'samples/fgsm_labels_010.pt')"
      ],
      "execution_count": 0,
      "outputs": []
    },
    {
      "cell_type": "code",
      "metadata": {
        "id": "pGH_qP9ye2Ix",
        "colab_type": "code",
        "outputId": "0e486016-150f-4137-99d1-91ccdf699939",
        "colab": {
          "base_uri": "https://localhost:8080/",
          "height": 51
        }
      },
      "source": [
        "fgsm_images1, fgsm_labels1 = gen_adv_images_w_labels(model, testloader, max_samples=1200, attack_type='fgsm', **kwargs)\n",
        "print(fgsm_images1.shape, fgsm_labels1.shape)"
      ],
      "execution_count": 25,
      "outputs": [
        {
          "output_type": "stream",
          "text": [
            "Finished running  1000\n",
            "torch.Size([1200, 3, 224, 224]) torch.Size([1200])\n"
          ],
          "name": "stdout"
        }
      ]
    },
    {
      "cell_type": "code",
      "metadata": {
        "id": "ZfWZvnecQgQl",
        "colab_type": "code",
        "colab": {}
      },
      "source": [
        "torch.save(fgsm_images1, root_path+'samples/fgsm_images_010_1200.pt')\n",
        "# torch.save(fgsm_labels, root_path+'fgsm_labels_010.pt')"
      ],
      "execution_count": 0,
      "outputs": []
    },
    {
      "cell_type": "code",
      "metadata": {
        "id": "0h_Mfssxx9wz",
        "colab_type": "code",
        "colab": {}
      },
      "source": [
        "fgsm_images2, fgsm_labels2 = gen_adv_images_w_labels_subset(model, testloader, \n",
        "                                                  start_index=1200, end_index=3099, attack_type='fgsm', **kwargs)\n",
        "print(fgsm_images2.shape)"
      ],
      "execution_count": 0,
      "outputs": []
    },
    {
      "cell_type": "code",
      "metadata": {
        "id": "2wkR2xjf0lxh",
        "colab_type": "code",
        "colab": {}
      },
      "source": [
        "torch.save(fgsm_images2, root_path+'samples/fgsm_images_010_1200-3099.pt')\n",
        "# torch.save(mix_fgsm_labels, 'fgsm_labels_01_1200-3099.pt')"
      ],
      "execution_count": 0,
      "outputs": []
    },
    {
      "cell_type": "code",
      "metadata": {
        "id": "CllhfE3vRwPZ",
        "colab_type": "code",
        "colab": {
          "base_uri": "https://localhost:8080/",
          "height": 34
        },
        "outputId": "bd0f1419-0cdf-4351-f610-9201744ab181"
      },
      "source": [
        "fgsm_images3, fgsm_labels3 = gen_adv_images_w_labels_subset(model, testloader, \n",
        "                                                  start_index=3100, end_index=4999, attack_type='fgsm', **kwargs)\n",
        "print(fgsm_images3.shape)"
      ],
      "execution_count": 32,
      "outputs": [
        {
          "output_type": "stream",
          "text": [
            "torch.Size([1900, 3, 224, 224])\n"
          ],
          "name": "stdout"
        }
      ]
    },
    {
      "cell_type": "code",
      "metadata": {
        "id": "pdmMyzu0R7f4",
        "colab_type": "code",
        "colab": {}
      },
      "source": [
        "torch.save(fgsm_images3, root_path+'samples/fgsm_images_010_3100-4999.pt')\n",
        "# torch.save(fgsm_labels, root_path+'fgsm_labels_010.pt')"
      ],
      "execution_count": 0,
      "outputs": []
    },
    {
      "cell_type": "code",
      "metadata": {
        "id": "QSY2nx9LSQeh",
        "colab_type": "code",
        "colab": {
          "base_uri": "https://localhost:8080/",
          "height": 34
        },
        "outputId": "9bc33c73-6ce5-4ff7-fcc8-f943465c257c"
      },
      "source": [
        "fgsm_images4, fgsm_labels4 = gen_adv_images_w_labels_subset(model, testloader, \n",
        "                                                  start_index=5000, end_index=7499, attack_type='fgsm', **kwargs)\n",
        "print(fgsm_images4.shape)"
      ],
      "execution_count": 38,
      "outputs": [
        {
          "output_type": "stream",
          "text": [
            "torch.Size([2500, 3, 224, 224])\n"
          ],
          "name": "stdout"
        }
      ]
    },
    {
      "cell_type": "code",
      "metadata": {
        "id": "RXqeAeyBTCC8",
        "colab_type": "code",
        "colab": {}
      },
      "source": [
        "torch.save(fgsm_images4, root_path+'samples/fgsm_images_010_5000-7499.pt')\n",
        "# torch.save(fgsm_labels, root_path+'fgsm_labels_010.pt')"
      ],
      "execution_count": 0,
      "outputs": []
    },
    {
      "cell_type": "code",
      "metadata": {
        "id": "UlEttBLUTN7x",
        "colab_type": "code",
        "colab": {
          "base_uri": "https://localhost:8080/",
          "height": 34
        },
        "outputId": "58f420ea-397a-4c7a-e233-f8735405133c"
      },
      "source": [
        "fgsm_images5, fgsm_labels5 = gen_adv_images_w_labels_subset(model, testloader, \n",
        "                                                  start_index=7500, end_index=9999, attack_type='fgsm', **kwargs)\n",
        "print(fgsm_images5.shape)"
      ],
      "execution_count": 21,
      "outputs": [
        {
          "output_type": "stream",
          "text": [
            "torch.Size([2500, 3, 224, 224])\n"
          ],
          "name": "stdout"
        }
      ]
    },
    {
      "cell_type": "code",
      "metadata": {
        "id": "FlgdTLXhTWKv",
        "colab_type": "code",
        "colab": {}
      },
      "source": [
        "torch.save(fgsm_images5, root_path+'samples/fgsm_images_010_7500-9999.pt')\n",
        "# torch.save(fgsm_labels, root_path+'fgsm_labels_010.pt')"
      ],
      "execution_count": 0,
      "outputs": []
    },
    {
      "cell_type": "markdown",
      "metadata": {
        "id": "2nWmyBf6FMPo",
        "colab_type": "text"
      },
      "source": [
        "#### All FGSM (epsilon=0.15)"
      ]
    },
    {
      "cell_type": "code",
      "metadata": {
        "colab_type": "code",
        "id": "pkb3cm4QTfhw",
        "colab": {}
      },
      "source": [
        "kwargs = {'loss_fn': nn.CrossEntropyLoss(), 'epsilon': 0.15}"
      ],
      "execution_count": 0,
      "outputs": []
    },
    {
      "cell_type": "code",
      "metadata": {
        "colab_type": "code",
        "outputId": "4689a966-63ce-4aa9-ef58-8136ce9b43b6",
        "id": "i2cevoosZnkN",
        "colab": {
          "base_uri": "https://localhost:8080/",
          "height": 204
        }
      },
      "source": [
        "fgsm_images_15, fgsm_labels_15 = gen_adv_images_w_labels(model, testloader, max_samples=10000, attack_type='fgsm', **kwargs)\n",
        "print(fgsm_images_15.shape, fgsm_labels_15.shape)"
      ],
      "execution_count": 19,
      "outputs": [
        {
          "output_type": "stream",
          "text": [
            "Finished running  1000\n",
            "Finished running  2000\n",
            "Finished running  3000\n",
            "Finished running  4000\n",
            "Finished running  5000\n",
            "Finished running  6000\n",
            "Finished running  7000\n",
            "Finished running  8000\n",
            "Finished running  9000\n",
            "Finished running  10000\n",
            "torch.Size([10000, 3, 224, 224]) torch.Size([10000])\n"
          ],
          "name": "stdout"
        }
      ]
    },
    {
      "cell_type": "code",
      "metadata": {
        "colab_type": "code",
        "id": "T1kAUUNDZnkX",
        "colab": {}
      },
      "source": [
        "torch.save(fgsm_images_15, root_path+'samples/fgsm_images_015.pt')\n",
        "torch.save(fgsm_labels_15, root_path+'samples/fgsm_labels_015.pt')"
      ],
      "execution_count": 0,
      "outputs": []
    },
    {
      "cell_type": "code",
      "metadata": {
        "colab_type": "code",
        "outputId": "df1a7233-4bb8-47ea-8b47-a39ce7e1540a",
        "id": "YzI3o5dlTfh5",
        "colab": {
          "base_uri": "https://localhost:8080/",
          "height": 51
        }
      },
      "source": [
        "fgsm_images21, fgsm_labels21 = gen_adv_images_w_labels(model, testloader, max_samples=1200, attack_type='fgsm', **kwargs)\n",
        "print(fgsm_images21.shape, fgsm_labels21.shape)"
      ],
      "execution_count": 26,
      "outputs": [
        {
          "output_type": "stream",
          "text": [
            "Finished running  1000\n",
            "torch.Size([1200, 3, 224, 224]) torch.Size([1200])\n"
          ],
          "name": "stdout"
        }
      ]
    },
    {
      "cell_type": "code",
      "metadata": {
        "colab_type": "code",
        "id": "98hM7LN2Tfh9",
        "colab": {}
      },
      "source": [
        "torch.save(fgsm_images21, root_path+'samples/fgsm_images_015_1200.pt')\n",
        "# torch.save(fgsm_labels, root_path+'fgsm_labels_010.pt')"
      ],
      "execution_count": 0,
      "outputs": []
    },
    {
      "cell_type": "code",
      "metadata": {
        "colab_type": "code",
        "id": "fOvK0JhsTfiF",
        "colab": {
          "base_uri": "https://localhost:8080/",
          "height": 34
        },
        "outputId": "fb6969ca-4ee2-4ce9-d5ef-1c8f13f25e72"
      },
      "source": [
        "fgsm_images22, fgsm_labels22 = gen_adv_images_w_labels_subset(model, testloader, \n",
        "                                                  start_index=1200, end_index=3099, attack_type='fgsm', **kwargs)\n",
        "print(fgsm_images22.shape)"
      ],
      "execution_count": 29,
      "outputs": [
        {
          "output_type": "stream",
          "text": [
            "torch.Size([1900, 3, 224, 224])\n"
          ],
          "name": "stdout"
        }
      ]
    },
    {
      "cell_type": "code",
      "metadata": {
        "colab_type": "code",
        "id": "pQsUToLtTfiJ",
        "colab": {}
      },
      "source": [
        "torch.save(fgsm_images22, root_path+'samples/fgsm_images_015_1200-3099.pt')\n",
        "# torch.save(mix_fgsm_labels, 'fgsm_labels_01_1200-3099.pt')"
      ],
      "execution_count": 0,
      "outputs": []
    },
    {
      "cell_type": "code",
      "metadata": {
        "colab_type": "code",
        "outputId": "bd0f1419-0cdf-4351-f610-9201744ab181",
        "id": "WjX848QJTfiM",
        "colab": {
          "base_uri": "https://localhost:8080/",
          "height": 34
        }
      },
      "source": [
        "fgsm_images3, fgsm_labels3 = gen_adv_images_w_labels_subset(model, testloader, \n",
        "                                                  start_index=3100, end_index=4999, attack_type='fgsm', **kwargs)\n",
        "print(fgsm_images3.shape)"
      ],
      "execution_count": 0,
      "outputs": [
        {
          "output_type": "stream",
          "text": [
            "torch.Size([1900, 3, 224, 224])\n"
          ],
          "name": "stdout"
        }
      ]
    },
    {
      "cell_type": "code",
      "metadata": {
        "colab_type": "code",
        "id": "7PCfonR3TfiS",
        "colab": {}
      },
      "source": [
        "torch.save(fgsm_images3, root_path+'samples/fgsm_images_010_3100-4999.pt')\n",
        "# torch.save(fgsm_labels, root_path+'fgsm_labels_010.pt')"
      ],
      "execution_count": 0,
      "outputs": []
    },
    {
      "cell_type": "code",
      "metadata": {
        "colab_type": "code",
        "outputId": "9bc33c73-6ce5-4ff7-fcc8-f943465c257c",
        "id": "kZEGn9UzTfiZ",
        "colab": {
          "base_uri": "https://localhost:8080/",
          "height": 34
        }
      },
      "source": [
        "fgsm_images4, fgsm_labels4 = gen_adv_images_w_labels_subset(model, testloader, \n",
        "                                                  start_index=5000, end_index=7499, attack_type='fgsm', **kwargs)\n",
        "print(fgsm_images4.shape)"
      ],
      "execution_count": 0,
      "outputs": [
        {
          "output_type": "stream",
          "text": [
            "torch.Size([2500, 3, 224, 224])\n"
          ],
          "name": "stdout"
        }
      ]
    },
    {
      "cell_type": "code",
      "metadata": {
        "colab_type": "code",
        "id": "hb8i_HYfTfig",
        "colab": {}
      },
      "source": [
        "torch.save(fgsm_images4, root_path+'samples/fgsm_images_010_5000-7499.pt')\n",
        "# torch.save(fgsm_labels, root_path+'fgsm_labels_010.pt')"
      ],
      "execution_count": 0,
      "outputs": []
    },
    {
      "cell_type": "code",
      "metadata": {
        "colab_type": "code",
        "id": "YbzA-6C7Tfik",
        "colab": {}
      },
      "source": [
        "fgsm_images5, fgsm_labels5 = gen_adv_images_w_labels_subset(model, testloader, \n",
        "                                                  start_index=7500, end_index=9999, attack_type='fgsm', **kwargs)\n",
        "print(fgsm_images5.shape)"
      ],
      "execution_count": 0,
      "outputs": []
    },
    {
      "cell_type": "code",
      "metadata": {
        "colab_type": "code",
        "id": "XKodHDmrTfin",
        "colab": {}
      },
      "source": [
        "torch.save(fgsm_images5, root_path+'samples/fgsm_images_010_7500-9999.pt')\n",
        "# torch.save(fgsm_labels, root_path+'fgsm_labels_010.pt')"
      ],
      "execution_count": 0,
      "outputs": []
    },
    {
      "cell_type": "markdown",
      "metadata": {
        "colab_type": "text",
        "id": "7OCZB0FOa9bW"
      },
      "source": [
        "#### All Transfer (epsilon=0.10)"
      ]
    },
    {
      "cell_type": "code",
      "metadata": {
        "colab_type": "code",
        "id": "vcLd1aBda9bZ",
        "colab": {}
      },
      "source": [
        "kwargs = {'loss_fn': nn.CrossEntropyLoss(), 'epsilon': 0.10}"
      ],
      "execution_count": 0,
      "outputs": []
    },
    {
      "cell_type": "code",
      "metadata": {
        "id": "SAT0EjpPbEJR",
        "colab_type": "code",
        "colab": {
          "base_uri": "https://localhost:8080/",
          "height": 204
        },
        "outputId": "0c2a537c-1207-4e7b-94ac-8c6170839249"
      },
      "source": [
        "transfer_images, transfer_labels = gen_adv_images_w_labels(model, testloader, max_samples=10000, attack_type='transfer', **kwargs)\n",
        "print(transfer_images.shape, transfer_labels.shape)"
      ],
      "execution_count": 19,
      "outputs": [
        {
          "output_type": "stream",
          "text": [
            "Finished running  1000\n",
            "Finished running  2000\n",
            "Finished running  3000\n",
            "Finished running  4000\n",
            "Finished running  5000\n",
            "Finished running  6000\n",
            "Finished running  7000\n",
            "Finished running  8000\n",
            "Finished running  9000\n",
            "Finished running  10000\n",
            "torch.Size([10000, 3, 224, 224]) torch.Size([10000])\n"
          ],
          "name": "stdout"
        }
      ]
    },
    {
      "cell_type": "code",
      "metadata": {
        "colab_type": "code",
        "id": "3fmAHtrZa9bh",
        "colab": {}
      },
      "source": [
        "torch.save(transfer_images, root_path+'samples/transfer_images_010.pt')\n",
        "torch.save(transfer_labels, root_path+'samples/transfer_labels_010.pt')"
      ],
      "execution_count": 0,
      "outputs": []
    },
    {
      "cell_type": "code",
      "metadata": {
        "colab_type": "code",
        "outputId": "26ef7a02-8c77-499a-d26b-79c6ba3f2d0d",
        "id": "BhwcwiUn4tRT",
        "colab": {
          "base_uri": "https://localhost:8080/",
          "height": 34
        }
      },
      "source": [
        "transfer_images3, transfer_labels3 = gen_adv_images_w_labels_subset(model, testloader, \n",
        "                                                start_index=3100, end_index=4999, attack_type='transfer', **kwargs)\n",
        "print(transfer_images3.shape)"
      ],
      "execution_count": 21,
      "outputs": [
        {
          "output_type": "stream",
          "text": [
            "torch.Size([1900, 3, 224, 224])\n"
          ],
          "name": "stdout"
        }
      ]
    },
    {
      "cell_type": "code",
      "metadata": {
        "colab_type": "code",
        "id": "tRIG_8bh4tRg",
        "colab": {}
      },
      "source": [
        "torch.save(transfer_images3, root_path+'samples/transfer_images_010_3100-4999.pt')\n",
        "# torch.save(fgsm_labels, root_path+'fgsm_labels_010.pt')"
      ],
      "execution_count": 0,
      "outputs": []
    },
    {
      "cell_type": "markdown",
      "metadata": {
        "id": "agfYBX0ecgMX",
        "colab_type": "text"
      },
      "source": [
        "#### All Transfer (epsilon=0.15)"
      ]
    },
    {
      "cell_type": "code",
      "metadata": {
        "id": "acKzU6rQcvuz",
        "colab_type": "code",
        "colab": {}
      },
      "source": [
        "kwargs = {'loss_fn': nn.CrossEntropyLoss(), 'epsilon': 0.15}"
      ],
      "execution_count": 0,
      "outputs": []
    },
    {
      "cell_type": "code",
      "metadata": {
        "colab_type": "code",
        "outputId": "d1dd7e92-8c4e-47a0-ab08-6fa3915ce02f",
        "id": "XwzvwchQa9bd",
        "colab": {
          "base_uri": "https://localhost:8080/",
          "height": 204
        }
      },
      "source": [
        "transfer_images_15, transfer_labels_15 = gen_adv_images_w_labels(model, testloader, max_samples=10000, attack_type='transfer', **kwargs)\n",
        "print(transfer_images_15.shape, transfer_labels_15.shape)"
      ],
      "execution_count": 19,
      "outputs": [
        {
          "output_type": "stream",
          "text": [
            "Finished running  1000\n",
            "Finished running  2000\n",
            "Finished running  3000\n",
            "Finished running  4000\n",
            "Finished running  5000\n",
            "Finished running  6000\n",
            "Finished running  7000\n",
            "Finished running  8000\n",
            "Finished running  9000\n",
            "Finished running  10000\n",
            "torch.Size([10000, 3, 224, 224]) torch.Size([10000])\n"
          ],
          "name": "stdout"
        }
      ]
    },
    {
      "cell_type": "code",
      "metadata": {
        "id": "lDPYQp6gFU6T",
        "colab_type": "code",
        "colab": {}
      },
      "source": [
        "torch.save(transfer_images_15, root_path+'samples/transfer_images_015.pt')\n",
        "torch.save(transfer_labels_15, root_path+'samples/transfer_labels_015.pt')"
      ],
      "execution_count": 0,
      "outputs": []
    },
    {
      "cell_type": "code",
      "metadata": {
        "colab_type": "code",
        "outputId": "c8bd6de1-e188-46e4-b08f-dedf210164e0",
        "id": "oqZWcLU97hIP",
        "colab": {
          "base_uri": "https://localhost:8080/",
          "height": 34
        }
      },
      "source": [
        "transfer_images35, transfer_labels35 = gen_adv_images_w_labels_subset(model, testloader, \n",
        "                                                start_index=3100, end_index=4999, attack_type='transfer', **kwargs)\n",
        "print(transfer_images35.shape)"
      ],
      "execution_count": 24,
      "outputs": [
        {
          "output_type": "stream",
          "text": [
            "torch.Size([1900, 3, 224, 224])\n"
          ],
          "name": "stdout"
        }
      ]
    },
    {
      "cell_type": "code",
      "metadata": {
        "colab_type": "code",
        "id": "GbtnMQ_P7hIW",
        "colab": {}
      },
      "source": [
        "torch.save(transfer_images35, root_path+'samples/transfer_images_015_3100-4999.pt')\n",
        "# torch.save(fgsm_labels, root_path+'fgsm_labels_010.pt')"
      ],
      "execution_count": 0,
      "outputs": []
    },
    {
      "cell_type": "markdown",
      "metadata": {
        "id": "tXfo_NVffTg1",
        "colab_type": "text"
      },
      "source": [
        "#### 50-50 FGSM/Transfer (epsilon=0.10)"
      ]
    },
    {
      "cell_type": "code",
      "metadata": {
        "id": "kCRwOnGCfXpl",
        "colab_type": "code",
        "colab": {
          "base_uri": "https://localhost:8080/",
          "height": 34
        },
        "outputId": "8499cc94-6640-445c-8708-dbec4881e420"
      },
      "source": [
        "fgsm_images = torch.load(root_path+\"samples/fgsm_images_010.pt\")\n",
        "print(fgsm_images.shape)"
      ],
      "execution_count": 4,
      "outputs": [
        {
          "output_type": "stream",
          "text": [
            "torch.Size([10000, 3, 224, 224])\n"
          ],
          "name": "stdout"
        }
      ]
    },
    {
      "cell_type": "code",
      "metadata": {
        "id": "gwxXoIpjf30e",
        "colab_type": "code",
        "colab": {
          "base_uri": "https://localhost:8080/",
          "height": 34
        },
        "outputId": "bea507e2-1627-41b9-ef62-809269d58797"
      },
      "source": [
        "transfer_images = torch.load(root_path+\"samples/transfer_images_010.pt\")\n",
        "print(transfer_images.shape)"
      ],
      "execution_count": 5,
      "outputs": [
        {
          "output_type": "stream",
          "text": [
            "torch.Size([10000, 3, 224, 224])\n"
          ],
          "name": "stdout"
        }
      ]
    },
    {
      "cell_type": "code",
      "metadata": {
        "id": "vyiJ1pCAij8Q",
        "colab_type": "code",
        "colab": {
          "base_uri": "https://localhost:8080/",
          "height": 34
        },
        "outputId": "48e8dd55-d74a-4d86-a4a6-a35b0b38d32a"
      },
      "source": [
        "import sys\n",
        "sys.getsizeof(fgsm_images)"
      ],
      "execution_count": 10,
      "outputs": [
        {
          "output_type": "execute_result",
          "data": {
            "text/plain": [
              "72"
            ]
          },
          "metadata": {
            "tags": []
          },
          "execution_count": 10
        }
      ]
    },
    {
      "cell_type": "code",
      "metadata": {
        "id": "KeaOifU9gAH4",
        "colab_type": "code",
        "colab": {
          "base_uri": "https://localhost:8080/",
          "height": 201
        },
        "outputId": "c4efec1c-f243-477b-bb3e-b50d0b007b50"
      },
      "source": [
        "mixed_samples = torch.cat((fgsm_images[:5000,:,:,:], transfer_images[5000:,:,:,:]))\n",
        "print(mixed_samples.shape)"
      ],
      "execution_count": 7,
      "outputs": [
        {
          "output_type": "error",
          "ename": "RuntimeError",
          "evalue": "ignored",
          "traceback": [
            "\u001b[0;31m---------------------------------------------------------------------------\u001b[0m",
            "\u001b[0;31mRuntimeError\u001b[0m                              Traceback (most recent call last)",
            "\u001b[0;32m<ipython-input-7-95bf27f2dc50>\u001b[0m in \u001b[0;36m<module>\u001b[0;34m()\u001b[0m\n\u001b[0;32m----> 1\u001b[0;31m \u001b[0mmixed_samples\u001b[0m \u001b[0;34m=\u001b[0m \u001b[0mtorch\u001b[0m\u001b[0;34m.\u001b[0m\u001b[0mcat\u001b[0m\u001b[0;34m(\u001b[0m\u001b[0;34m(\u001b[0m\u001b[0mfgsm_images\u001b[0m\u001b[0;34m[\u001b[0m\u001b[0;34m:\u001b[0m\u001b[0;36m5000\u001b[0m\u001b[0;34m,\u001b[0m\u001b[0;34m:\u001b[0m\u001b[0;34m,\u001b[0m\u001b[0;34m:\u001b[0m\u001b[0;34m,\u001b[0m\u001b[0;34m:\u001b[0m\u001b[0;34m]\u001b[0m\u001b[0;34m,\u001b[0m \u001b[0mtransfer_images\u001b[0m\u001b[0;34m[\u001b[0m\u001b[0;36m5000\u001b[0m\u001b[0;34m:\u001b[0m\u001b[0;34m,\u001b[0m\u001b[0;34m:\u001b[0m\u001b[0;34m,\u001b[0m\u001b[0;34m:\u001b[0m\u001b[0;34m,\u001b[0m\u001b[0;34m:\u001b[0m\u001b[0;34m]\u001b[0m\u001b[0;34m)\u001b[0m\u001b[0;34m)\u001b[0m\u001b[0;34m\u001b[0m\u001b[0;34m\u001b[0m\u001b[0m\n\u001b[0m\u001b[1;32m      2\u001b[0m \u001b[0mprint\u001b[0m\u001b[0;34m(\u001b[0m\u001b[0mmixed_samples\u001b[0m\u001b[0;34m.\u001b[0m\u001b[0mshape\u001b[0m\u001b[0;34m)\u001b[0m\u001b[0;34m\u001b[0m\u001b[0;34m\u001b[0m\u001b[0m\n",
            "\u001b[0;31mRuntimeError\u001b[0m: CUDA out of memory. Tried to allocate 5.61 GiB (GPU 0; 15.90 GiB total capacity; 14.02 GiB already allocated; 1.18 GiB free; 3.62 MiB cached)"
          ]
        }
      ]
    },
    {
      "cell_type": "code",
      "metadata": {
        "id": "BoqqorF8oUYj",
        "colab_type": "code",
        "colab": {
          "base_uri": "https://localhost:8080/",
          "height": 289
        },
        "outputId": "278b51f9-30c8-4261-b54f-091d252852f2"
      },
      "source": [
        "! nvidia-smi"
      ],
      "execution_count": 23,
      "outputs": [
        {
          "output_type": "stream",
          "text": [
            "Tue Dec  3 02:08:05 2019       \n",
            "+-----------------------------------------------------------------------------+\n",
            "| NVIDIA-SMI 440.33.01    Driver Version: 418.67       CUDA Version: 10.1     |\n",
            "|-------------------------------+----------------------+----------------------+\n",
            "| GPU  Name        Persistence-M| Bus-Id        Disp.A | Volatile Uncorr. ECC |\n",
            "| Fan  Temp  Perf  Pwr:Usage/Cap|         Memory-Usage | GPU-Util  Compute M. |\n",
            "|===============================+======================+======================|\n",
            "|   0  Tesla P100-PCIE...  Off  | 00000000:00:04.0 Off |                    0 |\n",
            "| N/A   45C    P0    34W / 250W |  12367MiB / 16280MiB |      0%      Default |\n",
            "+-------------------------------+----------------------+----------------------+\n",
            "                                                                               \n",
            "+-----------------------------------------------------------------------------+\n",
            "| Processes:                                                       GPU Memory |\n",
            "|  GPU       PID   Type   Process name                             Usage      |\n",
            "|=============================================================================|\n",
            "+-----------------------------------------------------------------------------+\n"
          ],
          "name": "stdout"
        }
      ]
    },
    {
      "cell_type": "markdown",
      "metadata": {
        "id": "aX0meWe91Zl5",
        "colab_type": "text"
      },
      "source": [
        "### Extra Code - Mixed samples"
      ]
    },
    {
      "cell_type": "markdown",
      "metadata": {
        "id": "-1QtH1bb1eE9",
        "colab_type": "text"
      },
      "source": [
        "#### Epsilon = 0.10"
      ]
    },
    {
      "cell_type": "code",
      "metadata": {
        "id": "Y-Zo3W1q1hvK",
        "colab_type": "code",
        "colab": {}
      },
      "source": [
        "kwargs = {'loss_fn': nn.CrossEntropyLoss(), 'epsilon': 0.10}"
      ],
      "execution_count": 0,
      "outputs": []
    },
    {
      "cell_type": "code",
      "metadata": {
        "id": "Fw-vzcKyg_Gi",
        "colab_type": "code",
        "colab": {
          "base_uri": "https://localhost:8080/",
          "height": 34
        },
        "outputId": "852edba4-5668-42c9-e7a9-7be5241e0818"
      },
      "source": [
        "mix_fgsm_images, mix_fgsm_labels = gen_adv_images_w_labels_subset(model, testloader, \n",
        "                                                  start_index=1200, end_index=3099, attack_type='fgsm', **kwargs)\n",
        "print(mix_fgsm_images.shape, mix_fgsm_labels.shape)"
      ],
      "execution_count": 26,
      "outputs": [
        {
          "output_type": "stream",
          "text": [
            "torch.Size([1900, 3, 224, 224]) torch.Size([1900])\n"
          ],
          "name": "stdout"
        }
      ]
    },
    {
      "cell_type": "code",
      "metadata": {
        "id": "J-pDjrMqxbvT",
        "colab_type": "code",
        "colab": {}
      },
      "source": [
        "mix_fgsm_images, mix_fgsm_labels = gen_adv_images_w_labels_subset(model, testloader, \n",
        "                                                  start_index=1200, end_index=3099, attack_type='fgsm', **kwargs)\n",
        "print(mix_fgsm_images.shape, mix_fgsm_labels.shape)"
      ],
      "execution_count": 0,
      "outputs": []
    },
    {
      "cell_type": "code",
      "metadata": {
        "id": "vWqNiu9r0Qk8",
        "colab_type": "code",
        "colab": {
          "base_uri": "https://localhost:8080/",
          "height": 34
        },
        "outputId": "e636d238-c531-4e19-b376-0ec24e1f10e3"
      },
      "source": [
        "torch.cuda.memory_allocated()"
      ],
      "execution_count": 37,
      "outputs": [
        {
          "output_type": "execute_result",
          "data": {
            "text/plain": [
              "9355577344"
            ]
          },
          "metadata": {
            "tags": []
          },
          "execution_count": 37
        }
      ]
    },
    {
      "cell_type": "code",
      "metadata": {
        "id": "1Dui7LnWGtY5",
        "colab_type": "code",
        "colab": {}
      },
      "source": [
        "torch.cuda.empty_cache()"
      ],
      "execution_count": 0,
      "outputs": []
    },
    {
      "cell_type": "code",
      "metadata": {
        "id": "rW3vmJLkLhGh",
        "colab_type": "code",
        "outputId": "23b3f5fa-ea2d-4e79-d119-1f9d38868a7b",
        "colab": {
          "base_uri": "https://localhost:8080/",
          "height": 88
        }
      },
      "source": [
        "!ps -aux|grep python"
      ],
      "execution_count": 30,
      "outputs": [
        {
          "output_type": "stream",
          "text": [
            "root          23  0.2  0.8 422196 119712 ?       Sl   19:51   0:14 /usr/bin/python2 /usr/local/bin/jupyter-notebook --ip=\"172.28.0.2\" --port=9000 --FileContentsManager.root_dir=\"/\" --MappingKernelManager.root_dir=\"/content\"\n",
            "root         295  3.2 13.9 41303176 1854384 ?    Ssl  20:39   2:13 /usr/bin/python3 -m ipykernel_launcher -f /root/.local/share/jupyter/runtime/kernel-9508abf5-42cc-4e8c-9b18-d77bb9dde5a9.json\n",
            "root         868  0.0  0.0  39192  6592 ?        S    21:47   0:00 /bin/bash -c ps -aux|grep python\n"
          ],
          "name": "stdout"
        }
      ]
    },
    {
      "cell_type": "code",
      "metadata": {
        "id": "gFSrPv5rLq7E",
        "colab_type": "code",
        "colab": {}
      },
      "source": [
        "! kill 126"
      ],
      "execution_count": 0,
      "outputs": []
    },
    {
      "cell_type": "code",
      "metadata": {
        "id": "tA8WZPNMNwsx",
        "colab_type": "code",
        "colab": {}
      },
      "source": [
        "# !cat /proc/cpuinfo"
      ],
      "execution_count": 0,
      "outputs": []
    },
    {
      "cell_type": "code",
      "metadata": {
        "id": "u1PBsxVAm50v",
        "colab_type": "code",
        "colab": {
          "base_uri": "https://localhost:8080/",
          "height": 204
        },
        "outputId": "2066deab-2951-4226-a01a-a9fe1f9fc995"
      },
      "source": [
        "!df -h "
      ],
      "execution_count": 48,
      "outputs": [
        {
          "output_type": "stream",
          "text": [
            "Filesystem      Size  Used Avail Use% Mounted on\n",
            "overlay         359G   40G  301G  12% /\n",
            "tmpfs            64M     0   64M   0% /dev\n",
            "tmpfs           6.4G     0  6.4G   0% /sys/fs/cgroup\n",
            "tmpfs           6.4G   12K  6.4G   1% /var/colab\n",
            "/dev/sda1       365G   41G  325G  12% /opt/bin\n",
            "shm             5.9G  2.4M  5.9G   1% /dev/shm\n",
            "tmpfs           6.4G     0  6.4G   0% /proc/acpi\n",
            "tmpfs           6.4G     0  6.4G   0% /proc/scsi\n",
            "tmpfs           6.4G     0  6.4G   0% /sys/firmware\n",
            "drive           100G   47G   54G  47% /content/gdrive\n"
          ],
          "name": "stdout"
        }
      ]
    },
    {
      "cell_type": "code",
      "metadata": {
        "id": "4mJmpLvcUbuV",
        "colab_type": "code",
        "colab": {}
      },
      "source": [
        "# fgsm_images2.detach()"
      ],
      "execution_count": 0,
      "outputs": []
    }
  ]
}