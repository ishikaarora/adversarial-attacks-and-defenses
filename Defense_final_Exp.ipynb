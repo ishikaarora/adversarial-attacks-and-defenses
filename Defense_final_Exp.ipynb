{
  "nbformat": 4,
  "nbformat_minor": 0,
  "metadata": {
    "colab": {
      "name": "Defense_final_Exp.ipynb",
      "provenance": [],
      "collapsed_sections": [],
      "toc_visible": true,
      "machine_shape": "hm",
      "include_colab_link": true
    },
    "kernelspec": {
      "name": "python3",
      "display_name": "Python 3"
    }
  },
  "cells": [
    {
      "cell_type": "markdown",
      "metadata": {
        "id": "view-in-github",
        "colab_type": "text"
      },
      "source": [
        "<a href=\"https://colab.research.google.com/github/ishikaarora/pytorch-tutorials/blob/master/Defense_final_Exp.ipynb\" target=\"_parent\"><img src=\"https://colab.research.google.com/assets/colab-badge.svg\" alt=\"Open In Colab\"/></a>"
      ]
    },
    {
      "cell_type": "code",
      "metadata": {
        "id": "5ZMglXJLtwAs",
        "colab_type": "code",
        "colab": {}
      },
      "source": [
        "from __future__ import print_function, division\n",
        "%matplotlib inline\n",
        "import torch\n",
        "import torch.nn as nn\n",
        "import torch.nn.functional as F\n",
        "import torch.optim as optim\n",
        "from torch.optim import lr_scheduler\n",
        "import numpy as np\n",
        "import pandas as pd\n",
        "import torchvision\n",
        "from torchvision import datasets, models, transforms\n",
        "from torch.utils.data import Dataset, DataLoader, TensorDataset\n",
        "from torch.autograd import Variable\n",
        "import matplotlib.pyplot as plt\n",
        "import time\n",
        "import os\n",
        "import copy\n",
        "from PIL import Image\n",
        "import random\n",
        "import pandas as pd\n",
        "import numpy as np\n",
        "from scipy import interp\n",
        "from sklearn.metrics import precision_recall_fscore_support\n",
        "from sklearn.metrics import roc_curve, auc\n",
        "from sklearn.preprocessing import LabelBinarizer\n",
        "plt.ion()   # interactive mode\n",
        "from google.colab import drive\n",
        "from torchvision.datasets import CIFAR10\n"
      ],
      "execution_count": 0,
      "outputs": []
    },
    {
      "cell_type": "markdown",
      "metadata": {
        "id": "VxYQOn8vt-PG",
        "colab_type": "text"
      },
      "source": [
        "##  Model classes"
      ]
    },
    {
      "cell_type": "code",
      "metadata": {
        "id": "Sojm2nLAt83v",
        "colab_type": "code",
        "colab": {}
      },
      "source": [
        "class mymodel(nn.Module):\n",
        "    \"\"\"Custom Model\"\"\"\n",
        "\n",
        "    def __init__(self, in_features, hidden_dim, n_classes):\n",
        "        \"\"\"Custom Model Builder.\"\"\"\n",
        "        super(mymodel, self).__init__()\n",
        "        \n",
        "        self.fc1 = nn.Linear(in_features, hidden_dim)\n",
        "        self.fc2 = nn.Linear(hidden_dim, hidden_dim//2)\n",
        "        self.fc3 = nn.Linear(hidden_dim//2, n_classes)\n",
        "   \n",
        "  \n",
        "    def forward(self, images):\n",
        "        \"\"\"Perform forward.\"\"\"\n",
        "        \n",
        "        images_vec = images.view(images.size(0), -1)\n",
        "        hidden_out = F.relu(self.fc1(images_vec))\n",
        "        hidden_out = F.relu(self.fc2(hidden_out))\n",
        "        scores = self.fc3(hidden_out)\n",
        "\n",
        "        return scores"
      ],
      "execution_count": 0,
      "outputs": []
    },
    {
      "cell_type": "markdown",
      "metadata": {
        "id": "d7jnXu84uO3O",
        "colab_type": "text"
      },
      "source": [
        "## Constants"
      ]
    },
    {
      "cell_type": "code",
      "metadata": {
        "id": "qnZ0Eu78uPbG",
        "colab_type": "code",
        "colab": {}
      },
      "source": [
        "device = torch.device('cuda' if torch.cuda.is_available() else 'cpu')\n",
        "root_path = 'gdrive/My Drive/Colab Notebooks/Adversarial/'"
      ],
      "execution_count": 0,
      "outputs": []
    },
    {
      "cell_type": "code",
      "metadata": {
        "id": "K5iCPduwuwIO",
        "colab_type": "code",
        "outputId": "69cda4d9-3642-445f-9f13-44aee4f2a404",
        "colab": {
          "base_uri": "https://localhost:8080/",
          "height": 122
        }
      },
      "source": [
        "#mounting drive\n",
        "drive.mount('/content/gdrive')"
      ],
      "execution_count": 7,
      "outputs": [
        {
          "output_type": "stream",
          "text": [
            "Go to this URL in a browser: https://accounts.google.com/o/oauth2/auth?client_id=947318989803-6bn6qk8qdgf4n4g3pfee6491hc0brc4i.apps.googleusercontent.com&redirect_uri=urn%3aietf%3awg%3aoauth%3a2.0%3aoob&response_type=code&scope=email%20https%3a%2f%2fwww.googleapis.com%2fauth%2fdocs.test%20https%3a%2f%2fwww.googleapis.com%2fauth%2fdrive%20https%3a%2f%2fwww.googleapis.com%2fauth%2fdrive.photos.readonly%20https%3a%2f%2fwww.googleapis.com%2fauth%2fpeopleapi.readonly\n",
            "\n",
            "Enter your authorization code:\n",
            "··········\n",
            "Mounted at /content/gdrive\n"
          ],
          "name": "stdout"
        }
      ]
    },
    {
      "cell_type": "code",
      "metadata": {
        "id": "4-iPSgZBqCM8",
        "colab_type": "code",
        "colab": {}
      },
      "source": [
        "def transfer_attack(proxy_model, data, target, **kwargs):\n",
        "    # Attack setup\n",
        "    loss_fn = kwargs.get('loss_fn', nn.CrossEntropyLoss())\n",
        "    epsilon = kwargs.get('epsilon', 0.1)\n",
        "    data.requires_grad = True\n",
        "    \n",
        "    proxy_output = proxy_model(data)\n",
        "    # Calculate the loss, forward pass\n",
        "    loss = loss_fn(proxy_output, target)\n",
        "    # Zero all existing gradients\n",
        "    proxy_model.zero_grad()\n",
        "    # Calculate gradients of model in backward pass\n",
        "    loss.backward()\n",
        "    # Collect datagrad\n",
        "    data_grad = data.grad.data\n",
        "    \n",
        "    # Call FGSM Attack\n",
        "    perturbed_data = gradient_attack(data, epsilon, data_grad)\n",
        "    \n",
        "    return perturbed_data"
      ],
      "execution_count": 0,
      "outputs": []
    },
    {
      "cell_type": "markdown",
      "metadata": {
        "id": "gvYwvuMSFnNa",
        "colab_type": "text"
      },
      "source": [
        "## Atack functions"
      ]
    },
    {
      "cell_type": "code",
      "metadata": {
        "id": "qDK-KnX1dOE9",
        "colab_type": "code",
        "colab": {}
      },
      "source": [
        "# FGSM Gradient attack code\n",
        "def gradient_attack(image, epsilon, data_grad):\n",
        "    # Collect the element-wise sign of the data gradient\n",
        "    sign_data_grad = data_grad.sign()\n",
        "    # Create the perturbed image by adjusting each pixel of the input image\n",
        "    perturbed_image = image + epsilon*sign_data_grad\n",
        "    # Adding clipping to maintain [0,1] range\n",
        "    # perturbed_image = torch.clamp(perturbed_image, 0, 1)\n",
        "    # Return the perturbed image\n",
        "    return perturbed_image"
      ],
      "execution_count": 0,
      "outputs": []
    },
    {
      "cell_type": "markdown",
      "metadata": {
        "id": "N1HP7ofiGHhO",
        "colab_type": "text"
      },
      "source": [
        "### FGSM Attack"
      ]
    },
    {
      "cell_type": "code",
      "metadata": {
        "id": "gF3oxhEcGGi4",
        "colab_type": "code",
        "colab": {}
      },
      "source": [
        "# FGSM Attack\n",
        "def fgsm_attack(model, data, target, **kwargs):\n",
        "    loss_fn = kwargs.get('loss_fn', nn.CrossEntropyLoss())\n",
        "    epsilon = kwargs.get('epsilon', 0.1)\n",
        "    data.requires_grad = True\n",
        "    \n",
        "    output = model(data)\n",
        "    loss = loss_fn(output,target) \n",
        "    model.zero_grad()\n",
        "    loss.backward()\n",
        "    data_grad = data.grad.data\n",
        "    perturbed_data = gradient_attack(data, epsilon, data_grad)\n",
        "\n",
        "    return perturbed_data"
      ],
      "execution_count": 0,
      "outputs": []
    },
    {
      "cell_type": "markdown",
      "metadata": {
        "id": "PasZa8ffEqyI",
        "colab_type": "text"
      },
      "source": [
        "### CW Attack"
      ]
    },
    {
      "cell_type": "code",
      "metadata": {
        "id": "DUQJrdA8iorE",
        "colab_type": "code",
        "colab": {}
      },
      "source": [
        "def cw_attack(model, images, labels, **kwargs):\n",
        "  cw_attack_model = torchattacks.CW(model)\n",
        "  adversarial_images = cw_attack_model(images, labels)\n",
        "  return adversarial_images"
      ],
      "execution_count": 0,
      "outputs": []
    },
    {
      "cell_type": "markdown",
      "metadata": {
        "id": "JJIMyZUfomFF",
        "colab_type": "text"
      },
      "source": [
        "### Transferability Attack"
      ]
    },
    {
      "cell_type": "markdown",
      "metadata": {
        "id": "g2jLUDCJbGT3",
        "colab_type": "text"
      },
      "source": [
        "Load pretrained model on CIFAR-10"
      ]
    },
    {
      "cell_type": "code",
      "metadata": {
        "id": "tYoqWaujWlA5",
        "colab_type": "code",
        "colab": {}
      },
      "source": [
        "# Load the proxy model for Transfer attack\n",
        "proxy_model = torch.load(root_path + \"models/myproxymodel_resnet.pt\", map_location=torch.device(device))\n",
        "# proxy_model = torch.load(\"myproxymodel_resnet.pt\", map_location=torch.device(device))\n",
        "# We don't want to train the model, so tell PyTorch not to compute gradients\n",
        "# with respect to model parameters.\n",
        "for param in proxy_model.parameters():\n",
        "    param.requires_grad = False"
      ],
      "execution_count": 0,
      "outputs": []
    },
    {
      "cell_type": "code",
      "metadata": {
        "id": "uO4X5CsJLomp",
        "colab_type": "code",
        "outputId": "0299cf9a-00ed-4385-e340-e980e395a9cb",
        "colab": {
          "base_uri": "https://localhost:8080/",
          "height": 204
        }
      },
      "source": [
        "proxy_acc, data_size = calculate_accuracy(proxy_model, testloader)\n",
        "print(proxy_acc, data_size)"
      ],
      "execution_count": 0,
      "outputs": [
        {
          "output_type": "stream",
          "text": [
            "Current Accuracy: 792 / 1000 = 79.2\n",
            "Current Accuracy: 1585 / 2000 = 79.25\n",
            "Current Accuracy: 2380 / 3000 = 79.33333333333333\n",
            "Current Accuracy: 3158 / 4000 = 78.95\n",
            "Current Accuracy: 3970 / 5000 = 79.4\n",
            "Current Accuracy: 4767 / 6000 = 79.45\n",
            "Current Accuracy: 5541 / 7000 = 79.15714285714286\n",
            "Current Accuracy: 6355 / 8000 = 79.4375\n",
            "Current Accuracy: 7140 / 9000 = 79.33333333333333\n",
            "Current Accuracy: 7946 / 10000 = 79.46\n",
            "79.46 10000\n"
          ],
          "name": "stdout"
        }
      ]
    },
    {
      "cell_type": "markdown",
      "metadata": {
        "id": "MCThDS6UuJLH",
        "colab_type": "text"
      },
      "source": [
        "## Util functions "
      ]
    },
    {
      "cell_type": "code",
      "metadata": {
        "id": "k1fNGp0uuHoO",
        "colab_type": "code",
        "colab": {}
      },
      "source": [
        "def class_report(y_true, y_pred, y_score=None, average='micro'):\n",
        "    print(type(y_pred),type(y_score),y_pred.shape,y_score.shape)\n",
        "    if y_true.shape != y_pred.shape:\n",
        "        print(\"Error! y_true %s is not the same shape as y_pred %s\" % (\n",
        "              y_true.shape,\n",
        "              y_pred.shape)\n",
        "        )\n",
        "        return\n",
        "\n",
        "    lb = LabelBinarizer()\n",
        "\n",
        "    if len(y_true.shape) == 1:\n",
        "        lb.fit(y_true)\n",
        "\n",
        "    #Value counts of predictions\n",
        "    labels, cnt = np.unique(\n",
        "        y_pred,\n",
        "        return_counts=True)\n",
        "    n_classes = len(labels)\n",
        "    pred_cnt = pd.Series(cnt, index=labels)\n",
        "\n",
        "    metrics_summary = precision_recall_fscore_support(\n",
        "            y_true=y_true,\n",
        "            y_pred=y_pred,\n",
        "            labels=labels)\n",
        "\n",
        "    avg = list(precision_recall_fscore_support(\n",
        "            y_true=y_true,\n",
        "            y_pred=y_pred,\n",
        "            average='weighted'))\n",
        "\n",
        "    metrics_sum_index = ['precision', 'recall', 'f1-score', 'support']\n",
        "    class_report_df = pd.DataFrame(\n",
        "        list(metrics_summary),\n",
        "        index=metrics_sum_index,\n",
        "        columns=labels)\n",
        "\n",
        "    support = class_report_df.loc['support']\n",
        "    total = support.sum()\n",
        "    class_report_df['avg / total'] = avg[:-1] + [total]\n",
        "\n",
        "    class_report_df = class_report_df.T\n",
        "    class_report_df['pred'] = pred_cnt\n",
        "    class_report_df['pred'].iloc[-1] = total\n",
        "\n",
        "    if not (y_score is None):\n",
        "        fpr = dict()\n",
        "        tpr = dict()\n",
        "        roc_auc = dict()\n",
        "        for label_it, label in enumerate(labels):\n",
        "            fpr[label], tpr[label], _ = roc_curve(\n",
        "                (y_true == label).astype(int),\n",
        "                y_score[:, label_it])\n",
        "\n",
        "            roc_auc[label] = auc(fpr[label], tpr[label])\n",
        "\n",
        "        if average == 'micro':\n",
        "            if n_classes <= 2:\n",
        "                fpr[\"avg / total\"], tpr[\"avg / total\"], _ = roc_curve(\n",
        "                    lb.transform(y_true).ravel(),\n",
        "                    y_score[:, 1].ravel())\n",
        "            else:\n",
        "                fpr[\"avg / total\"], tpr[\"avg / total\"], _ = roc_curve(\n",
        "                        lb.transform(y_true).ravel(),\n",
        "                        y_score.ravel())\n",
        "\n",
        "            roc_auc[\"avg / total\"] = auc(\n",
        "                fpr[\"avg / total\"],\n",
        "                tpr[\"avg / total\"])\n",
        "\n",
        "        elif average == 'macro':\n",
        "            # First aggregate all false positive rates\n",
        "            all_fpr = np.unique(np.concatenate([\n",
        "                fpr[i] for i in labels]\n",
        "            ))\n",
        "\n",
        "            # Then interpolate all ROC curves at this points\n",
        "            mean_tpr = np.zeros_like(all_fpr)\n",
        "            for i in labels:\n",
        "                mean_tpr += interp(all_fpr, fpr[i], tpr[i])\n",
        "\n",
        "            # Finally average it and compute AUC\n",
        "            mean_tpr /= n_classes\n",
        "\n",
        "            fpr[\"macro\"] = all_fpr\n",
        "            tpr[\"macro\"] = mean_tpr\n",
        "\n",
        "            roc_auc[\"avg / total\"] = auc(fpr[\"macro\"], tpr[\"macro\"])\n",
        "\n",
        "        class_report_df['AUC'] = pd.Series(roc_auc)\n",
        "\n",
        "    return class_report_df"
      ],
      "execution_count": 0,
      "outputs": []
    },
    {
      "cell_type": "code",
      "metadata": {
        "id": "4HLXwRr4H6N5",
        "colab_type": "code",
        "colab": {}
      },
      "source": [
        "# Only for FGSM and transfer attacks\n",
        "def create_adversarial(model, images, labels, attack_type=None, **kwargs):\n",
        "    if attack_type is not None:\n",
        "        if attack_type == \"fgsm\":\n",
        "            perturbed_images = fgsm_attack(model, images, labels, **kwargs)\n",
        "        elif attack_type == \"transfer\":\n",
        "            perturbed_images = transfer_attack(proxy_model, images, labels, **kwargs)\n",
        "        else:\n",
        "            perturbed_images = cw_attack(model, images, labels, **kwargs)\n",
        "    else:    \n",
        "      idx = random.uniform(0,1)\n",
        "\n",
        "      if idx < 0.5:\n",
        "          perturbed_images = fgsm_attack(model, images, labels, **kwargs)\n",
        "      else:\n",
        "          perturbed_images = transfer_attack(proxy_model, images, labels, **kwargs)\n",
        "\n",
        "    return perturbed_images"
      ],
      "execution_count": 0,
      "outputs": []
    },
    {
      "cell_type": "code",
      "metadata": {
        "id": "YzD8Je0ZuNA-",
        "colab_type": "code",
        "colab": {}
      },
      "source": [
        "def attack_accuracy(model, loader, attack_type=None, print_freq=1000, epsilon=0.1, run_attack=False):\n",
        "    model.eval()\n",
        "    total = 0\n",
        "    correct = 0\n",
        "    show_im = True\n",
        "    all_labels = []\n",
        "    all_preds = []\n",
        "    all_probs = []\n",
        "    #batch_count = 0 \n",
        "\n",
        "    for data in loader:\n",
        "        #batch_count+=1\n",
        "        images, labels = data\n",
        "        images = images.to(device)\n",
        "        labels = labels.to(device)\n",
        "        \n",
        "        if run_attack:\n",
        "          kwargs = {'loss_fn': nn.CrossEntropyLoss(), 'epsilon': epsilon}     \n",
        "          images = create_adversarial(model, images, labels, attack_type=attack_type, **kwargs)\n",
        "\n",
        "        with torch.no_grad():\n",
        "            outputs = model(images)\n",
        "            out_prob = F.softmax(outputs, dim=1)\n",
        "\n",
        "        _,predicted = torch.max(outputs.data,1)\n",
        "        total+=labels.size(0)\n",
        "        correct+=(predicted==labels).sum().item()\n",
        "\n",
        "        all_labels.append(labels.cpu().numpy())\n",
        "        all_preds.append(predicted.cpu().numpy())\n",
        "        all_probs.append(out_prob.cpu().numpy())\n",
        "\n",
        "        if total % print_freq == 0:\n",
        "            print(\"Current Accuracy: {} / {} = {}\".format(correct, total, correct/total*100))\n",
        "        #if batch_count>=test_num_batches:\n",
        "        #    break\n",
        "\n",
        "    \n",
        "    all_labels = np.concatenate(all_labels)\n",
        "    all_preds = np.concatenate(all_preds)\n",
        "    all_probs = np.concatenate(all_probs)\n",
        "    print(all_labels.shape,all_preds.shape,all_probs.shape)\n",
        "    report_with_auc = class_report(\n",
        "                            y_true = all_labels,\n",
        "                            y_pred = all_preds,\n",
        "                            y_score= all_probs)\n",
        "           \n",
        "    return (correct/total)*100, total, report_with_auc"
      ],
      "execution_count": 0,
      "outputs": []
    },
    {
      "cell_type": "markdown",
      "metadata": {
        "id": "kgjf9BKWuRyn",
        "colab_type": "text"
      },
      "source": [
        "## Load pre trained model"
      ]
    },
    {
      "cell_type": "code",
      "metadata": {
        "id": "NkFYkEZZuRMW",
        "colab_type": "code",
        "colab": {}
      },
      "source": [
        "model = torch.load(root_path+\"models/mymodel.pt\", map_location=torch.device(device))\n",
        "for param in model.parameters():\n",
        "    param.requires_grad = False"
      ],
      "execution_count": 0,
      "outputs": []
    },
    {
      "cell_type": "markdown",
      "metadata": {
        "id": "6eDEDve5vxTq",
        "colab_type": "text"
      },
      "source": [
        "## Load pre trained defense model"
      ]
    },
    {
      "cell_type": "code",
      "metadata": {
        "id": "Ew8b0G6kvyAh",
        "colab_type": "code",
        "colab": {}
      },
      "source": [
        "distil_model = torch.load(root_path+\"models/my_distil_model1.pt\", map_location=torch.device(device))\n",
        "for param in distil_model.parameters():\n",
        "    param.requires_grad = False"
      ],
      "execution_count": 0,
      "outputs": []
    },
    {
      "cell_type": "markdown",
      "metadata": {
        "id": "gnhDoxxOwExY",
        "colab_type": "text"
      },
      "source": [
        "## Preparing test data sets"
      ]
    },
    {
      "cell_type": "markdown",
      "metadata": {
        "id": "Dwl6KjIowHk_",
        "colab_type": "text"
      },
      "source": [
        "### Load labels"
      ]
    },
    {
      "cell_type": "code",
      "metadata": {
        "id": "FyWfe2dNwJRw",
        "colab_type": "code",
        "colab": {}
      },
      "source": [
        "labels = torch.load(root_path+\"samples/all_labels.pt\", map_location=torch.device(device))"
      ],
      "execution_count": 0,
      "outputs": []
    },
    {
      "cell_type": "code",
      "metadata": {
        "id": "xl3rz7KzVWjq",
        "colab_type": "code",
        "colab": {}
      },
      "source": [
        "labels_1200 = labels[0:1200]\n",
        "labels_1200_3099 = labels[1200:3100]\n",
        "labels_3100_4999= labels[3100:5000]"
      ],
      "execution_count": 0,
      "outputs": []
    },
    {
      "cell_type": "markdown",
      "metadata": {
        "id": "ZYFIXOhPwaSe",
        "colab_type": "text"
      },
      "source": [
        "### Load FGSM"
      ]
    },
    {
      "cell_type": "code",
      "metadata": {
        "id": "MHRaJ8-qwGlv",
        "colab_type": "code",
        "colab": {}
      },
      "source": [
        "fgsm_images = torch.load(root_path+\"samples/fgsm_images_010_1200-3099.pt\", map_location=torch.device(device))\n",
        "fgsm_dataset = TensorDataset(fgsm_images, labels_1200_3099)\n",
        "fgsm_loader = DataLoader(fgsm_dataset, batch_size= 4, shuffle=False)"
      ],
      "execution_count": 0,
      "outputs": []
    },
    {
      "cell_type": "code",
      "metadata": {
        "id": "GD30N8sVH6px",
        "colab_type": "code",
        "colab": {}
      },
      "source": [
        "fgsm_images1 = torch.load(root_path+\"samples/fgsm_images_015_1200-3099.pt\", map_location=torch.device(device))\n",
        "fgsm_dataset1 = TensorDataset(fgsm_images1, labels_1200_3099)\n",
        "fgsm_loader1 = DataLoader(fgsm_dataset1, batch_size= 4, shuffle=False)"
      ],
      "execution_count": 0,
      "outputs": []
    },
    {
      "cell_type": "markdown",
      "metadata": {
        "id": "AG7-MwtP5jIf",
        "colab_type": "text"
      },
      "source": [
        "### Load Transfer Attack Samples"
      ]
    },
    {
      "cell_type": "code",
      "metadata": {
        "id": "wHQRtcma5nlP",
        "colab_type": "code",
        "colab": {}
      },
      "source": [
        "transfer_images = torch.load(root_path+\"samples/transfer_images_010_3100-4999.pt\", map_location=torch.device(device))\n",
        "transfer_dataset = TensorDataset(transfer_images, labels_3100_4999)\n",
        "transfer_loader = DataLoader(transfer_dataset, batch_size= 4, shuffle=False)"
      ],
      "execution_count": 0,
      "outputs": []
    },
    {
      "cell_type": "code",
      "metadata": {
        "id": "liOM6z1KHxjp",
        "colab_type": "code",
        "colab": {}
      },
      "source": [
        "transfer_images1 = torch.load(root_path+\"samples/transfer_images_015_3100-4999.pt\", map_location=torch.device(device))\n",
        "transfer_dataset1 = TensorDataset(transfer_images1, labels_3100_4999)\n",
        "transfer_loader1 = DataLoader(transfer_dataset1, batch_size= 4, shuffle=False)"
      ],
      "execution_count": 0,
      "outputs": []
    },
    {
      "cell_type": "markdown",
      "metadata": {
        "id": "X4FwWqAX-SZs",
        "colab_type": "text"
      },
      "source": [
        "### Load CW data"
      ]
    },
    {
      "cell_type": "code",
      "metadata": {
        "id": "ApaxyAzM-UpC",
        "colab_type": "code",
        "colab": {}
      },
      "source": [
        "cw_images = torch.load(root_path+\"samples/cw_images.pt\", map_location=torch.device(device))\n",
        "cw_labels = torch.load(root_path+\"samples/cw_labels.pt\", map_location=torch.device(device))\n",
        "cw_dataset = TensorDataset(cw_images, cw_labels)\n",
        "cw_loader = DataLoader(cw_dataset, batch_size= 4, shuffle=False)"
      ],
      "execution_count": 0,
      "outputs": []
    },
    {
      "cell_type": "markdown",
      "metadata": {
        "id": "6mMjU6flJTMo",
        "colab_type": "text"
      },
      "source": [
        "### Load Mixture Data set"
      ]
    },
    {
      "cell_type": "markdown",
      "metadata": {
        "id": "thGt-FAwHZFE",
        "colab_type": "text"
      },
      "source": [
        "Mixed with 1st 1200 CW, next 1900 FGSM, next 1900 Transfer (eps=0.10)\n"
      ]
    },
    {
      "cell_type": "code",
      "metadata": {
        "id": "sjEWUerVCXsj",
        "colab_type": "code",
        "colab": {}
      },
      "source": [
        "mixed_images = torch.cat([cw_images,fgsm_images,transfer_images],dim=0)\n",
        "# mixed_labels = torch.cat([labels_1200,labels_3100_4999,cw_labels],dim=0)\n",
        "mixed_labels = labels[0:5000]\n",
        "mixed_dataset = TensorDataset(mixed_images, mixed_labels)\n",
        "mixed_loader = DataLoader(mixed_dataset, batch_size= 4, shuffle=False)"
      ],
      "execution_count": 0,
      "outputs": []
    },
    {
      "cell_type": "code",
      "metadata": {
        "id": "WYEQnLZWFIBt",
        "colab_type": "code",
        "colab": {}
      },
      "source": [
        "mixed_images1 = torch.cat([cw_images,fgsm_images1,transfer_images1],dim=0)\n",
        "# mixed_labels = torch.cat([labels_1200,labels_3100_4999,cw_labels],dim=0)\n",
        "mixed_labels = labels[0:5000]\n",
        "mixed_dataset1 = TensorDataset(mixed_images1, mixed_labels)\n",
        "mixed_loader1 = DataLoader(mixed_dataset1, batch_size= 4, shuffle=False)"
      ],
      "execution_count": 0,
      "outputs": []
    },
    {
      "cell_type": "markdown",
      "metadata": {
        "id": "EgQ07Sap0nF-",
        "colab_type": "text"
      },
      "source": [
        "### Load normal samples"
      ]
    },
    {
      "cell_type": "code",
      "metadata": {
        "id": "ZN4wnxiE0pn-",
        "colab_type": "code",
        "outputId": "049ea421-6ef8-4906-9860-b996e53021c1",
        "colab": {
          "base_uri": "https://localhost:8080/",
          "height": 88
        }
      },
      "source": [
        "cifar10_mean = [0.49139968 , 0.48215841 , 0.44653091]\n",
        "cifar10_std = [0.24703223,  0.24348513 , 0.26158784]\n",
        "\n",
        "#Define transformations for the test set\n",
        "transform_test = transforms.Compose([\n",
        "    transforms.Resize(224),\n",
        "    transforms.ToTensor(),\n",
        "    transforms.Normalize(cifar10_mean,cifar10_std)\n",
        "])\n",
        "\n",
        "testset = torchvision.datasets.CIFAR10(root = './data', train = False, download = True, transform=transform_test)\n",
        "\n",
        "testloader = torch.utils.data.DataLoader(testset, batch_size=4, shuffle=False, num_workers=2)"
      ],
      "execution_count": 18,
      "outputs": [
        {
          "output_type": "stream",
          "text": [
            "\r0it [00:00, ?it/s]"
          ],
          "name": "stderr"
        },
        {
          "output_type": "stream",
          "text": [
            "Downloading https://www.cs.toronto.edu/~kriz/cifar-10-python.tar.gz to ./data/cifar-10-python.tar.gz\n"
          ],
          "name": "stdout"
        },
        {
          "output_type": "stream",
          "text": [
            "170500096it [00:03, 45243884.98it/s]                               \n"
          ],
          "name": "stderr"
        },
        {
          "output_type": "stream",
          "text": [
            "Extracting ./data/cifar-10-python.tar.gz to ./data\n"
          ],
          "name": "stdout"
        }
      ]
    },
    {
      "cell_type": "markdown",
      "metadata": {
        "id": "WC8wHfWi0Xyn",
        "colab_type": "text"
      },
      "source": [
        "## Test : Distilled model + Normal Samples + No Detector"
      ]
    },
    {
      "cell_type": "code",
      "metadata": {
        "colab_type": "code",
        "outputId": "f9de0b0f-a188-4646-9647-66ea3b9642d9",
        "id": "NTooGkKhPBhF",
        "colab": {
          "base_uri": "https://localhost:8080/",
          "height": 221
        }
      },
      "source": [
        "normal_sample_acc, normal_sample_data_size,normal_sample_report_with_auc = attack_accuracy(distil_model, testloader, print_freq=1000)"
      ],
      "execution_count": 20,
      "outputs": [
        {
          "output_type": "stream",
          "text": [
            "Current Accuracy: 920 / 1000 = 92.0\n",
            "Current Accuracy: 1828 / 2000 = 91.4\n",
            "Current Accuracy: 2735 / 3000 = 91.16666666666666\n",
            "Current Accuracy: 3623 / 4000 = 90.575\n",
            "Current Accuracy: 4532 / 5000 = 90.64\n",
            "Current Accuracy: 5443 / 6000 = 90.71666666666667\n",
            "Current Accuracy: 6354 / 7000 = 90.77142857142857\n",
            "Current Accuracy: 7271 / 8000 = 90.8875\n",
            "Current Accuracy: 8183 / 9000 = 90.92222222222223\n",
            "Current Accuracy: 9094 / 10000 = 90.94\n",
            "(10000,) (10000,) (10000, 10)\n",
            "<class 'numpy.ndarray'> <class 'numpy.ndarray'> (10000,) (10000, 10)\n"
          ],
          "name": "stdout"
        }
      ]
    },
    {
      "cell_type": "markdown",
      "metadata": {
        "colab_type": "text",
        "id": "PgnTqVf1PBhR"
      },
      "source": [
        ""
      ]
    },
    {
      "cell_type": "code",
      "metadata": {
        "colab_type": "code",
        "outputId": "3804eda0-a137-48fe-82a0-19962bcbb8e3",
        "id": "WbFuJZAHPBhS",
        "colab": {
          "base_uri": "https://localhost:8080/",
          "height": 390
        }
      },
      "source": [
        "normal_sample_report_with_auc"
      ],
      "execution_count": 21,
      "outputs": [
        {
          "output_type": "execute_result",
          "data": {
            "text/html": [
              "<div>\n",
              "<style scoped>\n",
              "    .dataframe tbody tr th:only-of-type {\n",
              "        vertical-align: middle;\n",
              "    }\n",
              "\n",
              "    .dataframe tbody tr th {\n",
              "        vertical-align: top;\n",
              "    }\n",
              "\n",
              "    .dataframe thead th {\n",
              "        text-align: right;\n",
              "    }\n",
              "</style>\n",
              "<table border=\"1\" class=\"dataframe\">\n",
              "  <thead>\n",
              "    <tr style=\"text-align: right;\">\n",
              "      <th></th>\n",
              "      <th>precision</th>\n",
              "      <th>recall</th>\n",
              "      <th>f1-score</th>\n",
              "      <th>support</th>\n",
              "      <th>pred</th>\n",
              "      <th>AUC</th>\n",
              "    </tr>\n",
              "  </thead>\n",
              "  <tbody>\n",
              "    <tr>\n",
              "      <th>0</th>\n",
              "      <td>0.921627</td>\n",
              "      <td>0.9290</td>\n",
              "      <td>0.925299</td>\n",
              "      <td>1000.0</td>\n",
              "      <td>1008.0</td>\n",
              "      <td>0.991657</td>\n",
              "    </tr>\n",
              "    <tr>\n",
              "      <th>1</th>\n",
              "      <td>0.978471</td>\n",
              "      <td>0.9090</td>\n",
              "      <td>0.942457</td>\n",
              "      <td>1000.0</td>\n",
              "      <td>929.0</td>\n",
              "      <td>0.992619</td>\n",
              "    </tr>\n",
              "    <tr>\n",
              "      <th>2</th>\n",
              "      <td>0.876673</td>\n",
              "      <td>0.9170</td>\n",
              "      <td>0.896383</td>\n",
              "      <td>1000.0</td>\n",
              "      <td>1046.0</td>\n",
              "      <td>0.992878</td>\n",
              "    </tr>\n",
              "    <tr>\n",
              "      <th>3</th>\n",
              "      <td>0.858193</td>\n",
              "      <td>0.8170</td>\n",
              "      <td>0.837090</td>\n",
              "      <td>1000.0</td>\n",
              "      <td>952.0</td>\n",
              "      <td>0.977505</td>\n",
              "    </tr>\n",
              "    <tr>\n",
              "      <th>4</th>\n",
              "      <td>0.960875</td>\n",
              "      <td>0.8350</td>\n",
              "      <td>0.893526</td>\n",
              "      <td>1000.0</td>\n",
              "      <td>869.0</td>\n",
              "      <td>0.973687</td>\n",
              "    </tr>\n",
              "    <tr>\n",
              "      <th>5</th>\n",
              "      <td>0.866799</td>\n",
              "      <td>0.8720</td>\n",
              "      <td>0.869392</td>\n",
              "      <td>1000.0</td>\n",
              "      <td>1006.0</td>\n",
              "      <td>0.986979</td>\n",
              "    </tr>\n",
              "    <tr>\n",
              "      <th>6</th>\n",
              "      <td>0.953893</td>\n",
              "      <td>0.9310</td>\n",
              "      <td>0.942308</td>\n",
              "      <td>1000.0</td>\n",
              "      <td>976.0</td>\n",
              "      <td>0.994342</td>\n",
              "    </tr>\n",
              "    <tr>\n",
              "      <th>7</th>\n",
              "      <td>0.866063</td>\n",
              "      <td>0.9570</td>\n",
              "      <td>0.909264</td>\n",
              "      <td>1000.0</td>\n",
              "      <td>1105.0</td>\n",
              "      <td>0.992774</td>\n",
              "    </tr>\n",
              "    <tr>\n",
              "      <th>8</th>\n",
              "      <td>0.911488</td>\n",
              "      <td>0.9680</td>\n",
              "      <td>0.938894</td>\n",
              "      <td>1000.0</td>\n",
              "      <td>1062.0</td>\n",
              "      <td>0.995027</td>\n",
              "    </tr>\n",
              "    <tr>\n",
              "      <th>9</th>\n",
              "      <td>0.915950</td>\n",
              "      <td>0.9590</td>\n",
              "      <td>0.936981</td>\n",
              "      <td>1000.0</td>\n",
              "      <td>1047.0</td>\n",
              "      <td>0.995349</td>\n",
              "    </tr>\n",
              "    <tr>\n",
              "      <th>avg / total</th>\n",
              "      <td>0.911003</td>\n",
              "      <td>0.9094</td>\n",
              "      <td>0.909159</td>\n",
              "      <td>10000.0</td>\n",
              "      <td>10000.0</td>\n",
              "      <td>0.987580</td>\n",
              "    </tr>\n",
              "  </tbody>\n",
              "</table>\n",
              "</div>"
            ],
            "text/plain": [
              "             precision  recall  f1-score  support     pred       AUC\n",
              "0             0.921627  0.9290  0.925299   1000.0   1008.0  0.991657\n",
              "1             0.978471  0.9090  0.942457   1000.0    929.0  0.992619\n",
              "2             0.876673  0.9170  0.896383   1000.0   1046.0  0.992878\n",
              "3             0.858193  0.8170  0.837090   1000.0    952.0  0.977505\n",
              "4             0.960875  0.8350  0.893526   1000.0    869.0  0.973687\n",
              "5             0.866799  0.8720  0.869392   1000.0   1006.0  0.986979\n",
              "6             0.953893  0.9310  0.942308   1000.0    976.0  0.994342\n",
              "7             0.866063  0.9570  0.909264   1000.0   1105.0  0.992774\n",
              "8             0.911488  0.9680  0.938894   1000.0   1062.0  0.995027\n",
              "9             0.915950  0.9590  0.936981   1000.0   1047.0  0.995349\n",
              "avg / total   0.911003  0.9094  0.909159  10000.0  10000.0  0.987580"
            ]
          },
          "metadata": {
            "tags": []
          },
          "execution_count": 21
        }
      ]
    },
    {
      "cell_type": "markdown",
      "metadata": {
        "id": "0aTaFfb__N2G",
        "colab_type": "text"
      },
      "source": [
        "## Test: Distilled model + CW attack samples + No detector"
      ]
    },
    {
      "cell_type": "code",
      "metadata": {
        "colab_type": "code",
        "outputId": "4351c044-79da-414d-981e-71a5f5a5a280",
        "id": "lbtiFHs8rr0u",
        "colab": {
          "base_uri": "https://localhost:8080/",
          "height": 255
        }
      },
      "source": [
        "cw_sample_acc, cw_sample_data_size,cw_sample_report_with_auc = attack_accuracy(distil_model, cw_loader, print_freq=100)"
      ],
      "execution_count": 0,
      "outputs": [
        {
          "output_type": "stream",
          "text": [
            "Current Accuracy: 44 / 100 = 44.0\n",
            "Current Accuracy: 84 / 200 = 42.0\n",
            "Current Accuracy: 113 / 300 = 37.666666666666664\n",
            "Current Accuracy: 150 / 400 = 37.5\n",
            "Current Accuracy: 194 / 500 = 38.800000000000004\n",
            "Current Accuracy: 232 / 600 = 38.666666666666664\n",
            "Current Accuracy: 271 / 700 = 38.714285714285715\n",
            "Current Accuracy: 311 / 800 = 38.875\n",
            "Current Accuracy: 344 / 900 = 38.22222222222222\n",
            "Current Accuracy: 379 / 1000 = 37.9\n",
            "Current Accuracy: 422 / 1100 = 38.36363636363636\n",
            "Current Accuracy: 457 / 1200 = 38.083333333333336\n",
            "(1200,) (1200,) (1200, 10)\n",
            "<class 'numpy.ndarray'> <class 'numpy.ndarray'> (1200,) (1200, 10)\n"
          ],
          "name": "stdout"
        }
      ]
    },
    {
      "cell_type": "code",
      "metadata": {
        "colab_type": "code",
        "outputId": "046192c6-460e-4423-dac0-610e9fc024b2",
        "id": "33HVM5FVrr02",
        "colab": {
          "base_uri": "https://localhost:8080/",
          "height": 390
        }
      },
      "source": [
        "cw_sample_report_with_auc"
      ],
      "execution_count": 0,
      "outputs": [
        {
          "output_type": "execute_result",
          "data": {
            "text/html": [
              "<div>\n",
              "<style scoped>\n",
              "    .dataframe tbody tr th:only-of-type {\n",
              "        vertical-align: middle;\n",
              "    }\n",
              "\n",
              "    .dataframe tbody tr th {\n",
              "        vertical-align: top;\n",
              "    }\n",
              "\n",
              "    .dataframe thead th {\n",
              "        text-align: right;\n",
              "    }\n",
              "</style>\n",
              "<table border=\"1\" class=\"dataframe\">\n",
              "  <thead>\n",
              "    <tr style=\"text-align: right;\">\n",
              "      <th></th>\n",
              "      <th>precision</th>\n",
              "      <th>recall</th>\n",
              "      <th>f1-score</th>\n",
              "      <th>support</th>\n",
              "      <th>pred</th>\n",
              "      <th>AUC</th>\n",
              "    </tr>\n",
              "  </thead>\n",
              "  <tbody>\n",
              "    <tr>\n",
              "      <th>0</th>\n",
              "      <td>0.263456</td>\n",
              "      <td>0.720930</td>\n",
              "      <td>0.385892</td>\n",
              "      <td>129.0</td>\n",
              "      <td>353.0</td>\n",
              "      <td>0.842037</td>\n",
              "    </tr>\n",
              "    <tr>\n",
              "      <th>1</th>\n",
              "      <td>1.000000</td>\n",
              "      <td>0.026316</td>\n",
              "      <td>0.051282</td>\n",
              "      <td>114.0</td>\n",
              "      <td>3.0</td>\n",
              "      <td>0.652628</td>\n",
              "    </tr>\n",
              "    <tr>\n",
              "      <th>2</th>\n",
              "      <td>0.294872</td>\n",
              "      <td>0.584746</td>\n",
              "      <td>0.392045</td>\n",
              "      <td>118.0</td>\n",
              "      <td>234.0</td>\n",
              "      <td>0.794221</td>\n",
              "    </tr>\n",
              "    <tr>\n",
              "      <th>3</th>\n",
              "      <td>0.267490</td>\n",
              "      <td>0.511811</td>\n",
              "      <td>0.351351</td>\n",
              "      <td>127.0</td>\n",
              "      <td>243.0</td>\n",
              "      <td>0.749345</td>\n",
              "    </tr>\n",
              "    <tr>\n",
              "      <th>4</th>\n",
              "      <td>0.781250</td>\n",
              "      <td>0.240385</td>\n",
              "      <td>0.367647</td>\n",
              "      <td>104.0</td>\n",
              "      <td>32.0</td>\n",
              "      <td>0.760633</td>\n",
              "    </tr>\n",
              "    <tr>\n",
              "      <th>5</th>\n",
              "      <td>0.434211</td>\n",
              "      <td>0.330000</td>\n",
              "      <td>0.375000</td>\n",
              "      <td>100.0</td>\n",
              "      <td>76.0</td>\n",
              "      <td>0.727009</td>\n",
              "    </tr>\n",
              "    <tr>\n",
              "      <th>6</th>\n",
              "      <td>0.612069</td>\n",
              "      <td>0.503546</td>\n",
              "      <td>0.552529</td>\n",
              "      <td>141.0</td>\n",
              "      <td>116.0</td>\n",
              "      <td>0.845699</td>\n",
              "    </tr>\n",
              "    <tr>\n",
              "      <th>7</th>\n",
              "      <td>0.571429</td>\n",
              "      <td>0.512821</td>\n",
              "      <td>0.540541</td>\n",
              "      <td>117.0</td>\n",
              "      <td>105.0</td>\n",
              "      <td>0.853122</td>\n",
              "    </tr>\n",
              "    <tr>\n",
              "      <th>8</th>\n",
              "      <td>1.000000</td>\n",
              "      <td>0.277778</td>\n",
              "      <td>0.434783</td>\n",
              "      <td>126.0</td>\n",
              "      <td>35.0</td>\n",
              "      <td>0.796710</td>\n",
              "    </tr>\n",
              "    <tr>\n",
              "      <th>9</th>\n",
              "      <td>1.000000</td>\n",
              "      <td>0.024194</td>\n",
              "      <td>0.047244</td>\n",
              "      <td>124.0</td>\n",
              "      <td>3.0</td>\n",
              "      <td>0.619589</td>\n",
              "    </tr>\n",
              "    <tr>\n",
              "      <th>avg / total</th>\n",
              "      <td>0.620485</td>\n",
              "      <td>0.380833</td>\n",
              "      <td>0.353363</td>\n",
              "      <td>1200.0</td>\n",
              "      <td>1200.0</td>\n",
              "      <td>0.713496</td>\n",
              "    </tr>\n",
              "  </tbody>\n",
              "</table>\n",
              "</div>"
            ],
            "text/plain": [
              "             precision    recall  f1-score  support    pred       AUC\n",
              "0             0.263456  0.720930  0.385892    129.0   353.0  0.842037\n",
              "1             1.000000  0.026316  0.051282    114.0     3.0  0.652628\n",
              "2             0.294872  0.584746  0.392045    118.0   234.0  0.794221\n",
              "3             0.267490  0.511811  0.351351    127.0   243.0  0.749345\n",
              "4             0.781250  0.240385  0.367647    104.0    32.0  0.760633\n",
              "5             0.434211  0.330000  0.375000    100.0    76.0  0.727009\n",
              "6             0.612069  0.503546  0.552529    141.0   116.0  0.845699\n",
              "7             0.571429  0.512821  0.540541    117.0   105.0  0.853122\n",
              "8             1.000000  0.277778  0.434783    126.0    35.0  0.796710\n",
              "9             1.000000  0.024194  0.047244    124.0     3.0  0.619589\n",
              "avg / total   0.620485  0.380833  0.353363   1200.0  1200.0  0.713496"
            ]
          },
          "metadata": {
            "tags": []
          },
          "execution_count": 25
        }
      ]
    },
    {
      "cell_type": "markdown",
      "metadata": {
        "id": "cDPSGTv8a1__",
        "colab_type": "text"
      },
      "source": [
        "## Attacks (Epsilon=0.10)"
      ]
    },
    {
      "cell_type": "markdown",
      "metadata": {
        "id": "vASFqSW6wh_X",
        "colab_type": "text"
      },
      "source": [
        "### Test : Distilled model + FGSM + No Detector!"
      ]
    },
    {
      "cell_type": "code",
      "metadata": {
        "id": "xCXRLLCbwjJ3",
        "colab_type": "code",
        "outputId": "ef6411c2-2488-4110-e412-9e50962a2319",
        "colab": {
          "base_uri": "https://localhost:8080/",
          "height": 221
        }
      },
      "source": [
        "fgsm_acc, data_size, fgsm_report_with_auc = attack_accuracy(distil_model, testloader, attack_type=\"fgsm\", print_freq=1000, epsilon=0.10, run_attack=True)"
      ],
      "execution_count": 23,
      "outputs": [
        {
          "output_type": "stream",
          "text": [
            "Current Accuracy: 392 / 1000 = 39.2\n",
            "Current Accuracy: 790 / 2000 = 39.5\n",
            "Current Accuracy: 1172 / 3000 = 39.06666666666666\n",
            "Current Accuracy: 1580 / 4000 = 39.5\n",
            "Current Accuracy: 1971 / 5000 = 39.42\n",
            "Current Accuracy: 2321 / 6000 = 38.68333333333333\n",
            "Current Accuracy: 2697 / 7000 = 38.52857142857143\n",
            "Current Accuracy: 3094 / 8000 = 38.675\n",
            "Current Accuracy: 3441 / 9000 = 38.233333333333334\n",
            "Current Accuracy: 3844 / 10000 = 38.440000000000005\n",
            "(10000,) (10000,) (10000, 10)\n",
            "<class 'numpy.ndarray'> <class 'numpy.ndarray'> (10000,) (10000, 10)\n"
          ],
          "name": "stdout"
        }
      ]
    },
    {
      "cell_type": "code",
      "metadata": {
        "id": "qNEsE0jkzqer",
        "colab_type": "code",
        "outputId": "749dfd0e-c973-45b1-ff3f-74d8481d073b",
        "colab": {
          "base_uri": "https://localhost:8080/",
          "height": 390
        }
      },
      "source": [
        "fgsm_report_with_auc"
      ],
      "execution_count": 24,
      "outputs": [
        {
          "output_type": "execute_result",
          "data": {
            "text/html": [
              "<div>\n",
              "<style scoped>\n",
              "    .dataframe tbody tr th:only-of-type {\n",
              "        vertical-align: middle;\n",
              "    }\n",
              "\n",
              "    .dataframe tbody tr th {\n",
              "        vertical-align: top;\n",
              "    }\n",
              "\n",
              "    .dataframe thead th {\n",
              "        text-align: right;\n",
              "    }\n",
              "</style>\n",
              "<table border=\"1\" class=\"dataframe\">\n",
              "  <thead>\n",
              "    <tr style=\"text-align: right;\">\n",
              "      <th></th>\n",
              "      <th>precision</th>\n",
              "      <th>recall</th>\n",
              "      <th>f1-score</th>\n",
              "      <th>support</th>\n",
              "      <th>pred</th>\n",
              "      <th>AUC</th>\n",
              "    </tr>\n",
              "  </thead>\n",
              "  <tbody>\n",
              "    <tr>\n",
              "      <th>0</th>\n",
              "      <td>0.925651</td>\n",
              "      <td>0.2490</td>\n",
              "      <td>0.392435</td>\n",
              "      <td>1000.0</td>\n",
              "      <td>269.0</td>\n",
              "      <td>0.868408</td>\n",
              "    </tr>\n",
              "    <tr>\n",
              "      <th>1</th>\n",
              "      <td>0.981043</td>\n",
              "      <td>0.2070</td>\n",
              "      <td>0.341866</td>\n",
              "      <td>1000.0</td>\n",
              "      <td>211.0</td>\n",
              "      <td>0.789249</td>\n",
              "    </tr>\n",
              "    <tr>\n",
              "      <th>2</th>\n",
              "      <td>0.168559</td>\n",
              "      <td>0.8610</td>\n",
              "      <td>0.281925</td>\n",
              "      <td>1000.0</td>\n",
              "      <td>5108.0</td>\n",
              "      <td>0.823054</td>\n",
              "    </tr>\n",
              "    <tr>\n",
              "      <th>3</th>\n",
              "      <td>0.387911</td>\n",
              "      <td>0.5070</td>\n",
              "      <td>0.439532</td>\n",
              "      <td>1000.0</td>\n",
              "      <td>1307.0</td>\n",
              "      <td>0.845103</td>\n",
              "    </tr>\n",
              "    <tr>\n",
              "      <th>4</th>\n",
              "      <td>0.620168</td>\n",
              "      <td>0.3690</td>\n",
              "      <td>0.462696</td>\n",
              "      <td>1000.0</td>\n",
              "      <td>595.0</td>\n",
              "      <td>0.868579</td>\n",
              "    </tr>\n",
              "    <tr>\n",
              "      <th>5</th>\n",
              "      <td>0.900000</td>\n",
              "      <td>0.0900</td>\n",
              "      <td>0.163636</td>\n",
              "      <td>1000.0</td>\n",
              "      <td>100.0</td>\n",
              "      <td>0.710487</td>\n",
              "    </tr>\n",
              "    <tr>\n",
              "      <th>6</th>\n",
              "      <td>0.486998</td>\n",
              "      <td>0.6180</td>\n",
              "      <td>0.544733</td>\n",
              "      <td>1000.0</td>\n",
              "      <td>1269.0</td>\n",
              "      <td>0.898234</td>\n",
              "    </tr>\n",
              "    <tr>\n",
              "      <th>7</th>\n",
              "      <td>0.745020</td>\n",
              "      <td>0.3740</td>\n",
              "      <td>0.498003</td>\n",
              "      <td>1000.0</td>\n",
              "      <td>502.0</td>\n",
              "      <td>0.818227</td>\n",
              "    </tr>\n",
              "    <tr>\n",
              "      <th>8</th>\n",
              "      <td>0.893064</td>\n",
              "      <td>0.3090</td>\n",
              "      <td>0.459138</td>\n",
              "      <td>1000.0</td>\n",
              "      <td>346.0</td>\n",
              "      <td>0.899081</td>\n",
              "    </tr>\n",
              "    <tr>\n",
              "      <th>9</th>\n",
              "      <td>0.887372</td>\n",
              "      <td>0.2600</td>\n",
              "      <td>0.402166</td>\n",
              "      <td>1000.0</td>\n",
              "      <td>293.0</td>\n",
              "      <td>0.858204</td>\n",
              "    </tr>\n",
              "    <tr>\n",
              "      <th>avg / total</th>\n",
              "      <td>0.699578</td>\n",
              "      <td>0.3844</td>\n",
              "      <td>0.398613</td>\n",
              "      <td>10000.0</td>\n",
              "      <td>10000.0</td>\n",
              "      <td>0.774212</td>\n",
              "    </tr>\n",
              "  </tbody>\n",
              "</table>\n",
              "</div>"
            ],
            "text/plain": [
              "             precision  recall  f1-score  support     pred       AUC\n",
              "0             0.925651  0.2490  0.392435   1000.0    269.0  0.868408\n",
              "1             0.981043  0.2070  0.341866   1000.0    211.0  0.789249\n",
              "2             0.168559  0.8610  0.281925   1000.0   5108.0  0.823054\n",
              "3             0.387911  0.5070  0.439532   1000.0   1307.0  0.845103\n",
              "4             0.620168  0.3690  0.462696   1000.0    595.0  0.868579\n",
              "5             0.900000  0.0900  0.163636   1000.0    100.0  0.710487\n",
              "6             0.486998  0.6180  0.544733   1000.0   1269.0  0.898234\n",
              "7             0.745020  0.3740  0.498003   1000.0    502.0  0.818227\n",
              "8             0.893064  0.3090  0.459138   1000.0    346.0  0.899081\n",
              "9             0.887372  0.2600  0.402166   1000.0    293.0  0.858204\n",
              "avg / total   0.699578  0.3844  0.398613  10000.0  10000.0  0.774212"
            ]
          },
          "metadata": {
            "tags": []
          },
          "execution_count": 24
        }
      ]
    },
    {
      "cell_type": "markdown",
      "metadata": {
        "id": "poL8mR7Q7Q6M",
        "colab_type": "text"
      },
      "source": [
        "### Test: Distilled model + Transfer Attack Samples + No Detector"
      ]
    },
    {
      "cell_type": "code",
      "metadata": {
        "id": "ypUfwc6v7QWd",
        "colab_type": "code",
        "outputId": "b40f3946-7978-453b-d97e-09a6dd2de793",
        "colab": {
          "base_uri": "https://localhost:8080/",
          "height": 221
        }
      },
      "source": [
        "transfer_sample_acc, transfer_sample_data_size,transfer_sample_report_with_auc = attack_accuracy(distil_model, testloader, attack_type=\"transfer\", \n",
        "                                                                                                 print_freq=1000, epsilon=0.10, run_attack=True)"
      ],
      "execution_count": 25,
      "outputs": [
        {
          "output_type": "stream",
          "text": [
            "Current Accuracy: 421 / 1000 = 42.1\n",
            "Current Accuracy: 847 / 2000 = 42.35\n",
            "Current Accuracy: 1274 / 3000 = 42.46666666666667\n",
            "Current Accuracy: 1721 / 4000 = 43.025000000000006\n",
            "Current Accuracy: 2150 / 5000 = 43.0\n",
            "Current Accuracy: 2528 / 6000 = 42.13333333333333\n",
            "Current Accuracy: 2935 / 7000 = 41.92857142857142\n",
            "Current Accuracy: 3364 / 8000 = 42.05\n",
            "Current Accuracy: 3759 / 9000 = 41.766666666666666\n",
            "Current Accuracy: 4188 / 10000 = 41.88\n",
            "(10000,) (10000,) (10000, 10)\n",
            "<class 'numpy.ndarray'> <class 'numpy.ndarray'> (10000,) (10000, 10)\n"
          ],
          "name": "stdout"
        }
      ]
    },
    {
      "cell_type": "code",
      "metadata": {
        "id": "RyrSukCx9n9Z",
        "colab_type": "code",
        "outputId": "e8e996be-45e5-4f8c-b9f4-d36f81ea24ec",
        "colab": {
          "base_uri": "https://localhost:8080/",
          "height": 390
        }
      },
      "source": [
        "transfer_sample_report_with_auc"
      ],
      "execution_count": 26,
      "outputs": [
        {
          "output_type": "execute_result",
          "data": {
            "text/html": [
              "<div>\n",
              "<style scoped>\n",
              "    .dataframe tbody tr th:only-of-type {\n",
              "        vertical-align: middle;\n",
              "    }\n",
              "\n",
              "    .dataframe tbody tr th {\n",
              "        vertical-align: top;\n",
              "    }\n",
              "\n",
              "    .dataframe thead th {\n",
              "        text-align: right;\n",
              "    }\n",
              "</style>\n",
              "<table border=\"1\" class=\"dataframe\">\n",
              "  <thead>\n",
              "    <tr style=\"text-align: right;\">\n",
              "      <th></th>\n",
              "      <th>precision</th>\n",
              "      <th>recall</th>\n",
              "      <th>f1-score</th>\n",
              "      <th>support</th>\n",
              "      <th>pred</th>\n",
              "      <th>AUC</th>\n",
              "    </tr>\n",
              "  </thead>\n",
              "  <tbody>\n",
              "    <tr>\n",
              "      <th>0</th>\n",
              "      <td>0.937870</td>\n",
              "      <td>0.3170</td>\n",
              "      <td>0.473842</td>\n",
              "      <td>1000.0</td>\n",
              "      <td>338.0</td>\n",
              "      <td>0.888563</td>\n",
              "    </tr>\n",
              "    <tr>\n",
              "      <th>1</th>\n",
              "      <td>0.984848</td>\n",
              "      <td>0.2600</td>\n",
              "      <td>0.411392</td>\n",
              "      <td>1000.0</td>\n",
              "      <td>264.0</td>\n",
              "      <td>0.835453</td>\n",
              "    </tr>\n",
              "    <tr>\n",
              "      <th>2</th>\n",
              "      <td>0.176752</td>\n",
              "      <td>0.9230</td>\n",
              "      <td>0.296689</td>\n",
              "      <td>1000.0</td>\n",
              "      <td>5222.0</td>\n",
              "      <td>0.867877</td>\n",
              "    </tr>\n",
              "    <tr>\n",
              "      <th>3</th>\n",
              "      <td>0.395315</td>\n",
              "      <td>0.5400</td>\n",
              "      <td>0.456467</td>\n",
              "      <td>1000.0</td>\n",
              "      <td>1366.0</td>\n",
              "      <td>0.869287</td>\n",
              "    </tr>\n",
              "    <tr>\n",
              "      <th>4</th>\n",
              "      <td>0.704846</td>\n",
              "      <td>0.3200</td>\n",
              "      <td>0.440165</td>\n",
              "      <td>1000.0</td>\n",
              "      <td>454.0</td>\n",
              "      <td>0.874523</td>\n",
              "    </tr>\n",
              "    <tr>\n",
              "      <th>5</th>\n",
              "      <td>0.853107</td>\n",
              "      <td>0.1510</td>\n",
              "      <td>0.256585</td>\n",
              "      <td>1000.0</td>\n",
              "      <td>177.0</td>\n",
              "      <td>0.759091</td>\n",
              "    </tr>\n",
              "    <tr>\n",
              "      <th>6</th>\n",
              "      <td>0.637048</td>\n",
              "      <td>0.4230</td>\n",
              "      <td>0.508413</td>\n",
              "      <td>1000.0</td>\n",
              "      <td>664.0</td>\n",
              "      <td>0.890551</td>\n",
              "    </tr>\n",
              "    <tr>\n",
              "      <th>7</th>\n",
              "      <td>0.765101</td>\n",
              "      <td>0.4560</td>\n",
              "      <td>0.571429</td>\n",
              "      <td>1000.0</td>\n",
              "      <td>596.0</td>\n",
              "      <td>0.861624</td>\n",
              "    </tr>\n",
              "    <tr>\n",
              "      <th>8</th>\n",
              "      <td>0.886994</td>\n",
              "      <td>0.4160</td>\n",
              "      <td>0.566372</td>\n",
              "      <td>1000.0</td>\n",
              "      <td>469.0</td>\n",
              "      <td>0.917841</td>\n",
              "    </tr>\n",
              "    <tr>\n",
              "      <th>9</th>\n",
              "      <td>0.848889</td>\n",
              "      <td>0.3820</td>\n",
              "      <td>0.526897</td>\n",
              "      <td>1000.0</td>\n",
              "      <td>450.0</td>\n",
              "      <td>0.903220</td>\n",
              "    </tr>\n",
              "    <tr>\n",
              "      <th>avg / total</th>\n",
              "      <td>0.719077</td>\n",
              "      <td>0.4188</td>\n",
              "      <td>0.450825</td>\n",
              "      <td>10000.0</td>\n",
              "      <td>10000.0</td>\n",
              "      <td>0.808968</td>\n",
              "    </tr>\n",
              "  </tbody>\n",
              "</table>\n",
              "</div>"
            ],
            "text/plain": [
              "             precision  recall  f1-score  support     pred       AUC\n",
              "0             0.937870  0.3170  0.473842   1000.0    338.0  0.888563\n",
              "1             0.984848  0.2600  0.411392   1000.0    264.0  0.835453\n",
              "2             0.176752  0.9230  0.296689   1000.0   5222.0  0.867877\n",
              "3             0.395315  0.5400  0.456467   1000.0   1366.0  0.869287\n",
              "4             0.704846  0.3200  0.440165   1000.0    454.0  0.874523\n",
              "5             0.853107  0.1510  0.256585   1000.0    177.0  0.759091\n",
              "6             0.637048  0.4230  0.508413   1000.0    664.0  0.890551\n",
              "7             0.765101  0.4560  0.571429   1000.0    596.0  0.861624\n",
              "8             0.886994  0.4160  0.566372   1000.0    469.0  0.917841\n",
              "9             0.848889  0.3820  0.526897   1000.0    450.0  0.903220\n",
              "avg / total   0.719077  0.4188  0.450825  10000.0  10000.0  0.808968"
            ]
          },
          "metadata": {
            "tags": []
          },
          "execution_count": 26
        }
      ]
    },
    {
      "cell_type": "markdown",
      "metadata": {
        "id": "_EA-SOfTEXi7",
        "colab_type": "text"
      },
      "source": [
        "### Test: Normal Model + FGSM+Transfer Attack + No detector"
      ]
    },
    {
      "cell_type": "code",
      "metadata": {
        "id": "1HsjJ_J6EXFz",
        "colab_type": "code",
        "outputId": "66af5c82-0e8a-4f3e-a4c5-8b08bca443cd",
        "colab": {
          "base_uri": "https://localhost:8080/",
          "height": 221
        }
      },
      "source": [
        "fgsm_transfer_sample_acc, fgsm_transfer_sample_data_size,fgsm_transfer_sample_report_with_auc = attack_accuracy(distil_model, testloader, \n",
        "                                                                                                 print_freq=1000, epsilon=0.10, run_attack=True)"
      ],
      "execution_count": 27,
      "outputs": [
        {
          "output_type": "stream",
          "text": [
            "Current Accuracy: 417 / 1000 = 41.699999999999996\n",
            "Current Accuracy: 824 / 2000 = 41.199999999999996\n",
            "Current Accuracy: 1229 / 3000 = 40.96666666666667\n",
            "Current Accuracy: 1666 / 4000 = 41.65\n",
            "Current Accuracy: 2067 / 5000 = 41.339999999999996\n",
            "Current Accuracy: 2431 / 6000 = 40.516666666666666\n",
            "Current Accuracy: 2825 / 7000 = 40.35714285714286\n",
            "Current Accuracy: 3239 / 8000 = 40.4875\n",
            "Current Accuracy: 3606 / 9000 = 40.06666666666667\n",
            "Current Accuracy: 4015 / 10000 = 40.150000000000006\n",
            "(10000,) (10000,) (10000, 10)\n",
            "<class 'numpy.ndarray'> <class 'numpy.ndarray'> (10000,) (10000, 10)\n"
          ],
          "name": "stdout"
        }
      ]
    },
    {
      "cell_type": "code",
      "metadata": {
        "id": "Wljhu8HYI4y7",
        "colab_type": "code",
        "outputId": "ca1b9e91-2cf0-4527-ce68-781dec090f16",
        "colab": {
          "base_uri": "https://localhost:8080/",
          "height": 390
        }
      },
      "source": [
        "fgsm_transfer_sample_report_with_auc"
      ],
      "execution_count": 28,
      "outputs": [
        {
          "output_type": "execute_result",
          "data": {
            "text/html": [
              "<div>\n",
              "<style scoped>\n",
              "    .dataframe tbody tr th:only-of-type {\n",
              "        vertical-align: middle;\n",
              "    }\n",
              "\n",
              "    .dataframe tbody tr th {\n",
              "        vertical-align: top;\n",
              "    }\n",
              "\n",
              "    .dataframe thead th {\n",
              "        text-align: right;\n",
              "    }\n",
              "</style>\n",
              "<table border=\"1\" class=\"dataframe\">\n",
              "  <thead>\n",
              "    <tr style=\"text-align: right;\">\n",
              "      <th></th>\n",
              "      <th>precision</th>\n",
              "      <th>recall</th>\n",
              "      <th>f1-score</th>\n",
              "      <th>support</th>\n",
              "      <th>pred</th>\n",
              "      <th>AUC</th>\n",
              "    </tr>\n",
              "  </thead>\n",
              "  <tbody>\n",
              "    <tr>\n",
              "      <th>0</th>\n",
              "      <td>0.942373</td>\n",
              "      <td>0.2780</td>\n",
              "      <td>0.429344</td>\n",
              "      <td>1000.0</td>\n",
              "      <td>295.0</td>\n",
              "      <td>0.880843</td>\n",
              "    </tr>\n",
              "    <tr>\n",
              "      <th>1</th>\n",
              "      <td>0.978903</td>\n",
              "      <td>0.2320</td>\n",
              "      <td>0.375101</td>\n",
              "      <td>1000.0</td>\n",
              "      <td>237.0</td>\n",
              "      <td>0.811999</td>\n",
              "    </tr>\n",
              "    <tr>\n",
              "      <th>2</th>\n",
              "      <td>0.172112</td>\n",
              "      <td>0.8850</td>\n",
              "      <td>0.288180</td>\n",
              "      <td>1000.0</td>\n",
              "      <td>5142.0</td>\n",
              "      <td>0.844486</td>\n",
              "    </tr>\n",
              "    <tr>\n",
              "      <th>3</th>\n",
              "      <td>0.398230</td>\n",
              "      <td>0.5400</td>\n",
              "      <td>0.458404</td>\n",
              "      <td>1000.0</td>\n",
              "      <td>1356.0</td>\n",
              "      <td>0.859433</td>\n",
              "    </tr>\n",
              "    <tr>\n",
              "      <th>4</th>\n",
              "      <td>0.655617</td>\n",
              "      <td>0.3560</td>\n",
              "      <td>0.461439</td>\n",
              "      <td>1000.0</td>\n",
              "      <td>543.0</td>\n",
              "      <td>0.868810</td>\n",
              "    </tr>\n",
              "    <tr>\n",
              "      <th>5</th>\n",
              "      <td>0.851064</td>\n",
              "      <td>0.1200</td>\n",
              "      <td>0.210342</td>\n",
              "      <td>1000.0</td>\n",
              "      <td>141.0</td>\n",
              "      <td>0.729898</td>\n",
              "    </tr>\n",
              "    <tr>\n",
              "      <th>6</th>\n",
              "      <td>0.522177</td>\n",
              "      <td>0.5180</td>\n",
              "      <td>0.520080</td>\n",
              "      <td>1000.0</td>\n",
              "      <td>992.0</td>\n",
              "      <td>0.888654</td>\n",
              "    </tr>\n",
              "    <tr>\n",
              "      <th>7</th>\n",
              "      <td>0.782197</td>\n",
              "      <td>0.4130</td>\n",
              "      <td>0.540576</td>\n",
              "      <td>1000.0</td>\n",
              "      <td>528.0</td>\n",
              "      <td>0.840048</td>\n",
              "    </tr>\n",
              "    <tr>\n",
              "      <th>8</th>\n",
              "      <td>0.890274</td>\n",
              "      <td>0.3570</td>\n",
              "      <td>0.509636</td>\n",
              "      <td>1000.0</td>\n",
              "      <td>401.0</td>\n",
              "      <td>0.908233</td>\n",
              "    </tr>\n",
              "    <tr>\n",
              "      <th>9</th>\n",
              "      <td>0.865753</td>\n",
              "      <td>0.3160</td>\n",
              "      <td>0.463004</td>\n",
              "      <td>1000.0</td>\n",
              "      <td>365.0</td>\n",
              "      <td>0.878165</td>\n",
              "    </tr>\n",
              "    <tr>\n",
              "      <th>avg / total</th>\n",
              "      <td>0.705870</td>\n",
              "      <td>0.4015</td>\n",
              "      <td>0.425610</td>\n",
              "      <td>10000.0</td>\n",
              "      <td>10000.0</td>\n",
              "      <td>0.791464</td>\n",
              "    </tr>\n",
              "  </tbody>\n",
              "</table>\n",
              "</div>"
            ],
            "text/plain": [
              "             precision  recall  f1-score  support     pred       AUC\n",
              "0             0.942373  0.2780  0.429344   1000.0    295.0  0.880843\n",
              "1             0.978903  0.2320  0.375101   1000.0    237.0  0.811999\n",
              "2             0.172112  0.8850  0.288180   1000.0   5142.0  0.844486\n",
              "3             0.398230  0.5400  0.458404   1000.0   1356.0  0.859433\n",
              "4             0.655617  0.3560  0.461439   1000.0    543.0  0.868810\n",
              "5             0.851064  0.1200  0.210342   1000.0    141.0  0.729898\n",
              "6             0.522177  0.5180  0.520080   1000.0    992.0  0.888654\n",
              "7             0.782197  0.4130  0.540576   1000.0    528.0  0.840048\n",
              "8             0.890274  0.3570  0.509636   1000.0    401.0  0.908233\n",
              "9             0.865753  0.3160  0.463004   1000.0    365.0  0.878165\n",
              "avg / total   0.705870  0.4015  0.425610  10000.0  10000.0  0.791464"
            ]
          },
          "metadata": {
            "tags": []
          },
          "execution_count": 28
        }
      ]
    },
    {
      "cell_type": "markdown",
      "metadata": {
        "id": "NuXYwCwgKebj",
        "colab_type": "text"
      },
      "source": [
        "### Test: Distilled model + Mixed attack samples + No detector"
      ]
    },
    {
      "cell_type": "code",
      "metadata": {
        "colab_type": "code",
        "outputId": "d12a6d57-6bfd-4888-a933-cdd4eac1ee62",
        "id": "GGKexhtDr7w6",
        "colab": {
          "base_uri": "https://localhost:8080/",
          "height": 136
        }
      },
      "source": [
        "mixed_sample_acc, mixed_sample_data_size,mixed_sample_report_with_auc = attack_accuracy(distil_model, mixed_loader, print_freq=1000)"
      ],
      "execution_count": 0,
      "outputs": [
        {
          "output_type": "stream",
          "text": [
            "Current Accuracy: 379 / 1000 = 37.9\n",
            "Current Accuracy: 531 / 2000 = 26.55\n",
            "Current Accuracy: 653 / 3000 = 21.766666666666666\n",
            "Current Accuracy: 751 / 4000 = 18.775\n",
            "Current Accuracy: 846 / 5000 = 16.919999999999998\n",
            "(5000,) (5000,) (5000, 10)\n",
            "<class 'numpy.ndarray'> <class 'numpy.ndarray'> (5000,) (5000, 10)\n"
          ],
          "name": "stdout"
        }
      ]
    },
    {
      "cell_type": "code",
      "metadata": {
        "colab_type": "code",
        "outputId": "fc40a327-ec44-42fd-dd0a-4c284fd78827",
        "id": "u2kxQoMhr7w9",
        "colab": {
          "base_uri": "https://localhost:8080/",
          "height": 390
        }
      },
      "source": [
        "mixed_sample_report_with_auc"
      ],
      "execution_count": 0,
      "outputs": [
        {
          "output_type": "execute_result",
          "data": {
            "text/html": [
              "<div>\n",
              "<style scoped>\n",
              "    .dataframe tbody tr th:only-of-type {\n",
              "        vertical-align: middle;\n",
              "    }\n",
              "\n",
              "    .dataframe tbody tr th {\n",
              "        vertical-align: top;\n",
              "    }\n",
              "\n",
              "    .dataframe thead th {\n",
              "        text-align: right;\n",
              "    }\n",
              "</style>\n",
              "<table border=\"1\" class=\"dataframe\">\n",
              "  <thead>\n",
              "    <tr style=\"text-align: right;\">\n",
              "      <th></th>\n",
              "      <th>precision</th>\n",
              "      <th>recall</th>\n",
              "      <th>f1-score</th>\n",
              "      <th>support</th>\n",
              "      <th>pred</th>\n",
              "      <th>AUC</th>\n",
              "    </tr>\n",
              "  </thead>\n",
              "  <tbody>\n",
              "    <tr>\n",
              "      <th>0</th>\n",
              "      <td>0.216274</td>\n",
              "      <td>0.206967</td>\n",
              "      <td>0.211518</td>\n",
              "      <td>488.0</td>\n",
              "      <td>467.0</td>\n",
              "      <td>0.577710</td>\n",
              "    </tr>\n",
              "    <tr>\n",
              "      <th>1</th>\n",
              "      <td>0.147059</td>\n",
              "      <td>0.029703</td>\n",
              "      <td>0.049423</td>\n",
              "      <td>505.0</td>\n",
              "      <td>102.0</td>\n",
              "      <td>0.539028</td>\n",
              "    </tr>\n",
              "    <tr>\n",
              "      <th>2</th>\n",
              "      <td>0.126200</td>\n",
              "      <td>0.539062</td>\n",
              "      <td>0.204520</td>\n",
              "      <td>512.0</td>\n",
              "      <td>2187.0</td>\n",
              "      <td>0.584774</td>\n",
              "    </tr>\n",
              "    <tr>\n",
              "      <th>3</th>\n",
              "      <td>0.153034</td>\n",
              "      <td>0.233400</td>\n",
              "      <td>0.184861</td>\n",
              "      <td>497.0</td>\n",
              "      <td>758.0</td>\n",
              "      <td>0.550853</td>\n",
              "    </tr>\n",
              "    <tr>\n",
              "      <th>4</th>\n",
              "      <td>0.189394</td>\n",
              "      <td>0.098619</td>\n",
              "      <td>0.129702</td>\n",
              "      <td>507.0</td>\n",
              "      <td>264.0</td>\n",
              "      <td>0.575073</td>\n",
              "    </tr>\n",
              "    <tr>\n",
              "      <th>5</th>\n",
              "      <td>0.277372</td>\n",
              "      <td>0.077869</td>\n",
              "      <td>0.121600</td>\n",
              "      <td>488.0</td>\n",
              "      <td>137.0</td>\n",
              "      <td>0.549126</td>\n",
              "    </tr>\n",
              "    <tr>\n",
              "      <th>6</th>\n",
              "      <td>0.221505</td>\n",
              "      <td>0.209776</td>\n",
              "      <td>0.215481</td>\n",
              "      <td>491.0</td>\n",
              "      <td>465.0</td>\n",
              "      <td>0.594293</td>\n",
              "    </tr>\n",
              "    <tr>\n",
              "      <th>7</th>\n",
              "      <td>0.265781</td>\n",
              "      <td>0.161616</td>\n",
              "      <td>0.201005</td>\n",
              "      <td>495.0</td>\n",
              "      <td>301.0</td>\n",
              "      <td>0.585263</td>\n",
              "    </tr>\n",
              "    <tr>\n",
              "      <th>8</th>\n",
              "      <td>0.293478</td>\n",
              "      <td>0.107143</td>\n",
              "      <td>0.156977</td>\n",
              "      <td>504.0</td>\n",
              "      <td>184.0</td>\n",
              "      <td>0.565765</td>\n",
              "    </tr>\n",
              "    <tr>\n",
              "      <th>9</th>\n",
              "      <td>0.096296</td>\n",
              "      <td>0.025341</td>\n",
              "      <td>0.040123</td>\n",
              "      <td>513.0</td>\n",
              "      <td>135.0</td>\n",
              "      <td>0.519295</td>\n",
              "    </tr>\n",
              "    <tr>\n",
              "      <th>avg / total</th>\n",
              "      <td>0.197899</td>\n",
              "      <td>0.169200</td>\n",
              "      <td>0.150974</td>\n",
              "      <td>5000.0</td>\n",
              "      <td>5000.0</td>\n",
              "      <td>0.552971</td>\n",
              "    </tr>\n",
              "  </tbody>\n",
              "</table>\n",
              "</div>"
            ],
            "text/plain": [
              "             precision    recall  f1-score  support    pred       AUC\n",
              "0             0.216274  0.206967  0.211518    488.0   467.0  0.577710\n",
              "1             0.147059  0.029703  0.049423    505.0   102.0  0.539028\n",
              "2             0.126200  0.539062  0.204520    512.0  2187.0  0.584774\n",
              "3             0.153034  0.233400  0.184861    497.0   758.0  0.550853\n",
              "4             0.189394  0.098619  0.129702    507.0   264.0  0.575073\n",
              "5             0.277372  0.077869  0.121600    488.0   137.0  0.549126\n",
              "6             0.221505  0.209776  0.215481    491.0   465.0  0.594293\n",
              "7             0.265781  0.161616  0.201005    495.0   301.0  0.585263\n",
              "8             0.293478  0.107143  0.156977    504.0   184.0  0.565765\n",
              "9             0.096296  0.025341  0.040123    513.0   135.0  0.519295\n",
              "avg / total   0.197899  0.169200  0.150974   5000.0  5000.0  0.552971"
            ]
          },
          "metadata": {
            "tags": []
          },
          "execution_count": 27
        }
      ]
    },
    {
      "cell_type": "markdown",
      "metadata": {
        "id": "ue-4XgAjFdSx",
        "colab_type": "text"
      },
      "source": [
        "## Attacks (Epsilon=0.15)"
      ]
    },
    {
      "cell_type": "markdown",
      "metadata": {
        "id": "FtaC8qfeF7rv",
        "colab_type": "text"
      },
      "source": [
        "### Test : Distilled model + FGSM + No Detector! (eps=0.15)"
      ]
    },
    {
      "cell_type": "code",
      "metadata": {
        "colab_type": "code",
        "outputId": "c545cb92-542c-4846-d754-5f362ac666b8",
        "id": "Ag-_j157ZzTB",
        "colab": {
          "base_uri": "https://localhost:8080/",
          "height": 221
        }
      },
      "source": [
        "fgsm_acc1, data_size, fgsm_report_with_auc1 = attack_accuracy(distil_model, testloader, attack_type=\"fgsm\", print_freq=1000, epsilon=0.15, run_attack=True)"
      ],
      "execution_count": 0,
      "outputs": [
        {
          "output_type": "stream",
          "text": [
            "Current Accuracy: 250 / 1000 = 25.0\n",
            "Current Accuracy: 474 / 2000 = 23.7\n",
            "Current Accuracy: 699 / 3000 = 23.3\n",
            "Current Accuracy: 932 / 4000 = 23.3\n",
            "Current Accuracy: 1145 / 5000 = 22.900000000000002\n",
            "Current Accuracy: 1351 / 6000 = 22.516666666666666\n",
            "Current Accuracy: 1580 / 7000 = 22.57142857142857\n",
            "Current Accuracy: 1801 / 8000 = 22.5125\n",
            "Current Accuracy: 2013 / 9000 = 22.366666666666667\n",
            "Current Accuracy: 2244 / 10000 = 22.439999999999998\n",
            "(10000,) (10000,) (10000, 10)\n",
            "<class 'numpy.ndarray'> <class 'numpy.ndarray'> (10000,) (10000, 10)\n"
          ],
          "name": "stdout"
        }
      ]
    },
    {
      "cell_type": "code",
      "metadata": {
        "colab_type": "code",
        "outputId": "ed730e45-8b17-4255-9f4c-b2e3f94ff7e3",
        "id": "NYURNKsTZzTF",
        "colab": {
          "base_uri": "https://localhost:8080/",
          "height": 390
        }
      },
      "source": [
        "fgsm_report_with_auc1"
      ],
      "execution_count": 0,
      "outputs": [
        {
          "output_type": "execute_result",
          "data": {
            "text/html": [
              "<div>\n",
              "<style scoped>\n",
              "    .dataframe tbody tr th:only-of-type {\n",
              "        vertical-align: middle;\n",
              "    }\n",
              "\n",
              "    .dataframe tbody tr th {\n",
              "        vertical-align: top;\n",
              "    }\n",
              "\n",
              "    .dataframe thead th {\n",
              "        text-align: right;\n",
              "    }\n",
              "</style>\n",
              "<table border=\"1\" class=\"dataframe\">\n",
              "  <thead>\n",
              "    <tr style=\"text-align: right;\">\n",
              "      <th></th>\n",
              "      <th>precision</th>\n",
              "      <th>recall</th>\n",
              "      <th>f1-score</th>\n",
              "      <th>support</th>\n",
              "      <th>pred</th>\n",
              "      <th>AUC</th>\n",
              "    </tr>\n",
              "  </thead>\n",
              "  <tbody>\n",
              "    <tr>\n",
              "      <th>0</th>\n",
              "      <td>0.892308</td>\n",
              "      <td>0.0580</td>\n",
              "      <td>0.108920</td>\n",
              "      <td>1000.0</td>\n",
              "      <td>65.0</td>\n",
              "      <td>0.808396</td>\n",
              "    </tr>\n",
              "    <tr>\n",
              "      <th>1</th>\n",
              "      <td>1.000000</td>\n",
              "      <td>0.0440</td>\n",
              "      <td>0.084291</td>\n",
              "      <td>1000.0</td>\n",
              "      <td>44.0</td>\n",
              "      <td>0.694241</td>\n",
              "    </tr>\n",
              "    <tr>\n",
              "      <th>2</th>\n",
              "      <td>0.120614</td>\n",
              "      <td>0.8490</td>\n",
              "      <td>0.211220</td>\n",
              "      <td>1000.0</td>\n",
              "      <td>7039.0</td>\n",
              "      <td>0.716015</td>\n",
              "    </tr>\n",
              "    <tr>\n",
              "      <th>3</th>\n",
              "      <td>0.350402</td>\n",
              "      <td>0.3490</td>\n",
              "      <td>0.349699</td>\n",
              "      <td>1000.0</td>\n",
              "      <td>996.0</td>\n",
              "      <td>0.788136</td>\n",
              "    </tr>\n",
              "    <tr>\n",
              "      <th>4</th>\n",
              "      <td>0.567376</td>\n",
              "      <td>0.2400</td>\n",
              "      <td>0.337316</td>\n",
              "      <td>1000.0</td>\n",
              "      <td>423.0</td>\n",
              "      <td>0.841091</td>\n",
              "    </tr>\n",
              "    <tr>\n",
              "      <th>5</th>\n",
              "      <td>0.888889</td>\n",
              "      <td>0.0080</td>\n",
              "      <td>0.015857</td>\n",
              "      <td>1000.0</td>\n",
              "      <td>9.0</td>\n",
              "      <td>0.582294</td>\n",
              "    </tr>\n",
              "    <tr>\n",
              "      <th>6</th>\n",
              "      <td>0.415039</td>\n",
              "      <td>0.4250</td>\n",
              "      <td>0.419960</td>\n",
              "      <td>1000.0</td>\n",
              "      <td>1024.0</td>\n",
              "      <td>0.837048</td>\n",
              "    </tr>\n",
              "    <tr>\n",
              "      <th>7</th>\n",
              "      <td>0.582734</td>\n",
              "      <td>0.1620</td>\n",
              "      <td>0.253521</td>\n",
              "      <td>1000.0</td>\n",
              "      <td>278.0</td>\n",
              "      <td>0.719690</td>\n",
              "    </tr>\n",
              "    <tr>\n",
              "      <th>8</th>\n",
              "      <td>0.960000</td>\n",
              "      <td>0.0480</td>\n",
              "      <td>0.091429</td>\n",
              "      <td>1000.0</td>\n",
              "      <td>50.0</td>\n",
              "      <td>0.849705</td>\n",
              "    </tr>\n",
              "    <tr>\n",
              "      <th>9</th>\n",
              "      <td>0.847222</td>\n",
              "      <td>0.0610</td>\n",
              "      <td>0.113806</td>\n",
              "      <td>1000.0</td>\n",
              "      <td>72.0</td>\n",
              "      <td>0.830946</td>\n",
              "    </tr>\n",
              "    <tr>\n",
              "      <th>avg / total</th>\n",
              "      <td>0.662458</td>\n",
              "      <td>0.2244</td>\n",
              "      <td>0.198602</td>\n",
              "      <td>10000.0</td>\n",
              "      <td>10000.0</td>\n",
              "      <td>0.679773</td>\n",
              "    </tr>\n",
              "  </tbody>\n",
              "</table>\n",
              "</div>"
            ],
            "text/plain": [
              "             precision  recall  f1-score  support     pred       AUC\n",
              "0             0.892308  0.0580  0.108920   1000.0     65.0  0.808396\n",
              "1             1.000000  0.0440  0.084291   1000.0     44.0  0.694241\n",
              "2             0.120614  0.8490  0.211220   1000.0   7039.0  0.716015\n",
              "3             0.350402  0.3490  0.349699   1000.0    996.0  0.788136\n",
              "4             0.567376  0.2400  0.337316   1000.0    423.0  0.841091\n",
              "5             0.888889  0.0080  0.015857   1000.0      9.0  0.582294\n",
              "6             0.415039  0.4250  0.419960   1000.0   1024.0  0.837048\n",
              "7             0.582734  0.1620  0.253521   1000.0    278.0  0.719690\n",
              "8             0.960000  0.0480  0.091429   1000.0     50.0  0.849705\n",
              "9             0.847222  0.0610  0.113806   1000.0     72.0  0.830946\n",
              "avg / total   0.662458  0.2244  0.198602  10000.0  10000.0  0.679773"
            ]
          },
          "metadata": {
            "tags": []
          },
          "execution_count": 34
        }
      ]
    },
    {
      "cell_type": "markdown",
      "metadata": {
        "colab_type": "text",
        "id": "U-MYnLGVGKRa"
      },
      "source": [
        "### Test: Distilled model + Transfer Attack Samples + No Detector (eps=0.15)"
      ]
    },
    {
      "cell_type": "code",
      "metadata": {
        "colab_type": "code",
        "outputId": "0fa8f597-815c-47f0-b778-d1509d4d1839",
        "id": "w38tjpseaO9G",
        "colab": {
          "base_uri": "https://localhost:8080/",
          "height": 221
        }
      },
      "source": [
        "transfer_sample_acc1, transfer_sample_data_size,transfer_sample_report_with_auc1 = attack_accuracy(distil_model, testloader, attack_type=\"transfer\", \n",
        "                                                                                                 print_freq=1000, epsilon=0.15, run_attack=True)"
      ],
      "execution_count": 0,
      "outputs": [
        {
          "output_type": "stream",
          "text": [
            "Current Accuracy: 238 / 1000 = 23.799999999999997\n",
            "Current Accuracy: 474 / 2000 = 23.7\n",
            "Current Accuracy: 714 / 3000 = 23.799999999999997\n",
            "Current Accuracy: 953 / 4000 = 23.825\n",
            "Current Accuracy: 1180 / 5000 = 23.599999999999998\n",
            "Current Accuracy: 1385 / 6000 = 23.083333333333332\n",
            "Current Accuracy: 1614 / 7000 = 23.057142857142857\n",
            "Current Accuracy: 1839 / 8000 = 22.9875\n",
            "Current Accuracy: 2043 / 9000 = 22.7\n",
            "Current Accuracy: 2281 / 10000 = 22.81\n",
            "(10000,) (10000,) (10000, 10)\n",
            "<class 'numpy.ndarray'> <class 'numpy.ndarray'> (10000,) (10000, 10)\n"
          ],
          "name": "stdout"
        }
      ]
    },
    {
      "cell_type": "code",
      "metadata": {
        "colab_type": "code",
        "outputId": "348a7f18-e3bf-4db5-e054-956909fed22d",
        "id": "6jBRoqtuaO9K",
        "colab": {
          "base_uri": "https://localhost:8080/",
          "height": 390
        }
      },
      "source": [
        "transfer_sample_report_with_auc1"
      ],
      "execution_count": 0,
      "outputs": [
        {
          "output_type": "execute_result",
          "data": {
            "text/html": [
              "<div>\n",
              "<style scoped>\n",
              "    .dataframe tbody tr th:only-of-type {\n",
              "        vertical-align: middle;\n",
              "    }\n",
              "\n",
              "    .dataframe tbody tr th {\n",
              "        vertical-align: top;\n",
              "    }\n",
              "\n",
              "    .dataframe thead th {\n",
              "        text-align: right;\n",
              "    }\n",
              "</style>\n",
              "<table border=\"1\" class=\"dataframe\">\n",
              "  <thead>\n",
              "    <tr style=\"text-align: right;\">\n",
              "      <th></th>\n",
              "      <th>precision</th>\n",
              "      <th>recall</th>\n",
              "      <th>f1-score</th>\n",
              "      <th>support</th>\n",
              "      <th>pred</th>\n",
              "      <th>AUC</th>\n",
              "    </tr>\n",
              "  </thead>\n",
              "  <tbody>\n",
              "    <tr>\n",
              "      <th>0</th>\n",
              "      <td>0.888889</td>\n",
              "      <td>0.0800</td>\n",
              "      <td>0.146789</td>\n",
              "      <td>1000.0</td>\n",
              "      <td>90.0</td>\n",
              "      <td>0.813791</td>\n",
              "    </tr>\n",
              "    <tr>\n",
              "      <th>1</th>\n",
              "      <td>0.983607</td>\n",
              "      <td>0.0600</td>\n",
              "      <td>0.113101</td>\n",
              "      <td>1000.0</td>\n",
              "      <td>61.0</td>\n",
              "      <td>0.721687</td>\n",
              "    </tr>\n",
              "    <tr>\n",
              "      <th>2</th>\n",
              "      <td>0.122743</td>\n",
              "      <td>0.9380</td>\n",
              "      <td>0.217079</td>\n",
              "      <td>1000.0</td>\n",
              "      <td>7642.0</td>\n",
              "      <td>0.768628</td>\n",
              "    </tr>\n",
              "    <tr>\n",
              "      <th>3</th>\n",
              "      <td>0.378981</td>\n",
              "      <td>0.3570</td>\n",
              "      <td>0.367662</td>\n",
              "      <td>1000.0</td>\n",
              "      <td>942.0</td>\n",
              "      <td>0.792618</td>\n",
              "    </tr>\n",
              "    <tr>\n",
              "      <th>4</th>\n",
              "      <td>0.677551</td>\n",
              "      <td>0.1660</td>\n",
              "      <td>0.266667</td>\n",
              "      <td>1000.0</td>\n",
              "      <td>245.0</td>\n",
              "      <td>0.841528</td>\n",
              "    </tr>\n",
              "    <tr>\n",
              "      <th>5</th>\n",
              "      <td>0.916667</td>\n",
              "      <td>0.0220</td>\n",
              "      <td>0.042969</td>\n",
              "      <td>1000.0</td>\n",
              "      <td>24.0</td>\n",
              "      <td>0.622966</td>\n",
              "    </tr>\n",
              "    <tr>\n",
              "      <th>6</th>\n",
              "      <td>0.560372</td>\n",
              "      <td>0.1810</td>\n",
              "      <td>0.273621</td>\n",
              "      <td>1000.0</td>\n",
              "      <td>323.0</td>\n",
              "      <td>0.805134</td>\n",
              "    </tr>\n",
              "    <tr>\n",
              "      <th>7</th>\n",
              "      <td>0.596059</td>\n",
              "      <td>0.2420</td>\n",
              "      <td>0.344239</td>\n",
              "      <td>1000.0</td>\n",
              "      <td>406.0</td>\n",
              "      <td>0.773419</td>\n",
              "    </tr>\n",
              "    <tr>\n",
              "      <th>8</th>\n",
              "      <td>0.915888</td>\n",
              "      <td>0.0980</td>\n",
              "      <td>0.177055</td>\n",
              "      <td>1000.0</td>\n",
              "      <td>107.0</td>\n",
              "      <td>0.861216</td>\n",
              "    </tr>\n",
              "    <tr>\n",
              "      <th>9</th>\n",
              "      <td>0.856250</td>\n",
              "      <td>0.1370</td>\n",
              "      <td>0.236207</td>\n",
              "      <td>1000.0</td>\n",
              "      <td>160.0</td>\n",
              "      <td>0.858696</td>\n",
              "    </tr>\n",
              "    <tr>\n",
              "      <th>avg / total</th>\n",
              "      <td>0.689701</td>\n",
              "      <td>0.2281</td>\n",
              "      <td>0.218539</td>\n",
              "      <td>10000.0</td>\n",
              "      <td>10000.0</td>\n",
              "      <td>0.702471</td>\n",
              "    </tr>\n",
              "  </tbody>\n",
              "</table>\n",
              "</div>"
            ],
            "text/plain": [
              "             precision  recall  f1-score  support     pred       AUC\n",
              "0             0.888889  0.0800  0.146789   1000.0     90.0  0.813791\n",
              "1             0.983607  0.0600  0.113101   1000.0     61.0  0.721687\n",
              "2             0.122743  0.9380  0.217079   1000.0   7642.0  0.768628\n",
              "3             0.378981  0.3570  0.367662   1000.0    942.0  0.792618\n",
              "4             0.677551  0.1660  0.266667   1000.0    245.0  0.841528\n",
              "5             0.916667  0.0220  0.042969   1000.0     24.0  0.622966\n",
              "6             0.560372  0.1810  0.273621   1000.0    323.0  0.805134\n",
              "7             0.596059  0.2420  0.344239   1000.0    406.0  0.773419\n",
              "8             0.915888  0.0980  0.177055   1000.0    107.0  0.861216\n",
              "9             0.856250  0.1370  0.236207   1000.0    160.0  0.858696\n",
              "avg / total   0.689701  0.2281  0.218539  10000.0  10000.0  0.702471"
            ]
          },
          "metadata": {
            "tags": []
          },
          "execution_count": 36
        }
      ]
    },
    {
      "cell_type": "markdown",
      "metadata": {
        "id": "hNXoaYOs_2ab",
        "colab_type": "text"
      },
      "source": [
        "### Test: Distilled model + FGSM+Transfer Attack Samples + No Detector (eps=0.15)"
      ]
    },
    {
      "cell_type": "code",
      "metadata": {
        "colab_type": "code",
        "outputId": "519a277d-251b-49ce-dfca-6fb62443b58d",
        "id": "f6SL133bYxP5",
        "colab": {
          "base_uri": "https://localhost:8080/",
          "height": 221
        }
      },
      "source": [
        "fgsm_transfer_sample_acc1, fgsm_transfer_sample_data_size1,fgsm_transfer_sample_report_with_auc1 = attack_accuracy(distil_model, testloader, \n",
        "                                                                                                 print_freq=1000, epsilon=0.15, run_attack=True)"
      ],
      "execution_count": 0,
      "outputs": [
        {
          "output_type": "stream",
          "text": [
            "Current Accuracy: 248 / 1000 = 24.8\n",
            "Current Accuracy: 487 / 2000 = 24.349999999999998\n",
            "Current Accuracy: 726 / 3000 = 24.2\n",
            "Current Accuracy: 957 / 4000 = 23.925\n",
            "Current Accuracy: 1183 / 5000 = 23.66\n",
            "Current Accuracy: 1385 / 6000 = 23.083333333333332\n",
            "Current Accuracy: 1615 / 7000 = 23.07142857142857\n",
            "Current Accuracy: 1832 / 8000 = 22.900000000000002\n",
            "Current Accuracy: 2042 / 9000 = 22.68888888888889\n",
            "Current Accuracy: 2276 / 10000 = 22.759999999999998\n",
            "(10000,) (10000,) (10000, 10)\n",
            "<class 'numpy.ndarray'> <class 'numpy.ndarray'> (10000,) (10000, 10)\n"
          ],
          "name": "stdout"
        }
      ]
    },
    {
      "cell_type": "code",
      "metadata": {
        "colab_type": "code",
        "outputId": "e173ad4f-eb2b-41cb-bfd4-ffa22192e7d5",
        "id": "pYealHNhYxQJ",
        "colab": {
          "base_uri": "https://localhost:8080/",
          "height": 390
        }
      },
      "source": [
        "fgsm_transfer_sample_report_with_auc1"
      ],
      "execution_count": 0,
      "outputs": [
        {
          "output_type": "execute_result",
          "data": {
            "text/html": [
              "<div>\n",
              "<style scoped>\n",
              "    .dataframe tbody tr th:only-of-type {\n",
              "        vertical-align: middle;\n",
              "    }\n",
              "\n",
              "    .dataframe tbody tr th {\n",
              "        vertical-align: top;\n",
              "    }\n",
              "\n",
              "    .dataframe thead th {\n",
              "        text-align: right;\n",
              "    }\n",
              "</style>\n",
              "<table border=\"1\" class=\"dataframe\">\n",
              "  <thead>\n",
              "    <tr style=\"text-align: right;\">\n",
              "      <th></th>\n",
              "      <th>precision</th>\n",
              "      <th>recall</th>\n",
              "      <th>f1-score</th>\n",
              "      <th>support</th>\n",
              "      <th>pred</th>\n",
              "      <th>AUC</th>\n",
              "    </tr>\n",
              "  </thead>\n",
              "  <tbody>\n",
              "    <tr>\n",
              "      <th>0</th>\n",
              "      <td>0.851852</td>\n",
              "      <td>0.0690</td>\n",
              "      <td>0.127660</td>\n",
              "      <td>1000.0</td>\n",
              "      <td>81.0</td>\n",
              "      <td>0.809337</td>\n",
              "    </tr>\n",
              "    <tr>\n",
              "      <th>1</th>\n",
              "      <td>1.000000</td>\n",
              "      <td>0.0510</td>\n",
              "      <td>0.097050</td>\n",
              "      <td>1000.0</td>\n",
              "      <td>51.0</td>\n",
              "      <td>0.702074</td>\n",
              "    </tr>\n",
              "    <tr>\n",
              "      <th>2</th>\n",
              "      <td>0.121187</td>\n",
              "      <td>0.8860</td>\n",
              "      <td>0.213211</td>\n",
              "      <td>1000.0</td>\n",
              "      <td>7311.0</td>\n",
              "      <td>0.741545</td>\n",
              "    </tr>\n",
              "    <tr>\n",
              "      <th>3</th>\n",
              "      <td>0.369634</td>\n",
              "      <td>0.3530</td>\n",
              "      <td>0.361125</td>\n",
              "      <td>1000.0</td>\n",
              "      <td>955.0</td>\n",
              "      <td>0.795568</td>\n",
              "    </tr>\n",
              "    <tr>\n",
              "      <th>4</th>\n",
              "      <td>0.605797</td>\n",
              "      <td>0.2090</td>\n",
              "      <td>0.310781</td>\n",
              "      <td>1000.0</td>\n",
              "      <td>345.0</td>\n",
              "      <td>0.836655</td>\n",
              "    </tr>\n",
              "    <tr>\n",
              "      <th>5</th>\n",
              "      <td>0.952381</td>\n",
              "      <td>0.0200</td>\n",
              "      <td>0.039177</td>\n",
              "      <td>1000.0</td>\n",
              "      <td>21.0</td>\n",
              "      <td>0.601015</td>\n",
              "    </tr>\n",
              "    <tr>\n",
              "      <th>6</th>\n",
              "      <td>0.448773</td>\n",
              "      <td>0.3110</td>\n",
              "      <td>0.367395</td>\n",
              "      <td>1000.0</td>\n",
              "      <td>693.0</td>\n",
              "      <td>0.805458</td>\n",
              "    </tr>\n",
              "    <tr>\n",
              "      <th>7</th>\n",
              "      <td>0.589595</td>\n",
              "      <td>0.2040</td>\n",
              "      <td>0.303120</td>\n",
              "      <td>1000.0</td>\n",
              "      <td>346.0</td>\n",
              "      <td>0.751740</td>\n",
              "    </tr>\n",
              "    <tr>\n",
              "      <th>8</th>\n",
              "      <td>0.913580</td>\n",
              "      <td>0.0740</td>\n",
              "      <td>0.136910</td>\n",
              "      <td>1000.0</td>\n",
              "      <td>81.0</td>\n",
              "      <td>0.857030</td>\n",
              "    </tr>\n",
              "    <tr>\n",
              "      <th>9</th>\n",
              "      <td>0.853448</td>\n",
              "      <td>0.0990</td>\n",
              "      <td>0.177419</td>\n",
              "      <td>1000.0</td>\n",
              "      <td>116.0</td>\n",
              "      <td>0.840678</td>\n",
              "    </tr>\n",
              "    <tr>\n",
              "      <th>avg / total</th>\n",
              "      <td>0.670625</td>\n",
              "      <td>0.2276</td>\n",
              "      <td>0.213385</td>\n",
              "      <td>10000.0</td>\n",
              "      <td>10000.0</td>\n",
              "      <td>0.690634</td>\n",
              "    </tr>\n",
              "  </tbody>\n",
              "</table>\n",
              "</div>"
            ],
            "text/plain": [
              "             precision  recall  f1-score  support     pred       AUC\n",
              "0             0.851852  0.0690  0.127660   1000.0     81.0  0.809337\n",
              "1             1.000000  0.0510  0.097050   1000.0     51.0  0.702074\n",
              "2             0.121187  0.8860  0.213211   1000.0   7311.0  0.741545\n",
              "3             0.369634  0.3530  0.361125   1000.0    955.0  0.795568\n",
              "4             0.605797  0.2090  0.310781   1000.0    345.0  0.836655\n",
              "5             0.952381  0.0200  0.039177   1000.0     21.0  0.601015\n",
              "6             0.448773  0.3110  0.367395   1000.0    693.0  0.805458\n",
              "7             0.589595  0.2040  0.303120   1000.0    346.0  0.751740\n",
              "8             0.913580  0.0740  0.136910   1000.0     81.0  0.857030\n",
              "9             0.853448  0.0990  0.177419   1000.0    116.0  0.840678\n",
              "avg / total   0.670625  0.2276  0.213385  10000.0  10000.0  0.690634"
            ]
          },
          "metadata": {
            "tags": []
          },
          "execution_count": 38
        }
      ]
    },
    {
      "cell_type": "markdown",
      "metadata": {
        "colab_type": "text",
        "id": "qSGVZpbSC26t"
      },
      "source": [
        "### Test: Distilled model + Mixed attack samples + No detector (eps=0.15)"
      ]
    },
    {
      "cell_type": "code",
      "metadata": {
        "colab_type": "code",
        "outputId": "ba079f3a-6a1f-4763-86ab-7b0b4cabd3aa",
        "id": "DhGj8D8usDWg",
        "colab": {
          "base_uri": "https://localhost:8080/",
          "height": 136
        }
      },
      "source": [
        "mixed_sample_acc1, mixed_sample_data_size,mixed_sample_report_with_auc1 = attack_accuracy(distil_model, mixed_loader1, print_freq=1000)"
      ],
      "execution_count": 0,
      "outputs": [
        {
          "output_type": "stream",
          "text": [
            "Current Accuracy: 379 / 1000 = 37.9\n",
            "Current Accuracy: 543 / 2000 = 27.150000000000002\n",
            "Current Accuracy: 660 / 3000 = 22.0\n",
            "Current Accuracy: 757 / 4000 = 18.925\n",
            "Current Accuracy: 853 / 5000 = 17.06\n",
            "(5000,) (5000,) (5000, 10)\n",
            "<class 'numpy.ndarray'> <class 'numpy.ndarray'> (5000,) (5000, 10)\n"
          ],
          "name": "stdout"
        }
      ]
    },
    {
      "cell_type": "code",
      "metadata": {
        "colab_type": "code",
        "outputId": "1dc0ac6a-9092-4cfc-a868-06faf538b401",
        "id": "aIcRj4DGsDWk",
        "colab": {
          "base_uri": "https://localhost:8080/",
          "height": 390
        }
      },
      "source": [
        "mixed_sample_report_with_auc1"
      ],
      "execution_count": 0,
      "outputs": [
        {
          "output_type": "execute_result",
          "data": {
            "text/html": [
              "<div>\n",
              "<style scoped>\n",
              "    .dataframe tbody tr th:only-of-type {\n",
              "        vertical-align: middle;\n",
              "    }\n",
              "\n",
              "    .dataframe tbody tr th {\n",
              "        vertical-align: top;\n",
              "    }\n",
              "\n",
              "    .dataframe thead th {\n",
              "        text-align: right;\n",
              "    }\n",
              "</style>\n",
              "<table border=\"1\" class=\"dataframe\">\n",
              "  <thead>\n",
              "    <tr style=\"text-align: right;\">\n",
              "      <th></th>\n",
              "      <th>precision</th>\n",
              "      <th>recall</th>\n",
              "      <th>f1-score</th>\n",
              "      <th>support</th>\n",
              "      <th>pred</th>\n",
              "      <th>AUC</th>\n",
              "    </tr>\n",
              "  </thead>\n",
              "  <tbody>\n",
              "    <tr>\n",
              "      <th>0</th>\n",
              "      <td>0.251309</td>\n",
              "      <td>0.196721</td>\n",
              "      <td>0.220690</td>\n",
              "      <td>488.0</td>\n",
              "      <td>382.0</td>\n",
              "      <td>0.573498</td>\n",
              "    </tr>\n",
              "    <tr>\n",
              "      <th>1</th>\n",
              "      <td>0.166667</td>\n",
              "      <td>0.007921</td>\n",
              "      <td>0.015123</td>\n",
              "      <td>505.0</td>\n",
              "      <td>24.0</td>\n",
              "      <td>0.535813</td>\n",
              "    </tr>\n",
              "    <tr>\n",
              "      <th>2</th>\n",
              "      <td>0.120013</td>\n",
              "      <td>0.710938</td>\n",
              "      <td>0.205360</td>\n",
              "      <td>512.0</td>\n",
              "      <td>3033.0</td>\n",
              "      <td>0.579762</td>\n",
              "    </tr>\n",
              "    <tr>\n",
              "      <th>3</th>\n",
              "      <td>0.168810</td>\n",
              "      <td>0.211268</td>\n",
              "      <td>0.187668</td>\n",
              "      <td>497.0</td>\n",
              "      <td>622.0</td>\n",
              "      <td>0.563221</td>\n",
              "    </tr>\n",
              "    <tr>\n",
              "      <th>4</th>\n",
              "      <td>0.259259</td>\n",
              "      <td>0.082840</td>\n",
              "      <td>0.125561</td>\n",
              "      <td>507.0</td>\n",
              "      <td>162.0</td>\n",
              "      <td>0.579509</td>\n",
              "    </tr>\n",
              "    <tr>\n",
              "      <th>5</th>\n",
              "      <td>0.379310</td>\n",
              "      <td>0.067623</td>\n",
              "      <td>0.114783</td>\n",
              "      <td>488.0</td>\n",
              "      <td>87.0</td>\n",
              "      <td>0.555177</td>\n",
              "    </tr>\n",
              "    <tr>\n",
              "      <th>6</th>\n",
              "      <td>0.257790</td>\n",
              "      <td>0.185336</td>\n",
              "      <td>0.215640</td>\n",
              "      <td>491.0</td>\n",
              "      <td>353.0</td>\n",
              "      <td>0.597189</td>\n",
              "    </tr>\n",
              "    <tr>\n",
              "      <th>7</th>\n",
              "      <td>0.334783</td>\n",
              "      <td>0.155556</td>\n",
              "      <td>0.212414</td>\n",
              "      <td>495.0</td>\n",
              "      <td>230.0</td>\n",
              "      <td>0.612598</td>\n",
              "    </tr>\n",
              "    <tr>\n",
              "      <th>8</th>\n",
              "      <td>0.606557</td>\n",
              "      <td>0.073413</td>\n",
              "      <td>0.130973</td>\n",
              "      <td>504.0</td>\n",
              "      <td>61.0</td>\n",
              "      <td>0.592949</td>\n",
              "    </tr>\n",
              "    <tr>\n",
              "      <th>9</th>\n",
              "      <td>0.086957</td>\n",
              "      <td>0.007797</td>\n",
              "      <td>0.014311</td>\n",
              "      <td>513.0</td>\n",
              "      <td>46.0</td>\n",
              "      <td>0.520884</td>\n",
              "    </tr>\n",
              "    <tr>\n",
              "      <th>avg / total</th>\n",
              "      <td>0.262261</td>\n",
              "      <td>0.170600</td>\n",
              "      <td>0.143560</td>\n",
              "      <td>5000.0</td>\n",
              "      <td>5000.0</td>\n",
              "      <td>0.556556</td>\n",
              "    </tr>\n",
              "  </tbody>\n",
              "</table>\n",
              "</div>"
            ],
            "text/plain": [
              "             precision    recall  f1-score  support    pred       AUC\n",
              "0             0.251309  0.196721  0.220690    488.0   382.0  0.573498\n",
              "1             0.166667  0.007921  0.015123    505.0    24.0  0.535813\n",
              "2             0.120013  0.710938  0.205360    512.0  3033.0  0.579762\n",
              "3             0.168810  0.211268  0.187668    497.0   622.0  0.563221\n",
              "4             0.259259  0.082840  0.125561    507.0   162.0  0.579509\n",
              "5             0.379310  0.067623  0.114783    488.0    87.0  0.555177\n",
              "6             0.257790  0.185336  0.215640    491.0   353.0  0.597189\n",
              "7             0.334783  0.155556  0.212414    495.0   230.0  0.612598\n",
              "8             0.606557  0.073413  0.130973    504.0    61.0  0.592949\n",
              "9             0.086957  0.007797  0.014311    513.0    46.0  0.520884\n",
              "avg / total   0.262261  0.170600  0.143560   5000.0  5000.0  0.556556"
            ]
          },
          "metadata": {
            "tags": []
          },
          "execution_count": 29
        }
      ]
    }
  ]
}